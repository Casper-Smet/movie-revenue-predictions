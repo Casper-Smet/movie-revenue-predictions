{
 "cells": [
  {
   "cell_type": "code",
   "execution_count": 1,
   "metadata": {},
   "outputs": [],
   "source": [
    "from IPython import get_ipython\n"
   ]
  },
  {
   "cell_type": "code",
   "execution_count": 2,
   "metadata": {},
   "outputs": [],
   "source": [
    "import numpy as np\n",
    "import pandas as pd\n",
    "import matplotlib.pyplot as plt\n",
    "# same as % matplotlib inline\n",
    "# only difference is that vscode sees it like this\n",
    "get_ipython().run_line_magic('matplotlib', 'inline')\n"
   ]
  },
  {
   "cell_type": "markdown",
   "metadata": {},
   "source": [
    " # In hoeverre is de omzet van een film te voorspellen op basis van de populariteit op Facebook en IMDB zelf?\n",
    " # Nando"
   ]
  },
  {
   "cell_type": "code",
   "execution_count": 3,
   "metadata": {},
   "outputs": [
    {
     "data": {
      "text/html": [
       "<div>\n",
       "<style scoped>\n",
       "    .dataframe tbody tr th:only-of-type {\n",
       "        vertical-align: middle;\n",
       "    }\n",
       "\n",
       "    .dataframe tbody tr th {\n",
       "        vertical-align: top;\n",
       "    }\n",
       "\n",
       "    .dataframe thead th {\n",
       "        text-align: right;\n",
       "    }\n",
       "</style>\n",
       "<table border=\"1\" class=\"dataframe\">\n",
       "  <thead>\n",
       "    <tr style=\"text-align: right;\">\n",
       "      <th></th>\n",
       "      <th>color</th>\n",
       "      <th>director_name</th>\n",
       "      <th>num_critic_for_reviews</th>\n",
       "      <th>duration</th>\n",
       "      <th>director_facebook_likes</th>\n",
       "      <th>actor_3_facebook_likes</th>\n",
       "      <th>actor_2_name</th>\n",
       "      <th>actor_1_facebook_likes</th>\n",
       "      <th>gross</th>\n",
       "      <th>genres</th>\n",
       "      <th>...</th>\n",
       "      <th>num_user_for_reviews</th>\n",
       "      <th>language</th>\n",
       "      <th>country</th>\n",
       "      <th>content_rating</th>\n",
       "      <th>budget</th>\n",
       "      <th>title_year</th>\n",
       "      <th>actor_2_facebook_likes</th>\n",
       "      <th>imdb_score</th>\n",
       "      <th>aspect_ratio</th>\n",
       "      <th>movie_facebook_likes</th>\n",
       "    </tr>\n",
       "  </thead>\n",
       "  <tbody>\n",
       "    <tr>\n",
       "      <th>0</th>\n",
       "      <td>Color</td>\n",
       "      <td>James Cameron</td>\n",
       "      <td>723.0</td>\n",
       "      <td>178.0</td>\n",
       "      <td>0.0</td>\n",
       "      <td>855.0</td>\n",
       "      <td>Joel David Moore</td>\n",
       "      <td>1000.0</td>\n",
       "      <td>760505847.0</td>\n",
       "      <td>Action|Adventure|Fantasy|Sci-Fi</td>\n",
       "      <td>...</td>\n",
       "      <td>3054.0</td>\n",
       "      <td>English</td>\n",
       "      <td>USA</td>\n",
       "      <td>PG-13</td>\n",
       "      <td>237000000.0</td>\n",
       "      <td>2009.0</td>\n",
       "      <td>936.0</td>\n",
       "      <td>7.9</td>\n",
       "      <td>1.78</td>\n",
       "      <td>33000</td>\n",
       "    </tr>\n",
       "    <tr>\n",
       "      <th>1</th>\n",
       "      <td>Color</td>\n",
       "      <td>Gore Verbinski</td>\n",
       "      <td>302.0</td>\n",
       "      <td>169.0</td>\n",
       "      <td>563.0</td>\n",
       "      <td>1000.0</td>\n",
       "      <td>Orlando Bloom</td>\n",
       "      <td>40000.0</td>\n",
       "      <td>309404152.0</td>\n",
       "      <td>Action|Adventure|Fantasy</td>\n",
       "      <td>...</td>\n",
       "      <td>1238.0</td>\n",
       "      <td>English</td>\n",
       "      <td>USA</td>\n",
       "      <td>PG-13</td>\n",
       "      <td>300000000.0</td>\n",
       "      <td>2007.0</td>\n",
       "      <td>5000.0</td>\n",
       "      <td>7.1</td>\n",
       "      <td>2.35</td>\n",
       "      <td>0</td>\n",
       "    </tr>\n",
       "    <tr>\n",
       "      <th>2</th>\n",
       "      <td>Color</td>\n",
       "      <td>Sam Mendes</td>\n",
       "      <td>602.0</td>\n",
       "      <td>148.0</td>\n",
       "      <td>0.0</td>\n",
       "      <td>161.0</td>\n",
       "      <td>Rory Kinnear</td>\n",
       "      <td>11000.0</td>\n",
       "      <td>200074175.0</td>\n",
       "      <td>Action|Adventure|Thriller</td>\n",
       "      <td>...</td>\n",
       "      <td>994.0</td>\n",
       "      <td>English</td>\n",
       "      <td>UK</td>\n",
       "      <td>PG-13</td>\n",
       "      <td>245000000.0</td>\n",
       "      <td>2015.0</td>\n",
       "      <td>393.0</td>\n",
       "      <td>6.8</td>\n",
       "      <td>2.35</td>\n",
       "      <td>85000</td>\n",
       "    </tr>\n",
       "    <tr>\n",
       "      <th>3</th>\n",
       "      <td>Color</td>\n",
       "      <td>Christopher Nolan</td>\n",
       "      <td>813.0</td>\n",
       "      <td>164.0</td>\n",
       "      <td>22000.0</td>\n",
       "      <td>23000.0</td>\n",
       "      <td>Christian Bale</td>\n",
       "      <td>27000.0</td>\n",
       "      <td>448130642.0</td>\n",
       "      <td>Action|Thriller</td>\n",
       "      <td>...</td>\n",
       "      <td>2701.0</td>\n",
       "      <td>English</td>\n",
       "      <td>USA</td>\n",
       "      <td>PG-13</td>\n",
       "      <td>250000000.0</td>\n",
       "      <td>2012.0</td>\n",
       "      <td>23000.0</td>\n",
       "      <td>8.5</td>\n",
       "      <td>2.35</td>\n",
       "      <td>164000</td>\n",
       "    </tr>\n",
       "    <tr>\n",
       "      <th>4</th>\n",
       "      <td>NaN</td>\n",
       "      <td>Doug Walker</td>\n",
       "      <td>NaN</td>\n",
       "      <td>NaN</td>\n",
       "      <td>131.0</td>\n",
       "      <td>NaN</td>\n",
       "      <td>Rob Walker</td>\n",
       "      <td>131.0</td>\n",
       "      <td>NaN</td>\n",
       "      <td>Documentary</td>\n",
       "      <td>...</td>\n",
       "      <td>NaN</td>\n",
       "      <td>NaN</td>\n",
       "      <td>NaN</td>\n",
       "      <td>NaN</td>\n",
       "      <td>NaN</td>\n",
       "      <td>NaN</td>\n",
       "      <td>12.0</td>\n",
       "      <td>7.1</td>\n",
       "      <td>NaN</td>\n",
       "      <td>0</td>\n",
       "    </tr>\n",
       "  </tbody>\n",
       "</table>\n",
       "<p>5 rows × 28 columns</p>\n",
       "</div>"
      ],
      "text/plain": [
       "   color      director_name  num_critic_for_reviews  duration  \\\n",
       "0  Color      James Cameron                   723.0     178.0   \n",
       "1  Color     Gore Verbinski                   302.0     169.0   \n",
       "2  Color         Sam Mendes                   602.0     148.0   \n",
       "3  Color  Christopher Nolan                   813.0     164.0   \n",
       "4    NaN        Doug Walker                     NaN       NaN   \n",
       "\n",
       "   director_facebook_likes  actor_3_facebook_likes      actor_2_name  \\\n",
       "0                      0.0                   855.0  Joel David Moore   \n",
       "1                    563.0                  1000.0     Orlando Bloom   \n",
       "2                      0.0                   161.0      Rory Kinnear   \n",
       "3                  22000.0                 23000.0    Christian Bale   \n",
       "4                    131.0                     NaN        Rob Walker   \n",
       "\n",
       "   actor_1_facebook_likes        gross                           genres  ...  \\\n",
       "0                  1000.0  760505847.0  Action|Adventure|Fantasy|Sci-Fi  ...   \n",
       "1                 40000.0  309404152.0         Action|Adventure|Fantasy  ...   \n",
       "2                 11000.0  200074175.0        Action|Adventure|Thriller  ...   \n",
       "3                 27000.0  448130642.0                  Action|Thriller  ...   \n",
       "4                   131.0          NaN                      Documentary  ...   \n",
       "\n",
       "  num_user_for_reviews language  country  content_rating       budget  \\\n",
       "0               3054.0  English      USA           PG-13  237000000.0   \n",
       "1               1238.0  English      USA           PG-13  300000000.0   \n",
       "2                994.0  English       UK           PG-13  245000000.0   \n",
       "3               2701.0  English      USA           PG-13  250000000.0   \n",
       "4                  NaN      NaN      NaN             NaN          NaN   \n",
       "\n",
       "   title_year actor_2_facebook_likes imdb_score  aspect_ratio  \\\n",
       "0      2009.0                  936.0        7.9          1.78   \n",
       "1      2007.0                 5000.0        7.1          2.35   \n",
       "2      2015.0                  393.0        6.8          2.35   \n",
       "3      2012.0                23000.0        8.5          2.35   \n",
       "4         NaN                   12.0        7.1           NaN   \n",
       "\n",
       "  movie_facebook_likes  \n",
       "0                33000  \n",
       "1                    0  \n",
       "2                85000  \n",
       "3               164000  \n",
       "4                    0  \n",
       "\n",
       "[5 rows x 28 columns]"
      ]
     },
     "execution_count": 3,
     "metadata": {},
     "output_type": "execute_result"
    }
   ],
   "source": [
    "df_movies = pd.read_csv('../../data/movie.csv')\n",
    "df_movies.head()\n"
   ]
  },
  {
   "cell_type": "markdown",
   "metadata": {},
   "source": [
    " Laat de kolommen zien waar we mee bezig zijn"
   ]
  },
  {
   "cell_type": "code",
   "execution_count": 4,
   "metadata": {},
   "outputs": [
    {
     "name": "stdout",
     "output_type": "stream",
     "text": [
      "Index(['color', 'director_name', 'num_critic_for_reviews', 'duration',\n",
      "       'director_facebook_likes', 'actor_3_facebook_likes', 'actor_2_name',\n",
      "       'actor_1_facebook_likes', 'gross', 'genres', 'actor_1_name',\n",
      "       'movie_title', 'num_voted_users', 'cast_total_facebook_likes',\n",
      "       'actor_3_name', 'facenumber_in_poster', 'plot_keywords',\n",
      "       'movie_imdb_link', 'num_user_for_reviews', 'language', 'country',\n",
      "       'content_rating', 'budget', 'title_year', 'actor_2_facebook_likes',\n",
      "       'imdb_score', 'aspect_ratio', 'movie_facebook_likes'],\n",
      "      dtype='object')\n",
      "Data length: 5043\n"
     ]
    }
   ],
   "source": [
    "print(df_movies.columns)\n",
    "print(\"Data length: {}\".format(len(df_movies)))\n"
   ]
  },
  {
   "cell_type": "code",
   "execution_count": 5,
   "metadata": {},
   "outputs": [],
   "source": [
    "# Ongewenste kolommen verwijderen\n",
    "df_movies.drop([\"movie_imdb_link\", \"aspect_ratio\"], axis=1, inplace=True)\n",
    "\n",
    "#Onduidelijke kolomnamen aanpassen\n",
    "df_movies.rename(columns={'color': 'Colour',\n",
    "                          'director_name': 'Director',\n",
    "                          'num_critic_for_reviews': 'Number of critics',\n",
    "                          'duration': 'Duration',\n",
    "                          'director_facebook_likes': 'Director FB likes',\n",
    "                          'actor_3_facebook_likes': 'Actor 3 FB likes',\n",
    "                          'actor_2_name': 'Actor 2 name',\n",
    "                          'actor_1_facebook_likes': 'Actor 1 FB likes',\n",
    "                          'gross': 'Gross',\n",
    "                          'genres': 'Genres',\n",
    "                          'actor_1_name': 'Actor 1 name',\n",
    "                          'movie_title': 'Movie title',\n",
    "                          'num_voted_users': 'Number of voted users',\n",
    "                          'cast_total_facebook_likes': 'Total Cast FB likes',\n",
    "                          'actor_3_name': 'Actor 3 name',\n",
    "                          'facenumber_in_poster': 'Number of faces on poster',\n",
    "                          'plot_keywords': 'Plot Keywords',\n",
    "                          'num_user_for_reviews': 'Number of user reviews',\n",
    "                          'language': 'Language',\n",
    "                          'country': 'Country',\n",
    "                          'content_rating': 'Age rating',\n",
    "                          'budget': 'Budget',\n",
    "                          'title_year': 'Release year',\n",
    "                          'actor_2_facebook_likes': 'Actor 2 FB likes',\n",
    "                          'imdb_score': 'IMDB Score',\n",
    "                          'movie_facebook_likes': 'Movie FB likes'}, inplace=True)\n",
    "\n",
    "# Volgorde kolommen aanpassen\n",
    "df_movies = df_movies[['Movie title',\n",
    "                       'Release year',\n",
    "                       'Director',\n",
    "                       'Director FB likes',\n",
    "                       'Gross',\n",
    "                       'Budget',\n",
    "                       'Duration',\n",
    "                       'Language',\n",
    "                       'Country',\n",
    "                       'Colour',\n",
    "                       'Genres',\n",
    "                       'IMDB Score',\n",
    "                       'Number of voted users',\n",
    "                       'Number of critics',\n",
    "                       'Number of user reviews',\n",
    "                       'Age rating',\n",
    "                       'Total Cast FB likes',\n",
    "                       'Movie FB likes',\n",
    "                       'Actor 1 name',\n",
    "                       'Actor 2 name',\n",
    "                       'Actor 3 name',\n",
    "                       'Actor 1 FB likes',\n",
    "                       'Actor 2 FB likes',\n",
    "                       'Actor 3 FB likes',\n",
    "                       'Plot Keywords',\n",
    "                       'Number of faces on poster',\n",
    "                       ]]\n",
    "\n",
    "# Datatypen aanpassen\n",
    "# 1. Floats omzetten naar integers\n",
    "#  De dataset bevat geen kolommen die dienen te worden bewaard als float, behalve `IMDB Score`\n",
    "df_movies_IMDB_Score = df_movies[\"IMDB Score\"]  # Tijdelijke kopie van de kolom `IMDB Score`\n",
    "df_movies = df_movies.drop('IMDB Score', axis=1).fillna(0).astype(int, errors='ignore') # Waarden omzetten naar integers\n",
    "df_movies.insert(11, \"IMDB Score\", df_movies_IMDB_Score)  # `IMDB Score` weer toevoegen aan originele DataFrame\n",
    "del df_movies_IMDB_Score\n",
    "\n",
    "# 2. De kolom `Release year` omzettten van integers naar het datetime-datatype\n",
    "df_movies[\"Release year\"] = pd.to_datetime(df_movies[\"Release year\"], format='%Y', errors='coerce')\n"
   ]
  },
  {
   "cell_type": "markdown",
   "metadata": {},
   "source": [
    "# Maak de data schoon\n",
    "\n",
    "Hier zet ik alle column namen neer die te maken heeft met Facebook of IMDB\n",
    "\n",
    "Vervolgens drop ik alle NaN values om errors te verkomen."
   ]
  },
  {
   "cell_type": "code",
   "execution_count": 6,
   "metadata": {},
   "outputs": [],
   "source": [
    "# Select only the facebook and imdb columns\n",
    "\n",
    "features = ['Director FB likes', 'Actor 1 FB likes', \n",
    "                'Actor 2 FB likes', 'Gross', 'Total Cast FB likes',\n",
    "                'Actor 3 FB likes', 'IMDB Score', 'Movie FB likes']\n",
    "df_Q1 = df_movies.copy()[features]\n",
    "\n",
    "# Remove the data where gross is 0 or Where all record has a NaN value\n",
    "df_Q1 = df_Q1.dropna()\n",
    "df_Q1 = df_Q1[df_Q1.Gross != 0]"
   ]
  },
  {
   "cell_type": "markdown",
   "metadata": {},
   "source": [
    "# Zoeken voor coalities\n",
    "\n",
    "Dit doe ik door middel van eerst de describe functie aan te roepen dit geeft alle nodige waardes voor die kolom\n",
    "Daarna Maak ik een coalitie heatmap"
   ]
  },
  {
   "cell_type": "code",
   "execution_count": 7,
   "metadata": {},
   "outputs": [
    {
     "data": {
      "text/html": [
       "<div>\n",
       "<style scoped>\n",
       "    .dataframe tbody tr th:only-of-type {\n",
       "        vertical-align: middle;\n",
       "    }\n",
       "\n",
       "    .dataframe tbody tr th {\n",
       "        vertical-align: top;\n",
       "    }\n",
       "\n",
       "    .dataframe thead th {\n",
       "        text-align: right;\n",
       "    }\n",
       "</style>\n",
       "<table border=\"1\" class=\"dataframe\">\n",
       "  <thead>\n",
       "    <tr style=\"text-align: right;\">\n",
       "      <th></th>\n",
       "      <th>Director FB likes</th>\n",
       "      <th>Actor 1 FB likes</th>\n",
       "      <th>Actor 2 FB likes</th>\n",
       "      <th>Gross</th>\n",
       "      <th>Total Cast FB likes</th>\n",
       "      <th>Actor 3 FB likes</th>\n",
       "      <th>IMDB Score</th>\n",
       "      <th>Movie FB likes</th>\n",
       "    </tr>\n",
       "  </thead>\n",
       "  <tbody>\n",
       "    <tr>\n",
       "      <th>count</th>\n",
       "      <td>4159.000000</td>\n",
       "      <td>4159.000000</td>\n",
       "      <td>4159.000000</td>\n",
       "      <td>4.159000e+03</td>\n",
       "      <td>4159.000000</td>\n",
       "      <td>4159.000000</td>\n",
       "      <td>4159.000000</td>\n",
       "      <td>4159.000000</td>\n",
       "    </tr>\n",
       "    <tr>\n",
       "      <th>mean</th>\n",
       "      <td>746.621063</td>\n",
       "      <td>7337.022602</td>\n",
       "      <td>1885.322674</td>\n",
       "      <td>4.846841e+07</td>\n",
       "      <td>10882.029574</td>\n",
       "      <td>721.502525</td>\n",
       "      <td>6.469897</td>\n",
       "      <td>8730.617697</td>\n",
       "    </tr>\n",
       "    <tr>\n",
       "      <th>std</th>\n",
       "      <td>2945.354788</td>\n",
       "      <td>15045.023266</td>\n",
       "      <td>4367.923272</td>\n",
       "      <td>6.845299e+07</td>\n",
       "      <td>18517.280893</td>\n",
       "      <td>1808.439956</td>\n",
       "      <td>1.052182</td>\n",
       "      <td>20788.260808</td>\n",
       "    </tr>\n",
       "    <tr>\n",
       "      <th>min</th>\n",
       "      <td>0.000000</td>\n",
       "      <td>0.000000</td>\n",
       "      <td>0.000000</td>\n",
       "      <td>1.620000e+02</td>\n",
       "      <td>0.000000</td>\n",
       "      <td>0.000000</td>\n",
       "      <td>1.600000</td>\n",
       "      <td>0.000000</td>\n",
       "    </tr>\n",
       "    <tr>\n",
       "      <th>25%</th>\n",
       "      <td>10.000000</td>\n",
       "      <td>695.500000</td>\n",
       "      <td>342.000000</td>\n",
       "      <td>5.340988e+06</td>\n",
       "      <td>1736.500000</td>\n",
       "      <td>169.500000</td>\n",
       "      <td>5.900000</td>\n",
       "      <td>0.000000</td>\n",
       "    </tr>\n",
       "    <tr>\n",
       "      <th>50%</th>\n",
       "      <td>57.000000</td>\n",
       "      <td>1000.000000</td>\n",
       "      <td>650.000000</td>\n",
       "      <td>2.551750e+07</td>\n",
       "      <td>3697.000000</td>\n",
       "      <td>414.000000</td>\n",
       "      <td>6.600000</td>\n",
       "      <td>182.000000</td>\n",
       "    </tr>\n",
       "    <tr>\n",
       "      <th>75%</th>\n",
       "      <td>218.000000</td>\n",
       "      <td>12000.000000</td>\n",
       "      <td>962.000000</td>\n",
       "      <td>6.230944e+07</td>\n",
       "      <td>15561.500000</td>\n",
       "      <td>672.000000</td>\n",
       "      <td>7.200000</td>\n",
       "      <td>10000.000000</td>\n",
       "    </tr>\n",
       "    <tr>\n",
       "      <th>max</th>\n",
       "      <td>23000.000000</td>\n",
       "      <td>640000.000000</td>\n",
       "      <td>137000.000000</td>\n",
       "      <td>7.605058e+08</td>\n",
       "      <td>656730.000000</td>\n",
       "      <td>23000.000000</td>\n",
       "      <td>9.300000</td>\n",
       "      <td>349000.000000</td>\n",
       "    </tr>\n",
       "  </tbody>\n",
       "</table>\n",
       "</div>"
      ],
      "text/plain": [
       "       Director FB likes  Actor 1 FB likes  Actor 2 FB likes         Gross  \\\n",
       "count        4159.000000       4159.000000       4159.000000  4.159000e+03   \n",
       "mean          746.621063       7337.022602       1885.322674  4.846841e+07   \n",
       "std          2945.354788      15045.023266       4367.923272  6.845299e+07   \n",
       "min             0.000000          0.000000          0.000000  1.620000e+02   \n",
       "25%            10.000000        695.500000        342.000000  5.340988e+06   \n",
       "50%            57.000000       1000.000000        650.000000  2.551750e+07   \n",
       "75%           218.000000      12000.000000        962.000000  6.230944e+07   \n",
       "max         23000.000000     640000.000000     137000.000000  7.605058e+08   \n",
       "\n",
       "       Total Cast FB likes  Actor 3 FB likes   IMDB Score  Movie FB likes  \n",
       "count          4159.000000       4159.000000  4159.000000     4159.000000  \n",
       "mean          10882.029574        721.502525     6.469897     8730.617697  \n",
       "std           18517.280893       1808.439956     1.052182    20788.260808  \n",
       "min               0.000000          0.000000     1.600000        0.000000  \n",
       "25%            1736.500000        169.500000     5.900000        0.000000  \n",
       "50%            3697.000000        414.000000     6.600000      182.000000  \n",
       "75%           15561.500000        672.000000     7.200000    10000.000000  \n",
       "max          656730.000000      23000.000000     9.300000   349000.000000  "
      ]
     },
     "execution_count": 7,
     "metadata": {},
     "output_type": "execute_result"
    }
   ],
   "source": [
    "df_Q1.describe()"
   ]
  },
  {
   "cell_type": "code",
   "execution_count": 8,
   "metadata": {},
   "outputs": [
    {
     "data": {
      "image/png": "[encoded data removed]",
      "text/plain": [
       "<Figure size 288x288 with 1 Axes>"
      ]
     },
     "metadata": {
      "needs_background": "light"
     },
     "output_type": "display_data"
    },
    {
     "data": {
      "text/html": [
       "<div>\n",
       "<style scoped>\n",
       "    .dataframe tbody tr th:only-of-type {\n",
       "        vertical-align: middle;\n",
       "    }\n",
       "\n",
       "    .dataframe tbody tr th {\n",
       "        vertical-align: top;\n",
       "    }\n",
       "\n",
       "    .dataframe thead th {\n",
       "        text-align: right;\n",
       "    }\n",
       "</style>\n",
       "<table border=\"1\" class=\"dataframe\">\n",
       "  <thead>\n",
       "    <tr style=\"text-align: right;\">\n",
       "      <th></th>\n",
       "      <th>Director FB likes</th>\n",
       "      <th>Actor 1 FB likes</th>\n",
       "      <th>Actor 2 FB likes</th>\n",
       "      <th>Gross</th>\n",
       "      <th>Total Cast FB likes</th>\n",
       "      <th>Actor 3 FB likes</th>\n",
       "      <th>IMDB Score</th>\n",
       "      <th>Movie FB likes</th>\n",
       "    </tr>\n",
       "  </thead>\n",
       "  <tbody>\n",
       "    <tr>\n",
       "      <th>Director FB likes</th>\n",
       "      <td>1.000000</td>\n",
       "      <td>0.092055</td>\n",
       "      <td>0.119797</td>\n",
       "      <td>0.145044</td>\n",
       "      <td>0.121748</td>\n",
       "      <td>0.121115</td>\n",
       "      <td>0.184650</td>\n",
       "      <td>0.162925</td>\n",
       "    </tr>\n",
       "    <tr>\n",
       "      <th>Actor 1 FB likes</th>\n",
       "      <td>0.092055</td>\n",
       "      <td>1.000000</td>\n",
       "      <td>0.392784</td>\n",
       "      <td>0.154745</td>\n",
       "      <td>0.945759</td>\n",
       "      <td>0.255636</td>\n",
       "      <td>0.087851</td>\n",
       "      <td>0.135636</td>\n",
       "    </tr>\n",
       "    <tr>\n",
       "      <th>Actor 2 FB likes</th>\n",
       "      <td>0.119797</td>\n",
       "      <td>0.392784</td>\n",
       "      <td>1.000000</td>\n",
       "      <td>0.263073</td>\n",
       "      <td>0.642580</td>\n",
       "      <td>0.555514</td>\n",
       "      <td>0.095136</td>\n",
       "      <td>0.234896</td>\n",
       "    </tr>\n",
       "    <tr>\n",
       "      <th>Gross</th>\n",
       "      <td>0.145044</td>\n",
       "      <td>0.154745</td>\n",
       "      <td>0.263073</td>\n",
       "      <td>1.000000</td>\n",
       "      <td>0.247400</td>\n",
       "      <td>0.308461</td>\n",
       "      <td>0.198021</td>\n",
       "      <td>0.378082</td>\n",
       "    </tr>\n",
       "    <tr>\n",
       "      <th>Total Cast FB likes</th>\n",
       "      <td>0.121748</td>\n",
       "      <td>0.945759</td>\n",
       "      <td>0.642580</td>\n",
       "      <td>0.247400</td>\n",
       "      <td>1.000000</td>\n",
       "      <td>0.490505</td>\n",
       "      <td>0.098578</td>\n",
       "      <td>0.210184</td>\n",
       "    </tr>\n",
       "    <tr>\n",
       "      <th>Actor 3 FB likes</th>\n",
       "      <td>0.121115</td>\n",
       "      <td>0.255636</td>\n",
       "      <td>0.555514</td>\n",
       "      <td>0.308461</td>\n",
       "      <td>0.490505</td>\n",
       "      <td>1.000000</td>\n",
       "      <td>0.058255</td>\n",
       "      <td>0.273537</td>\n",
       "    </tr>\n",
       "    <tr>\n",
       "      <th>IMDB Score</th>\n",
       "      <td>0.184650</td>\n",
       "      <td>0.087851</td>\n",
       "      <td>0.095136</td>\n",
       "      <td>0.198021</td>\n",
       "      <td>0.098578</td>\n",
       "      <td>0.058255</td>\n",
       "      <td>1.000000</td>\n",
       "      <td>0.269383</td>\n",
       "    </tr>\n",
       "    <tr>\n",
       "      <th>Movie FB likes</th>\n",
       "      <td>0.162925</td>\n",
       "      <td>0.135636</td>\n",
       "      <td>0.234896</td>\n",
       "      <td>0.378082</td>\n",
       "      <td>0.210184</td>\n",
       "      <td>0.273537</td>\n",
       "      <td>0.269383</td>\n",
       "      <td>1.000000</td>\n",
       "    </tr>\n",
       "  </tbody>\n",
       "</table>\n",
       "</div>"
      ],
      "text/plain": [
       "                     Director FB likes  Actor 1 FB likes  Actor 2 FB likes  \\\n",
       "Director FB likes             1.000000          0.092055          0.119797   \n",
       "Actor 1 FB likes              0.092055          1.000000          0.392784   \n",
       "Actor 2 FB likes              0.119797          0.392784          1.000000   \n",
       "Gross                         0.145044          0.154745          0.263073   \n",
       "Total Cast FB likes           0.121748          0.945759          0.642580   \n",
       "Actor 3 FB likes              0.121115          0.255636          0.555514   \n",
       "IMDB Score                    0.184650          0.087851          0.095136   \n",
       "Movie FB likes                0.162925          0.135636          0.234896   \n",
       "\n",
       "                        Gross  Total Cast FB likes  Actor 3 FB likes  \\\n",
       "Director FB likes    0.145044             0.121748          0.121115   \n",
       "Actor 1 FB likes     0.154745             0.945759          0.255636   \n",
       "Actor 2 FB likes     0.263073             0.642580          0.555514   \n",
       "Gross                1.000000             0.247400          0.308461   \n",
       "Total Cast FB likes  0.247400             1.000000          0.490505   \n",
       "Actor 3 FB likes     0.308461             0.490505          1.000000   \n",
       "IMDB Score           0.198021             0.098578          0.058255   \n",
       "Movie FB likes       0.378082             0.210184          0.273537   \n",
       "\n",
       "                     IMDB Score  Movie FB likes  \n",
       "Director FB likes      0.184650        0.162925  \n",
       "Actor 1 FB likes       0.087851        0.135636  \n",
       "Actor 2 FB likes       0.095136        0.234896  \n",
       "Gross                  0.198021        0.378082  \n",
       "Total Cast FB likes    0.098578        0.210184  \n",
       "Actor 3 FB likes       0.058255        0.273537  \n",
       "IMDB Score             1.000000        0.269383  \n",
       "Movie FB likes         0.269383        1.000000  "
      ]
     },
     "execution_count": 8,
     "metadata": {},
     "output_type": "execute_result"
    }
   ],
   "source": [
    "plt.matshow(df_Q1.corr())\n",
    "plt.show()\n",
    "df_Q1.corr()"
   ]
  },
  {
   "cell_type": "code",
   "execution_count": 9,
   "metadata": {},
   "outputs": [
    {
     "data": {
      "text/plain": [
       "array([[<matplotlib.axes._subplots.AxesSubplot object at 0x10b35da90>,\n",
       "        <matplotlib.axes._subplots.AxesSubplot object at 0x115b9d400>,\n",
       "        <matplotlib.axes._subplots.AxesSubplot object at 0x10b4035f8>,\n",
       "        <matplotlib.axes._subplots.AxesSubplot object at 0x10b429860>,\n",
       "        <matplotlib.axes._subplots.AxesSubplot object at 0x115bd6ac8>,\n",
       "        <matplotlib.axes._subplots.AxesSubplot object at 0x115d88e80>,\n",
       "        <matplotlib.axes._subplots.AxesSubplot object at 0x115dba438>,\n",
       "        <matplotlib.axes._subplots.AxesSubplot object at 0x115ddf9e8>],\n",
       "       [<matplotlib.axes._subplots.AxesSubplot object at 0x115ddfa20>,\n",
       "        <matplotlib.axes._subplots.AxesSubplot object at 0x115e394e0>,\n",
       "        <matplotlib.axes._subplots.AxesSubplot object at 0x115e5fa58>,\n",
       "        <matplotlib.axes._subplots.AxesSubplot object at 0x115e86fd0>,\n",
       "        <matplotlib.axes._subplots.AxesSubplot object at 0x115eb7588>,\n",
       "        <matplotlib.axes._subplots.AxesSubplot object at 0x115eddb00>,\n",
       "        <matplotlib.axes._subplots.AxesSubplot object at 0x115f110b8>,\n",
       "        <matplotlib.axes._subplots.AxesSubplot object at 0x115f37630>],\n",
       "       [<matplotlib.axes._subplots.AxesSubplot object at 0x115f5fba8>,\n",
       "        <matplotlib.axes._subplots.AxesSubplot object at 0x115f8e160>,\n",
       "        <matplotlib.axes._subplots.AxesSubplot object at 0x115fb56d8>,\n",
       "        <matplotlib.axes._subplots.AxesSubplot object at 0x115fdec50>,\n",
       "        <matplotlib.axes._subplots.AxesSubplot object at 0x116010208>,\n",
       "        <matplotlib.axes._subplots.AxesSubplot object at 0x116033780>,\n",
       "        <matplotlib.axes._subplots.AxesSubplot object at 0x11605fcf8>,\n",
       "        <matplotlib.axes._subplots.AxesSubplot object at 0x11608c2b0>],\n",
       "       [<matplotlib.axes._subplots.AxesSubplot object at 0x1160b4828>,\n",
       "        <matplotlib.axes._subplots.AxesSubplot object at 0x1160deda0>,\n",
       "        <matplotlib.axes._subplots.AxesSubplot object at 0x11610d358>,\n",
       "        <matplotlib.axes._subplots.AxesSubplot object at 0x1161358d0>,\n",
       "        <matplotlib.axes._subplots.AxesSubplot object at 0x116160e48>,\n",
       "        <matplotlib.axes._subplots.AxesSubplot object at 0x115c15ba8>,\n",
       "        <matplotlib.axes._subplots.AxesSubplot object at 0x115c4b128>,\n",
       "        <matplotlib.axes._subplots.AxesSubplot object at 0x10a16ba90>],\n",
       "       [<matplotlib.axes._subplots.AxesSubplot object at 0x1161b4048>,\n",
       "        <matplotlib.axes._subplots.AxesSubplot object at 0x10b44d5c0>,\n",
       "        <matplotlib.axes._subplots.AxesSubplot object at 0x115a08b38>,\n",
       "        <matplotlib.axes._subplots.AxesSubplot object at 0x115a3a0f0>,\n",
       "        <matplotlib.axes._subplots.AxesSubplot object at 0x1161da668>,\n",
       "        <matplotlib.axes._subplots.AxesSubplot object at 0x116204be0>,\n",
       "        <matplotlib.axes._subplots.AxesSubplot object at 0x116235198>,\n",
       "        <matplotlib.axes._subplots.AxesSubplot object at 0x11625b710>],\n",
       "       [<matplotlib.axes._subplots.AxesSubplot object at 0x116283c88>,\n",
       "        <matplotlib.axes._subplots.AxesSubplot object at 0x1162b5240>,\n",
       "        <matplotlib.axes._subplots.AxesSubplot object at 0x1162dd7b8>,\n",
       "        <matplotlib.axes._subplots.AxesSubplot object at 0x116305d30>,\n",
       "        <matplotlib.axes._subplots.AxesSubplot object at 0x1163352e8>,\n",
       "        <matplotlib.axes._subplots.AxesSubplot object at 0x11635d860>,\n",
       "        <matplotlib.axes._subplots.AxesSubplot object at 0x116387dd8>,\n",
       "        <matplotlib.axes._subplots.AxesSubplot object at 0x1163b8390>],\n",
       "       [<matplotlib.axes._subplots.AxesSubplot object at 0x1163e0908>,\n",
       "        <matplotlib.axes._subplots.AxesSubplot object at 0x116408e80>,\n",
       "        <matplotlib.axes._subplots.AxesSubplot object at 0x116437438>,\n",
       "        <matplotlib.axes._subplots.AxesSubplot object at 0x1164609b0>,\n",
       "        <matplotlib.axes._subplots.AxesSubplot object at 0x116488f28>,\n",
       "        <matplotlib.axes._subplots.AxesSubplot object at 0x1164b84e0>,\n",
       "        <matplotlib.axes._subplots.AxesSubplot object at 0x1164e1a58>,\n",
       "        <matplotlib.axes._subplots.AxesSubplot object at 0x11650afd0>],\n",
       "       [<matplotlib.axes._subplots.AxesSubplot object at 0x11653a588>,\n",
       "        <matplotlib.axes._subplots.AxesSubplot object at 0x116562b00>,\n",
       "        <matplotlib.axes._subplots.AxesSubplot object at 0x1165940b8>,\n",
       "        <matplotlib.axes._subplots.AxesSubplot object at 0x1165bb630>,\n",
       "        <matplotlib.axes._subplots.AxesSubplot object at 0x1165e4ba8>,\n",
       "        <matplotlib.axes._subplots.AxesSubplot object at 0x116615160>,\n",
       "        <matplotlib.axes._subplots.AxesSubplot object at 0x11663b6d8>,\n",
       "        <matplotlib.axes._subplots.AxesSubplot object at 0x116662c50>]],\n",
       "      dtype=object)"
      ]
     },
     "execution_count": 9,
     "metadata": {},
     "output_type": "execute_result"
    },
    {
     "data": {
      "image/png": "[encoded data removed]",
      "text/plain": [
       "<Figure size 720x720 with 64 Axes>"
      ]
     },
     "metadata": {
      "needs_background": "light"
     },
     "output_type": "display_data"
    }
   ],
   "source": [
    "from pandas.plotting import scatter_matrix\n",
    "scatter_matrix(df_Q1, alpha=0.2, figsize=(10, 10))\n"
   ]
  },
  {
   "cell_type": "markdown",
   "metadata": {},
   "source": [
    "Als je naar de IMDB score vs de gross kijkt zie je daar een beetje een coalitie in maar veel is dat niet. Veel van de data zit nog steeds op een rechte horizontale lijn waar je niet veel aan hebt. Je ziet hier een sterk verband tussen de Actor 1 FB likes en de total cast FB likes. Dit is ook best logisch omdat de cast onder andere de acteur in zit. Helaas kunnen we die coalitie niet gebruiken om de omzet te voorspellen."
   ]
  },
  {
   "cell_type": "markdown",
   "metadata": {},
   "source": [
    "Drop de omzet kolom voor de X as\n",
    "En gebruik de omzet kolom voor de y as\n",
    "Zo voorspellen we y met de waarde van X"
   ]
  },
  {
   "cell_type": "code",
   "execution_count": 10,
   "metadata": {},
   "outputs": [],
   "source": [
    "# Split the data to X and Y\n",
    "X = df_Q1.drop(columns=['Gross'])\n",
    "y = df_Q1['Gross']\n",
    "assert len(X) == len(y) # make sure that the length of x is the same as the length of y\n",
    "\n"
   ]
  },
  {
   "cell_type": "markdown",
   "metadata": {},
   "source": [
    "Split de data op in 3 delen, Train data(72%), Test data(20%) en validation Data(8%)\n",
    "Waarom 8% voor de validation data en 72% voor de Train data dit omdat we eerst de train data pakken waar we daarna weer 10% validatie af halen."
   ]
  },
  {
   "cell_type": "code",
   "execution_count": 11,
   "metadata": {},
   "outputs": [],
   "source": [
    "from sklearn.model_selection import train_test_split\n",
    "# Create Train test and validation Split\n",
    "X_train, X_test, y_train, y_test = train_test_split(X, y, test_size=0.2, random_state=1)\n",
    "# Doing it twice because you need a validation set as well\n",
    "X_train, X_val, y_train, y_val = train_test_split(X_train, y_train, test_size=0.1, random_state=1)\n",
    "\n"
   ]
  },
  {
   "cell_type": "markdown",
   "metadata": {},
   "source": [
    "\n",
    "# Train onze regressie model\n",
    "\n",
    "Hier gaan we een LogisticRegression model trainen. Waarom? Omdat een LogisticRegression model meer een bocht in de data kan maken dan een linear regressie. Daarom is dit mijn base test.\n"
   ]
  },
  {
   "cell_type": "code",
   "execution_count": 12,
   "metadata": {},
   "outputs": [
    {
     "name": "stderr",
     "output_type": "stream",
     "text": [
      "/usr/local/lib/python3.7/site-packages/sklearn/linear_model/logistic.py:432: FutureWarning: Default solver will be changed to 'lbfgs' in 0.22. Specify a solver to silence this warning.\n",
      "  FutureWarning)\n",
      "/usr/local/lib/python3.7/site-packages/sklearn/linear_model/logistic.py:469: FutureWarning: Default multi_class will be changed to 'auto' in 0.22. Specify the multi_class option to silence this warning.\n",
      "  \"this warning.\", FutureWarning)\n",
      "/usr/local/lib/python3.7/site-packages/sklearn/svm/base.py:929: ConvergenceWarning: Liblinear failed to converge, increase the number of iterations.\n",
      "  \"the number of iterations.\", ConvergenceWarning)\n"
     ]
    },
    {
     "data": {
      "text/plain": [
       "LogisticRegression(C=1.0, class_weight=None, dual=False, fit_intercept=True,\n",
       "                   intercept_scaling=1, l1_ratio=None, max_iter=100,\n",
       "                   multi_class='warn', n_jobs=None, penalty='l2',\n",
       "                   random_state=1, solver='warn', tol=0.0001, verbose=0,\n",
       "                   warm_start=False)"
      ]
     },
     "execution_count": 12,
     "metadata": {},
     "output_type": "execute_result"
    }
   ],
   "source": [
    "from sklearn.linear_model import LogisticRegression\n",
    "LR = LogisticRegression(random_state=1)\n",
    "\n",
    "LR.fit(X_train, y_train)\n",
    "\n"
   ]
  },
  {
   "cell_type": "markdown",
   "metadata": {},
   "source": [
    "Laten we nu gaan kijken hoe onze model het heeft gedaan."
   ]
  },
  {
   "cell_type": "code",
   "execution_count": 13,
   "metadata": {},
   "outputs": [
    {
     "name": "stdout",
     "output_type": "stream",
     "text": [
      "RMS: 130044396.49356787\n",
      "MSE: 1.6911545059376288e+16\n",
      "Score: 0.013221153846153846\n"
     ]
    }
   ],
   "source": [
    "import math\n",
    "from sklearn.metrics import mean_squared_error\n",
    "\n",
    "mse = mean_squared_error(y_test, LR.predict(X_test))\n",
    "rms = math.sqrt(mse)\n",
    "score = LR.score(X_test, y_test)\n",
    "\n",
    "print(\"RMS: {}\".format(rms))\n",
    "print(\"MSE: {}\".format(mse))\n",
    "print(\"Score: {}\".format(score))\n",
    "\n"
   ]
  },
  {
   "cell_type": "markdown",
   "metadata": {},
   "source": [
    "# Optimalisatie\n",
    "Nu we een base score hebben kunnen we dit optimaliseren. We hebben een best lage base score dus dit kunnen we vast verbeteren"
   ]
  },
  {
   "cell_type": "markdown",
   "metadata": {},
   "source": [
    "Wat we eerst kunnen doen is de X as te normaliseren zodat we betere data krijgen"
   ]
  },
  {
   "cell_type": "code",
   "execution_count": 14,
   "metadata": {},
   "outputs": [],
   "source": [
    "from scipy import stats\n",
    "from sklearn import preprocessing\n",
    "standardscaler = preprocessing.StandardScaler()\n",
    "x_scaled = standardscaler.fit_transform(X)\n",
    "x_scaled = pd.DataFrame(x_scaled)"
   ]
  },
  {
   "cell_type": "markdown",
   "metadata": {},
   "source": [
    "Nadat we de X data gescaled hebben door middel van een StandardScaler moeten we dit weer op splitsen naar train, test en validatie sets. Dit doen we weer door dezelfde manier als de vorige keer."
   ]
  },
  {
   "cell_type": "code",
   "execution_count": 15,
   "metadata": {},
   "outputs": [],
   "source": [
    "# Create Train test and validation Split\n",
    "X_train, X_test, y_train, y_test = train_test_split(x_scaled, y, test_size=0.2, random_state=1)\n",
    "# Doing it twice because you need a validation set as well\n",
    "X_train, X_val, y_train, y_val = train_test_split(X_train, y_train, test_size=0.1, random_state=1)\n"
   ]
  },
  {
   "cell_type": "code",
   "execution_count": 16,
   "metadata": {},
   "outputs": [
    {
     "name": "stderr",
     "output_type": "stream",
     "text": [
      "/usr/local/lib/python3.7/site-packages/sklearn/linear_model/logistic.py:432: FutureWarning: Default solver will be changed to 'lbfgs' in 0.22. Specify a solver to silence this warning.\n",
      "  FutureWarning)\n",
      "/usr/local/lib/python3.7/site-packages/sklearn/linear_model/logistic.py:469: FutureWarning: Default multi_class will be changed to 'auto' in 0.22. Specify the multi_class option to silence this warning.\n",
      "  \"this warning.\", FutureWarning)\n"
     ]
    },
    {
     "data": {
      "text/plain": [
       "LogisticRegression(C=1.0, class_weight=None, dual=False, fit_intercept=True,\n",
       "                   intercept_scaling=1, l1_ratio=None, max_iter=100,\n",
       "                   multi_class='warn', n_jobs=None, penalty='l2',\n",
       "                   random_state=1, solver='warn', tol=0.0001, verbose=0,\n",
       "                   warm_start=False)"
      ]
     },
     "execution_count": 16,
     "metadata": {},
     "output_type": "execute_result"
    }
   ],
   "source": [
    "from sklearn.linear_model import LogisticRegression\n",
    "LR = LogisticRegression(random_state=1)\n",
    "\n",
    "LR.fit(X_train, y_train)\n"
   ]
  },
  {
   "cell_type": "code",
   "execution_count": 17,
   "metadata": {},
   "outputs": [
    {
     "name": "stdout",
     "output_type": "stream",
     "text": [
      "RMS: 83876274.9257036\n",
      "MSE: 7035229495412215.0\n",
      "Score: 0.002403846153846154\n"
     ]
    }
   ],
   "source": [
    "mse = mean_squared_error(y_test, LR.predict(X_test))\n",
    "rms = math.sqrt(mse)\n",
    "score = LR.score(X_test, y_test)\n",
    "\n",
    "print(\"RMS: {}\".format(rms))\n",
    "print(\"MSE: {}\".format(mse))\n",
    "print(\"Score: {}\".format(score))\n"
   ]
  },
  {
   "cell_type": "markdown",
   "metadata": {},
   "source": [
    "Dit heeft niet veel geholpen. De score is erg naar beneden. Dit is niet wat we wilden. Ook is de Mean squared error flink naar beneden gegaan wat weer wat positief is. "
   ]
  },
  {
   "cell_type": "code",
   "execution_count": 18,
   "metadata": {
    "scrolled": true
   },
   "outputs": [
    {
     "data": {
      "text/plain": [
       "[<matplotlib.lines.Line2D at 0x11917c630>,\n",
       " <matplotlib.lines.Line2D at 0x11917c748>]"
      ]
     },
     "execution_count": 18,
     "metadata": {},
     "output_type": "execute_result"
    },
    {
     "data": {
      "image/png": "[encoded data removed]",
      "text/plain": [
       "<Figure size 432x288 with 1 Axes>"
      ]
     },
     "metadata": {
      "needs_background": "light"
     },
     "output_type": "display_data"
    }
   ],
   "source": [
    "x = np.linspace(0, 100, len(y_test))\n",
    "plt.plot(x,y_test, LR.predict(X_test)[:100])\n"
   ]
  },
  {
   "cell_type": "markdown",
   "metadata": {},
   "source": [
    "Hier boven zien we wat de voorspelde omzet was en wat de daadwerkelijk omzet was en dit zo nog te ver van elkaar vanaf."
   ]
  },
  {
   "cell_type": "markdown",
   "metadata": {},
   "source": [
    "# Ander model\n",
    " We gebruiken nu een logistic regresion model laten we kijken of een ander model beter werkt. We gaan kijken of een linear regressie beter werkt."
   ]
  },
  {
   "cell_type": "code",
   "execution_count": 19,
   "metadata": {},
   "outputs": [
    {
     "data": {
      "text/plain": [
       "LinearRegression(copy_X=True, fit_intercept=True, n_jobs=None, normalize=False)"
      ]
     },
     "execution_count": 19,
     "metadata": {},
     "output_type": "execute_result"
    }
   ],
   "source": [
    "from sklearn.linear_model import LinearRegression\n",
    "LR = LinearRegression()\n",
    "\n",
    "LR.fit(X_train, y_train)\n",
    "\n",
    "\n"
   ]
  },
  {
   "cell_type": "code",
   "execution_count": 20,
   "metadata": {},
   "outputs": [
    {
     "name": "stdout",
     "output_type": "stream",
     "text": [
      "RMS: 55964436.88153042\n",
      "MSE: 3132018195466802.5\n",
      "Score: 0.3627979608010119\n"
     ]
    }
   ],
   "source": [
    "mse = mean_squared_error(y_test, LR.predict(X_test))\n",
    "rms = math.sqrt(mse)\n",
    "score = LR.score(X_test, y_test)\n",
    "\n",
    "print(\"RMS: {}\".format(rms))\n",
    "print(\"MSE: {}\".format(mse))\n",
    "print(\"Score: {}\".format(score))\n"
   ]
  },
  {
   "cell_type": "markdown",
   "metadata": {},
   "source": [
    " Dit is een grote verbetering erg groot zelfs. De score is met zo goed als 36% omhoog gegaan en de mean squared error is er ook beter op geworden. Laten we kijken of we dit nog beter kunnen maken."
   ]
  },
  {
   "cell_type": "markdown",
   "metadata": {},
   "source": [
    "Wat we nog kunnen doen is de Y as normaliseren dit konden we niet door voor een logistic regression omdat hij dan een continous error geeft. Maar met een lineair algoritme kunnen we dit prima doen"
   ]
  },
  {
   "cell_type": "code",
   "execution_count": 21,
   "metadata": {},
   "outputs": [],
   "source": [
    "from scipy import stats\n",
    "y_scaled = stats.zscore(y)\n"
   ]
  },
  {
   "cell_type": "code",
   "execution_count": 22,
   "metadata": {},
   "outputs": [],
   "source": [
    "# Create Train test and validation Split\n",
    "X_train, X_test, y_train, y_test = train_test_split(x_scaled, y_scaled, test_size=0.2, random_state=1)\n",
    "# Doing it twice because you need a validation set as well\n",
    "X_train, X_val, y_train, y_val = train_test_split(X_train, y_train, test_size=0.1, random_state=1)\n"
   ]
  },
  {
   "cell_type": "code",
   "execution_count": 23,
   "metadata": {},
   "outputs": [
    {
     "data": {
      "text/plain": [
       "LinearRegression(copy_X=True, fit_intercept=True, n_jobs=None, normalize=False)"
      ]
     },
     "execution_count": 23,
     "metadata": {},
     "output_type": "execute_result"
    }
   ],
   "source": [
    "from sklearn.linear_model import LinearRegression\n",
    "LR = LinearRegression()\n",
    "\n",
    "LR.fit(X_train, y_train)\n",
    "\n"
   ]
  },
  {
   "cell_type": "code",
   "execution_count": 24,
   "metadata": {},
   "outputs": [
    {
     "name": "stdout",
     "output_type": "stream",
     "text": [
      "RMS: 0.8176584521504231\n",
      "MSE: 0.6685653443730257\n",
      "Score: 0.3627979608010117\n"
     ]
    }
   ],
   "source": [
    "mse = mean_squared_error(y_test, LR.predict(X_test))\n",
    "rms = math.sqrt(mse)\n",
    "score = LR.score(X_test, y_test)\n",
    "\n",
    "print(\"RMS: {}\".format(rms))\n",
    "print(\"MSE: {}\".format(mse))\n",
    "print(\"Score: {}\".format(score))\n"
   ]
  },
  {
   "cell_type": "markdown",
   "metadata": {},
   "source": [
    " Door het te normalizeren van de y data hebben we nu de mean squared error flink naar beneden gekregen. Maar de score is hetzelfde gebleven"
   ]
  },
  {
   "cell_type": "code",
   "execution_count": 25,
   "metadata": {},
   "outputs": [
    {
     "data": {
      "text/plain": [
       "[<matplotlib.lines.Line2D at 0x121b850b8>,\n",
       " <matplotlib.lines.Line2D at 0x121b85208>]"
      ]
     },
     "execution_count": 25,
     "metadata": {},
     "output_type": "execute_result"
    },
    {
     "data": {
      "image/png": "[encoded data removed]",
      "text/plain": [
       "<Figure size 432x288 with 1 Axes>"
      ]
     },
     "metadata": {
      "needs_background": "light"
     },
     "output_type": "display_data"
    }
   ],
   "source": [
    "x = np.linspace(0, len(y_test), len(y_test))\n",
    "plt.plot(x,y_test, LR.predict(X_test))\n",
    "\n"
   ]
  },
  {
   "cell_type": "markdown",
   "metadata": {},
   "source": [
    "Nu ziet de plot er ook iets beter uit. Maar nog lang niet bruikbaar"
   ]
  },
  {
   "cell_type": "markdown",
   "metadata": {},
   "source": [
    "Wat we nog kunnen doen is kijken of polynomialfeatures het verbeteren."
   ]
  },
  {
   "cell_type": "code",
   "execution_count": 26,
   "metadata": {},
   "outputs": [],
   "source": [
    "from sklearn.preprocessing import PolynomialFeatures\n",
    "polynomial_features= PolynomialFeatures(degree=2)\n",
    "x_poly = polynomial_features.fit_transform(x_scaled)"
   ]
  },
  {
   "cell_type": "code",
   "execution_count": 27,
   "metadata": {},
   "outputs": [],
   "source": [
    "# Create Train test and validation Split\n",
    "X_train, X_test, y_train, y_test = train_test_split(x_poly, y_scaled, test_size=0.2, random_state=1)\n",
    "# Doing it twice because you need a validation set as well\n",
    "X_train, X_val, y_train, y_val = train_test_split(X_train, y_train, test_size=0.1, random_state=1)"
   ]
  },
  {
   "cell_type": "code",
   "execution_count": 28,
   "metadata": {},
   "outputs": [
    {
     "data": {
      "text/plain": [
       "LinearRegression(copy_X=True, fit_intercept=True, n_jobs=None, normalize=False)"
      ]
     },
     "execution_count": 28,
     "metadata": {},
     "output_type": "execute_result"
    }
   ],
   "source": [
    "from sklearn.linear_model import LinearRegression\n",
    "LR = LinearRegression()\n",
    "\n",
    "LR.fit(X_train, y_train)\n",
    "\n"
   ]
  },
  {
   "cell_type": "code",
   "execution_count": 29,
   "metadata": {
    "scrolled": true
   },
   "outputs": [
    {
     "name": "stdout",
     "output_type": "stream",
     "text": [
      "RMS: 0.8632635375200614\n",
      "MSE: 0.7452239352116503\n",
      "Score: 0.2897355282121661\n"
     ]
    }
   ],
   "source": [
    "mse = mean_squared_error(y_test, LR.predict(X_test))\n",
    "rms = math.sqrt(mse)\n",
    "score = LR.score(X_test, y_test)\n",
    "\n",
    "print(\"RMS: {}\".format(rms))\n",
    "print(\"MSE: {}\".format(mse))\n",
    "print(\"Score: {}\".format(score))\n",
    "\n",
    "\n"
   ]
  },
  {
   "cell_type": "markdown",
   "metadata": {},
   "source": [
    "Dit levert ons een lagere score en hogere MSE op. Dit is lager dan onze best gescoorde model dus we gaan terug naar dat model"
   ]
  },
  {
   "cell_type": "markdown",
   "metadata": {},
   "source": [
    "Wat we nog kunnen proberen is categorieen van de y data maken. Zo kunnen we de z-score afronden op hele getallen en kijken of we in de buurt kunnen komen."
   ]
  },
  {
   "cell_type": "code",
   "execution_count": 122,
   "metadata": {},
   "outputs": [
    {
     "data": {
      "text/plain": [
       "array([10.,  4.,  2.,  6.,  0.,  4.,  2.,  6.,  4.,  4.,  2.,  2.,  5.,\n",
       "        1.,  4.,  1.,  8.,  3.,  2.,  3.,  3.,  1.,  3.,  0.,  2.,  9.,\n",
       "        5.,  0.,  9.,  4.,  5.,  5.,  4.,  3.,  3.,  5.,  3.,  3.,  2.,\n",
       "        2.,  2.,  1.,  5.,  1.,  4.,  2.,  3.,  3.,  0.,  1.,  1.,  1.,\n",
       "        4.,  4.,  1.,  3.,  1.,  3.,  1.,  2.,  1., -0.,  1.,  4.,  2.,\n",
       "        7.,  4.,  2.,  4.,  0.,  1.,  1.,  2.,  1.,  1.,  1.,  1.,  4.,\n",
       "        5.,  4.,  2.,  3.,  2., -0.,  3.,  3.,  1.,  3.,  2., -1.,  1.,\n",
       "        2.,  1.,  4.,  2.,  4.,  4.,  1.,  1.,  1.])"
      ]
     },
     "execution_count": 122,
     "metadata": {},
     "output_type": "execute_result"
    }
   ],
   "source": [
    "y = df_Q1['Gross']\n",
    "y_scaled = stats.zscore(y)\n",
    "y_scaled = y_scaled.round(0)\n",
    "y_scaled[:100]"
   ]
  },
  {
   "cell_type": "code",
   "execution_count": 123,
   "metadata": {},
   "outputs": [],
   "source": [
    "# Create Train test and validation Split\n",
    "X_train, X_test, y_train, y_test = train_test_split(x_scaled, y_scaled, test_size=0.2, random_state=1)\n",
    "# Doing it twice because you need a validation set as well\n",
    "X_train, X_val, y_train, y_val = train_test_split(X_train, y_train, test_size=0.1, random_state=1)"
   ]
  },
  {
   "cell_type": "code",
   "execution_count": 124,
   "metadata": {
    "scrolled": true
   },
   "outputs": [
    {
     "data": {
      "text/plain": [
       "LinearRegression(copy_X=True, fit_intercept=True, n_jobs=None, normalize=False)"
      ]
     },
     "execution_count": 124,
     "metadata": {},
     "output_type": "execute_result"
    }
   ],
   "source": [
    "from sklearn.linear_model import LinearRegression\n",
    "LR = LinearRegression()\n",
    "\n",
    "LR.fit(X_train, y_train)"
   ]
  },
  {
   "cell_type": "code",
   "execution_count": 125,
   "metadata": {},
   "outputs": [
    {
     "name": "stdout",
     "output_type": "stream",
     "text": [
      "RMS: 0.9151951425885614\n",
      "MSE: 0.8375821490176972\n",
      "Score: 0.3262708473734114\n"
     ]
    }
   ],
   "source": [
    "mse = mean_squared_error(y_test, LR.predict(X_test))\n",
    "rms = math.sqrt(mse)\n",
    "score = LR.score(X_test, y_test)\n",
    "\n",
    "print(\"RMS: {}\".format(rms))\n",
    "print(\"MSE: {}\".format(mse))\n",
    "print(\"Score: {}\".format(score))\n",
    "\n"
   ]
  },
  {
   "cell_type": "markdown",
   "metadata": {},
   "source": [
    "Dit levert ons wel een slechtere score op en een slechtere MSE wat er op neer komt dat dit niet goed werkt."
   ]
  },
  {
   "cell_type": "markdown",
   "metadata": {},
   "source": [
    "# Eind resultaat"
   ]
  },
  {
   "cell_type": "markdown",
   "metadata": {},
   "source": [
    "Zo ziet het er naar uit dat de beste model een lineaire regressie met de y waarden genormaliseerd met de z-score. Deze is niet afgerond naar een bepaald bedrag en is de X waarden genormaliseerd door een standardscaler. Deze model levert een score op van 19% en een MSE van 0.70 afgerond."
   ]
  },
  {
   "cell_type": "code",
   "execution_count": 116,
   "metadata": {},
   "outputs": [],
   "source": [
    "y = df_Q1['Gross']\n",
    "y_scaled = stats.zscore(y)"
   ]
  },
  {
   "cell_type": "code",
   "execution_count": 117,
   "metadata": {},
   "outputs": [],
   "source": [
    "# Create Train test and validation Split\n",
    "X_train, X_test, y_train, y_test = train_test_split(x_scaled, y_scaled, test_size=0.2, random_state=1)\n",
    "# Doing it twice because you need a validation set as well\n",
    "X_train, X_val, y_train, y_val = train_test_split(X_train, y_train, test_size=0.1, random_state=1)"
   ]
  },
  {
   "cell_type": "code",
   "execution_count": 118,
   "metadata": {},
   "outputs": [
    {
     "data": {
      "text/plain": [
       "LinearRegression(copy_X=True, fit_intercept=True, n_jobs=None, normalize=False)"
      ]
     },
     "execution_count": 118,
     "metadata": {},
     "output_type": "execute_result"
    }
   ],
   "source": [
    "from sklearn.linear_model import LinearRegression\n",
    "LR = LinearRegression()\n",
    "\n",
    "LR.fit(X_train, y_train)"
   ]
  },
  {
   "cell_type": "markdown",
   "metadata": {},
   "source": [
    "# Test score"
   ]
  },
  {
   "cell_type": "code",
   "execution_count": 119,
   "metadata": {},
   "outputs": [
    {
     "name": "stdout",
     "output_type": "stream",
     "text": [
      "RMS: 0.8176584521504231\n",
      "MSE: 0.6685653443730257\n",
      "Score: 0.3627979608010117\n"
     ]
    }
   ],
   "source": [
    "mse = mean_squared_error(y_test, LR.predict(X_test))\n",
    "rms = math.sqrt(mse)\n",
    "score = LR.score(X_test, y_test)\n",
    "\n",
    "print(\"RMS: {}\".format(rms))\n",
    "print(\"MSE: {}\".format(mse))\n",
    "print(\"Score: {}\".format(score))\n",
    "\n"
   ]
  },
  {
   "cell_type": "markdown",
   "metadata": {},
   "source": [
    "# Validation score"
   ]
  },
  {
   "cell_type": "code",
   "execution_count": 120,
   "metadata": {},
   "outputs": [
    {
     "name": "stdout",
     "output_type": "stream",
     "text": [
      "RMS: 0.835343609306829\n",
      "MSE: 0.6977989456097602\n",
      "Score: 0.19843163101434147\n",
      "Std: 68452990.43875284\n"
     ]
    }
   ],
   "source": [
    "mse = mean_squared_error(y_val, LR.predict(X_val))\n",
    "rms = math.sqrt(mse)\n",
    "score = LR.score(X_val, y_val)\n",
    "\n",
    "print(\"RMS: {}\".format(rms))\n",
    "print(\"MSE: {}\".format(mse))\n",
    "print(\"Score: {}\".format(score))\n",
    "print(\"Std: {}\".format( df_Q1.Gross.std()))"
   ]
  },
  {
   "cell_type": "code",
   "execution_count": 121,
   "metadata": {},
   "outputs": [
    {
     "data": {
      "text/plain": [
       "[<matplotlib.lines.Line2D at 0x123916630>,\n",
       " <matplotlib.lines.Line2D at 0x123916780>]"
      ]
     },
     "execution_count": 121,
     "metadata": {},
     "output_type": "execute_result"
    },
    {
     "data": {
      "image/png": "[encoded data removed]",
      "text/plain": [
       "<Figure size 432x288 with 1 Axes>"
      ]
     },
     "metadata": {
      "needs_background": "light"
     },
     "output_type": "display_data"
    }
   ],
   "source": [
    "x = np.linspace(0, len(y_val), len(y_val))\n",
    "plt.plot(x,y_val, LR.predict(X_val))"
   ]
  },
  {
   "cell_type": "markdown",
   "metadata": {},
   "source": [
    "Als je kijkt naar de grafiek van de voorspelde waarde(oranje) vs de daadwerkelijke waarde(blauw) merk je dat hij er flink naast zit."
   ]
  },
  {
   "cell_type": "markdown",
   "metadata": {},
   "source": [
    " # In hoeverre is de omzet van een film te voorspellen op basis van de populariteit op Facebook en IMDB zelf?\n",
    " \n",
    " Dit is bijna niet te doen. Dit omdat er zit weinig tot geen zichtbare coalitie tussen de omzet en populariteit op Facebook en IMDB. Ook is de minder zichtbare coalitie's weinig tot geen waardoor de modelen laag scoren"
   ]
  },
  {
   "cell_type": "code",
   "execution_count": null,
   "metadata": {},
   "outputs": [],
   "source": []
  }
 ],
 "metadata": {
  "file_extension": ".py",
  "kernelspec": {
   "display_name": "Python 3",
   "language": "python",
   "name": "python3"
  },
  "language_info": {
   "codemirror_mode": {
    "name": "ipython",
    "version": 3
   },
   "file_extension": ".py",
   "mimetype": "text/x-python",
   "name": "python",
   "nbconvert_exporter": "python",
   "pygments_lexer": "ipython3",
   "version": "3.7.3"
  },
  "mimetype": "text/x-python",
  "name": "python",
  "npconvert_exporter": "python",
  "pygments_lexer": "ipython3",
  "version": 3
 },
 "nbformat": 4,
 "nbformat_minor": 2
}
