{
 "cells": [
  {
   "cell_type": "code",
   "execution_count": 2,
   "metadata": {
    "pycharm": {
     "is_executing": false,
     "name": "#%%\n"
    }
   },
   "outputs": [
    {
     "name": "stdout",
     "output_type": "stream",
     "text": [
      "The nb_black extension is already loaded. To reload it, use:\n",
      "  %reload_ext nb_black\n"
     ]
    },
    {
     "data": {
      "application/javascript": [
       "\n",
       "        setTimeout(function() {\n",
       "            var nbb_cell_id = 2;\n",
       "            var nbb_formatted_code = \"%load_ext nb_black\\n\\nimport matplotlib.pyplot as plt\\nimport numpy as np\\nimport pandas as pd\\nimport seaborn as sns\\nfrom sklearn.linear_model import LinearRegression\\nfrom sklearn.model_selection import train_test_split\\nfrom sklearn.metrics import confusion_matrix, mean_squared_error, r2_score\\n\\n# TODO: kolommen van int omzetten naar \\\"Int64\\\" zodat np.NaN kan worden opgeslagen ipv 0 als placeholder\\n# TODO: NaN-types als laatste verwijderen na alle cleanup\";\n",
       "            var nbb_cells = Jupyter.notebook.get_cells();\n",
       "            for (var i = 0; i < nbb_cells.length; ++i) {\n",
       "                if (nbb_cells[i].input_prompt_number == nbb_cell_id) {\n",
       "                    nbb_cells[i].set_text(nbb_formatted_code);\n",
       "                    break;\n",
       "                }\n",
       "            }\n",
       "        }, 500);\n",
       "        "
      ],
      "text/plain": [
       "<IPython.core.display.Javascript object>"
      ]
     },
     "metadata": {},
     "output_type": "display_data"
    }
   ],
   "source": [
    "#%load_ext nb_black\n",
    "\n",
    "import matplotlib.pyplot as plt\n",
    "import numpy as np\n",
    "import pandas as pd\n",
    "import seaborn as sns\n",
    "from sklearn.linear_model import LinearRegression\n",
    "from sklearn.model_selection import train_test_split\n",
    "from sklearn.metrics import confusion_matrix, mean_squared_error, r2_score\n",
    "\n",
    "# TODO: kolommen van int omzetten naar \"Int64\" zodat np.NaN kan worden opgeslagen ipv 0 als placeholder\n",
    "# TODO: NaN-types als laatste verwijderen na alle cleanup"
   ]
  },
  {
   "cell_type": "markdown",
   "metadata": {},
   "source": [
    "# In hoeverre is het mogelijk om de budget-winst verhouding te voorspellen?\n",
    "Ook voor deze onderzoeksvraag zullen de zeven stappen van het Data Science-proces worden toegepast. \n",
    "Stappen 1, 2 en 3 zullen in grote maten hetzelfde zijn als bij de overige twee onderzoeksvragen.\n",
    "### Het Data Science-proces\n",
    "1. Data collection\n",
    "2. Data processing (ook wel data munging)\n",
    "3. Data cleaning\n",
    "4. Data exploration & analysis\n",
    "5. Model building\n",
    "6. Visualization\n",
    "7. Communication\n",
    "\n",
    "## 1. Data Collection\n",
    "Voor het beantwoorden van deze onderzoeksvraag zal alleen gebruik worden gemaakt van `movie.csv`.\n",
    "Om te zien of de dataset `movie.csv` goed is ingeladen, worden de eerste vijf rijen getoond:"
   ]
  },
  {
   "cell_type": "code",
   "execution_count": 3,
   "metadata": {
    "pycharm": {
     "is_executing": false,
     "name": "#%%\n"
    }
   },
   "outputs": [
    {
     "name": "stdout",
     "output_type": "stream",
     "text": [
      "In totaal zijn er 5043 films.\n",
      "\n"
     ]
    },
    {
     "data": {
      "text/html": [
       "<div>\n",
       "<style scoped>\n",
       "    .dataframe tbody tr th:only-of-type {\n",
       "        vertical-align: middle;\n",
       "    }\n",
       "\n",
       "    .dataframe tbody tr th {\n",
       "        vertical-align: top;\n",
       "    }\n",
       "\n",
       "    .dataframe thead th {\n",
       "        text-align: right;\n",
       "    }\n",
       "</style>\n",
       "<table border=\"1\" class=\"dataframe\">\n",
       "  <thead>\n",
       "    <tr style=\"text-align: right;\">\n",
       "      <th></th>\n",
       "      <th>color</th>\n",
       "      <th>director_name</th>\n",
       "      <th>num_critic_for_reviews</th>\n",
       "      <th>duration</th>\n",
       "      <th>director_facebook_likes</th>\n",
       "      <th>actor_3_facebook_likes</th>\n",
       "      <th>actor_2_name</th>\n",
       "      <th>actor_1_facebook_likes</th>\n",
       "      <th>gross</th>\n",
       "      <th>genres</th>\n",
       "      <th>...</th>\n",
       "      <th>num_user_for_reviews</th>\n",
       "      <th>language</th>\n",
       "      <th>country</th>\n",
       "      <th>content_rating</th>\n",
       "      <th>budget</th>\n",
       "      <th>title_year</th>\n",
       "      <th>actor_2_facebook_likes</th>\n",
       "      <th>imdb_score</th>\n",
       "      <th>aspect_ratio</th>\n",
       "      <th>movie_facebook_likes</th>\n",
       "    </tr>\n",
       "  </thead>\n",
       "  <tbody>\n",
       "    <tr>\n",
       "      <th>0</th>\n",
       "      <td>Color</td>\n",
       "      <td>James Cameron</td>\n",
       "      <td>723.0</td>\n",
       "      <td>178.0</td>\n",
       "      <td>0.0</td>\n",
       "      <td>855.0</td>\n",
       "      <td>Joel David Moore</td>\n",
       "      <td>1000.0</td>\n",
       "      <td>760505847.0</td>\n",
       "      <td>Action|Adventure|Fantasy|Sci-Fi</td>\n",
       "      <td>...</td>\n",
       "      <td>3054.0</td>\n",
       "      <td>English</td>\n",
       "      <td>USA</td>\n",
       "      <td>PG-13</td>\n",
       "      <td>237000000.0</td>\n",
       "      <td>2009.0</td>\n",
       "      <td>936.0</td>\n",
       "      <td>7.9</td>\n",
       "      <td>1.78</td>\n",
       "      <td>33000</td>\n",
       "    </tr>\n",
       "    <tr>\n",
       "      <th>1</th>\n",
       "      <td>Color</td>\n",
       "      <td>Gore Verbinski</td>\n",
       "      <td>302.0</td>\n",
       "      <td>169.0</td>\n",
       "      <td>563.0</td>\n",
       "      <td>1000.0</td>\n",
       "      <td>Orlando Bloom</td>\n",
       "      <td>40000.0</td>\n",
       "      <td>309404152.0</td>\n",
       "      <td>Action|Adventure|Fantasy</td>\n",
       "      <td>...</td>\n",
       "      <td>1238.0</td>\n",
       "      <td>English</td>\n",
       "      <td>USA</td>\n",
       "      <td>PG-13</td>\n",
       "      <td>300000000.0</td>\n",
       "      <td>2007.0</td>\n",
       "      <td>5000.0</td>\n",
       "      <td>7.1</td>\n",
       "      <td>2.35</td>\n",
       "      <td>0</td>\n",
       "    </tr>\n",
       "    <tr>\n",
       "      <th>2</th>\n",
       "      <td>Color</td>\n",
       "      <td>Sam Mendes</td>\n",
       "      <td>602.0</td>\n",
       "      <td>148.0</td>\n",
       "      <td>0.0</td>\n",
       "      <td>161.0</td>\n",
       "      <td>Rory Kinnear</td>\n",
       "      <td>11000.0</td>\n",
       "      <td>200074175.0</td>\n",
       "      <td>Action|Adventure|Thriller</td>\n",
       "      <td>...</td>\n",
       "      <td>994.0</td>\n",
       "      <td>English</td>\n",
       "      <td>UK</td>\n",
       "      <td>PG-13</td>\n",
       "      <td>245000000.0</td>\n",
       "      <td>2015.0</td>\n",
       "      <td>393.0</td>\n",
       "      <td>6.8</td>\n",
       "      <td>2.35</td>\n",
       "      <td>85000</td>\n",
       "    </tr>\n",
       "    <tr>\n",
       "      <th>3</th>\n",
       "      <td>Color</td>\n",
       "      <td>Christopher Nolan</td>\n",
       "      <td>813.0</td>\n",
       "      <td>164.0</td>\n",
       "      <td>22000.0</td>\n",
       "      <td>23000.0</td>\n",
       "      <td>Christian Bale</td>\n",
       "      <td>27000.0</td>\n",
       "      <td>448130642.0</td>\n",
       "      <td>Action|Thriller</td>\n",
       "      <td>...</td>\n",
       "      <td>2701.0</td>\n",
       "      <td>English</td>\n",
       "      <td>USA</td>\n",
       "      <td>PG-13</td>\n",
       "      <td>250000000.0</td>\n",
       "      <td>2012.0</td>\n",
       "      <td>23000.0</td>\n",
       "      <td>8.5</td>\n",
       "      <td>2.35</td>\n",
       "      <td>164000</td>\n",
       "    </tr>\n",
       "    <tr>\n",
       "      <th>4</th>\n",
       "      <td>NaN</td>\n",
       "      <td>Doug Walker</td>\n",
       "      <td>NaN</td>\n",
       "      <td>NaN</td>\n",
       "      <td>131.0</td>\n",
       "      <td>NaN</td>\n",
       "      <td>Rob Walker</td>\n",
       "      <td>131.0</td>\n",
       "      <td>NaN</td>\n",
       "      <td>Documentary</td>\n",
       "      <td>...</td>\n",
       "      <td>NaN</td>\n",
       "      <td>NaN</td>\n",
       "      <td>NaN</td>\n",
       "      <td>NaN</td>\n",
       "      <td>NaN</td>\n",
       "      <td>NaN</td>\n",
       "      <td>12.0</td>\n",
       "      <td>7.1</td>\n",
       "      <td>NaN</td>\n",
       "      <td>0</td>\n",
       "    </tr>\n",
       "  </tbody>\n",
       "</table>\n",
       "<p>5 rows × 28 columns</p>\n",
       "</div>"
      ],
      "text/plain": [
       "   color      director_name  num_critic_for_reviews  duration  \\\n",
       "0  Color      James Cameron                   723.0     178.0   \n",
       "1  Color     Gore Verbinski                   302.0     169.0   \n",
       "2  Color         Sam Mendes                   602.0     148.0   \n",
       "3  Color  Christopher Nolan                   813.0     164.0   \n",
       "4    NaN        Doug Walker                     NaN       NaN   \n",
       "\n",
       "   director_facebook_likes  actor_3_facebook_likes      actor_2_name  \\\n",
       "0                      0.0                   855.0  Joel David Moore   \n",
       "1                    563.0                  1000.0     Orlando Bloom   \n",
       "2                      0.0                   161.0      Rory Kinnear   \n",
       "3                  22000.0                 23000.0    Christian Bale   \n",
       "4                    131.0                     NaN        Rob Walker   \n",
       "\n",
       "   actor_1_facebook_likes        gross                           genres  ...  \\\n",
       "0                  1000.0  760505847.0  Action|Adventure|Fantasy|Sci-Fi  ...   \n",
       "1                 40000.0  309404152.0         Action|Adventure|Fantasy  ...   \n",
       "2                 11000.0  200074175.0        Action|Adventure|Thriller  ...   \n",
       "3                 27000.0  448130642.0                  Action|Thriller  ...   \n",
       "4                   131.0          NaN                      Documentary  ...   \n",
       "\n",
       "  num_user_for_reviews language  country  content_rating       budget  \\\n",
       "0               3054.0  English      USA           PG-13  237000000.0   \n",
       "1               1238.0  English      USA           PG-13  300000000.0   \n",
       "2                994.0  English       UK           PG-13  245000000.0   \n",
       "3               2701.0  English      USA           PG-13  250000000.0   \n",
       "4                  NaN      NaN      NaN             NaN          NaN   \n",
       "\n",
       "   title_year actor_2_facebook_likes imdb_score  aspect_ratio  \\\n",
       "0      2009.0                  936.0        7.9          1.78   \n",
       "1      2007.0                 5000.0        7.1          2.35   \n",
       "2      2015.0                  393.0        6.8          2.35   \n",
       "3      2012.0                23000.0        8.5          2.35   \n",
       "4         NaN                   12.0        7.1           NaN   \n",
       "\n",
       "  movie_facebook_likes  \n",
       "0                33000  \n",
       "1                    0  \n",
       "2                85000  \n",
       "3               164000  \n",
       "4                    0  \n",
       "\n",
       "[5 rows x 28 columns]"
      ]
     },
     "execution_count": 3,
     "metadata": {},
     "output_type": "execute_result"
    },
    {
     "data": {
      "application/javascript": [
       "\n",
       "        setTimeout(function() {\n",
       "            var nbb_cell_id = 3;\n",
       "            var nbb_formatted_code = \"df_movies = pd.read_csv(\\\"../../data/movie.csv\\\")\\nprint(f\\\"In totaal zijn er {len(df_movies)} films.\\\\n\\\")\\ndf_movies.head()\";\n",
       "            var nbb_cells = Jupyter.notebook.get_cells();\n",
       "            for (var i = 0; i < nbb_cells.length; ++i) {\n",
       "                if (nbb_cells[i].input_prompt_number == nbb_cell_id) {\n",
       "                    nbb_cells[i].set_text(nbb_formatted_code);\n",
       "                    break;\n",
       "                }\n",
       "            }\n",
       "        }, 500);\n",
       "        "
      ],
      "text/plain": [
       "<IPython.core.display.Javascript object>"
      ]
     },
     "metadata": {},
     "output_type": "display_data"
    }
   ],
   "source": [
    "df_movies = pd.read_csv(\"../../data/movie.csv\")\n",
    "print(f\"In totaal zijn er {len(df_movies)} films.\\n\")\n",
    "df_movies.head()"
   ]
  },
  {
   "cell_type": "markdown",
   "metadata": {
    "pycharm": {
     "name": "#%% md\n"
    }
   },
   "source": [
    "Te zien is dat de data goed wordt ingelezen en de waardes in de juiste kolommen komen te staan.\n",
    "Verder zijn er al NaN-waardes te zien en staan veel gegevens opgeslagen als floats.\n",
    "\n",
    "## 2. Data Processing\n",
    "Ook deze stap is grotendeels voor ons gedaan. De data is goed opgeslagen in een `.csv`-bestand\n",
    "en kan direct worden opgeslagen als een _Pandas_ DataFrame.\n",
    "\n",
    "Verder rest ons nog de volgende drie stappen:\n",
    "1. Het selecteren van de gewenste kolommen\n",
    "2. Het aanpassen van onduidelijke kolomnamen\n",
    "3. Het aanpassen van de datatypen"
   ]
  },
  {
   "cell_type": "code",
   "execution_count": 4,
   "metadata": {
    "pycharm": {
     "is_executing": false,
     "name": "#%% \n"
    }
   },
   "outputs": [
    {
     "data": {
      "text/plain": [
       "Movie title             object\n",
       "Budget                   int32\n",
       "Gross                    int32\n",
       "Release year    datetime64[ns]\n",
       "dtype: object"
      ]
     },
     "execution_count": 4,
     "metadata": {},
     "output_type": "execute_result"
    },
    {
     "data": {
      "application/javascript": [
       "\n",
       "        setTimeout(function() {\n",
       "            var nbb_cell_id = 4;\n",
       "            var nbb_formatted_code = \"# Selecteren gewenste kolommen\\ndf_movies = df_movies[[\\\"movie_title\\\", \\\"budget\\\", \\\"gross\\\", \\\"title_year\\\"]]\\n\\n# Onduidelijke kolomnamen aanpassen\\ndf_movies.rename(\\n    columns={\\n        \\\"movie_title\\\": \\\"Movie title\\\",\\n        \\\"budget\\\": \\\"Budget\\\",\\n        \\\"gross\\\": \\\"Gross\\\",\\n        \\\"title_year\\\": \\\"Release year\\\",\\n    },\\n    inplace=True,\\n)\\n\\n# Datatypen aanpassen: Floats naar integers omzetten\\ndf_movies.fillna(0, inplace=True)\\ndf_movies = df_movies.astype({\\\"Budget\\\": int, \\\"Gross\\\": int})\\n\\n\\n# Datatypes aanpassen: De kolom `Release year` omzettten van integers naar het datetime-datatype\\ndf_movies[\\\"Release year\\\"] = pd.to_datetime(\\n    df_movies[\\\"Release year\\\"], format=\\\"%Y\\\", errors=\\\"coerce\\\"\\n)\\n\\ndf_movies.dtypes\";\n",
       "            var nbb_cells = Jupyter.notebook.get_cells();\n",
       "            for (var i = 0; i < nbb_cells.length; ++i) {\n",
       "                if (nbb_cells[i].input_prompt_number == nbb_cell_id) {\n",
       "                    nbb_cells[i].set_text(nbb_formatted_code);\n",
       "                    break;\n",
       "                }\n",
       "            }\n",
       "        }, 500);\n",
       "        "
      ],
      "text/plain": [
       "<IPython.core.display.Javascript object>"
      ]
     },
     "metadata": {},
     "output_type": "display_data"
    }
   ],
   "source": [
    "# Selecteren gewenste kolommen\n",
    "df_movies = df_movies[[\"movie_title\", \"budget\", \"gross\", \"title_year\"]]\n",
    "\n",
    "# Onduidelijke kolomnamen aanpassen\n",
    "df_movies.rename(\n",
    "    columns={\n",
    "        \"movie_title\": \"Movie title\",\n",
    "        \"budget\": \"Budget\",\n",
    "        \"gross\": \"Gross\",\n",
    "        \"title_year\": \"Release year\",\n",
    "    }, inplace=True,)\n",
    "\n",
    "# Datatypen aanpassen: Floats naar integers omzetten\n",
    "df_movies.fillna(0, inplace=True)\n",
    "df_movies = df_movies.astype({\"Budget\": int, \"Gross\": int})\n",
    "\n",
    "\n",
    "# Datatypes aanpassen: De kolom `Release year` omzettten van integers naar het datetime-datatype\n",
    "df_movies[\"Release year\"] = pd.to_datetime(df_movies[\"Release year\"], format=\"%Y\", errors=\"coerce\")\n",
    "\n",
    "df_movies.dtypes"
   ]
  },
  {
   "cell_type": "markdown",
   "metadata": {},
   "source": [
    "Het DataFrame `df_movies` ziet er nu als volgt uit:"
   ]
  },
  {
   "cell_type": "code",
   "execution_count": 5,
   "metadata": {
    "pycharm": {
     "is_executing": false,
     "name": "#%% \n"
    }
   },
   "outputs": [
    {
     "data": {
      "text/html": [
       "<div>\n",
       "<style scoped>\n",
       "    .dataframe tbody tr th:only-of-type {\n",
       "        vertical-align: middle;\n",
       "    }\n",
       "\n",
       "    .dataframe tbody tr th {\n",
       "        vertical-align: top;\n",
       "    }\n",
       "\n",
       "    .dataframe thead th {\n",
       "        text-align: right;\n",
       "    }\n",
       "</style>\n",
       "<table border=\"1\" class=\"dataframe\">\n",
       "  <thead>\n",
       "    <tr style=\"text-align: right;\">\n",
       "      <th></th>\n",
       "      <th>Movie title</th>\n",
       "      <th>Budget</th>\n",
       "      <th>Gross</th>\n",
       "      <th>Release year</th>\n",
       "    </tr>\n",
       "  </thead>\n",
       "  <tbody>\n",
       "    <tr>\n",
       "      <th>0</th>\n",
       "      <td>Avatar</td>\n",
       "      <td>237000000</td>\n",
       "      <td>760505847</td>\n",
       "      <td>2009-01-01</td>\n",
       "    </tr>\n",
       "    <tr>\n",
       "      <th>1</th>\n",
       "      <td>Pirates of the Caribbean: At World's End</td>\n",
       "      <td>300000000</td>\n",
       "      <td>309404152</td>\n",
       "      <td>2007-01-01</td>\n",
       "    </tr>\n",
       "    <tr>\n",
       "      <th>2</th>\n",
       "      <td>Spectre</td>\n",
       "      <td>245000000</td>\n",
       "      <td>200074175</td>\n",
       "      <td>2015-01-01</td>\n",
       "    </tr>\n",
       "    <tr>\n",
       "      <th>3</th>\n",
       "      <td>The Dark Knight Rises</td>\n",
       "      <td>250000000</td>\n",
       "      <td>448130642</td>\n",
       "      <td>2012-01-01</td>\n",
       "    </tr>\n",
       "    <tr>\n",
       "      <th>4</th>\n",
       "      <td>Star Wars: Episode VII - The Force Awakens    ...</td>\n",
       "      <td>0</td>\n",
       "      <td>0</td>\n",
       "      <td>NaT</td>\n",
       "    </tr>\n",
       "  </tbody>\n",
       "</table>\n",
       "</div>"
      ],
      "text/plain": [
       "                                         Movie title     Budget      Gross  \\\n",
       "0                                            Avatar   237000000  760505847   \n",
       "1          Pirates of the Caribbean: At World's End   300000000  309404152   \n",
       "2                                           Spectre   245000000  200074175   \n",
       "3                             The Dark Knight Rises   250000000  448130642   \n",
       "4  Star Wars: Episode VII - The Force Awakens    ...          0          0   \n",
       "\n",
       "  Release year  \n",
       "0   2009-01-01  \n",
       "1   2007-01-01  \n",
       "2   2015-01-01  \n",
       "3   2012-01-01  \n",
       "4          NaT  "
      ]
     },
     "execution_count": 5,
     "metadata": {},
     "output_type": "execute_result"
    },
    {
     "data": {
      "application/javascript": [
       "\n",
       "        setTimeout(function() {\n",
       "            var nbb_cell_id = 5;\n",
       "            var nbb_formatted_code = \"df_movies.head()\";\n",
       "            var nbb_cells = Jupyter.notebook.get_cells();\n",
       "            for (var i = 0; i < nbb_cells.length; ++i) {\n",
       "                if (nbb_cells[i].input_prompt_number == nbb_cell_id) {\n",
       "                    nbb_cells[i].set_text(nbb_formatted_code);\n",
       "                    break;\n",
       "                }\n",
       "            }\n",
       "        }, 500);\n",
       "        "
      ],
      "text/plain": [
       "<IPython.core.display.Javascript object>"
      ]
     },
     "metadata": {},
     "output_type": "display_data"
    }
   ],
   "source": [
    "df_movies.head()"
   ]
  },
  {
   "cell_type": "markdown",
   "metadata": {},
   "source": [
    "Alle kolommen van het DataFrame hebben nu het juiste datatype.\n",
    "`Budget` en `Gross` bestaan uit integers en `Release year` bestaat uit het `datetime` datatype.\n",
    "Echter zijn er nog wel 0-waardes en NaT-waardes zichtbaar. Deze rijen dienen tijdens stap 3. Data\n",
    "Cleaning nog te worden opgeschoont.\n",
    "\n",
    "## 3. Data Cleaning\n",
    "1. Het verwijderen van NaN-types\n",
    "2. Het verwijderen van dubbele `Movie titles`\n",
    "3. Het omzetten van onrealistische waardes naar 0\n",
    "4. Het verwijderen van rijen met een budget van 0"
   ]
  },
  {
   "cell_type": "code",
   "execution_count": 6,
   "metadata": {
    "pycharm": {
     "is_executing": false,
     "name": "#%%\n"
    }
   },
   "outputs": [
    {
     "name": "stdout",
     "output_type": "stream",
     "text": [
      "In totaal zijn er 4935 films die een titel hebben.\n",
      "In totaal zijn er 4811 films zonder duplicaten over.\n",
      "In totaal zijn er 3 films met een negatief Budget of Gross.\n",
      "In totaal zijn er 7 films met een budget hoger dan de duurste film ooit.\n",
      "In totaal zijn er 0 films met een hogere omzet dan de meest succesvolle film ooit.\n"
     ]
    },
    {
     "data": {
      "application/javascript": [
       "\n",
       "        setTimeout(function() {\n",
       "            var nbb_cell_id = 6;\n",
       "            var nbb_formatted_code = \"# NaN-types verwijderen uit de titels\\ndf_movies.dropna(inplace=True)\\nprint(f\\\"In totaal zijn er {len(df_movies)} films die een titel hebben.\\\")\\n\\n# Dubbele titels verwijderen\\ndf_movies.sort_values(\\\"Release year\\\", inplace=True)  # Sorteren op uitgavejaar\\ndf_movies.drop_duplicates(\\n    subset=\\\"Movie title\\\", keep=\\\"last\\\", inplace=True\\n)  # Alleen meest recente versie blijft bewaard\\nprint(f\\\"In totaal zijn er {len(df_movies)} films zonder duplicaten over.\\\")\\n\\n# Onrealistische waardes omzetten\\nprint(\\n    f\\\"In totaal zijn er {df_movies[['Budget', 'Gross']].lt(0).sum().sum()} films met een negatief Budget of Gross.\\\"\\n)\\nprint(\\n    f\\\"In totaal zijn er {df_movies[['Budget']].gt(400_000_000).sum().sum()} films met een budget hoger dan de duurste film ooit.\\\"\\n)\\nprint(\\n    f\\\"In totaal zijn er {df_movies[['Budget', 'Gross']].gt(2_800_000_000).sum().sum()} films met een hogere omzet dan de meest succesvolle film ooit.\\\"\\n)\\n\\n# Negatieve waardes omzetten\\nneg = df_movies._get_numeric_data()\\nneg[neg < 0] = 0\\n# Credits: stackoverflow.com/questions/27759084/how-to-replace-negative-numbers-in-pandas-data-frame-by-zero\\n\\n# 'Te dure' films verwijderen\\ndf_movies = df_movies[(df_movies[\\\"Budget\\\"] < 400_000_000)]\\n\\n# Verwijderen films met budget van 0\\ndf_movies = df_movies[(df_movies[[\\\"Budget\\\", \\\"Gross\\\"]] != 0).all(axis=1)]\";\n",
       "            var nbb_cells = Jupyter.notebook.get_cells();\n",
       "            for (var i = 0; i < nbb_cells.length; ++i) {\n",
       "                if (nbb_cells[i].input_prompt_number == nbb_cell_id) {\n",
       "                    nbb_cells[i].set_text(nbb_formatted_code);\n",
       "                    break;\n",
       "                }\n",
       "            }\n",
       "        }, 500);\n",
       "        "
      ],
      "text/plain": [
       "<IPython.core.display.Javascript object>"
      ]
     },
     "metadata": {},
     "output_type": "display_data"
    }
   ],
   "source": [
    "# NaN-types verwijderen uit de titels\n",
    "df_movies.dropna(inplace=True)\n",
    "print(f\"In totaal zijn er {len(df_movies)} films die een titel hebben.\")\n",
    "\n",
    "# Dubbele titels verwijderen\n",
    "df_movies.sort_values(\"Release year\", inplace=True)  # Sorteren op uitgavejaar\n",
    "df_movies.drop_duplicates(subset=\"Movie title\", keep=\"last\", inplace=True)  # Alleen meest recente versie blijft bewaard\n",
    "print(f\"In totaal zijn er {len(df_movies)} films zonder duplicaten over.\")\n",
    "\n",
    "# Onrealistische waardes omzetten\n",
    "print(f\"In totaal zijn er {df_movies[['Budget', 'Gross']].lt(0).sum().sum()} films met een negatief Budget of Gross.\")\n",
    "print(f\"In totaal zijn er {df_movies[['Budget']].gt(400_000_000).sum().sum()} films met een budget hoger dan de duurste film ooit.\")\n",
    "print(f\"In totaal zijn er {df_movies[['Budget', 'Gross']].gt(2_800_000_000).sum().sum()} films met een hogere omzet dan de meest succesvolle film ooit.\")\n",
    "\n",
    "# Negatieve waardes omzetten\n",
    "neg = df_movies._get_numeric_data()\n",
    "neg[neg < 0] = 0\n",
    "# Credits: stackoverflow.com/questions/27759084/how-to-replace-negative-numbers-in-pandas-data-frame-by-zero\n",
    "\n",
    "# 'Te dure' films verwijderen\n",
    "df_movies = df_movies[(df_movies[\"Budget\"] < 400_000_000)]\n",
    "\n",
    "# Verwijderen films met budget van 0\n",
    "df_movies = df_movies[(df_movies[[\"Budget\", \"Gross\"]] != 0).all(axis=1)]"
   ]
  },
  {
   "cell_type": "markdown",
   "metadata": {},
   "source": [
    "Na stap 3. Data Cleaning ziet het DataFrame er als volgt uit:"
   ]
  },
  {
   "cell_type": "code",
   "execution_count": 7,
   "metadata": {
    "pycharm": {
     "is_executing": false,
     "name": "#%%\n"
    }
   },
   "outputs": [
    {
     "data": {
      "text/html": [
       "<div>\n",
       "<style scoped>\n",
       "    .dataframe tbody tr th:only-of-type {\n",
       "        vertical-align: middle;\n",
       "    }\n",
       "\n",
       "    .dataframe tbody tr th {\n",
       "        vertical-align: top;\n",
       "    }\n",
       "\n",
       "    .dataframe thead th {\n",
       "        text-align: right;\n",
       "    }\n",
       "</style>\n",
       "<table border=\"1\" class=\"dataframe\">\n",
       "  <thead>\n",
       "    <tr style=\"text-align: right;\">\n",
       "      <th></th>\n",
       "      <th>Movie title</th>\n",
       "      <th>Budget</th>\n",
       "      <th>Gross</th>\n",
       "      <th>Release year</th>\n",
       "    </tr>\n",
       "  </thead>\n",
       "  <tbody>\n",
       "    <tr>\n",
       "      <th>4958</th>\n",
       "      <td>Over the Hill to the Poorhouse</td>\n",
       "      <td>100000</td>\n",
       "      <td>3000000</td>\n",
       "      <td>1920-01-01</td>\n",
       "    </tr>\n",
       "    <tr>\n",
       "      <th>2734</th>\n",
       "      <td>Metropolis</td>\n",
       "      <td>6000000</td>\n",
       "      <td>26435</td>\n",
       "      <td>1927-01-01</td>\n",
       "    </tr>\n",
       "    <tr>\n",
       "      <th>4812</th>\n",
       "      <td>The Broadway Melody</td>\n",
       "      <td>379000</td>\n",
       "      <td>2808000</td>\n",
       "      <td>1929-01-01</td>\n",
       "    </tr>\n",
       "    <tr>\n",
       "      <th>4786</th>\n",
       "      <td>42nd Street</td>\n",
       "      <td>439000</td>\n",
       "      <td>2300000</td>\n",
       "      <td>1933-01-01</td>\n",
       "    </tr>\n",
       "    <tr>\n",
       "      <th>4706</th>\n",
       "      <td>Top Hat</td>\n",
       "      <td>609000</td>\n",
       "      <td>3000000</td>\n",
       "      <td>1935-01-01</td>\n",
       "    </tr>\n",
       "  </tbody>\n",
       "</table>\n",
       "</div>"
      ],
      "text/plain": [
       "                          Movie title   Budget    Gross Release year\n",
       "4958  Over the Hill to the Poorhouse    100000  3000000   1920-01-01\n",
       "2734                      Metropolis   6000000    26435   1927-01-01\n",
       "4812             The Broadway Melody    379000  2808000   1929-01-01\n",
       "4786                     42nd Street    439000  2300000   1933-01-01\n",
       "4706                         Top Hat    609000  3000000   1935-01-01"
      ]
     },
     "execution_count": 7,
     "metadata": {},
     "output_type": "execute_result"
    },
    {
     "data": {
      "application/javascript": [
       "\n",
       "        setTimeout(function() {\n",
       "            var nbb_cell_id = 7;\n",
       "            var nbb_formatted_code = \"df_movies.head()\";\n",
       "            var nbb_cells = Jupyter.notebook.get_cells();\n",
       "            for (var i = 0; i < nbb_cells.length; ++i) {\n",
       "                if (nbb_cells[i].input_prompt_number == nbb_cell_id) {\n",
       "                    nbb_cells[i].set_text(nbb_formatted_code);\n",
       "                    break;\n",
       "                }\n",
       "            }\n",
       "        }, 500);\n",
       "        "
      ],
      "text/plain": [
       "<IPython.core.display.Javascript object>"
      ]
     },
     "metadata": {},
     "output_type": "display_data"
    }
   ],
   "source": [
    "df_movies.head()"
   ]
  },
  {
   "cell_type": "markdown",
   "metadata": {},
   "source": [
    "Het DataFrame is nu volledig opgeschoond en klaar voor de volgende stap.\n",
    "  \n",
    "NaN-types kunnen niet worden opgeslagen in kolommen met het datatype `int32`*.\n",
    "Als oplossing werden onder andere de onrealistische waardes opgeslagen als `0` om \n",
    "later te kunnen worden verwijderd uit het DataFrame.  \n",
    "*Bron: pandas.pydata.org/pandas-docs/stable/user_guide/integer_na.html\n",
    "\n",
    "Het omzetten van alle onrealistische waardes van `Budget` en `Gross` worden vervolgens omgezet naar `0`.\n",
    "Onrealistische waardes van `Budget` en `Gross` zijn onder andere de\n",
    "negatieve waardes. Andere onrealistische waardes zijn films met een `Budget` en/of `Gross` van meer dan\n",
    "2.8 miljard. Er is immers nog nooit een film* geweest die meer dan 2.8 miljard opbracht.\n",
    "Verder werden alle films met een `Budget` van meer dan 400 miljoen gedropped, de duurste film ooit\n",
    "kostte niet meer dan 400 miljoen. Door deze stap worden ook enkele extreme outliers gefilterd uit\n",
    "de data wat de visualisatie ten goede komt.  \n",
    "Zodra de onrealistische waardes omgezet zijn naar `0` worden deze uit de dataset verwijderd.  \n",
    "*Bron: nl.wikipedia.org/wiki/Lijst_van_succesvolste_films \n",
    "\n",
    "Door het DataFrame te sorteren op `Release year` en vervolgens de laatste waarde te behouden, wordt\n",
    "de meest recente uitgave van een film bewaard. Te zien is dat maar liefst $(4935-4811=)$ 124 films dubbel\n",
    "in de dataset voorkwamen.\n",
    "\n",
    "\n",
    "## 4. Data Exploration & Analysis\n",
    "\n",
    "Nu de data is geprepareerd, kan begonnen worden aan de eerste verkenning. Door middel van\n",
    "describe krijgen we in één oogopslag een duidelijk beeld van het DataFrame."
   ]
  },
  {
   "cell_type": "code",
   "execution_count": 8,
   "metadata": {
    "pycharm": {
     "is_executing": false,
     "name": "#%%\n"
    }
   },
   "outputs": [
    {
     "data": {
      "text/html": [
       "<div>\n",
       "<style scoped>\n",
       "    .dataframe tbody tr th:only-of-type {\n",
       "        vertical-align: middle;\n",
       "    }\n",
       "\n",
       "    .dataframe tbody tr th {\n",
       "        vertical-align: top;\n",
       "    }\n",
       "\n",
       "    .dataframe thead th {\n",
       "        text-align: right;\n",
       "    }\n",
       "</style>\n",
       "<table border=\"1\" class=\"dataframe\">\n",
       "  <thead>\n",
       "    <tr style=\"text-align: right;\">\n",
       "      <th></th>\n",
       "      <th>Movie title</th>\n",
       "      <th>Budget</th>\n",
       "      <th>Gross</th>\n",
       "      <th>Release year</th>\n",
       "    </tr>\n",
       "  </thead>\n",
       "  <tbody>\n",
       "    <tr>\n",
       "      <th>count</th>\n",
       "      <td>3778</td>\n",
       "      <td>3.778000e+03</td>\n",
       "      <td>3.778000e+03</td>\n",
       "      <td>3778</td>\n",
       "    </tr>\n",
       "    <tr>\n",
       "      <th>unique</th>\n",
       "      <td>3778</td>\n",
       "      <td>NaN</td>\n",
       "      <td>NaN</td>\n",
       "      <td>75</td>\n",
       "    </tr>\n",
       "    <tr>\n",
       "      <th>top</th>\n",
       "      <td>A Fistful of Dollars</td>\n",
       "      <td>NaN</td>\n",
       "      <td>NaN</td>\n",
       "      <td>2002-01-01 00:00:00</td>\n",
       "    </tr>\n",
       "    <tr>\n",
       "      <th>freq</th>\n",
       "      <td>1</td>\n",
       "      <td>NaN</td>\n",
       "      <td>NaN</td>\n",
       "      <td>189</td>\n",
       "    </tr>\n",
       "    <tr>\n",
       "      <th>first</th>\n",
       "      <td>NaN</td>\n",
       "      <td>NaN</td>\n",
       "      <td>NaN</td>\n",
       "      <td>1920-01-01 00:00:00</td>\n",
       "    </tr>\n",
       "    <tr>\n",
       "      <th>last</th>\n",
       "      <td>NaN</td>\n",
       "      <td>NaN</td>\n",
       "      <td>NaN</td>\n",
       "      <td>2016-01-01 00:00:00</td>\n",
       "    </tr>\n",
       "    <tr>\n",
       "      <th>mean</th>\n",
       "      <td>NaN</td>\n",
       "      <td>3.732310e+07</td>\n",
       "      <td>5.034546e+07</td>\n",
       "      <td>NaN</td>\n",
       "    </tr>\n",
       "    <tr>\n",
       "      <th>std</th>\n",
       "      <td>NaN</td>\n",
       "      <td>4.262054e+07</td>\n",
       "      <td>6.877526e+07</td>\n",
       "      <td>NaN</td>\n",
       "    </tr>\n",
       "    <tr>\n",
       "      <th>min</th>\n",
       "      <td>NaN</td>\n",
       "      <td>2.180000e+02</td>\n",
       "      <td>1.620000e+02</td>\n",
       "      <td>NaN</td>\n",
       "    </tr>\n",
       "    <tr>\n",
       "      <th>25%</th>\n",
       "      <td>NaN</td>\n",
       "      <td>9.500000e+06</td>\n",
       "      <td>6.632058e+06</td>\n",
       "      <td>NaN</td>\n",
       "    </tr>\n",
       "    <tr>\n",
       "      <th>50%</th>\n",
       "      <td>NaN</td>\n",
       "      <td>2.355000e+07</td>\n",
       "      <td>2.734706e+07</td>\n",
       "      <td>NaN</td>\n",
       "    </tr>\n",
       "    <tr>\n",
       "      <th>75%</th>\n",
       "      <td>NaN</td>\n",
       "      <td>5.000000e+07</td>\n",
       "      <td>6.500528e+07</td>\n",
       "      <td>NaN</td>\n",
       "    </tr>\n",
       "    <tr>\n",
       "      <th>max</th>\n",
       "      <td>NaN</td>\n",
       "      <td>3.900000e+08</td>\n",
       "      <td>7.605058e+08</td>\n",
       "      <td>NaN</td>\n",
       "    </tr>\n",
       "  </tbody>\n",
       "</table>\n",
       "</div>"
      ],
      "text/plain": [
       "                  Movie title        Budget         Gross         Release year\n",
       "count                    3778  3.778000e+03  3.778000e+03                 3778\n",
       "unique                   3778           NaN           NaN                   75\n",
       "top     A Fistful of Dollars            NaN           NaN  2002-01-01 00:00:00\n",
       "freq                        1           NaN           NaN                  189\n",
       "first                     NaN           NaN           NaN  1920-01-01 00:00:00\n",
       "last                      NaN           NaN           NaN  2016-01-01 00:00:00\n",
       "mean                      NaN  3.732310e+07  5.034546e+07                  NaN\n",
       "std                       NaN  4.262054e+07  6.877526e+07                  NaN\n",
       "min                       NaN  2.180000e+02  1.620000e+02                  NaN\n",
       "25%                       NaN  9.500000e+06  6.632058e+06                  NaN\n",
       "50%                       NaN  2.355000e+07  2.734706e+07                  NaN\n",
       "75%                       NaN  5.000000e+07  6.500528e+07                  NaN\n",
       "max                       NaN  3.900000e+08  7.605058e+08                  NaN"
      ]
     },
     "execution_count": 8,
     "metadata": {},
     "output_type": "execute_result"
    },
    {
     "data": {
      "application/javascript": [
       "\n",
       "        setTimeout(function() {\n",
       "            var nbb_cell_id = 8;\n",
       "            var nbb_formatted_code = \"df_movies.describe(include=\\\"all\\\")\";\n",
       "            var nbb_cells = Jupyter.notebook.get_cells();\n",
       "            for (var i = 0; i < nbb_cells.length; ++i) {\n",
       "                if (nbb_cells[i].input_prompt_number == nbb_cell_id) {\n",
       "                    nbb_cells[i].set_text(nbb_formatted_code);\n",
       "                    break;\n",
       "                }\n",
       "            }\n",
       "        }, 500);\n",
       "        "
      ],
      "text/plain": [
       "<IPython.core.display.Javascript object>"
      ]
     },
     "metadata": {},
     "output_type": "display_data"
    }
   ],
   "source": [
    "df_movies.describe(include=\"all\")"
   ]
  },
  {
   "cell_type": "markdown",
   "metadata": {},
   "source": [
    "Enkele verwachtingen:\n",
    "1. Het meerendeel van de films zal winst maken\n",
    "2. Nieuwere films zullen relatief meer winst maken dan oudere films\n",
    "3. Het budget van relatief oudere films zal lager zijn dan dat van relatief nieuwe films \n",
    "\n",
    "Enkele eerste observaties:\n",
    "- Het DataFrame bevat nog 3778 (74.9%) van de originele 5043 rijen \n",
    "- `Movie title` bevat zoals beoogd alleen maar nog unieke waardes.\n",
    "- Gemiddeld brengt een film 50 miljoen op en is er een budget van 37 miljoen. Echter heeft\n",
    " het budget een standaard deviatie van 43 miljoen en de omzet een standaard deviatie van 69 miljoen.\n",
    "- Het `Release year` 2002 komt met 189x het vaakst voor\n",
    "- Het DataFrame bevat films die uitgegeven zijn tussen 1920 en 2016. Een interval van bijna 100 jaar.\n",
    "\n",
    "\n",
    "In de volgende scatterplot zijn het budget en de omzet van films geplot.\n",
    "Dit geeft een eerste beeld van de spreiding van de data en de relatie tussen het budget en de omzet.\n",
    "Er wordt een sample van 350 (+- 10%) stuks genomen om de data beter te visualiseren.\n"
   ]
  },
  {
   "cell_type": "code",
   "execution_count": 9,
   "metadata": {
    "pycharm": {
     "is_executing": false,
     "name": "#%%\n"
    }
   },
   "outputs": [
    {
     "data": {
      "image/png": "[encoded data removed]",
      "text/plain": [
       "<Figure size 432x288 with 1 Axes>"
      ]
     },
     "metadata": {
      "needs_background": "light"
     },
     "output_type": "display_data"
    },
    {
     "data": {
      "application/javascript": [
       "\n",
       "        setTimeout(function() {\n",
       "            var nbb_cell_id = 9;\n",
       "            var nbb_formatted_code = \"df_movies_sample = df_movies.sample(350, random_state=42)\\nsns.scatterplot(\\\"Budget\\\", \\\"Gross\\\", data=df_movies_sample)\\nplt.axis(\\\"square\\\")  # X- en Y-as dezelfde verhouding geven\\nplt.show()\";\n",
       "            var nbb_cells = Jupyter.notebook.get_cells();\n",
       "            for (var i = 0; i < nbb_cells.length; ++i) {\n",
       "                if (nbb_cells[i].input_prompt_number == nbb_cell_id) {\n",
       "                    nbb_cells[i].set_text(nbb_formatted_code);\n",
       "                    break;\n",
       "                }\n",
       "            }\n",
       "        }, 500);\n",
       "        "
      ],
      "text/plain": [
       "<IPython.core.display.Javascript object>"
      ]
     },
     "metadata": {},
     "output_type": "display_data"
    }
   ],
   "source": [
    "df_movies_sample = df_movies.sample(350, random_state=42)\n",
    "sns.scatterplot(\"Budget\", \"Gross\", data=df_movies_sample)\n",
    "plt.axis(\"square\")  # X- en Y-as dezelfde verhouding geven\n",
    "plt.show()"
   ]
  },
  {
   "cell_type": "markdown",
   "metadata": {},
   "source": [
    "Een mogelijke functie om, in plaats van een selectie, alle films te analyseren is `jointplot`.\n",
    "Jointplots geven op een snelle manier de verspreiding maar vooral dichtheid van punten weer.\n",
    "Er is goed te zien dat de meeste films onder een budget van één miljoen blijven en \n",
    "dat veruit de meeste films onder een omzet van twee miljoen blijven.\n",
    "Er valt zelfs al een kleine positieve correlatie te spotten.\n",
    "\n",
    "Om de plot overzichtelijk te houden is gekozen om de dichtheid weer te geven.\n",
    "Het grote aantal films kan, zoals we hierboven al zagen, tot een onoverzichtelijke plot leiden.\n",
    "Credits: seaborn.pydata.org/generated/seaborn.jointplot.html"
   ]
  },
  {
   "cell_type": "code",
   "execution_count": 10,
   "metadata": {
    "pycharm": {
     "is_executing": false,
     "name": "#%%\n"
    }
   },
   "outputs": [
    {
     "data": {
      "image/png": "[encoded data removed]",
      "text/plain": [
       "<Figure size 432x432 with 3 Axes>"
      ]
     },
     "metadata": {
      "needs_background": "light"
     },
     "output_type": "display_data"
    },
    {
     "data": {
      "application/javascript": [
       "\n",
       "        setTimeout(function() {\n",
       "            var nbb_cell_id = 10;\n",
       "            var nbb_formatted_code = \"sns.jointplot(\\\"Budget\\\", \\\"Gross\\\", data=df_movies, kind=\\\"kde\\\", space=0)\\nplt.show()\";\n",
       "            var nbb_cells = Jupyter.notebook.get_cells();\n",
       "            for (var i = 0; i < nbb_cells.length; ++i) {\n",
       "                if (nbb_cells[i].input_prompt_number == nbb_cell_id) {\n",
       "                    nbb_cells[i].set_text(nbb_formatted_code);\n",
       "                    break;\n",
       "                }\n",
       "            }\n",
       "        }, 500);\n",
       "        "
      ],
      "text/plain": [
       "<IPython.core.display.Javascript object>"
      ]
     },
     "metadata": {},
     "output_type": "display_data"
    }
   ],
   "source": [
    "sns.jointplot(\"Budget\", \"Gross\", data=df_movies, kind=\"kde\", space=0)\n",
    "plt.show()"
   ]
  },
  {
   "cell_type": "markdown",
   "metadata": {},
   "source": [
    "In de vorige jointplot waren individuele outliers niet te zien.\n",
    "Boxplots zijn uitermate geschikt om deze wel weer te geven.\n",
    "\n",
    "De omzet van films is veel verspreider dan het budget van films. Tevens zijn\n",
    "er bij de omzet veel meer extreme outliers te zien.\n",
    "Door het grote aantal uitschieters kunnen zelfs boxplots heel onoverzichtelijk worden."
   ]
  },
  {
   "cell_type": "code",
   "execution_count": 11,
   "metadata": {
    "pycharm": {
     "is_executing": false,
     "name": "#%%\n"
    }
   },
   "outputs": [
    {
     "data": {
      "text/plain": [
       "<matplotlib.axes._subplots.AxesSubplot at 0x1da31ad5a20>"
      ]
     },
     "execution_count": 11,
     "metadata": {},
     "output_type": "execute_result"
    },
    {
     "data": {
      "image/png": "[encoded data removed]",
      "text/plain": [
       "<Figure size 432x288 with 1 Axes>"
      ]
     },
     "metadata": {
      "needs_background": "light"
     },
     "output_type": "display_data"
    },
    {
     "data": {
      "application/javascript": [
       "\n",
       "        setTimeout(function() {\n",
       "            var nbb_cell_id = 11;\n",
       "            var nbb_formatted_code = \"df_movies.boxplot(grid=False)\";\n",
       "            var nbb_cells = Jupyter.notebook.get_cells();\n",
       "            for (var i = 0; i < nbb_cells.length; ++i) {\n",
       "                if (nbb_cells[i].input_prompt_number == nbb_cell_id) {\n",
       "                    nbb_cells[i].set_text(nbb_formatted_code);\n",
       "                    break;\n",
       "                }\n",
       "            }\n",
       "        }, 500);\n",
       "        "
      ],
      "text/plain": [
       "<IPython.core.display.Javascript object>"
      ]
     },
     "metadata": {},
     "output_type": "display_data"
    }
   ],
   "source": [
    "df_movies.boxplot(grid=False)"
   ]
  },
  {
   "cell_type": "markdown",
   "metadata": {
    "pycharm": {
     "name": "#%% md\n"
    }
   },
   "source": [
    "Een laatste poging om ook de outliers in kaart te brengen wordt gedaan door twee\n",
    "histogrammen te plotten. Bovenop de histogrammen worden streepjes getekend. Ieder streepje is een\n",
    "film. De outliers zijn nu zichtbaar geworden. Direct valt te zien dat het budget\n",
    "twee extreme uitschieters heeft bij drie en resp. vier miljoen.\n",
    "Gross heeft uitschieters die door gaan tot zo'n ongeveer 8 miljoen.\n",
    "\n",
    "Ook hier wordt weer duidelijk dat het meerendeel van de films het budget onder de één miljoen houdt\n",
    "en de opbrengst vooral onder de twee miljoen blijft."
   ]
  },
  {
   "cell_type": "code",
   "execution_count": 12,
   "metadata": {
    "pycharm": {
     "is_executing": false,
     "name": "#%%\n"
    }
   },
   "outputs": [
    {
     "data": {
      "text/plain": [
       "<matplotlib.axes._subplots.AxesSubplot at 0x1da31b76438>"
      ]
     },
     "execution_count": 12,
     "metadata": {},
     "output_type": "execute_result"
    },
    {
     "data": {
      "image/png": "[encoded data removed]",
      "text/plain": [
       "<Figure size 432x288 with 2 Axes>"
      ]
     },
     "metadata": {
      "needs_background": "light"
     },
     "output_type": "display_data"
    },
    {
     "data": {
      "application/javascript": [
       "\n",
       "        setTimeout(function() {\n",
       "            var nbb_cell_id = 12;\n",
       "            var nbb_formatted_code = \"plot, axes = plt.subplots(1, 2)\\nsns.distplot(df_movies[\\\"Budget\\\"], rug=True, kde=False, ax=axes[0])\\nsns.distplot(df_movies[\\\"Gross\\\"], rug=True, kde=False, ax=axes[1], color=\\\"r\\\")\";\n",
       "            var nbb_cells = Jupyter.notebook.get_cells();\n",
       "            for (var i = 0; i < nbb_cells.length; ++i) {\n",
       "                if (nbb_cells[i].input_prompt_number == nbb_cell_id) {\n",
       "                    nbb_cells[i].set_text(nbb_formatted_code);\n",
       "                    break;\n",
       "                }\n",
       "            }\n",
       "        }, 500);\n",
       "        "
      ],
      "text/plain": [
       "<IPython.core.display.Javascript object>"
      ]
     },
     "metadata": {},
     "output_type": "display_data"
    }
   ],
   "source": [
    "plot, axes = plt.subplots(1, 2)\n",
    "sns.distplot(df_movies[\"Budget\"], rug=True, kde=False, ax=axes[0])\n",
    "sns.distplot(df_movies[\"Gross\"], rug=True, kde=False, ax=axes[1], color=\"r\")"
   ]
  },
  {
   "cell_type": "markdown",
   "metadata": {
    "pycharm": {
     "name": "#%% md\n"
    }
   },
   "source": [
    "Pandas heeft een hele handige methode ingebouwd voor DataFrames. Deze methode berekend direct de\n",
    "correlatie tussen iedere combinatie van twee variabelen. Standaard wordt de correlatie\n",
    "door middel van Pearsons correlatiecoëfficiënt berekend.\n",
    "\n",
    "Volgens Pearsons correlatiecoëfficiënt blijkt dat er een correlatie van 0.63 is tussen Budget en\n",
    "Gross."
   ]
  },
  {
   "cell_type": "code",
   "execution_count": 13,
   "metadata": {
    "pycharm": {
     "is_executing": false,
     "name": "#%%\n"
    }
   },
   "outputs": [
    {
     "data": {
      "text/html": [
       "<div>\n",
       "<style scoped>\n",
       "    .dataframe tbody tr th:only-of-type {\n",
       "        vertical-align: middle;\n",
       "    }\n",
       "\n",
       "    .dataframe tbody tr th {\n",
       "        vertical-align: top;\n",
       "    }\n",
       "\n",
       "    .dataframe thead th {\n",
       "        text-align: right;\n",
       "    }\n",
       "</style>\n",
       "<table border=\"1\" class=\"dataframe\">\n",
       "  <thead>\n",
       "    <tr style=\"text-align: right;\">\n",
       "      <th></th>\n",
       "      <th>Budget</th>\n",
       "      <th>Gross</th>\n",
       "    </tr>\n",
       "  </thead>\n",
       "  <tbody>\n",
       "    <tr>\n",
       "      <th>Budget</th>\n",
       "      <td>1.000000</td>\n",
       "      <td>0.634172</td>\n",
       "    </tr>\n",
       "    <tr>\n",
       "      <th>Gross</th>\n",
       "      <td>0.634172</td>\n",
       "      <td>1.000000</td>\n",
       "    </tr>\n",
       "  </tbody>\n",
       "</table>\n",
       "</div>"
      ],
      "text/plain": [
       "          Budget     Gross\n",
       "Budget  1.000000  0.634172\n",
       "Gross   0.634172  1.000000"
      ]
     },
     "execution_count": 13,
     "metadata": {},
     "output_type": "execute_result"
    },
    {
     "data": {
      "application/javascript": [
       "\n",
       "        setTimeout(function() {\n",
       "            var nbb_cell_id = 13;\n",
       "            var nbb_formatted_code = \"df_movies.corr()\";\n",
       "            var nbb_cells = Jupyter.notebook.get_cells();\n",
       "            for (var i = 0; i < nbb_cells.length; ++i) {\n",
       "                if (nbb_cells[i].input_prompt_number == nbb_cell_id) {\n",
       "                    nbb_cells[i].set_text(nbb_formatted_code);\n",
       "                    break;\n",
       "                }\n",
       "            }\n",
       "        }, 500);\n",
       "        "
      ],
      "text/plain": [
       "<IPython.core.display.Javascript object>"
      ]
     },
     "metadata": {},
     "output_type": "display_data"
    }
   ],
   "source": [
    "df_movies.corr()"
   ]
  },
  {
   "cell_type": "markdown",
   "metadata": {
    "pycharm": {
     "is_executing": false,
     "name": "#%% md\n"
    }
   },
   "source": [
    "## 5. Model Building"
   ]
  },
  {
   "cell_type": "code",
   "execution_count": 14,
   "metadata": {},
   "outputs": [
    {
     "name": "stdout",
     "output_type": "stream",
     "text": [
      "Aantal trainwaarden:  2833\n",
      "Aantal testwaarden:    945\n",
      "\n",
      "Formule van de lijn:\n",
      "Y = 1.0448 * X + 10926140.9081\n",
      "\n",
      "Trainset accuracy: 0.9079885883536717\n",
      "Testset accuracy: 0.33851807538368683\n",
      "\n",
      "Mean Squared Error: 3135283465278330.5\n",
      "Root Mean Squared Error: 55993602.00307112\n",
      "\n",
      "Variance: 0.3684409458297049\n",
      "R2 score: 0.3684409458297049\n"
     ]
    },
    {
     "data": {
      "application/javascript": [
       "\n",
       "        setTimeout(function() {\n",
       "            var nbb_cell_id = 14;\n",
       "            var nbb_formatted_code = \"X = df_movies[[\\\"Budget\\\"]]\\ny = df_movies[\\\"Gross\\\"]\\n\\nX_train, X_test, y_train, y_test = train_test_split(X, y, random_state=42)\\nprint(f\\\"Aantal trainwaarden: {len(X_train):5}\\\")\\nprint(f\\\"Aantal testwaarden: {len(y_test):6}\\\\n\\\")\\n\\nlinReg = LinearRegression().fit(X_train, y_train)\\nprint(\\n    f\\\"Formule van de lijn:\\\\nY = {linReg.coef_[0]:.4f} * X + {linReg.intercept_:.4f}\\\\n\\\"\\n)  # B is groot\\n\\nprint(f\\\"Trainset accuracy: {linReg.score(X_train, X_train)}\\\")\\n\\ny_pred = linReg.predict(X_test).reshape(-1, 1)  # Werkt\\nprint(f\\\"Testset accuracy: {linReg.score(y_pred, y_test)}\\\\n\\\")  # Werkt\\n\\nprint(f\\\"Mean Squared Error: {mean_squared_error(y_test, y_pred)}\\\")  # Werkt\\nprint(\\n    f\\\"Root Mean Squared Error: {np.sqrt(mean_squared_error(y_test, y_pred))}\\\\n\\\"\\n)  # Werkt\\n\\nprint(f\\\"Variance: {linReg.score(X_test, y_test)}\\\")\\nprint(f\\\"R2 score: {r2_score(y_test, y_pred)}\\\")  # Werkt\\n\\n\\n# print(f\\\"Accuracy: {linReg.score(X_test, y_test)}\\\")\\n# print(linReg.predict(np.array([[3, 5]]))\";\n",
       "            var nbb_cells = Jupyter.notebook.get_cells();\n",
       "            for (var i = 0; i < nbb_cells.length; ++i) {\n",
       "                if (nbb_cells[i].input_prompt_number == nbb_cell_id) {\n",
       "                    nbb_cells[i].set_text(nbb_formatted_code);\n",
       "                    break;\n",
       "                }\n",
       "            }\n",
       "        }, 500);\n",
       "        "
      ],
      "text/plain": [
       "<IPython.core.display.Javascript object>"
      ]
     },
     "metadata": {},
     "output_type": "display_data"
    }
   ],
   "source": [
    "X = df_movies[[\"Budget\"]]\n",
    "y = df_movies[\"Gross\"]\n",
    "\n",
    "X_train, X_test, y_train, y_test = train_test_split(X, y, random_state=42)\n",
    "print(f\"Aantal trainwaarden: {len(X_train):5}\")\n",
    "print(f\"Aantal testwaarden: {len(y_test):6}\\n\")\n",
    "\n",
    "linReg = LinearRegression().fit(X_train, y_train)\n",
    "print(f\"Formule van de lijn:\\nY = {linReg.coef_[0]:.4f} * X + {linReg.intercept_:.4f}\\n\")  # B is groot\n",
    "\n",
    "print(f\"Trainset accuracy: {linReg.score(X_train, X_train)}\")\n",
    "\n",
    "y_pred = linReg.predict(X_test).reshape(-1, 1)  # Werkt\n",
    "print(f\"Testset accuracy: {linReg.score(y_pred, y_test)}\\n\")  # Werkt\n",
    "\n",
    "print(f\"Mean Squared Error: {mean_squared_error(y_test, y_pred)}\")  # Werkt\n",
    "print(f\"Root Mean Squared Error: {np.sqrt(mean_squared_error(y_test, y_pred))}\\n\")  # Werkt\n",
    "\n",
    "print(f\"Variance: {linReg.score(X_test, y_test)}\")\n",
    "print(f\"R2 score: {r2_score(y_test, y_pred)}\")  # Werkt\n",
    "\n",
    "\n",
    "# print(f\"Accuracy: {linReg.score(X_test, y_test)}\")\n",
    "# print(linReg.predict(np.array([[3, 5]]))"
   ]
  },
  {
   "cell_type": "code",
   "execution_count": 15,
   "metadata": {},
   "outputs": [
    {
     "data": {
      "image/png": "[encoded data removed]",
      "text/plain": [
       "<Figure size 432x288 with 1 Axes>"
      ]
     },
     "metadata": {
      "needs_background": "light"
     },
     "output_type": "display_data"
    },
    {
     "data": {
      "application/javascript": [
       "\n",
       "        setTimeout(function() {\n",
       "            var nbb_cell_id = 15;\n",
       "            var nbb_formatted_code = \"sns.scatterplot(X_test[\\\"Budget\\\"], y_test)\\nplt.plot(X_test, y_pred, color=\\\"red\\\")\\nplt.show()\";\n",
       "            var nbb_cells = Jupyter.notebook.get_cells();\n",
       "            for (var i = 0; i < nbb_cells.length; ++i) {\n",
       "                if (nbb_cells[i].input_prompt_number == nbb_cell_id) {\n",
       "                    nbb_cells[i].set_text(nbb_formatted_code);\n",
       "                    break;\n",
       "                }\n",
       "            }\n",
       "        }, 500);\n",
       "        "
      ],
      "text/plain": [
       "<IPython.core.display.Javascript object>"
      ]
     },
     "metadata": {},
     "output_type": "display_data"
    }
   ],
   "source": [
    "sns.scatterplot(X_test[\"Budget\"], y_test)\n",
    "plt.plot(X_test, y_pred, color=\"red\")\n",
    "plt.show()"
   ]
  },
  {
   "cell_type": "code",
   "execution_count": null,
   "metadata": {},
   "outputs": [],
   "source": []
  },
  {
   "cell_type": "code",
   "execution_count": null,
   "metadata": {},
   "outputs": [],
   "source": []
  },
  {
   "cell_type": "code",
   "execution_count": null,
   "metadata": {},
   "outputs": [],
   "source": []
  }
 ],
 "metadata": {
  "celltoolbar": "Slideshow",
  "kernelspec": {
   "display_name": "Python 3",
   "language": "python",
   "name": "python3"
  },
  "language_info": {
   "codemirror_mode": {
    "name": "ipython",
    "version": 3
   },
   "file_extension": ".py",
   "mimetype": "text/x-python",
   "name": "python",
   "nbconvert_exporter": "python",
   "pygments_lexer": "ipython3",
   "version": "3.7.3"
  },
  "pycharm": {
   "stem_cell": {
    "cell_type": "raw",
    "metadata": {
     "collapsed": false
    },
    "source": []
   }
  }
 },
 "nbformat": 4,
 "nbformat_minor": 1
}
