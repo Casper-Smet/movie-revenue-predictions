{
 "cells": [
  {
   "cell_type": "code",
   "execution_count": 1,
   "outputs": [],
   "source": [
    "import matplotlib.pyplot as plt\n",
    "import numpy as np\n",
    "import pandas as pd\n",
    "import seaborn as sns\n",
    "\n",
    "#TODO: kolommen van int omzetten naar \"Int64\" zodat np.NaN kan worden opgeslagen ipv 0 als placeholder\n",
    "#TODO: NaN-types als laatste verwijderen na alle cleanup"
   ],
   "metadata": {
    "collapsed": false,
    "pycharm": {
     "name": "#%%\n",
     "is_executing": false
    }
   }
  },
  {
   "cell_type": "markdown",
   "source": [
    "# In hoeverre is het mogelijk om de budget-winst verhouding te voorspellen?\n",
    "Ook voor deze onderzoeksvraag zullen de zeven stappen van het Data Science-proces worden toegepast. \n",
    "Stappen 1, 2 en 3 zullen in grote maten hetzelfde zijn als bij de overige twee onderzoeksvragen.\n",
    "### Het Data Science-proces\n",
    "1. Data collection\n",
    "2. Data processing (ook wel data munging)\n",
    "3. Data cleaning\n",
    "4. Data exploration & analysis\n",
    "5. Model building\n",
    "6. Visualization\n",
    "7. Communication\n",
    "\n",
    "## 1. Data Collection\n",
    "Voor het beantwoorden van deze onderzoeksvraag zal alleen gebruik worden gemaakt van `movie.csv`.\n",
    "Om te zien of de dataset `movie.csv` goed is ingeladen, worden de eerste vijf rijen getoond:"
   ],
   "metadata": {
    "collapsed": false
   }
  },
  {
   "cell_type": "code",
   "execution_count": 2,
   "outputs": [],
   "source": [
    "df_movies = pd.read_csv('../../data/movie.csv')\n",
    "print(f\"In totaal zijn er {len(df_movies)} films.\\n\")\n",
    "df_movies.head()"
   ],
   "metadata": {
    "collapsed": false,
    "pycharm": {
     "name": "#%%\n",
     "is_executing": false
    }
   }
  },
  {
   "cell_type": "markdown",
   "source": [
    "Te zien is dat de data goed wordt ingelezen en de waardes in de juiste kolommen komen te staan.\n",
    "Verder zijn er al NaN-waardes te zien en staan veel gegevens opgeslagen als floats.\n",
    "\n",
    "## 2. Data Processing\n",
    "Ook deze stap is grotendeels voor ons gedaan. De data is goed opgeslagen in een `.csv`-bestand\n",
    "en kan direct worden opgeslagen als een _Pandas_ DataFrame.\n",
    "\n",
    "Verder rest ons nog de volgende drie stappen:\n",
    "1. Het selecteren van de gewenste kolommen\n",
    "2. Het aanpassen van onduidelijke kolomnamen\n",
    "3. Het aanpassen van de datatypen"
   ],
   "metadata": {
    "collapsed": false,
    "pycharm": {
     "name": "#%% md\n"
    }
   }
  },
  {
   "cell_type": "code",
   "execution_count": 3,
   "outputs": [],
   "source": [
    "# Selecteren gewenste kolommen\n",
    "df_movies = df_movies[[\"movie_title\", \"budget\", \"gross\", \"title_year\"]]\n",
    "\n",
    "#Onduidelijke kolomnamen aanpassen\n",
    "df_movies.rename(columns={'movie_title': 'Movie title',\n",
    "                          'budget': 'Budget',\n",
    "                          'gross': 'Gross',\n",
    "                          'title_year': 'Release year'}, inplace=True)\n",
    "\n",
    "# Datatypen aanpassen: Floats naar integers omzetten\n",
    "df_movies.fillna(0, inplace=True)\n",
    "df_movies = df_movies.astype({\"Budget\": int, \"Gross\": int})\n",
    "\n",
    "\n",
    "# Datatypes aanpassen: De kolom `Release year` omzettten van integers naar het datetime-datatype\n",
    "df_movies[\"Release year\"] = pd.to_datetime(df_movies[\"Release year\"], format='%Y', errors='coerce')\n",
    "\n",
    "df_movies.dtypes"
   ],
   "metadata": {
    "collapsed": false,
    "pycharm": {
     "name": "#%% \n",
     "is_executing": false
    }
   }
  },
  {
   "cell_type": "markdown",
   "source": [
    "Het DataFrame `df_movies` ziet er nu als volgt uit:"
   ],
   "metadata": {
    "collapsed": false
   }
  },
  {
   "cell_type": "code",
   "execution_count": 4,
   "outputs": [],
   "source": [
    "df_movies.head()"
   ],
   "metadata": {
    "collapsed": false,
    "pycharm": {
     "name": "#%% \n",
     "is_executing": false
    }
   }
  },
  {
   "cell_type": "markdown",
   "source": [
    "Alle kolommen van het DataFrame hebben nu het juiste datatype.\n",
    "`Budget` en `Gross` bestaan uit integers en `Release year` bestaat uit het `datetime` datatype.\n",
    "Echter zijn er nog wel 0-waardes en NaT-waardes zichtbaar. Deze rijen dienen tijdens stap 3. Data\n",
    "Cleaning nog te worden opgeschoont.\n",
    "\n",
    "## 3. Data Cleaning\n",
    "1. Het verwijderen van NaN-types\n",
    "2. Het verwijderen van dubbele `Movie titles`\n",
    "3. Het omzetten van onrealistische waardes naar 0\n",
    "4. Het verwijderen van rijen met een budget van 0"
   ],
   "metadata": {
    "collapsed": false
   }
  },
  {
   "cell_type": "code",
   "execution_count": 5,
   "outputs": [],
   "source": [
    "# NaN-types verwijderen uit de titels\n",
    "df_movies.dropna(inplace=True)\n",
    "print(f\"In totaal zijn er {len(df_movies)} films die een titel hebben.\")\n",
    "\n",
    "# Dubbele titels verwijderen\n",
    "df_movies.sort_values(\"Release year\", inplace=True)  # Sorteren op uitgavejaar\n",
    "df_movies.drop_duplicates(subset=\"Movie title\", keep=\"last\", inplace=True)  # Alleen meest recente versie blijft bewaard\n",
    "print(f\"In totaal zijn er {len(df_movies)} films zonder duplicaten over.\")\n",
    "\n",
    "# Onrealistische waardes omzetten\n",
    "print(f\"In totaal zijn er {df_movies[['Budget', 'Gross']].lt(0).sum().sum()} films met een negatief Budget of Gross.\")\n",
    "print(f\"In totaal zijn er {df_movies[['Budget']].gt(400_000_000).sum().sum()} films met een budget hoger dan de duurste film ooit.\")\n",
    "print(f\"In totaal zijn er {df_movies[['Budget', 'Gross']].gt(2_800_000_000).sum().sum()} films met een hogere omzet dan de meest succesvolle film ooit.\")\n",
    "\n",
    "# Negatieve waardes omzetten\n",
    "neg = df_movies._get_numeric_data()\n",
    "neg[neg < 0] = 0\n",
    "# Credits: stackoverflow.com/questions/27759084/how-to-replace-negative-numbers-in-pandas-data-frame-by-zero\n",
    "\n",
    "# 'Te dure' films verwijderen\n",
    "df_movies = df_movies[(df_movies['Budget'] < 400_000_000)]\n",
    "\n",
    "# Verwijderen films met budget van 0\n",
    "df_movies = df_movies[(df_movies[['Budget', 'Gross']] != 0).all(axis=1)]"
   ],
   "metadata": {
    "collapsed": false,
    "pycharm": {
     "name": "#%%\n",
     "is_executing": false
    }
   }
  },
  {
   "cell_type": "markdown",
   "source": [
    "Na stap 3. Data Cleaning ziet het DataFrame er als volgt uit:"
   ],
   "metadata": {
    "collapsed": false
   }
  },
  {
   "cell_type": "code",
   "execution_count": 6,
   "outputs": [],
   "source": [
    "df_movies.head()"
   ],
   "metadata": {
    "collapsed": false,
    "pycharm": {
     "name": "#%%\n",
     "is_executing": false
    }
   }
  },
  {
   "cell_type": "markdown",
   "source": [
    "Het DataFrame is nu volledig opgeschoond en klaar voor de volgende stap.\n",
    "  \n",
    "NaN-types kunnen niet worden opgeslagen in kolommen met het datatype `int32`*.\n",
    "Als oplossing werden onder andere de onrealistische waardes opgeslagen als `0` om \n",
    "later te kunnen worden verwijderd uit het DataFrame.  \n",
    "*Bron: pandas.pydata.org/pandas-docs/stable/user_guide/integer_na.html\n",
    "\n",
    "Het omzetten van alle onrealistische waardes van `Budget` en `Gross` worden vervolgens omgezet naar `0`.\n",
    "Onrealistische waardes van `Budget` en `Gross` zijn onder andere de\n",
    "negatieve waardes. Andere onrealistische waardes zijn films met een `Budget` en/of `Gross` van meer dan\n",
    "2.8 miljard. Er is immers nog nooit een film* geweest die meer dan 2.8 miljard opbracht.\n",
    "Verder werden alle films met een `Budget` van meer dan 400 miljoen gedropped, de duurste film ooit\n",
    "kostte niet meer dan 400 miljoen. Door deze stap worden ook enkele extreme outliers gefilterd uit\n",
    "de data wat de visualisatie ten goede komt.  \n",
    "Zodra de onrealistische waardes omgezet zijn naar `0` worden deze uit de dataset verwijderd.  \n",
    "*Bron: nl.wikipedia.org/wiki/Lijst_van_succesvolste_films \n",
    "\n",
    "Door het DataFrame te sorteren op `Release year` en vervolgens de laatste waarde te behouden, wordt\n",
    "de meest recente uitgave van een film bewaard. Te zien is dat maar liefst $(4935-4811=)$ 124 films dubbel\n",
    "in de dataset voorkwamen.\n",
    "\n",
    "\n",
    "## 4. Data Exploration & Analysis\n",
    "\n",
    "Nu de data is geprepareerd, kan begonnen worden aan de eerste verkenning. Door middel van\n",
    "describe krijgen we in één oogopslag een duidelijk beeld van het DataFrame."
   ],
   "metadata": {
    "collapsed": false
   }
  },
  {
   "cell_type": "code",
   "execution_count": 7,
   "outputs": [],
   "source": [
    "df_movies.describe(include = \"all\")"
   ],
   "metadata": {
    "collapsed": false,
    "pycharm": {
     "name": "#%%\n",
     "is_executing": false
    }
   }
  },
  {
   "cell_type": "markdown",
   "source": [
    "Enkele verwachtingen:\n",
    "1. Het meerendeel van de films zal winst maken\n",
    "2. Nieuwere films zullen relatief meer winst maken dan oudere films\n",
    "3. Het budget van relatief oudere films zal lager zijn dan dat van relatief nieuwe films \n",
    "\n",
    "Enkele eerste observaties:\n",
    "- Het DataFrame bevat nog 3778 (74.9%) van de originele 5043 rijen \n",
    "- `Movie title` bevat zoals beoogd alleen maar nog unieke waardes.\n",
    "- Gemiddeld brengt een film 50 miljoen op en is er een budget van 37 miljoen. Echter heeft\n",
    " het budget een standaard deviatie van 43 miljoen en de omzet een standaard deviatie van 69 miljoen.\n",
    "- Het `Release year` 2002 komt met 189x het vaakst voor\n",
    "- Het DataFrame bevat films die uitgegeven zijn tussen 1920 en 2016. Een interval van bijna 100 jaar.\n",
    "\n",
    "\n",
    "In de volgende scatterplot zijn het budget en de omzet van films geplot.\n",
    "Dit geeft een eerste beeld van de spreiding van de data en de relatie tussen het budget en de omzet.\n",
    "Er wordt een sample van 350 (+- 10%) stuks genomen om de data beter te visualiseren.\n"
   ],
   "metadata": {
    "collapsed": false
   }
  },
  {
   "cell_type": "code",
   "execution_count": 8,
   "outputs": [],
   "source": [
    "df_movies_sample = df_movies.sample(350, random_state=42)\n",
    "sns.scatterplot(\"Budget\", \"Gross\", data=df_movies_sample)\n",
    "plt.axis('square')  # X- en Y-as dezelfde verhouding geven\n",
    "plt.show()"
   ],
   "metadata": {
    "collapsed": false,
    "pycharm": {
     "name": "#%%\n",
     "is_executing": false
    }
   }
  },
  {
   "cell_type": "markdown",
   "source": [
    "Een mogelijke functie om, in plaats van een selectie, alle films te analyseren is `jointplot`.\n",
    "Jointplots geven op een snelle manier de verspreiding maar vooral dichtheid van punten weer.\n",
    "Er is goed te zien dat de meeste films onder een budget van één miljoen blijven en \n",
    "dat veruit de meeste films onder een omzet van twee miljoen blijven.\n",
    "Er valt zelfs al een kleine positieve correlatie te spotten.\n",
    "\n",
    "Om de plot overzichtelijk te houden is gekozen om de dichtheid weer te geven.\n",
    "Het grote aantal films kan, zoals we hierboven al zagen, tot een onoverzichtelijke plot leiden.\n",
    "Credits: seaborn.pydata.org/generated/seaborn.jointplot.html"
   ],
   "metadata": {
    "collapsed": false
   }
  },
  {
   "cell_type": "code",
   "execution_count": 9,
   "outputs": [],
   "source": [
    "sns.jointplot(\"Budget\", \"Gross\", data=df_movies, kind=\"kde\", space=0)\n",
    "plt.show()"
   ],
   "metadata": {
    "collapsed": false,
    "pycharm": {
     "name": "#%%\n",
     "is_executing": false
    }
   }
  },
  {
   "cell_type": "markdown",
   "source": [
    "In de vorige jointplot waren individuele outliers niet te zien.\n",
    "Boxplots zijn uitermate geschikt om deze wel weer te geven.\n",
    "\n",
    "De omzet van films is veel verspreider dan het budget van films. Tevens zijn\n",
    "er bij de omzet veel meer extreme outliers te zien.\n",
    "Door het grote aantal uitschieters kunnen zelfs boxplots heel onoverzichtelijk worden."
   ],
   "metadata": {
    "collapsed": false
   }
  },
  {
   "cell_type": "code",
   "execution_count": 10,
   "outputs": [],
   "source": [
    "df_movies.boxplot(grid=False)\n"
   ],
   "metadata": {
    "collapsed": false,
    "pycharm": {
     "name": "#%%\n",
     "is_executing": false
    }
   }
  },
  {
   "cell_type": "markdown",
   "source": [
    "Een laatste poging om ook de outliers in kaart te brengen wordt gedaan door twee\n",
    "histogrammen te plotten. Bovenop de histogrammen worden streepjes getekend. Ieder streepje is een\n",
    "film. De outliers zijn nu zichtbaar geworden. Direct valt te zien dat het budget\n",
    "twee extreme uitschieters heeft bij drie en resp. vier miljoen.\n",
    "Gross heeft uitschieters die door gaan tot zo'n ongeveer 8 miljoen.\n",
    "\n",
    "Ook hier wordt weer duidelijk dat het meerendeel van de films het budget onder de één miljoen houdt\n",
    "en de opbrengst vooral onder de twee miljoen blijft."
   ],
   "metadata": {
    "collapsed": false,
    "pycharm": {
     "name": "#%% md\n"
    }
   }
  },
  {
   "cell_type": "code",
   "execution_count": 11,
   "outputs": [],
   "source": [
    "plot, axes = plt.subplots(1, 2)\n",
    "sns.distplot(df_movies[\"Budget\"], rug=True, kde=False, ax=axes[0])\n",
    "sns.distplot(df_movies[\"Gross\"], rug=True, kde=False, ax=axes[1], color=\"r\")\n"
   ],
   "metadata": {
    "collapsed": false,
    "pycharm": {
     "name": "#%%\n",
     "is_executing": false
    }
   }
  },
  {
   "cell_type": "markdown",
   "source": [
    "Pandas heeft een hele handige methode ingebouwd voor DataFrames. Deze methode berekend direct de\n",
    "correlatie tussen iedere combinatie van twee variabelen. Standaard wordt de correlatie\n",
    "door middel van Pearsons correlatiecoëfficiënt berekend.\n",
    "\n",
    "Volgens Pearsons correlatiecoëfficiënt blijkt dat er een correlatie van 0.63 is tussen Budget en\n",
    "Gross."
   ],
   "metadata": {
    "collapsed": false,
    "pycharm": {
     "name": "#%% md\n"
    }
   }
  },
  {
   "cell_type": "code",
   "execution_count": 12,
   "outputs": [],
   "source": [
    "df_movies.corr()"
   ],
   "metadata": {
    "collapsed": false,
    "pycharm": {
     "name": "#%%\n",
     "is_executing": false
    }
   }
  },
  {
   "cell_type": "markdown",
   "source": [
    "## 5. Model Building\n",
    "\n"
   ],
   "metadata": {
    "collapsed": false,
    "pycharm": {
     "name": "#%% md\n",
     "is_executing": false
    }
   }
  }
 ],
 "metadata": {
  "kernelspec": {
   "display_name": "Python 3",
   "language": "python",
   "name": "python3"
  },
  "language_info": {
   "codemirror_mode": {
    "name": "ipython",
    "version": 2
   },
   "file_extension": ".py",
   "mimetype": "text/x-python",
   "name": "python",
   "nbconvert_exporter": "python",
   "pygments_lexer": "ipython2",
   "version": "2.7.6"
  },
  "pycharm": {
   "stem_cell": {
    "cell_type": "raw",
    "source": [],
    "metadata": {
     "collapsed": false
    }
   }
  }
 },
 "nbformat": 4,
 "nbformat_minor": 0
}