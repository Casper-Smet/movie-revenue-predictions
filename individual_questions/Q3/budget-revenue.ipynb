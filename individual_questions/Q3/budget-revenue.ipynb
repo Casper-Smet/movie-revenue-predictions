{
 "cells": [
  {
   "cell_type": "code",
   "execution_count": null,
   "metadata": {
    "pycharm": {
     "is_executing": false,
     "name": "#%%\n"
    }
   },
   "outputs": [],
   "source": [
    "#%load_ext nb_black\n",
    "\n",
    "import matplotlib.pyplot as plt\n",
    "import numpy as np\n",
    "import pandas as pd\n",
    "import seaborn as sns\n",
    "from scipy.stats import zscore\n",
    "from sklearn.linear_model import LinearRegression\n",
    "from sklearn.metrics import mean_squared_error\n",
    "from sklearn.model_selection import train_test_split\n",
    "from mpl_toolkits import mplot3d\n",
    "\n",
    "%matplotlib inline\n",
    "\n",
    "# TODO: Kolommen van int omzetten naar \"Int64\" zodat np.NaN kan worden opgeslagen ipv 0 als placeholder\n",
    "# TODO: NaN-types als laatste verwijderen na alle cleanup\n",
    "# TODO: Negatieve waardes beter filteren op één regel\n",
    "\n",
    "# TODO: Correlatiematrix toevoegen bij het selecteren van de kolommen\n",
    "# TODO: Holoviews implementeren\n",
    "# TODO: RMSE toelichten"
   ]
  },
  {
   "cell_type": "markdown",
   "metadata": {},
   "source": [
    "# In hoeverre is het mogelijk om de budget-omzet verhouding te voorspellen?\n",
    "Ook voor deze onderzoeksvraag zullen de zeven stappen van het Data Science-proces worden toegepast. \n",
    "Stappen 1, 2 en 3 zullen in grote maten hetzelfde zijn als bij de overige twee onderzoeksvragen.\n",
    "### Het Data Science-proces:\n",
    "1. Data collection\n",
    "2. Data processing (ook wel data munging)\n",
    "3. Data cleaning\n",
    "4. Data exploration & analysis\n",
    "5. Model building\n",
    "6. Visualization\n",
    "7. Communication\n",
    "\n",
    "## 1. Data Collection\n",
    "Voor het beantwoorden van deze onderzoeksvraag zal alleen gebruik worden gemaakt van `movie.csv`.\n",
    "Om te zien of de dataset `movie.csv` goed is ingeladen, worden de eerste vijf rijen getoond:"
   ]
  },
  {
   "cell_type": "code",
   "execution_count": null,
   "metadata": {
    "pycharm": {
     "is_executing": false,
     "name": "#%%\n"
    }
   },
   "outputs": [],
   "source": [
    "df_movies = pd.read_csv(\"../../data/movie.csv\")\n",
    "print(f\"In totaal zijn er {len(df_movies)} films.\\n\")\n",
    "df_movies.head()"
   ]
  },
  {
   "cell_type": "markdown",
   "metadata": {
    "pycharm": {
     "name": "#%% md\n"
    }
   },
   "source": [
    "Te zien is dat de data goed wordt ingelezen en de waardes in de juiste kolommen komen te staan.\n",
    "Verder zijn er al NaN-waardes te zien en staan veel gegevens opgeslagen als floats.\n",
    "\n",
    "***\n",
    "\n",
    "## 2. Data Processing\n",
    "Ook de Data Processing is grotendeels voor ons gedaan. De data is goed opgeslagen in een `.csv`-bestand\n",
    "en is zojuist al ingelezen als een _Pandas_ DataFrame.\n",
    "\n",
    "Verder rest ons nog de volgende stappen om de Data Processing te voltooien:\n",
    "1. Het selecteren van de gewenste kolommen\n",
    "\n",
    "2. Het aanpassen van onduidelijke kolomnamen\n",
    "3. Het aanpassen van de datatypen\n",
    "\n",
    "4. Het berekenen van de budget-gross verhouding van iedere film\n",
    "5. Het berekenen van de Z-score-afstand tussen budget en film \n",
    "6. Het berekenen van de Z-scores van de feature-kolommen\n",
    "\n",
    "Alvorens de gewenste kolommen kunnen worden geselecteerd, moet worden gekeken welke kolommen uberhaubt relevant zijn. Pandas heeft een hele gemakkelijke functie om voor een compleet DataFrame alle correlaties uit te rekenen. De correlaties worden standaard volgens Pearsons correlatiecoëfficient berekend. Vervolgens kan het correlatiematrix gemakkelijk worden geplot met Seaborn. Seaborn maakt het mogelijk om een snel overzicht te krijgen van de correlaties.\n",
    "\n",
    "Uiteraard is het pas bij de _Data Exploration_ van belang om de data volledig te doorgronden, echter moet tijdens de _Data Processing_ al worden gekozen welke kolommen gebruikt gaan worden. Aangezien Data Science een iteratief proces is kan tijdens een later stadium ervoor worden gekozen om meer kolommen te behouden."
   ]
  },
  {
   "cell_type": "code",
   "execution_count": null,
   "metadata": {},
   "outputs": [],
   "source": [
    "fig, ax = plt.subplots(figsize=(10, 10))\n",
    "sns.heatmap(df_movies.corr(), annot=True, linewidths=.05, ax=ax, square=True)\n",
    "plt.show()"
   ]
  },
  {
   "cell_type": "markdown",
   "metadata": {},
   "source": [
    "Na het bestuderen van het geplotte correlatiematrix blijkt dat `num_voted_users`, `num_user_for_reviews` en `num_critic_for_reviews` de grootste correlatie hebben met `budget` en `gross`. De twee laatstgenoemden zijn uiteraard vereisten voor het beantwoorden van de onderzoeksvraag. De verhouding tussen het budget en de omzet moet immers worden voorspeld.\n",
    "\n",
    "Verder selecteren we nog de kolom `title_year`. Dit zou eventueel later van pas kunnen komen voor het sorteren of visualiseren van de data. Zoals eerder genoemd zou het mogelijk kunnen zijn dat in een volgende iteratie blijkt dat er meer kolommen nodig zijn."
   ]
  },
  {
   "cell_type": "code",
   "execution_count": null,
   "metadata": {
    "pycharm": {
     "is_executing": false,
     "name": "#%% \n"
    }
   },
   "outputs": [],
   "source": [
    "# Selecteren gewenste kolommen\n",
    "df_movies = df_movies[[\"movie_title\", \"budget\", \"gross\",\n",
    "                       \"title_year\", \"num_voted_users\",\n",
    "                       \"num_user_for_reviews\", \"num_critic_for_reviews\"]]\n",
    "\n",
    "# Onduidelijke kolomnamen aanpassen\n",
    "df_movies.rename(\n",
    "    columns={\n",
    "        \"movie_title\": \"Movie title\",\n",
    "        \"budget\": \"Budget\",\n",
    "        \"gross\": \"Gross\",\n",
    "        \"title_year\": \"Release year\",\n",
    "        \"num_voted_users\": \"Number of voted users\",\n",
    "        \"num_user_for_reviews\": \"Number of user reviews\",\n",
    "        \"num_critic_for_reviews\": \"Number of critics\"}, inplace=True,)\n",
    "\n",
    "print(f\"Kolommen:\")\n",
    "df_movies.columns.tolist()"
   ]
  },
  {
   "cell_type": "markdown",
   "metadata": {},
   "source": [
    "Integers zijn een stuk sneller dan floats. Het komt de efficiëntie en netheid ten goede om zo veel mogelijk kolommen naar integers\n",
    "om te zetten.\n",
    "\n",
    "NaN-types kunnen echter niet worden opgeslagen in kolommen met het datatype `int32`. Als oplossing is ervoor gekozen om alle NaN-types om te zetten naar integers. De meest logische keuze zal 0 zijn.\n",
    "\n",
    "Het datatype `Int64` geeft wel de mogelijkheid om NaN-types samen met integers op te slaan. Echter is het `Int64`-datatype nog experimenteel en is de afweging gemaakt om dit datatype niet te gebruiken.\n",
    "\n",
    "[Bron: Nullable integer data type](https://pandas.pydata.org/pandas-docs/stable/user_guide/integer_na.html)\n"
   ]
  },
  {
   "cell_type": "code",
   "execution_count": null,
   "metadata": {},
   "outputs": [],
   "source": [
    "# Datatypen aanpassen: Floats naar integers omzetten\n",
    "df_movies.fillna(0, inplace=True)\n",
    "df_movies = df_movies.astype({\"Budget\": int,\n",
    "                              \"Gross\": int,\n",
    "                              \"Number of voted users\": int, \n",
    "                              \"Number of user reviews\": int,\n",
    "                              \"Number of critics\": int})\n",
    "\n",
    "# Datatypes aanpassen: De kolom `Release year` omzettten van float naar het datetime-datatype\n",
    "df_movies[\"Release year\"] = pd.to_datetime(df_movies[\"Release year\"], format=\"%Y\", errors=\"coerce\")\n",
    "df_movies.dtypes"
   ]
  },
  {
   "cell_type": "markdown",
   "metadata": {},
   "source": [
    "Het beantwoorden van de onderzoeksvraag vraagt naar het voorspellen van de budget/omzet-verhouding.\n",
    "De kolom `Budget Gross verh` bevat de mate waarin `budget` en `gross` zich verhouden. Dit werkt middels de simpele formule $\\frac {Gross} {Budget}$. Een waarde groter dan `1` betekend winst. Er wordt dan meer omzet gedraaid dan dat er budget was de film. Alles onder de `1` betekend verlies. Hierbij is de omzet lager dan het budget.\n",
    "\n",
    "`Budget Gross Zscore afst` houdt het (absolute) verschil tussen de Zscore van het budget\n",
    "en de gross in. Een klein voorbeeld ter illustratie:\n",
    "> - Het budget van een film heeft een Z-score van 1\n",
    "> - De omzet van dezelfde film heeft een Z-score van 4\n",
    ">\n",
    "> De `Budget Gross Zscore afst` van deze film bedraagt $(|4-1|)=$ $3$  \n",
    "> Omdat de afstand minder dan 6 is kan worden geconcludeerd dat het onderlinge verschil niet significant en de film mag blijven in de dataset.\n",
    "  \n",
    "Het verwijderen van waardes met een absolute Z-score afstand van meer dan 6 zal later gebeuren tijdens de _Data Cleaning_. Door deze significante waardes te verwijderen uit de dataset zullen betere voorspellingen mogelijk worden. Uitschieters kunnen de precisie van een model ernstig verslechteren."
   ]
  },
  {
   "cell_type": "code",
   "execution_count": null,
   "metadata": {
    "pycharm": {
     "is_executing": false,
     "name": "#%%\n"
    }
   },
   "outputs": [],
   "source": [
    "# Verhouding tussen budget en gross berekenen en opslaan in nieuwe kolom\n",
    "df_movies[\"Budget Gross verh\"] = df_movies[\"Gross\"] / df_movies[\"Budget\"]\n",
    "\n",
    "# Zscores berekenen van Budget en Gross.\n",
    "df_movies[\"Budget Gross Zscore afst\"] = abs(zscore(df_movies[[\"Budget\"]]) - zscore(df_movies[[\"Gross\"]]))\n",
    "\n",
    "# Z-scores berekenen van de mogelijke features\n",
    "df_movies[\"Number of voted users Zscore\"] = abs(zscore(df_movies[[\"Number of voted users\"]]))\n",
    "df_movies[\"Number of user reviews Zscore\"] = abs(zscore(df_movies[[\"Number of user reviews\"]]))\n",
    "df_movies[\"Number of critics Zscore\"] = abs(zscore(df_movies[[\"Number of critics\"]]))"
   ]
  },
  {
   "cell_type": "markdown",
   "metadata": {},
   "source": [
    "Het DataFrame `df_movies` ziet er nu als volgt uit:"
   ]
  },
  {
   "cell_type": "code",
   "execution_count": null,
   "metadata": {
    "pycharm": {
     "is_executing": false,
     "name": "#%% \n"
    }
   },
   "outputs": [],
   "source": [
    "df_movies.head()"
   ]
  },
  {
   "cell_type": "markdown",
   "metadata": {},
   "source": [
    "Alle kolommen van het DataFrame hebben nu het juiste datatype.\n",
    "Onder andere `Budget` en `Gross` bestaan uit integers en `Release year` bestaat uit het `datetime` datatype.\n",
    "Echter zijn er nog wel 0-, NaN, en NaT-waardes zichtbaar. Deze rijen dienen tijdens de _Data\n",
    "Cleaning_ nog te worden opgeschoont.\n",
    "\n",
    "\n",
    "***\n",
    "\n",
    "## 3. Data Cleaning\n",
    "Nu de data in de juiste kolommen met de juiste datatypes is opgeslagen kunnen we de data gaan opschonen.\n",
    "Na het uitvoeren van de volgende vijf stappen hebben we een DataFrame dat klaar voor analyse is.\n",
    "1. Het verwijderen van dubbele `Movie titles`\n",
    "2. Het omzetten van onrealistische waardes naar 0\n",
    "3. Het verwijderen van rijen met een `Budget Gross zscore verh` van meer dan 6\n",
    "4. Het verwijderen van films met een budget of gross van 0\n",
    "5. Het verwijderen van NaN-types\n"
   ]
  },
  {
   "cell_type": "code",
   "execution_count": null,
   "metadata": {
    "pycharm": {
     "is_executing": false,
     "name": "#%%\n"
    }
   },
   "outputs": [],
   "source": [
    "print(f\"In totaal zijn er vóór de Data Cleaning {len(df_movies)} films.\")\n",
    "\n",
    "# Dubbele titels verwijderen\n",
    "df_movies.sort_values(\"Release year\", inplace=True)  # Sorteren op uitgavejaar\n",
    "df_movies.drop_duplicates(subset=\"Movie title\", keep=\"last\", inplace=True)  # Alleen meest recente versie blijft bewaard\n",
    "print(f\"In totaal zijn er {len(df_movies)} films zonder duplicaten over.\")\n",
    "\n",
    "# Onrealistische waardes omzetten\n",
    "print(f\"In totaal zijn er {df_movies[['Budget', 'Gross']].lt(0).sum().sum()} films met een negatief Budget of Gross.\")\n",
    "print(f\"In totaal zijn er {df_movies[['Budget']].gt(400_000_000).sum().sum()} films met een budget hoger dan de duurste film ooit.\")\n",
    "print(f\"In totaal zijn er {df_movies[['Budget', 'Gross']].gt(2_800_000_000).sum().sum()} films met een hogere omzet dan de meest succesvolle film ooit.\")\n",
    "print(f\"In totaal zijn er {df_movies['Budget Gross Zscore afst'].gt(6).sum().sum()} films met een extreem verschil tussen budget en gross.\")\n",
    "\n",
    "# Negatieve waardes omzetten\n",
    "df_movies = df_movies[(df_movies[[\"Budget\", \"Gross\"]] >= 0).all(axis=1)]\n",
    "\n",
    "# 'Te dure' films verwijderen\n",
    "df_movies = df_movies[(df_movies[\"Budget\"] < 400_000_000)]\n",
    "\n",
    "# Verwijderen films met Z-score afstand van meer dan 6\n",
    "df_movies = df_movies[(df_movies[\"Budget Gross Zscore afst\"] <= 6)]\n",
    "\n",
    "# Verwijderen films met budget of gross van 0\n",
    "df_movies = df_movies[(df_movies[[\"Budget\", \"Gross\"]] != 0).all(axis=1)]\n",
    "\n",
    "# NaN-types verwijderen uit de titels\n",
    "df_movies.dropna(inplace=True)\n",
    "print(f\"In totaal blijven er {len(df_movies)} films over.\")"
   ]
  },
  {
   "cell_type": "markdown",
   "metadata": {},
   "source": [
    "Na _stap 3. Data Cleaning_ ziet het DataFrame er als volgt uit:"
   ]
  },
  {
   "cell_type": "code",
   "execution_count": null,
   "metadata": {
    "pycharm": {
     "is_executing": false,
     "name": "#%%\n"
    }
   },
   "outputs": [],
   "source": [
    "df_movies.head()"
   ]
  },
  {
   "cell_type": "markdown",
   "metadata": {},
   "source": [
    "Het DataFrame is nu volledig opgeschoond en klaar voor de _Data Exploration & Analysis_.\n",
    "\n",
    "Het DataFrame bevat alleen maar nog unieke waardes voor `Movie title`.\n",
    "Door het DataFrame te sorteren op `Release year` en vervolgens de laatste waarde te behouden, wordt\n",
    "de meest recente uitgave van een film bewaard. Te zien is dat maar liefst 126 films dubbel\n",
    "in de dataset voorkwamen.\n",
    "\n",
    "Het omzetten van alle onrealistische waardes van `Budget` en `Gross` worden vervolgens omgezet naar `0`. Onrealistische waardes van `Budget` en `Gross` zijn onder andere negatieve waardes. Andere onrealistische waardes zijn films met een `Budget` en/of `Gross` van meer dan 2.8 miljard. Er is immers nog nooit een film* geweest die meer dan 2.8 miljard opbracht.\n",
    "Verder werden alle films met een `Budget` van meer dan 400 miljoen gedropped, de duurste film ooit\n",
    "kostte niet meer dan 400 miljoen. Door deze stap worden enkele extreme outliers gefilterd uit\n",
    "de data wat de voorspellingen en visualisatie ten goede zal komen. \n",
    "\n",
    "[Bron: Lijst van succesvolste films](https://nl.wikipedia.org/wiki/Lijst_van_succesvolste_films )\n",
    "\n",
    "Uiteindelijk worden alle films met een `Budget` of `Gross` van 0 verwijderd uit het DataFrame.\n",
    "\n",
    "Zoals beschreven bij de _Data Processing_ worden alle waardes met een significant verschil tussen de Z-scores van `Budget` en `Gross` verwijderd. Zie voor meer toelichting de documentatie bij _Data Processing_.\n",
    "\n",
    "***\n",
    "\n",
    "## 4. Data Exploration & Analysis\n",
    "\n",
    "Nu de data is geprepareerd, kan begonnen worden aan de eerste verkenning. Door middel van\n",
    "describe krijgen we in één oogopslag een duidelijk beeld van het DataFrame."
   ]
  },
  {
   "cell_type": "code",
   "execution_count": null,
   "metadata": {
    "pycharm": {
     "is_executing": false,
     "name": "#%%\n"
    }
   },
   "outputs": [],
   "source": [
    "df_movies.describe(include=\"all\")"
   ]
  },
  {
   "cell_type": "markdown",
   "metadata": {},
   "source": [
    "Enkele verwachtingen:\n",
    "1. Het meerendeel van de films zal winst maken\n",
    "2. Nieuwere films zullen relatief meer winst maken dan oudere films\n",
    "3. Het budget van relatief oudere films zal lager zijn dan dat van relatief nieuwe films \n",
    "\n",
    "Enkele eerste observaties:\n",
    "- Het DataFrame bevat nog 3772 (74.9%) van de originele 5043 rijen \n",
    "- `Movie title` bevat zoals beoogd alleen maar nog unieke waardes.\n",
    "- Gemiddeld brengt een film 49 miljoen op en is er een budget van 37 miljoen. Echter heeft\n",
    " het budget een standaard deviatie van 42 miljoen en de omzet een standaard deviatie van 65 miljoen.\n",
    "- Het `Release year` 2002 komt met 189x het vaakst voor\n",
    "- Het DataFrame bevat films die uitgegeven zijn tussen 1920 en 2016. Een interval van bijna 100 jaar.\n",
    "\n",
    "\n",
    "In de volgende scatterplot zijn het budget en de omzet van films geplot.\n",
    "Dit geeft een eerste beeld van de spreiding van de data en de relatie tussen het budget en de omzet.\n",
    "Er wordt een sample van 350 (+- 10%) stuks genomen om de data beter te visualiseren.\n",
    "\n",
    "Tevens wordt de baseline al getekend. Deze wordt vastgesteld op $y = x$ oftewel het break-even point.\n",
    "Alles films onder de lijn hebben verlies geleden, allen boven de lijn maakten winst. De baseline\n",
    "wordt gebruikt om vast te stellen een geproduceerd model wel echt beter is dan geen model."
   ]
  },
  {
   "cell_type": "code",
   "execution_count": null,
   "metadata": {
    "pycharm": {
     "is_executing": false,
     "name": "#%%\n"
    }
   },
   "outputs": [],
   "source": [
    "fig, ax = plt.subplots()\n",
    "df_movies_sample = df_movies.sample(350, random_state=42)\n",
    "sns.scatterplot(\"Budget\", \"Gross\", data=df_movies_sample)\n",
    "\n",
    "coords = [np.min([ax.get_xlim(), ax.get_ylim()]),\n",
    "          np.max([ax.get_xlim(), ax.get_ylim()])]\n",
    "\n",
    "ax.plot(coords, coords, zorder=0, color='black')\n",
    "plt.show()"
   ]
  },
  {
   "cell_type": "markdown",
   "metadata": {},
   "source": [
    "Een mogelijke functie om, in plaats van een selectie, alle films te analyseren is `jointplot`.\n",
    "Jointplots geven op een snelle manier de verspreiding maar vooral dichtheid van punten weer.\n",
    "Er is goed te zien dat de meeste films onder een budget van één miljoen blijven en \n",
    "dat veruit de meeste films onder een omzet van twee miljoen blijven.\n",
    "Er valt zelfs al een kleine positieve correlatie te spotten.\n",
    "\n",
    "Om de plot overzichtelijk te houden is gekozen om de dichtheid weer te geven.\n",
    "Het grote aantal films kan, zoals we hierboven al zagen, tot een onoverzichtelijke plot leiden.\n",
    "Credits: seaborn.pydata.org/generated/seaborn.jointplot.html"
   ]
  },
  {
   "cell_type": "code",
   "execution_count": null,
   "metadata": {
    "pycharm": {
     "is_executing": false,
     "name": "#%%\n"
    }
   },
   "outputs": [],
   "source": [
    "sns.jointplot(\"Budget\", \"Gross\", data=df_movies, kind=\"kde\", space=0)\n",
    "plt.show()"
   ]
  },
  {
   "cell_type": "markdown",
   "metadata": {},
   "source": [
    "In de vorige jointplot waren individuele outliers niet te zien.\n",
    "Boxplots zijn uitermate geschikt om deze wel weer te geven.\n",
    "\n",
    "De omzet van films is veel verspreider dan het budget van films. Tevens zijn\n",
    "er bij de omzet veel meer extreme outliers te zien.\n",
    "Door het grote aantal uitschieters kunnen zelfs boxplots heel onoverzichtelijk worden."
   ]
  },
  {
   "cell_type": "code",
   "execution_count": null,
   "metadata": {
    "pycharm": {
     "is_executing": false,
     "name": "#%%\n"
    }
   },
   "outputs": [],
   "source": [
    "df_movies[[\"Budget\", \"Gross\"]].boxplot(grid=False)\n",
    "plt.show()"
   ]
  },
  {
   "cell_type": "markdown",
   "metadata": {
    "pycharm": {
     "name": "#%% md\n"
    }
   },
   "source": [
    "Een laatste poging om ook de outliers in kaart te brengen wordt gedaan door twee\n",
    "histogrammen te plotten. Bovenop de histogrammen worden streepjes getekend. Ieder streepje is een\n",
    "film. De outliers zijn nu zichtbaar geworden. Direct valt te zien dat het budget\n",
    "twee extreme uitschieters heeft bij drie en resp. vier miljoen.\n",
    "Gross heeft uitschieters die door gaan tot zo'n ongeveer 8 miljoen.\n",
    "\n",
    "Ook hier wordt weer duidelijk dat het meerendeel van de films het budget onder de één miljoen houdt\n",
    "en de opbrengst vooral onder de twee miljoen blijft. Er zijn slechts enkele films met een extreme\n",
    "verhouding tussen het budget en de omzet."
   ]
  },
  {
   "cell_type": "code",
   "execution_count": null,
   "metadata": {
    "pycharm": {
     "is_executing": false,
     "name": "#%%\n"
    }
   },
   "outputs": [],
   "source": [
    "fig, axes = plt.subplots(1, 2, figsize=(12, 3), sharex=\"row\", sharey=\"row\")\n",
    "sns.distplot(df_movies[\"Budget\"], rug=True, kde=False, ax=axes[0], color=\"r\")\n",
    "sns.distplot(df_movies[\"Gross\"], rug=True, kde=False, ax=axes[1], color=\"g\")\n",
    "\n",
    "\n",
    "sns.distplot(df_movies[\"Budget Gross verh\"], rug=True, kde=False, ax=axes[0], color=\"b\")\n",
    "sns.distplot(df_movies[\"Number of critics\"], rug=True, kde=False, ax=axes[1], color=\"c\")\n",
    "plt.show()"
   ]
  },
  {
   "cell_type": "markdown",
   "metadata": {
    "pycharm": {
     "name": "#%% md\n"
    }
   },
   "source": [
    "Pandas heeft een hele handige methode ingebouwd voor DataFrames. Deze methode berekend direct de\n",
    "correlatie tussen iedere combinatie van twee variabelen. Standaard wordt de correlatie\n",
    "door middel van Pearsons correlatiecoëfficiënt berekend.\n",
    "\n",
    "Volgens Pearsons correlatiecoëfficiënt blijkt dat er een correlatie van 0.64 is tussen Budget en\n",
    "Gross. Verder geven `Number of voted users`, `Number of user reviews` en `Number of critics` ook redelijke correlaties bij\n",
    "Budget en ook Gross. Echter willen we voor het beantwoorden van de onderzoeksvraag de correlatie tussen\n",
    "de verschillende features en `Budget Gross verh` weten."
   ]
  },
  {
   "cell_type": "code",
   "execution_count": null,
   "metadata": {
    "pycharm": {
     "is_executing": false,
     "name": "#%%\n"
    }
   },
   "outputs": [],
   "source": [
    "df_movies.corr()"
   ]
  },
  {
   "cell_type": "markdown",
   "metadata": {
    "pycharm": {
     "is_executing": false,
     "name": "#%% md\n"
    }
   },
   "source": [
    "## 5. Model Building\n",
    "Om een beeld te krijgen van de verhouding tussen het budget en de omzet bouwen we een klein\n",
    "Linear Regressie-model. Voor de x-as wordt het budget geselecteerd en voor de y-as de omzet. Vervolgens wordt\n",
    "de data gesplit in een test- en trainset. Aangezien er redelijk veel data tot de beschikking is,\n",
    "wordt er getraind met een 80/20 verhouding."
   ]
  },
  {
   "cell_type": "code",
   "execution_count": null,
   "metadata": {
    "pycharm": {
     "is_executing": false
    }
   },
   "outputs": [],
   "source": [
    "X = df_movies[[\"Budget\"]]\n",
    "y = df_movies[\"Gross\"]\n",
    "\n",
    "X_train, X_test, y_train, y_test = train_test_split(X, y, random_state=42, train_size=0.8)\n",
    "print(f\"Aantal trainwaarden: {len(X_train):5}\")\n",
    "print(f\"Aantal testwaarden: {len(y_test):6}\")"
   ]
  },
  {
   "cell_type": "markdown",
   "metadata": {
    "pycharm": {
     "name": "#%% md\n"
    }
   },
   "source": [
    "Vervolgens dient het model te worden aangemaakt en getraind. Zodra dit model getraind is kan de\n",
    "formule $Y = AX + B$ worden ingevuld. Dit maakt het mogelijk om ieder mogelijk budget $x$ in\n",
    "te vullen waarna $y$ zal resulteren in de voorspelde omzet."
   ]
  },
  {
   "cell_type": "code",
   "execution_count": null,
   "metadata": {
    "pycharm": {
     "is_executing": false,
     "name": "#%%\n"
    }
   },
   "outputs": [],
   "source": [
    "linReg = LinearRegression()\n",
    "linReg.fit(X_train, y_train)\n",
    "print(f\"Formule van de lijn:\\nY = {linReg.coef_[0]:.4f} * X + {linReg.intercept_:.4f}\")"
   ]
  },
  {
   "cell_type": "markdown",
   "metadata": {
    "pycharm": {
     "name": "#%% md\n"
    }
   },
   "source": [
    "Zodra het model is gemaakt en getraind dient het te worden gevalideerd. Belangrijke \n",
    "prestatieindicatoren voor Lineare Regressie zijn de $R^2$ en de Root Mean Squared Error (RMSE).\n",
    " "
   ]
  },
  {
   "cell_type": "code",
   "execution_count": null,
   "metadata": {
    "pycharm": {
     "is_executing": false,
     "name": "#%%\n"
    }
   },
   "outputs": [],
   "source": [
    "y_pred = linReg.predict(X_test).reshape(-1, 1)\n",
    "print(f\"R2 score: {linReg.score(y_pred, y_test):.4f}\")\n",
    "print(f\"Root Mean Squared Error: {np.sqrt(mean_squared_error(y_test, y_pred)):_.4f}\\n\")  # Werkt"
   ]
  },
  {
   "cell_type": "markdown",
   "metadata": {
    "pycharm": {
     "name": "#%% md\n"
    }
   },
   "source": [
    "Om bovenstaand model weer te geven wordt bovenop een scatterplot de vastgestelde lineare formule getekend.\n",
    "Deze lijn wordt in het rood weergegeven. In het zwart is weer de baseline te zien.\n",
    "\n",
    "Te zien is dat de vastgestelde formule, de y-as\n",
    "bij een x-waarde van 0, hoger snijdt dan de baseline. Aangezien $A$ kleiner dan 1 is, zal\n",
    "de lijn na verloop van tijd de baseline snijden."
   ]
  },
  {
   "cell_type": "code",
   "execution_count": null,
   "metadata": {
    "pycharm": {
     "is_executing": false
    }
   },
   "outputs": [],
   "source": [
    "fig, ax = plt.subplots()\n",
    "sns.scatterplot(X_test[\"Budget\"], y_test)\n",
    "plt.plot(X_test, y_pred, color=\"red\")\n",
    "\n",
    "coords = [np.min([ax.get_xlim(), ax.get_ylim()]),\n",
    "          np.max([ax.get_xlim(), ax.get_ylim()])]\n",
    "\n",
    "ax.plot(coords, coords, zorder=0, color='black', alpha=0.5)\n",
    "plt.show()"
   ]
  },
  {
   "cell_type": "markdown",
   "metadata": {
    "pycharm": {
     "is_executing": false,
     "name": "#%% md\n"
    }
   },
   "source": [
    "## Tussentijdse evaluatie\n",
    "Na het evalueren van bovenstaand model en het opnieuw bestuderen van de onderzoeksvraag zijn\n",
    "we tot de conclusie gekomen dat bovenstaand model iets anders doet dan waar de onderzoeksvraag\n",
    "naar vraagt. Met bovenstaand model kan, tot op zekere hoogte, de omzet worden voorspeld bij\n",
    "een bepaald budget.\n",
    "\n",
    "Waar de onderzoeksvraag echter naar vraagt is het voorspellen van de budget/omzet-verhouding.\n",
    "Aan ons de taak om een goede combinatie van features te selecteren waardoor de \n",
    "budget/omzet-verhouding kan worden voorspeld. Tijdens de dataprocessing is een correlatiematrix\n",
    "getoond waaruit bleek dat `Number of voted users`, `Number of user reviews` en `Number of critics`\n",
    "de beste correlatie vertonen met `Budget` en/of `Gross`.\n",
    "\n",
    "Er wordt een nieuw model opgesteld met deze set features als X. Verder wordt `Budget Gross verh`\n",
    "als Y genomen."
   ]
  },
  {
   "cell_type": "code",
   "execution_count": null,
   "metadata": {
    "pycharm": {
     "is_executing": false,
     "name": "#%%\n"
    }
   },
   "outputs": [],
   "source": [
    "X = df_movies[[\"Number of voted users\",\n",
    "               \"Number of user reviews\",\n",
    "               \"Number of critics\"]]\n",
    "y = df_movies[\"Budget Gross verh\"]\n",
    "\n",
    "X_train, X_test, y_train, y_test = train_test_split(X, y, random_state=42, train_size=0.8)\n",
    "print(f\"Aantal trainwaarden: {len(X_train):5}\")\n",
    "print(f\"Aantal testwaarden: {len(y_test):6}\")"
   ]
  },
  {
   "cell_type": "markdown",
   "metadata": {},
   "source": [
    "Ook zoals bij het vorige model wordt het getraind en zal de formule van de lijn worden berekend."
   ]
  },
  {
   "cell_type": "code",
   "execution_count": null,
   "metadata": {
    "pycharm": {
     "is_executing": false,
     "name": "#%%\n"
    }
   },
   "outputs": [],
   "source": [
    "linReg = LinearRegression()\n",
    "linReg.fit(X_train, y_train)\n",
    "print(f\"Formule van de lijn:\\nY = {linReg.coef_[0]:.4f} * X + {linReg.intercept_:.4f}\")"
   ]
  },
  {
   "cell_type": "markdown",
   "metadata": {},
   "source": [
    "Ten slotte worden de R2 Score en de RMSE ook voor dit model berekend.\n",
    "Een R2 score van 0.0592 is extreem laag. De drie geselecteerde features samen lijken geen\n",
    "correlatie te hebben met de budget/omzet-verhouding. Deze features hadden individueel\n",
    "tijdens de Data Exploration echter wel enige maat van correlatie met budget en/of omzet."
   ]
  },
  {
   "cell_type": "code",
   "execution_count": null,
   "metadata": {
    "pycharm": {
     "is_executing": false,
     "name": "#%%\n"
    }
   },
   "outputs": [],
   "source": [
    "y_pred = linReg.predict(X_test)\n",
    "print(f\"R2 score: {linReg.score(X_test, y_test):.4f}\")\n",
    "print(f\"Root Mean Squared Error: {np.sqrt(mean_squared_error(y_test, y_pred)):_.4f}\\n\")"
   ]
  },
  {
   "cell_type": "code",
   "execution_count": null,
   "metadata": {
    "pycharm": {
     "name": "#%%\n"
    }
   },
   "outputs": [],
   "source": [
    "X_combinaties = [[\"Number of voted users\", \"Number of user reviews\", \"Number of critics\"],\n",
    "                 \n",
    "                 [\"Number of voted users\", \"Number of user reviews\"],\n",
    "                 [\"Number of voted users\", \"Number of critics\"],\n",
    "                 [\"Number of user reviews\",\"Number of critics\"],\n",
    "                 \n",
    "                 [\"Number of voted users\"],\n",
    "                 [\"Number of user reviews\"], \n",
    "                 [\"Number of critics\"]]\n",
    "\n",
    "for features in X_combinaties:\n",
    "    X = df_movies[features]\n",
    "    y = df_movies[\"Budget Gross verh\"]\n",
    "\n",
    "    X_train, X_test, y_train, y_test = train_test_split(X, y, random_state=42, train_size=0.8)\n",
    "    linReg.fit(X_train, y_train)\n",
    "    y_pred = linReg.predict(X_test)\n",
    "    \n",
    "    print(f\"Conbinatie: {X.columns.values}\")\n",
    "    print(f\"R2 score: {linReg.score(X_test, y_test):22.4f}\")\n",
    "    print(f\"Root Mean Squared Error: {np.sqrt(mean_squared_error(y_test, y_pred)):_.4f}\\n\")"
   ]
  },
  {
   "cell_type": "code",
   "execution_count": null,
   "metadata": {},
   "outputs": [],
   "source": [
    "X_combinaties = [[\"Number of voted users Zscore\"],\n",
    "                 [\"Number of user reviews Zscore\"], \n",
    "                 [\"Number of critics Zscore\"]]\n",
    "\n",
    "fig, ax = plt.subplots()\n",
    "ax.plot((0, 10), (0, 10), zorder=0, color='black', label=\"Baseline\")\n",
    "\n",
    "for features in X_combinaties:\n",
    "    X = df_movies[features]\n",
    "    y = df_movies[\"Budget Gross verh\"]\n",
    "\n",
    "    X_train, X_test, y_train, y_test = train_test_split(X, y, random_state=42, train_size=0.8)\n",
    "    linReg.fit(X_train, y_train)\n",
    "    y_pred = linReg.predict(X_test)\n",
    "    ax.plot(X_test, y_pred, label=features[0])\n",
    "\n",
    "plt.legend()\n",
    "plt.show()"
   ]
  },
  {
   "cell_type": "code",
   "execution_count": null,
   "metadata": {},
   "outputs": [],
   "source": [
    "from mpl_toolkits import mplot3d\n",
    "%matplotlib inline\n",
    "\n",
    "X_combinaties = [[\"Number of voted users Zscore\", \"Number of user reviews Zscore\"],\n",
    "                 [\"Number of voted users Zscore\", \"Number of critics Zscore\"],\n",
    "                 [\"Number of user reviews Zscore\",\"Number of critics Zscore\"]]\n",
    "\n",
    "for features in X_combinaties:\n",
    "    X = df_movies[features]\n",
    "    y = df_movies[\"Budget Gross verh\"]\n",
    "\n",
    "    X_train, X_test, y_train, y_test = train_test_split(X, y, random_state=42, train_size=0.8)\n",
    "    linReg.fit(X_train, y_train)\n",
    "    \n",
    "    y_pred = linReg.predict(X_test)\n",
    "    x_line = np.linspace(0, 10, 100)\n",
    "    y_line = linReg.coef_[0] * x_line + linReg.intercept_\n",
    "    z_line = linReg.coef_[1] * x_line + linReg.intercept_\n",
    "    \n",
    "    fig = plt.figure()\n",
    "    ax = plt.axes(projection='3d')\n",
    "    plt.title(f\"{features[0]}\\n{features[1]}\")\n",
    "    \n",
    "    ax.scatter3D(X_test[features[1]], X_test[features[0]], y_pred)\n",
    "    ax.plot3D(x_line, y_line, z_line, color=\"red\")\n",
    "\n",
    "plt.show()"
   ]
  },
  {
   "cell_type": "code",
   "execution_count": null,
   "metadata": {},
   "outputs": [],
   "source": [
    "import holoviews as hv\n",
    "from holoviews import dim, opts\n",
    "\n",
    "hv.extension('matplotlib')\n",
    "hv.Scatter3D((X_test[features[1]], X_test[features[0]], y_pred))"
   ]
  }
 ],
 "metadata": {
  "kernelspec": {
   "display_name": "Python 3",
   "language": "python",
   "name": "python3"
  },
  "language_info": {
   "codemirror_mode": {
    "name": "ipython",
    "version": 3
   },
   "file_extension": ".py",
   "mimetype": "text/x-python",
   "name": "python",
   "nbconvert_exporter": "python",
   "pygments_lexer": "ipython3",
   "version": "3.7.3"
  },
  "pycharm": {
   "stem_cell": {
    "cell_type": "raw",
    "metadata": {
     "collapsed": false
    },
    "source": []
   }
  }
 },
 "nbformat": 4,
 "nbformat_minor": 1
}
