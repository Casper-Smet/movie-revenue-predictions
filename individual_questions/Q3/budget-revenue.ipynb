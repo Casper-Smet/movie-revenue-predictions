{
 "cells": [
  {
   "cell_type": "code",
   "execution_count": 364,
   "outputs": [],
   "source": [
    "import matplotlib.pyplot as plt\n",
    "import numpy as np\n",
    "import pandas as pd\n",
    "\n",
    "#TODO: kolommen van int omzetten naar \"Int64\" zodat np.nan kan worden opgeslagen ipv 0 als placeholder "
   ],
   "metadata": {
    "collapsed": false,
    "pycharm": {
     "name": "#%%\n",
     "is_executing": false
    }
   }
  },
  {
   "cell_type": "markdown",
   "source": [
    "# In hoeverre is het mogelijk om de budget-winst verhouding te voorspellen?\n",
    "Ook voor deze onderzoeksvraag zullen de zeven stappen van het Data Science-proces worden toegepast. \n",
    "Stappen 1, 2 en 3 zullen in grote maten hetzelfde zijn als bij de overige twee onderzoeksvragen.\n",
    "### Het Data Science-proces\n",
    "1. Data collection\n",
    "2. Data processing (ook wel data munging)\n",
    "3. Data cleaning\n",
    "4. Data exploration & analysis\n",
    "5. Model building\n",
    "6. Visualization\n",
    "7. Communication\n",
    "\n",
    "## 1. Data Collection\n",
    "Voor het beantwoorden van deze onderzoeksvraag zal alleen gebruik worden gemaakt van `movie.csv`.\n",
    "Om te zien of de dataset `movie.csv` goed is ingeladen, worden de eerste vijf rijen getoond:"
   ],
   "metadata": {
    "collapsed": false
   }
  },
  {
   "cell_type": "code",
   "execution_count": 365,
   "outputs": [
    {
     "name": "stdout",
     "text": [
      "In totaal zijn er 5043 films.\n"
     ],
     "output_type": "stream"
    }
   ],
   "source": [
    "df_movies = pd.read_csv('../../data/movie.csv')\n",
    "df_movies.head()\n",
    "print(f\"In totaal zijn er {len(df_movies)} films.\")"
   ],
   "metadata": {
    "collapsed": false,
    "pycharm": {
     "name": "#%%\n",
     "is_executing": false
    }
   }
  },
  {
   "cell_type": "markdown",
   "source": [
    "Te zien is dat de data goed wordt ingelezen en de waardes in de juiste kolommen komen te staan.\n",
    "\n",
    "## 2. Data Processing\n",
    "Ook deze stap is grotendeels voor ons gedaan. De data is goed opgeslagen in een `.csv`-bestand\n",
    "en kan direct worden opgeslaan als een _Pandas_ DataFrame.\n",
    "\n",
    "Verder rest ons nog de volgende drie stappen:\n",
    "1. Het selecteren van de gewenste kolommen\n",
    "2. Het aanpassen van onduidelijke kolomnamen\n",
    "3. Het aanpassen van de datatypen"
   ],
   "metadata": {
    "collapsed": false
   }
  },
  {
   "cell_type": "code",
   "execution_count": 366,
   "outputs": [],
   "source": [
    "# Selecteren gewenste kolommen\n",
    "df_movies = df_movies[[\"movie_title\", \"budget\", \"gross\", \"title_year\"]]\n",
    "\n",
    "#Onduidelijke kolomnamen aanpassen\n",
    "df_movies.rename(columns={'movie_title': 'Movie title',\n",
    "                          'budget': 'Budget',\n",
    "                          'gross': 'Gross',\n",
    "                          'title_year': 'Release year'}, inplace=True)\n",
    "\n",
    "# Datatypen aanpassen: Floats naar integers omzetten\n",
    "df_movies.fillna(0, inplace=True)\n",
    "df_movies = df_movies.astype({\"Budget\": int, \"Gross\": int})\n",
    "\n",
    "\n",
    "# Datatypes aanpassen: De kolom `Release year` omzettten van integers naar het datetime-datatype\n",
    "df_movies[\"Release year\"] = pd.to_datetime(df_movies[\"Release year\"], format='%Y', errors='coerce')"
   ],
   "metadata": {
    "collapsed": false,
    "pycharm": {
     "name": "#%% \n",
     "is_executing": false
    }
   }
  },
  {
   "cell_type": "markdown",
   "source": [
    "Het DataFrame `df_movies` ziet er nu als volgt uit:"
   ],
   "metadata": {
    "collapsed": false
   }
  },
  {
   "cell_type": "code",
   "execution_count": 367,
   "outputs": [
    {
     "data": {
      "text/plain": "                                         Movie title     Budget      Gross  \\\n0                                            Avatar   237000000  760505847   \n1          Pirates of the Caribbean: At World's End   300000000  309404152   \n2                                           Spectre   245000000  200074175   \n3                             The Dark Knight Rises   250000000  448130642   \n4  Star Wars: Episode VII - The Force Awakens    ...          0          0   \n\n  Release year  \n0   2009-01-01  \n1   2007-01-01  \n2   2015-01-01  \n3   2012-01-01  \n4          NaT  ",
      "text/html": "<div>\n<style scoped>\n    .dataframe tbody tr th:only-of-type {\n        vertical-align: middle;\n    }\n\n    .dataframe tbody tr th {\n        vertical-align: top;\n    }\n\n    .dataframe thead th {\n        text-align: right;\n    }\n</style>\n<table border=\"1\" class=\"dataframe\">\n  <thead>\n    <tr style=\"text-align: right;\">\n      <th></th>\n      <th>Movie title</th>\n      <th>Budget</th>\n      <th>Gross</th>\n      <th>Release year</th>\n    </tr>\n  </thead>\n  <tbody>\n    <tr>\n      <th>0</th>\n      <td>Avatar</td>\n      <td>237000000</td>\n      <td>760505847</td>\n      <td>2009-01-01</td>\n    </tr>\n    <tr>\n      <th>1</th>\n      <td>Pirates of the Caribbean: At World's End</td>\n      <td>300000000</td>\n      <td>309404152</td>\n      <td>2007-01-01</td>\n    </tr>\n    <tr>\n      <th>2</th>\n      <td>Spectre</td>\n      <td>245000000</td>\n      <td>200074175</td>\n      <td>2015-01-01</td>\n    </tr>\n    <tr>\n      <th>3</th>\n      <td>The Dark Knight Rises</td>\n      <td>250000000</td>\n      <td>448130642</td>\n      <td>2012-01-01</td>\n    </tr>\n    <tr>\n      <th>4</th>\n      <td>Star Wars: Episode VII - The Force Awakens    ...</td>\n      <td>0</td>\n      <td>0</td>\n      <td>NaT</td>\n    </tr>\n  </tbody>\n</table>\n</div>"
     },
     "metadata": {},
     "output_type": "execute_result",
     "execution_count": 367
    }
   ],
   "source": [
    "df_movies.head()"
   ],
   "metadata": {
    "collapsed": false,
    "pycharm": {
     "name": "#%% \n",
     "is_executing": false
    }
   }
  },
  {
   "cell_type": "markdown",
   "source": [
    "Alle kolommen van het DataFrame hebben nu het juiste datatype.\n",
    "`Budget` en `Gross` bestaan uit integers en `Release year` bestaat uit het `datetime` datatype.\n",
    "\n",
    "## 3. Data Cleaning\n",
    "1. Het verwijderen van NaN-types\n",
    "2. Het verwijderen van dubbele `Movie titles`\n",
    "3. Het omzetten van negatieve en absurde waardes naar 0\n",
    "4. Het verwijderen van rijen met een budget van 0"
   ],
   "metadata": {
    "collapsed": false
   }
  },
  {
   "cell_type": "code",
   "execution_count": 368,
   "outputs": [
    {
     "name": "stdout",
     "text": [
      "In totaal zijn er 4935 films die een titel hebben.\nIn totaal zijn er 4811 films zonder duplicaten over.\nIn totaal zijn er 3 films met een negatief Budget of Gross.\nIn totaal zijn er 0 films met een hogere opbrengst dan de meest succesvolle film ooit.\n"
     ],
     "output_type": "stream"
    }
   ],
   "source": [
    "# NaN-types verwijderen uit de titels\n",
    "df_movies.dropna(inplace=True)\n",
    "print(f\"In totaal zijn er {len(df_movies)} films die een titel hebben.\")\n",
    "\n",
    "# Dubbele titels verwijderen\n",
    "df_movies.sort_values(\"Release year\", inplace=True)  # Sorteren op uitgavejaar\n",
    "df_movies.drop_duplicates(subset=\"Movie title\", keep=\"last\", inplace=True)  # Alleen meest recente versie blijft bewaard\n",
    "print(f\"In totaal zijn er {len(df_movies)} films zonder duplicaten over.\")\n",
    "\n",
    "# Negatieve waardes omzetten\n",
    "print(f\"In totaal zijn er {df_movies[['Budget', 'Gross']].lt(0).sum().sum()} films met een negatief Budget of Gross.\")\n",
    "print(f\"In totaal zijn er {df_movies[['Budget', 'Gross']].gt(2_800_000_000).sum().sum()} films met een hogere opbrengst dan de meest succesvolle film ooit.\")\n",
    "\n",
    "neg = df_movies._get_numeric_data()\n",
    "neg[neg < 0] = 0\n",
    "# Credits: stackoverflow.com/questions/27759084/how-to-replace-negative-numbers-in-pandas-data-frame-by-zero\n",
    "\n",
    "# Verwijderen films met budget van 0\n",
    "df_movies = df_movies[(df_movies[['Budget', 'Gross']] != 0).all(axis=1)]"
   ],
   "metadata": {
    "collapsed": false,
    "pycharm": {
     "name": "#%%\n",
     "is_executing": false
    }
   }
  },
  {
   "cell_type": "markdown",
   "source": [
    "Na stap 3. Data Cleaning ziet het DataFrame er als volgt uit:"
   ],
   "metadata": {
    "collapsed": false
   }
  },
  {
   "cell_type": "code",
   "execution_count": 369,
   "outputs": [
    {
     "data": {
      "text/plain": "                          Movie title   Budget    Gross Release year\n4958  Over the Hill to the Poorhouse    100000  3000000   1920-01-01\n2734                      Metropolis   6000000    26435   1927-01-01\n4812             The Broadway Melody    379000  2808000   1929-01-01\n4786                     42nd Street    439000  2300000   1933-01-01\n4706                         Top Hat    609000  3000000   1935-01-01",
      "text/html": "<div>\n<style scoped>\n    .dataframe tbody tr th:only-of-type {\n        vertical-align: middle;\n    }\n\n    .dataframe tbody tr th {\n        vertical-align: top;\n    }\n\n    .dataframe thead th {\n        text-align: right;\n    }\n</style>\n<table border=\"1\" class=\"dataframe\">\n  <thead>\n    <tr style=\"text-align: right;\">\n      <th></th>\n      <th>Movie title</th>\n      <th>Budget</th>\n      <th>Gross</th>\n      <th>Release year</th>\n    </tr>\n  </thead>\n  <tbody>\n    <tr>\n      <th>4958</th>\n      <td>Over the Hill to the Poorhouse</td>\n      <td>100000</td>\n      <td>3000000</td>\n      <td>1920-01-01</td>\n    </tr>\n    <tr>\n      <th>2734</th>\n      <td>Metropolis</td>\n      <td>6000000</td>\n      <td>26435</td>\n      <td>1927-01-01</td>\n    </tr>\n    <tr>\n      <th>4812</th>\n      <td>The Broadway Melody</td>\n      <td>379000</td>\n      <td>2808000</td>\n      <td>1929-01-01</td>\n    </tr>\n    <tr>\n      <th>4786</th>\n      <td>42nd Street</td>\n      <td>439000</td>\n      <td>2300000</td>\n      <td>1933-01-01</td>\n    </tr>\n    <tr>\n      <th>4706</th>\n      <td>Top Hat</td>\n      <td>609000</td>\n      <td>3000000</td>\n      <td>1935-01-01</td>\n    </tr>\n  </tbody>\n</table>\n</div>"
     },
     "metadata": {},
     "output_type": "execute_result",
     "execution_count": 369
    }
   ],
   "source": [
    "df_movies.head()"
   ],
   "metadata": {
    "collapsed": false,
    "pycharm": {
     "name": "#%%\n",
     "is_executing": false
    }
   }
  },
  {
   "cell_type": "markdown",
   "source": [
    "Het DataFrame is nu volledig opgeschoont. Beargumentering van de werkwijze:  \n",
    "Aangezien nan-types niet kunnen worden opgeslagen in een kolom met het datatype `integer`\n",
    "zullen met stap 1 van de datacleaning alleen alle nan-types van de kolom `Movie title` worden verwijderd*.    \n",
    "*Bron: pandas.pydata.org/pandas-docs/stable/user_guide/integer_na.html\n",
    "\n",
    "Het omzetten van alle absurde waardes van `Budget` en `Gross` dienen mede hierdoor te worden omgezet naar `0`\n",
    "alvorens deze rijen kunnen worden gedropped. Absurde waardes van `Budget` en `Gross` zijn alle\n",
    "negatieve waardes. Andere absurde waardes zijn films met een `Budget` en/of `Gross` van meer dan\n",
    "2.8 miljard. Er is immers nog nooit een film* geweest die meer dan 2.8 miljard opbracht.  \n",
    "Zodra alle absurde waardes omgezet zijn naar `0` worden deze uit de dataset gefilterd.\n",
    "*Bron: nl.wikipedia.org/wiki/Lijst_van_succesvolste_films \n",
    "\n",
    "Door het DataFrame eerst te sorteren op `Release year` en vervolgens de laatste waarde te behouden wordt\n",
    "de meest recente uitgave van een film bewaard. Te zien is dat maar liefst (4935-4811=) 124 films dubbel\n",
    "in de dataset voorkwamen.\n",
    "\n",
    "\n",
    "## 4. Data Exploration & Analysis\n",
    "\n",
    "Nu de data geprepareerd is kunnen wij onze eerste verkenning gaan uitvoeren. Door middel van describe krijgen we\n",
    "in een oogopslag een duidelijk beeld van het DataFrame `df_movies`. "
   ],
   "metadata": {
    "collapsed": false
   }
  },
  {
   "cell_type": "code",
   "execution_count": 370,
   "outputs": [
    {
     "data": {
      "text/plain": "            Movie title        Budget         Gross         Release year\ncount              3786  3.786000e+03  3.786000e+03                 3786\nunique             3786           NaN           NaN                   75\ntop     The Last Stand            NaN           NaN  2002-01-01 00:00:00\nfreq                  1           NaN           NaN                  189\nfirst               NaN           NaN           NaN  1920-01-01 00:00:00\nlast                NaN           NaN           NaN  2016-01-01 00:00:00\nmean                NaN  3.914100e+07  5.024397e+07                  NaN\nstd                 NaN  6.267147e+07  6.873808e+07                  NaN\nmin                 NaN  2.180000e+02  1.620000e+02                  NaN\n25%                 NaN  9.500000e+06  6.572147e+06                  NaN\n50%                 NaN  2.400000e+07  2.727928e+07                  NaN\n75%                 NaN  5.000000e+07  6.498776e+07                  NaN\nmax                 NaN  2.127520e+09  7.605058e+08                  NaN",
      "text/html": "<div>\n<style scoped>\n    .dataframe tbody tr th:only-of-type {\n        vertical-align: middle;\n    }\n\n    .dataframe tbody tr th {\n        vertical-align: top;\n    }\n\n    .dataframe thead th {\n        text-align: right;\n    }\n</style>\n<table border=\"1\" class=\"dataframe\">\n  <thead>\n    <tr style=\"text-align: right;\">\n      <th></th>\n      <th>Movie title</th>\n      <th>Budget</th>\n      <th>Gross</th>\n      <th>Release year</th>\n    </tr>\n  </thead>\n  <tbody>\n    <tr>\n      <th>count</th>\n      <td>3786</td>\n      <td>3.786000e+03</td>\n      <td>3.786000e+03</td>\n      <td>3786</td>\n    </tr>\n    <tr>\n      <th>unique</th>\n      <td>3786</td>\n      <td>NaN</td>\n      <td>NaN</td>\n      <td>75</td>\n    </tr>\n    <tr>\n      <th>top</th>\n      <td>The Last Stand</td>\n      <td>NaN</td>\n      <td>NaN</td>\n      <td>2002-01-01 00:00:00</td>\n    </tr>\n    <tr>\n      <th>freq</th>\n      <td>1</td>\n      <td>NaN</td>\n      <td>NaN</td>\n      <td>189</td>\n    </tr>\n    <tr>\n      <th>first</th>\n      <td>NaN</td>\n      <td>NaN</td>\n      <td>NaN</td>\n      <td>1920-01-01 00:00:00</td>\n    </tr>\n    <tr>\n      <th>last</th>\n      <td>NaN</td>\n      <td>NaN</td>\n      <td>NaN</td>\n      <td>2016-01-01 00:00:00</td>\n    </tr>\n    <tr>\n      <th>mean</th>\n      <td>NaN</td>\n      <td>3.914100e+07</td>\n      <td>5.024397e+07</td>\n      <td>NaN</td>\n    </tr>\n    <tr>\n      <th>std</th>\n      <td>NaN</td>\n      <td>6.267147e+07</td>\n      <td>6.873808e+07</td>\n      <td>NaN</td>\n    </tr>\n    <tr>\n      <th>min</th>\n      <td>NaN</td>\n      <td>2.180000e+02</td>\n      <td>1.620000e+02</td>\n      <td>NaN</td>\n    </tr>\n    <tr>\n      <th>25%</th>\n      <td>NaN</td>\n      <td>9.500000e+06</td>\n      <td>6.572147e+06</td>\n      <td>NaN</td>\n    </tr>\n    <tr>\n      <th>50%</th>\n      <td>NaN</td>\n      <td>2.400000e+07</td>\n      <td>2.727928e+07</td>\n      <td>NaN</td>\n    </tr>\n    <tr>\n      <th>75%</th>\n      <td>NaN</td>\n      <td>5.000000e+07</td>\n      <td>6.498776e+07</td>\n      <td>NaN</td>\n    </tr>\n    <tr>\n      <th>max</th>\n      <td>NaN</td>\n      <td>2.127520e+09</td>\n      <td>7.605058e+08</td>\n      <td>NaN</td>\n    </tr>\n  </tbody>\n</table>\n</div>"
     },
     "metadata": {},
     "output_type": "execute_result",
     "execution_count": 370
    }
   ],
   "source": [
    "df_movies.describe(include = \"all\")"
   ],
   "metadata": {
    "collapsed": false,
    "pycharm": {
     "name": "#%%\n",
     "is_executing": false
    }
   }
  },
  {
   "cell_type": "markdown",
   "source": [
    "Enkele verwachtingen:\n",
    "1. Een film heeft waarschijnlijk meer Facebook likes dan de director.\n",
    "2. De meeste films zullen winst maken\n",
    "3. Het meerendeel van de films zullen in het Engels zijn\n",
    "4. Comedie en Actie zullen waarschijnlijk de meest voorkomende genres zijn.\n",
    "\n",
    "Testen van de verwachtingen:\n",
    "1. Gemiddeld heeft een film meer dan 10x zoveel likes dan een director.\n",
    "2. Gemiddeld brengt een 40 miljoen op en is er een budget van 30 miljoen voor. Echter heeft de opbrengst een\n",
    "standaard deviatie van 65 miljoen en het budget een standaard deviatie van 79 miljoen. Een goede conclusie is nog niet te geven.\n",
    "3. 93.3% van de films zijn in het Engels. Dit is een ruime meerderheid.\n",
    "4. Tegen de verwachtingen in is `Drama` het meest voorkomende genre met 229 maal. Echter valt hier ook nog niks over \n",
    "te zeggen omdat veel films meerdere genres bevatten.\n",
    "\n",
    "Enkele overige observaties:\n",
    "- Het DataFrame bevat nog 4811 (95.4%) van de originele 5043 rijen \n",
    "- `Movie title` bevat zoals beoogd alleen maar nog unieke waarden.\n",
    "- De gemiddelde IMDB Score van een film is 6.5 met een standaard deviatie van 1.1. De laagste en hoogste scores zijn 1.6 resp. 9.3.\n",
    "- Het DataFrame bevat films die uitgegeven zijn tussen 1916 en 2016. Een interval van 100 jaar.\n",
    "- `Actor 3` bestaat uit de meest (3450) verschillende acteurs, gevolgd door `Actor 2 (2962)`en als laatste `Actor 1 (2042)`."
   ],
   "metadata": {
    "collapsed": false
   }
  },
  {
   "cell_type": "markdown",
   "source": [
    "De volgende plots zijn slechts voor de eerste analyse van de data. Uiteraard zullen deze nog uitgebreid en verbeterd worden\n",
    "in de loop van het project. In de volgende scatterplot zijn het budget en de opbrengsten van films geplot. Te zien is dat \n",
    "de meeste films niet meer dan 200 miljoen hebben gekost en niet meer dan 400 miljoen opleveren. Enkele uitschieters daargelaten."
   ],
   "metadata": {
    "collapsed": false
   }
  },
  {
   "cell_type": "code",
   "execution_count": 377,
   "outputs": [
    {
     "data": {
      "text/plain": "<Figure size 432x288 with 1 Axes>",
      "image/png": "[encoded data removed]"
     },
     "metadata": {
      "needs_background": "light"
     },
     "output_type": "display_data"
    }
   ],
   "source": [
    "fig, ax = plt.subplots()\n",
    "plt.title(\"Relatie tussen het budget en de opbrengst van een film.\")\n",
    "plt.xlabel(\"Budget\")\n",
    "plt.ylabel(\"Opbrengst\")\n",
    "scatter = ax.scatter(\"Gross\", \"Budget\", data=df_movies)\n",
    "plt.show()"
   ],
   "metadata": {
    "collapsed": false,
    "pycharm": {
     "name": "#%%\n",
     "is_executing": false
    }
   }
  },
  {
   "cell_type": "markdown",
   "source": [
    "In de volgende twee boxplots is de spreiding te zien van het budget en de opbrengsten van alle films. Te zien is dat \n",
    "het budget van films relatef minder is verspreid dan de opbrengst van de films. De boxplot van de opbrengsten heeft \n",
    "tevens veel meer uitschieters."
   ],
   "metadata": {
    "collapsed": false
   }
  },
  {
   "cell_type": "code",
   "execution_count": 379,
   "outputs": [
    {
     "data": {
      "text/plain": "<Figure size 432x288 with 2 Axes>",
      "image/png": "[encoded data removed]"
     },
     "metadata": {
      "needs_background": "light"
     },
     "output_type": "display_data"
    }
   ],
   "source": [
    "fig, (ax1, ax2) = plt.subplots(1, 2)\n",
    "plt.suptitle(\"Boxplots van het budget en de opbrengst van films\")\n",
    "ax1.set_xlabel(\"Budget\")\n",
    "ax1.boxplot(df_movies[\"Budget\"])\n",
    "ax2.set_xlabel(\"Opbrengst\")\n",
    "ax2.boxplot(df_movies[\"Gross\"])\n",
    "plt.show()\n"
   ],
   "metadata": {
    "collapsed": false,
    "pycharm": {
     "name": "#%%\n",
     "is_executing": false
    }
   }
  }
 ],
 "metadata": {
  "kernelspec": {
   "display_name": "Python 3",
   "language": "python",
   "name": "python3"
  },
  "language_info": {
   "codemirror_mode": {
    "name": "ipython",
    "version": 2
   },
   "file_extension": ".py",
   "mimetype": "text/x-python",
   "name": "python",
   "nbconvert_exporter": "python",
   "pygments_lexer": "ipython2",
   "version": "2.7.6"
  },
  "pycharm": {
   "stem_cell": {
    "cell_type": "raw",
    "source": [],
    "metadata": {
     "collapsed": false
    }
   }
  }
 },
 "nbformat": 4,
 "nbformat_minor": 0
}