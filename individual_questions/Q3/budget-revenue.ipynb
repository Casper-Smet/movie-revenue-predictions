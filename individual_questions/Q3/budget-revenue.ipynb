{
 "cells": [
  {
   "cell_type": "code",
   "execution_count": 51,
   "metadata": {
    "pycharm": {
     "is_executing": false,
     "name": "#%%\n"
    }
   },
   "outputs": [],
   "source": [
    "#%load_ext nb_black\n",
    "\n",
    "import matplotlib.pyplot as plt\n",
    "import numpy as np\n",
    "import pandas as pd\n",
    "import seaborn as sns\n",
    "from scipy.stats import zscore\n",
    "from sklearn.linear_model import LinearRegression\n",
    "from sklearn.metrics import mean_squared_error\n",
    "from sklearn.model_selection import train_test_split\n",
    "\n",
    "# TODO: Kolommen van int omzetten naar \"Int64\" zodat np.NaN kan worden opgeslagen ipv 0 als placeholder\n",
    "# TODO: NaN-types als laatste verwijderen na alle cleanup\n",
    "# TODO: Negatieve waardes beter filteren op één regel\n",
    "\n",
    "# TODO: Correlatiematrix toevoegen bij het selecteren van de kolommen"
   ]
  },
  {
   "cell_type": "markdown",
   "metadata": {},
   "source": [
    "# In hoeverre is het mogelijk om de budget-omzet verhouding te voorspellen?\n",
    "Ook voor deze onderzoeksvraag zullen de zeven stappen van het Data Science-proces worden toegepast. \n",
    "Stappen 1, 2 en 3 zullen in grote maten hetzelfde zijn als bij de overige twee onderzoeksvragen.\n",
    "### Het Data Science-proces\n",
    "1. Data collection\n",
    "2. Data processing (ook wel data munging)\n",
    "3. Data cleaning\n",
    "4. Data exploration & analysis\n",
    "5. Model building\n",
    "6. Visualization\n",
    "7. Communication\n",
    "\n",
    "## 1. Data Collection\n",
    "Voor het beantwoorden van deze onderzoeksvraag zal alleen gebruik worden gemaakt van `movie.csv`.\n",
    "Om te zien of de dataset `movie.csv` goed is ingeladen, worden de eerste vijf rijen getoond:"
   ]
  },
  {
   "cell_type": "code",
   "execution_count": 2,
   "metadata": {
    "pycharm": {
     "is_executing": false,
     "name": "#%%\n"
    }
   },
   "outputs": [],
   "source": [
    "df_movies = pd.read_csv(\"../../data/movie.csv\")\n",
    "print(f\"In totaal zijn er {len(df_movies)} films.\\n\")\n",
    "df_movies.head()"
   ]
  },
  {
   "cell_type": "markdown",
   "metadata": {
    "pycharm": {
     "name": "#%% md\n"
    }
   },
   "source": [
    "Te zien is dat de data goed wordt ingelezen en de waardes in de juiste kolommen komen te staan.\n",
    "Verder zijn er al NaN-waardes te zien en staan veel gegevens opgeslagen als floats.\n",
    "\n",
    "## 2. Data Processing\n",
    "Ook deze stap is grotendeels voor ons gedaan. De data is goed opgeslagen in een `.csv`-bestand\n",
    "en kan direct worden opgeslagen als een _Pandas_ DataFrame.\n",
    "\n",
    "Verder rest ons nog de volgende drie stappen:\n",
    "1. Het selecteren van de gewenste kolommen\n",
    "2. Het aanpassen van onduidelijke kolomnamen\n",
    "3. Het aanpassen van de datatypen\n",
    "\n",
    "4. Het berekenen van de budget-gross verhouding van iedere film\n",
    "5. Het berekenen van de Zscore-afstand tussen budget en film "
   ]
  },
  {
   "cell_type": "code",
   "execution_count": 3,
   "metadata": {
    "pycharm": {
     "is_executing": false,
     "name": "#%% \n"
    }
   },
   "outputs": [],
   "source": [
    "# Selecteren gewenste kolommen\n",
    "df_movies = df_movies[[\"movie_title\", \"budget\", \"gross\", \"title_year\", \"num_voted_users\", \"num_user_for_reviews\", \"num_critic_for_reviews\"]]\n",
    "\n",
    "# Onduidelijke kolomnamen aanpassen\n",
    "df_movies.rename(\n",
    "    columns={\n",
    "        \"movie_title\": \"Movie title\",\n",
    "        \"budget\": \"Budget\",\n",
    "        \"gross\": \"Gross\",\n",
    "        \"title_year\": \"Release year\",\n",
    "        \"num_voted_users\": \"Number of voted users\",\n",
    "        \"num_user_for_reviews\": \"Number of user reviews\",\n",
    "        \"num_critic_for_reviews\": \"Number of critics\"}, inplace=True,)\n",
    "\n",
    "# Datatypen aanpassen: Floats naar integers omzetten\n",
    "df_movies.fillna(0, inplace=True)\n",
    "df_movies = df_movies.astype({\"Budget\": int,\n",
    "                              \"Gross\": int,\n",
    "                              \"Number of voted users\": int, \n",
    "                              \"Number of user reviews\": int,\n",
    "                              \"Number of critics\": int})\n",
    "\n",
    "\n",
    "# Datatypes aanpassen: De kolom `Release year` omzettten van integers naar het datetime-datatype\n",
    "df_movies[\"Release year\"] = pd.to_datetime(df_movies[\"Release year\"], format=\"%Y\", errors=\"coerce\")"
   ]
  },
  {
   "cell_type": "code",
   "execution_count": 4,
   "outputs": [],
   "source": [
    "# Verhouding tussen budget en gross berekenen en opslaan in nieuwe kolom\n",
    "df_movies[\"Budget Gross verh\"] = df_movies[\"Gross\"] / df_movies[\"Budget\"]\n",
    "\n",
    "# Zscores berekenen van Budget en Gross.\n",
    "df_movies[\"Budget Gross Zscore afst\"] = abs(zscore(df_movies[[\"Budget\"]]) - zscore(df_movies[[\"Gross\"]]))\n",
    "\n",
    "df_movies.dtypes\n"
   ],
   "metadata": {
    "collapsed": false,
    "pycharm": {
     "name": "#%%\n",
     "is_executing": false
    }
   }
  },
  {
   "cell_type": "markdown",
   "metadata": {},
   "source": [
    "Het DataFrame `df_movies` ziet er nu als volgt uit:"
   ]
  },
  {
   "cell_type": "code",
   "execution_count": 5,
   "metadata": {
    "pycharm": {
     "is_executing": false,
     "name": "#%% \n"
    }
   },
   "outputs": [],
   "source": [
    "df_movies.head()"
   ]
  },
  {
   "cell_type": "markdown",
   "metadata": {},
   "source": [
    "Alle kolommen van het DataFrame hebben nu het juiste datatype.\n",
    "`Budget` en `Gross` bestaan uit integers en `Release year` bestaat uit het `datetime` datatype.\n",
    "Echter zijn er nog wel 0-waardes en NaT-waardes zichtbaar. Deze rijen dienen tijdens _stap 3. Data\n",
    "Cleaning_ nog te worden opgeschoont.\n",
    "\n",
    "De kolom `Budget Gross verh` bevat de mate waarin het budget en gross zich verhouden.\n",
    "Dit werkt middels de formule $Gross / Budget$. Een waarde groter dan 1 betekend winst. Alles onder\n",
    "de 1 betekend verlies.\n",
    "\n",
    "In `Budget Gross Zscore afst` staat het (absolute) verschil tussen de Zscore van het budget\n",
    "en de gross. Als het budget van een film een zscore heeft van 1 terwijl de omzet een zscore van\n",
    "4 heeft kunnen we concluderen dat de film veel beter heeft gepresteerd dan te verwachten was.\n",
    "\n",
    "Om betere modellen te maken die algemener werken worden films met een zscore van meer\n",
    "dan 6 bij _stap 3. Data Cleaning_ verwijderd. Dit zal later verder worden toegelicht.\n",
    "\n",
    "## 3. Data Cleaning\n",
    "Nu de data in de juiste kolommen met de juiste datatypes is opgeslagen kunnen we de data gaan opschonen.\n",
    "Na het uitvoeren van de volgende stappen hebben we een DataFrame die klaar voor analyse is.\n",
    "1. Het verwijderen van NaN-types\n",
    "2. Het verwijderen van dubbele `Movie titles`\n",
    "3. Het omzetten van onrealistische waardes naar 0\n",
    "4. Het verwijderen van rijen met een budget van 0\n",
    "5. Het verwijderen van rijen met een `Budget Gross zscore verh` van meer dan 6"
   ]
  },
  {
   "cell_type": "code",
   "execution_count": 6,
   "metadata": {
    "pycharm": {
     "is_executing": false,
     "name": "#%%\n"
    }
   },
   "outputs": [],
   "source": [
    "# NaN-types verwijderen uit de titels\n",
    "df_movies.dropna(inplace=True)\n",
    "print(f\"In totaal zijn er {len(df_movies)} films die een titel hebben.\")\n",
    "\n",
    "# Dubbele titels verwijderen\n",
    "df_movies.sort_values(\"Release year\", inplace=True)  # Sorteren op uitgavejaar\n",
    "df_movies.drop_duplicates(subset=\"Movie title\", keep=\"last\", inplace=True)  # Alleen meest recente versie blijft bewaard\n",
    "print(f\"In totaal zijn er {len(df_movies)} films zonder duplicaten over.\")\n",
    "\n",
    "# Onrealistische waardes omzetten\n",
    "print(f\"In totaal zijn er {df_movies[['Budget', 'Gross']].lt(0).sum().sum()} films met een negatief Budget of Gross.\")\n",
    "print(f\"In totaal zijn er {df_movies[['Budget']].gt(400_000_000).sum().sum()} films met een budget hoger dan de duurste film ooit.\")\n",
    "print(f\"In totaal zijn er {df_movies[['Budget', 'Gross']].gt(2_800_000_000).sum().sum()} films met een hogere omzet dan de meest succesvolle film ooit.\")\n",
    "print(f\"In totaal zijn er {df_movies['Budget Gross Zscore afst'].gt(6).sum().sum()} films met een extreem verschil tussen budget en gross.\")\n",
    "\n",
    "# Negatieve waardes omzetten\n",
    "df_movies = df_movies[(df_movies[\"Budget\"] >= 0)]\n",
    "df_movies = df_movies[(df_movies[\"Gross\"] >= 0)]\n",
    "\n",
    "# 'Te dure' films verwijderen\n",
    "df_movies = df_movies[(df_movies[\"Budget\"] < 400_000_000)]\n",
    "\n",
    "# Verwijderen films met budget van 0\n",
    "df_movies = df_movies[(df_movies[[\"Budget\", \"Gross\"]] != 0).all(axis=1)]\n",
    "\n",
    "# Verwijderen films met zscore afstand van meer dan 6\n",
    "df_movies = df_movies[(df_movies[\"Budget Gross Zscore afst\"] <= 6)]"
   ]
  },
  {
   "cell_type": "markdown",
   "metadata": {},
   "source": [
    "Na _stap 3. Data Cleaning_ ziet het DataFrame er als volgt uit:"
   ]
  },
  {
   "cell_type": "code",
   "execution_count": 7,
   "metadata": {
    "pycharm": {
     "is_executing": false,
     "name": "#%%\n"
    }
   },
   "outputs": [],
   "source": [
    "df_movies.head()"
   ]
  },
  {
   "cell_type": "markdown",
   "metadata": {},
   "source": [
    "Het DataFrame is nu volledig opgeschoond en klaar voor de volgende stap.\n",
    "  \n",
    "NaN-types kunnen niet worden opgeslagen in kolommen met het datatype `int32`*.\n",
    "Als oplossing werden onder andere de onrealistische waardes opgeslagen als `0` om \n",
    "later te kunnen worden verwijderd uit het DataFrame.  \n",
    "*Bron: pandas.pydata.org/pandas-docs/stable/user_guide/integer_na.html\n",
    "\n",
    "Het omzetten van alle onrealistische waardes van `Budget` en `Gross` worden vervolgens omgezet naar `0`.\n",
    "Onrealistische waardes van `Budget` en `Gross` zijn onder andere de\n",
    "negatieve waardes. Andere onrealistische waardes zijn films met een `Budget` en/of `Gross` van meer dan\n",
    "2.8 miljard. Er is immers nog nooit een film* geweest die meer dan 2.8 miljard opbracht.\n",
    "Verder werden alle films met een `Budget` van meer dan 400 miljoen gedropped, de duurste film ooit\n",
    "kostte niet meer dan 400 miljoen. Door deze stap worden ook enkele extreme outliers gefilterd uit\n",
    "de data wat de visualisatie ten goede komt.  \n",
    "Zodra de onrealistische waardes omgezet zijn naar `0` worden deze uit de dataset verwijderd.  \n",
    "*Bron: nl.wikipedia.org/wiki/Lijst_van_succesvolste_films \n",
    "\n",
    "Door het DataFrame te sorteren op `Release year` en vervolgens de laatste waarde te behouden, wordt\n",
    "de meest recente uitgave van een film bewaard. Te zien is dat maar liefst $(4808-4689=)$ 119 films dubbel\n",
    "in de dataset voorkwamen.\n",
    "\n",
    "Uit het DataFrame worden alle waardes gegooid met een zscore afstand van meer dan 6 standaard\n",
    "deviaties. Dit zijn extreme uitschieters die slechts 16 maal voorkomen.\n",
    "Om het model beter te laten werken en te generaliseren voor meer punten worden deze waardes verwijderd.\n",
    "Er is gekozen voor 6 standaard deviaties aangezien dan verwacht kan worden dat 99.8%\n",
    "procent van de waardes overblijven. Hiermee worden alle extremen uit het DataFrame gefilterd.\n",
    "\n",
    "\n",
    "## 4. Data Exploration & Analysis\n",
    "\n",
    "Nu de data is geprepareerd, kan begonnen worden aan de eerste verkenning. Door middel van\n",
    "describe krijgen we in één oogopslag een duidelijk beeld van het DataFrame."
   ]
  },
  {
   "cell_type": "code",
   "execution_count": 8,
   "metadata": {
    "pycharm": {
     "is_executing": false,
     "name": "#%%\n"
    }
   },
   "outputs": [],
   "source": [
    "df_movies.describe(include=\"all\")"
   ]
  },
  {
   "cell_type": "markdown",
   "metadata": {},
   "source": [
    "Enkele verwachtingen:\n",
    "1. Het meerendeel van de films zal winst maken\n",
    "2. Nieuwere films zullen relatief meer winst maken dan oudere films\n",
    "3. Het budget van relatief oudere films zal lager zijn dan dat van relatief nieuwe films \n",
    "\n",
    "Enkele eerste observaties:\n",
    "- Het DataFrame bevat nog 3772 (74.9%) van de originele 5043 rijen \n",
    "- `Movie title` bevat zoals beoogd alleen maar nog unieke waardes.\n",
    "- Gemiddeld brengt een film 49 miljoen op en is er een budget van 37 miljoen. Echter heeft\n",
    " het budget een standaard deviatie van 42 miljoen en de omzet een standaard deviatie van 65 miljoen.\n",
    "- Het `Release year` 2002 komt met 189x het vaakst voor\n",
    "- Het DataFrame bevat films die uitgegeven zijn tussen 1920 en 2016. Een interval van bijna 100 jaar.\n",
    "\n",
    "\n",
    "In de volgende scatterplot zijn het budget en de omzet van films geplot.\n",
    "Dit geeft een eerste beeld van de spreiding van de data en de relatie tussen het budget en de omzet.\n",
    "Er wordt een sample van 350 (+- 10%) stuks genomen om de data beter te visualiseren.\n",
    "\n",
    "Tevens wordt de baseline al getekend. Deze wordt vastgesteld op $y = x$ oftewel het break-even point.\n",
    "Alles films onder de lijn hebben verlies geleden, allen boven de lijn maakten winst. De baseline\n",
    "wordt gebruikt om vast te stellen een geproduceerd model wel echt beter is dan geen model."
   ]
  },
  {
   "cell_type": "code",
   "execution_count": 9,
   "metadata": {
    "pycharm": {
     "is_executing": false,
     "name": "#%%\n"
    }
   },
   "outputs": [],
   "source": [
    "fig, ax = plt.subplots()\n",
    "df_movies_sample = df_movies.sample(350, random_state=42)\n",
    "sns.scatterplot(\"Budget\", \"Gross\", data=df_movies_sample)\n",
    "\n",
    "coords = [np.min([ax.get_xlim(), ax.get_ylim()]),\n",
    "          np.max([ax.get_xlim(), ax.get_ylim()])]\n",
    "\n",
    "ax.plot(coords, coords, zorder=0, color='black')\n",
    "plt.show()"
   ]
  },
  {
   "cell_type": "markdown",
   "metadata": {},
   "source": [
    "Een mogelijke functie om, in plaats van een selectie, alle films te analyseren is `jointplot`.\n",
    "Jointplots geven op een snelle manier de verspreiding maar vooral dichtheid van punten weer.\n",
    "Er is goed te zien dat de meeste films onder een budget van één miljoen blijven en \n",
    "dat veruit de meeste films onder een omzet van twee miljoen blijven.\n",
    "Er valt zelfs al een kleine positieve correlatie te spotten.\n",
    "\n",
    "Om de plot overzichtelijk te houden is gekozen om de dichtheid weer te geven.\n",
    "Het grote aantal films kan, zoals we hierboven al zagen, tot een onoverzichtelijke plot leiden.\n",
    "Credits: seaborn.pydata.org/generated/seaborn.jointplot.html"
   ]
  },
  {
   "cell_type": "code",
   "execution_count": 10,
   "metadata": {
    "pycharm": {
     "is_executing": false,
     "name": "#%%\n"
    }
   },
   "outputs": [],
   "source": [
    "sns.jointplot(\"Budget\", \"Gross\", data=df_movies, kind=\"kde\", space=0)\n",
    "plt.show()"
   ]
  },
  {
   "cell_type": "markdown",
   "metadata": {},
   "source": [
    "In de vorige jointplot waren individuele outliers niet te zien.\n",
    "Boxplots zijn uitermate geschikt om deze wel weer te geven.\n",
    "\n",
    "De omzet van films is veel verspreider dan het budget van films. Tevens zijn\n",
    "er bij de omzet veel meer extreme outliers te zien.\n",
    "Door het grote aantal uitschieters kunnen zelfs boxplots heel onoverzichtelijk worden."
   ]
  },
  {
   "cell_type": "code",
   "execution_count": 11,
   "metadata": {
    "pycharm": {
     "is_executing": false,
     "name": "#%%\n"
    }
   },
   "outputs": [],
   "source": [
    "df_movies[[\"Budget\", \"Gross\"]].boxplot(grid=False)\n",
    "plt.show()"
   ]
  },
  {
   "cell_type": "markdown",
   "metadata": {
    "pycharm": {
     "name": "#%% md\n"
    }
   },
   "source": [
    "Een laatste poging om ook de outliers in kaart te brengen wordt gedaan door twee\n",
    "histogrammen te plotten. Bovenop de histogrammen worden streepjes getekend. Ieder streepje is een\n",
    "film. De outliers zijn nu zichtbaar geworden. Direct valt te zien dat het budget\n",
    "twee extreme uitschieters heeft bij drie en resp. vier miljoen.\n",
    "Gross heeft uitschieters die door gaan tot zo'n ongeveer 8 miljoen.\n",
    "\n",
    "Ook hier wordt weer duidelijk dat het meerendeel van de films het budget onder de één miljoen houdt\n",
    "en de opbrengst vooral onder de twee miljoen blijft. Er zijn slechts enkele films met een extreme\n",
    "verhouding tussen het budget en de omzet."
   ]
  },
  {
   "cell_type": "code",
   "execution_count": 12,
   "metadata": {
    "pycharm": {
     "is_executing": false,
     "name": "#%%\n"
    }
   },
   "outputs": [],
   "source": [
    "fig, axes = plt.subplots(1, 2, figsize=(12, 3), sharex=\"row\", sharey=\"row\")\n",
    "sns.distplot(df_movies[\"Budget\"], rug=True, kde=False, ax=axes[0], color=\"r\")\n",
    "sns.distplot(df_movies[\"Gross\"], rug=True, kde=False, ax=axes[1], color=\"g\")\n",
    "\n",
    "\n",
    "sns.distplot(df_movies[\"Budget Gross verh\"], rug=True, kde=False, ax=axes[0], color=\"b\")\n",
    "sns.distplot(df_movies[\"Number of critics\"], rug=True, kde=False, ax=axes[1], color=\"c\")\n",
    "plt.show()"
   ]
  },
  {
   "cell_type": "markdown",
   "metadata": {
    "pycharm": {
     "name": "#%% md\n"
    }
   },
   "source": [
    "Pandas heeft een hele handige methode ingebouwd voor DataFrames. Deze methode berekend direct de\n",
    "correlatie tussen iedere combinatie van twee variabelen. Standaard wordt de correlatie\n",
    "door middel van Pearsons correlatiecoëfficiënt berekend.\n",
    "\n",
    "Volgens Pearsons correlatiecoëfficiënt blijkt dat er een correlatie van 0.64 is tussen Budget en\n",
    "Gross. Verder geven `Number of voted users`, `Number of user reviews` en `Number of critics` ook redelijke correlaties bij\n",
    "Budget en ook Gross. Echter willen we voor het beantwoorden van de onderzoeksvraag de correlatie tussen\n",
    "de verschillende features en `Budget Gross verh` weten."
   ]
  },
  {
   "cell_type": "code",
   "execution_count": 13,
   "metadata": {
    "pycharm": {
     "is_executing": false,
     "name": "#%%\n"
    }
   },
   "outputs": [],
   "source": [
    "df_movies.corr()"
   ]
  },
  {
   "cell_type": "markdown",
   "metadata": {
    "pycharm": {
     "is_executing": false,
     "name": "#%% md\n"
    }
   },
   "source": [
    "## 5. Model Building\n",
    "Om een beeld te krijgen van de verhouding tussen het budget en de omzet bouwen we een klein\n",
    "Linear Regressie-model. Voor de x-as wordt het budget geselecteerd en voor de y-as de omzet. Vervolgens wordt\n",
    "de data gesplit in een test- en trainset. Aangezien er redelijk veel data tot de beschikking is,\n",
    "wordt er getraind met een 80/20 verhouding."
   ]
  },
  {
   "cell_type": "code",
   "execution_count": 14,
   "metadata": {
    "pycharm": {
     "is_executing": false
    }
   },
   "outputs": [],
   "source": [
    "X = df_movies[[\"Budget\"]]\n",
    "y = df_movies[\"Gross\"]\n",
    "\n",
    "X_train, X_test, y_train, y_test = train_test_split(X, y, random_state=42, train_size=0.8)\n",
    "print(f\"Aantal trainwaarden: {len(X_train):5}\")\n",
    "print(f\"Aantal testwaarden: {len(y_test):6}\")"
   ]
  },
  {
   "cell_type": "markdown",
   "source": [
    "Vervolgens dient het model te worden aangemaakt en getraind. Zodra dit model getraind is kan de\n",
    "formule $Y = AX + B$ worden ingevuld. Dit maakt het mogelijk om ieder mogelijk budget $x$ in\n",
    "te vullen waarna $y$ zal resulteren in de voorspelde omzet."
   ],
   "metadata": {
    "collapsed": false,
    "pycharm": {
     "name": "#%% md\n"
    }
   }
  },
  {
   "cell_type": "code",
   "execution_count": 15,
   "outputs": [],
   "source": [
    "linReg = LinearRegression()\n",
    "linReg.fit(X_train, y_train)\n",
    "print(f\"Formule van de lijn:\\nY = {linReg.coef_[0]:.4f} * X + {linReg.intercept_:.4f}\")"
   ],
   "metadata": {
    "collapsed": false,
    "pycharm": {
     "name": "#%%\n",
     "is_executing": false
    }
   }
  },
  {
   "cell_type": "markdown",
   "source": [
    "Zodra het model is gemaakt en getraind dient het te worden gevalideerd. Belangrijke \n",
    "prestatieindicatoren voor Lineare Regressie zijn de $R^2$ en de Root Mean Squared Error (RMSE).\n",
    " "
   ],
   "metadata": {
    "collapsed": false,
    "pycharm": {
     "name": "#%% md\n"
    }
   }
  },
  {
   "cell_type": "code",
   "execution_count": 16,
   "outputs": [],
   "source": [
    "y_pred = linReg.predict(X_test).reshape(-1, 1)\n",
    "print(f\"R2 score: {linReg.score(y_pred, y_test):.4f}\")\n",
    "print(f\"Root Mean Squared Error: {np.sqrt(mean_squared_error(y_test, y_pred)):_.4f}\\n\")  # Werkt"
   ],
   "metadata": {
    "collapsed": false,
    "pycharm": {
     "name": "#%%\n",
     "is_executing": false
    }
   }
  },
  {
   "cell_type": "markdown",
   "source": [
    "Om bovenstaand model weer te geven wordt bovenop een scatterplot de vastgestelde lineare formule getekend.\n",
    "Deze lijn wordt in het rood weergegeven. In het zwart is weer de baseline te zien.\n",
    "\n",
    "Te zien is dat de vastgestelde formule, de y-as\n",
    "bij een x-waarde van 0, hoger snijdt dan de baseline. Aangezien $A$ kleiner dan 1 is, zal\n",
    "de lijn na verloop van tijd de baseline snijden."
   ],
   "metadata": {
    "collapsed": false,
    "pycharm": {
     "name": "#%% md\n"
    }
   }
  },
  {
   "cell_type": "code",
   "execution_count": 17,
   "metadata": {
    "pycharm": {
     "is_executing": false
    }
   },
   "outputs": [],
   "source": [
    "fig, ax = plt.subplots()\n",
    "sns.scatterplot(X_test[\"Budget\"], y_test)\n",
    "plt.plot(X_test, y_pred, color=\"red\")\n",
    "\n",
    "coords = [np.min([ax.get_xlim(), ax.get_ylim()]),\n",
    "          np.max([ax.get_xlim(), ax.get_ylim()])]\n",
    "\n",
    "ax.plot(coords, coords, zorder=0, color='black', alpha=0.5)\n",
    "plt.show()\n",
    "print(df_movies.columns)"
   ]
  },
  {
   "cell_type": "markdown",
   "metadata": {
    "pycharm": {
     "name": "#%% md\n",
     "is_executing": false
    }
   },
   "source": [
    "# In hoeverre is het mogelijk om de budget-omzet verhouding te voorspellen?\n",
    "Na het evalueren van bovenstaand model en het opnieuw bestuderen van de onderzoeksvraag zijn\n",
    "we tot de conclusie gekomen dat bovenstaand model iets anders doet dan waar de onderzoeksvraag\n",
    "naar vraagt. Met bovenstaand model kan, tot op zekere hoogte, de omzet worden voorspeld bij\n",
    "een bepaald budget.\n",
    "\n",
    "Waar de onderzoeksvraag echter naar vraagt is het voorspellen van de budget/omzet-verhouding.\n",
    "Aan ons de taak om een goede combinatie van features te selecteren waardoor de \n",
    "budget/omzet-verhouding kan worden voorspeld. Tijdens de dataprocessing is een correlatiematrix\n",
    "getoond waaruit bleek dat `Number of voted users`, `Number of user reviews` en `Number of critics`\n",
    "de beste correlatie vertonen met `Budget` en/of `Gross`.\n",
    "\n",
    "Er wordt een nieuw model opgesteld met deze set features als X. Verder wordt `Budget Gross verh`\n",
    "als Y genomen."
   ]
  },
  {
   "cell_type": "code",
   "execution_count": 75,
   "outputs": [],
   "source": [
    "X = df_movies[[\"Number of voted users\", \"Number of user reviews\", \"Number of critics\"]]\n",
    "y = df_movies[\"Budget Gross verh\"]\n",
    "\n",
    "X_train, X_test, y_train, y_test = train_test_split(X, y, random_state=42, train_size=0.8)\n",
    "print(f\"Aantal trainwaarden: {len(X_train):5}\")\n",
    "print(f\"Aantal testwaarden: {len(y_test):6}\")"
   ],
   "metadata": {
    "collapsed": false,
    "pycharm": {
     "name": "#%%\n",
     "is_executing": false
    }
   }
  },
  {
   "cell_type": "markdown",
   "source": [
    "Ook zoals bij het vorige model wordt het getraind en zal de formule van de lijn worden berekend."
   ],
   "metadata": {
    "collapsed": false
   }
  },
  {
   "cell_type": "code",
   "execution_count": 76,
   "outputs": [],
   "source": [
    "linReg = LinearRegression()\n",
    "linReg.fit(X_train, y_train)\n",
    "print(f\"Formule van de lijn:\\nY = {linReg.coef_[0]:.4f} * X + {linReg.intercept_:.4f}\")"
   ],
   "metadata": {
    "collapsed": false,
    "pycharm": {
     "name": "#%%\n",
     "is_executing": false
    }
   }
  },
  {
   "cell_type": "markdown",
   "source": [
    "Ten slotte worden de R2 Score en de RMSE ook voor dit model berekend.\n",
    "Een R2 score van 0.0592 is extreem laag. De drie geselecteerde features samen lijken geen\n",
    "correlatie te hebben met de budget/omzet-verhouding. Deze features hadden individueel\n",
    "tijdens de Data Exploration echter wel enige maat van correlatie met budget en/of omzet."
   ],
   "metadata": {
    "collapsed": false
   }
  },
  {
   "cell_type": "code",
   "execution_count": 77,
   "outputs": [],
   "source": [
    "y_pred = linReg.predict(X_test)\n",
    "print(f\"R2 score: {linReg.score(X_test, y_test):.4f}\")\n",
    "print(f\"Root Mean Squared Error: {np.sqrt(mean_squared_error(y_test, y_pred)):_.4f}\\n\")"
   ],
   "metadata": {
    "collapsed": false,
    "pycharm": {
     "name": "#%%\n",
     "is_executing": false
    }
   }
  },
  {
   "cell_type": "code",
   "execution_count": null,
   "outputs": [],
   "source": [
    "\n"
   ],
   "metadata": {
    "collapsed": false,
    "pycharm": {
     "name": "#%%\n"
    }
   }
  }
 ],
 "metadata": {
  "celltoolbar": "Slideshow",
  "kernelspec": {
   "display_name": "Python 3",
   "language": "python",
   "name": "python3"
  },
  "language_info": {
   "codemirror_mode": {
    "name": "ipython",
    "version": 3
   },
   "file_extension": ".py",
   "mimetype": "text/x-python",
   "name": "python",
   "nbconvert_exporter": "python",
   "pygments_lexer": "ipython3",
   "version": "3.7.3"
  },
  "pycharm": {
   "stem_cell": {
    "cell_type": "raw",
    "source": [],
    "metadata": {
     "collapsed": false
    }
   }
  }
 },
 "nbformat": 4,
 "nbformat_minor": 1
}