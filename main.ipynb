{
 "cells": [
  {
   "cell_type": "code",
   "execution_count": 1,
   "metadata": {
    "pycharm": {
     "is_executing": false
    }
   },
   "outputs": [],
   "source": [
    "import pandas as pd\n",
    "import numpy as np"
   ]
  },
  {
   "cell_type": "markdown",
   "metadata": {},
   "source": [
    "# Movie Revenue Predictions\n",
    "\n",
    "Drie concept-onderzoeksvragen:\n",
    "- In hoeverre is de omzet van een film te voorspellen op basis van de populariteit op Facebook en IMDB zelf?\n",
    "- 2\n",
    "- 3\n",
    "\n",
    "## Het Data Science proces\n",
    "Voor de eerste verkenning is ons gevraagd om de eerste vier stappen uit te voeren:\n",
    "1. Data collection\n",
    "2. Data processing (ook wel data munging)\n",
    "3. Data cleaning\n",
    "4. Data exploration & analysis\n",
    "5. Model building\n",
    "6. Visualization\n",
    "6. Communication\n"
   ]
  },
  {
   "cell_type": "markdown",
   "metadata": {},
   "source": [
    "## 1. Data Collection\n",
    "De Data Collection is deels al voor ons gedaan. De dataset `movie.csv` is aangeleverd. Echter word voor de opdracht \n",
    "gevraagd om deze te combineren met een dataset van derden. Om erachter te komen welke dataset geschikt is om te \n",
    "combineren met `movies.csv`zullen wij deze dataset eerst moeten processen, cleanen en exploren.  "
   ]
  },
  {
   "cell_type": "code",
   "execution_count": 2,
   "outputs": [
    {
     "data": {
      "text/plain": "   color      director_name  num_critic_for_reviews  duration  \\\n0  Color      James Cameron                   723.0     178.0   \n1  Color     Gore Verbinski                   302.0     169.0   \n2  Color         Sam Mendes                   602.0     148.0   \n3  Color  Christopher Nolan                   813.0     164.0   \n4    NaN        Doug Walker                     NaN       NaN   \n\n   director_facebook_likes  actor_3_facebook_likes      actor_2_name  \\\n0                      0.0                   855.0  Joel David Moore   \n1                    563.0                  1000.0     Orlando Bloom   \n2                      0.0                   161.0      Rory Kinnear   \n3                  22000.0                 23000.0    Christian Bale   \n4                    131.0                     NaN        Rob Walker   \n\n   actor_1_facebook_likes        gross                           genres  ...  \\\n0                  1000.0  760505847.0  Action|Adventure|Fantasy|Sci-Fi  ...   \n1                 40000.0  309404152.0         Action|Adventure|Fantasy  ...   \n2                 11000.0  200074175.0        Action|Adventure|Thriller  ...   \n3                 27000.0  448130642.0                  Action|Thriller  ...   \n4                   131.0          NaN                      Documentary  ...   \n\n  num_user_for_reviews language  country  content_rating       budget  \\\n0               3054.0  English      USA           PG-13  237000000.0   \n1               1238.0  English      USA           PG-13  300000000.0   \n2                994.0  English       UK           PG-13  245000000.0   \n3               2701.0  English      USA           PG-13  250000000.0   \n4                  NaN      NaN      NaN             NaN          NaN   \n\n   title_year actor_2_facebook_likes imdb_score  aspect_ratio  \\\n0      2009.0                  936.0        7.9          1.78   \n1      2007.0                 5000.0        7.1          2.35   \n2      2015.0                  393.0        6.8          2.35   \n3      2012.0                23000.0        8.5          2.35   \n4         NaN                   12.0        7.1           NaN   \n\n  movie_facebook_likes  \n0                33000  \n1                    0  \n2                85000  \n3               164000  \n4                    0  \n\n[5 rows x 28 columns]",
      "text/html": "<div>\n<style scoped>\n    .dataframe tbody tr th:only-of-type {\n        vertical-align: middle;\n    }\n\n    .dataframe tbody tr th {\n        vertical-align: top;\n    }\n\n    .dataframe thead th {\n        text-align: right;\n    }\n</style>\n<table border=\"1\" class=\"dataframe\">\n  <thead>\n    <tr style=\"text-align: right;\">\n      <th></th>\n      <th>color</th>\n      <th>director_name</th>\n      <th>num_critic_for_reviews</th>\n      <th>duration</th>\n      <th>director_facebook_likes</th>\n      <th>actor_3_facebook_likes</th>\n      <th>actor_2_name</th>\n      <th>actor_1_facebook_likes</th>\n      <th>gross</th>\n      <th>genres</th>\n      <th>...</th>\n      <th>num_user_for_reviews</th>\n      <th>language</th>\n      <th>country</th>\n      <th>content_rating</th>\n      <th>budget</th>\n      <th>title_year</th>\n      <th>actor_2_facebook_likes</th>\n      <th>imdb_score</th>\n      <th>aspect_ratio</th>\n      <th>movie_facebook_likes</th>\n    </tr>\n  </thead>\n  <tbody>\n    <tr>\n      <td>0</td>\n      <td>Color</td>\n      <td>James Cameron</td>\n      <td>723.0</td>\n      <td>178.0</td>\n      <td>0.0</td>\n      <td>855.0</td>\n      <td>Joel David Moore</td>\n      <td>1000.0</td>\n      <td>760505847.0</td>\n      <td>Action|Adventure|Fantasy|Sci-Fi</td>\n      <td>...</td>\n      <td>3054.0</td>\n      <td>English</td>\n      <td>USA</td>\n      <td>PG-13</td>\n      <td>237000000.0</td>\n      <td>2009.0</td>\n      <td>936.0</td>\n      <td>7.9</td>\n      <td>1.78</td>\n      <td>33000</td>\n    </tr>\n    <tr>\n      <td>1</td>\n      <td>Color</td>\n      <td>Gore Verbinski</td>\n      <td>302.0</td>\n      <td>169.0</td>\n      <td>563.0</td>\n      <td>1000.0</td>\n      <td>Orlando Bloom</td>\n      <td>40000.0</td>\n      <td>309404152.0</td>\n      <td>Action|Adventure|Fantasy</td>\n      <td>...</td>\n      <td>1238.0</td>\n      <td>English</td>\n      <td>USA</td>\n      <td>PG-13</td>\n      <td>300000000.0</td>\n      <td>2007.0</td>\n      <td>5000.0</td>\n      <td>7.1</td>\n      <td>2.35</td>\n      <td>0</td>\n    </tr>\n    <tr>\n      <td>2</td>\n      <td>Color</td>\n      <td>Sam Mendes</td>\n      <td>602.0</td>\n      <td>148.0</td>\n      <td>0.0</td>\n      <td>161.0</td>\n      <td>Rory Kinnear</td>\n      <td>11000.0</td>\n      <td>200074175.0</td>\n      <td>Action|Adventure|Thriller</td>\n      <td>...</td>\n      <td>994.0</td>\n      <td>English</td>\n      <td>UK</td>\n      <td>PG-13</td>\n      <td>245000000.0</td>\n      <td>2015.0</td>\n      <td>393.0</td>\n      <td>6.8</td>\n      <td>2.35</td>\n      <td>85000</td>\n    </tr>\n    <tr>\n      <td>3</td>\n      <td>Color</td>\n      <td>Christopher Nolan</td>\n      <td>813.0</td>\n      <td>164.0</td>\n      <td>22000.0</td>\n      <td>23000.0</td>\n      <td>Christian Bale</td>\n      <td>27000.0</td>\n      <td>448130642.0</td>\n      <td>Action|Thriller</td>\n      <td>...</td>\n      <td>2701.0</td>\n      <td>English</td>\n      <td>USA</td>\n      <td>PG-13</td>\n      <td>250000000.0</td>\n      <td>2012.0</td>\n      <td>23000.0</td>\n      <td>8.5</td>\n      <td>2.35</td>\n      <td>164000</td>\n    </tr>\n    <tr>\n      <td>4</td>\n      <td>NaN</td>\n      <td>Doug Walker</td>\n      <td>NaN</td>\n      <td>NaN</td>\n      <td>131.0</td>\n      <td>NaN</td>\n      <td>Rob Walker</td>\n      <td>131.0</td>\n      <td>NaN</td>\n      <td>Documentary</td>\n      <td>...</td>\n      <td>NaN</td>\n      <td>NaN</td>\n      <td>NaN</td>\n      <td>NaN</td>\n      <td>NaN</td>\n      <td>NaN</td>\n      <td>12.0</td>\n      <td>7.1</td>\n      <td>NaN</td>\n      <td>0</td>\n    </tr>\n  </tbody>\n</table>\n<p>5 rows × 28 columns</p>\n</div>"
     },
     "metadata": {},
     "output_type": "execute_result",
     "execution_count": 2
    }
   ],
   "source": [
    "df_movies = pd.read_csv('data/movie.csv')\n",
    "df_movies.head()"
   ],
   "metadata": {
    "collapsed": false,
    "pycharm": {
     "name": "#%%\n",
     "is_executing": false
    }
   }
  },
  {
   "cell_type": "markdown",
   "metadata": {},
   "source": [
    "## 2. Data Processing\n",
    "Ook deze stap is grotendeels voor ons gedaan. De data is goed opgeslagen in een `.csv`-bestand en kan direct worden \n",
    "ingelezen in een _Pandas_ DataFrame. Tevens laten we de eerste vijf rijen van het DataFrame `df_movies`zien of deze data \n",
    "ook daadwerkelijk goed wordt ingeladen.\n",
    "\n",
    "### \n"
   ]
  },
  {
   "cell_type": "markdown",
   "metadata": {},
   "source": [
    "## 3. Data Cleaning\n",
    "Om de data te prepareren voor exploration & analysis dient het DataFrame eerst te worden opgeschoond. Alleen dan kunnen wij een kwalitatieve analyse leveren. Voordat we de data kunnen schoonmaken moeten we weten wat de individuele kolommen zijn en betekenen.\n",
    "\n",
    "In de dataset zijn de volgende kolommen te vinden. Van iedere kolom zal het bijbehordende datatype worden beschreven en of het een Nominaal, Oridinaal, Interval of Ratio-meetschaal heeft."
   ]
  },
  {
   "cell_type": "code",
   "execution_count": 3,
   "metadata": {
    "pycharm": {
     "is_executing": false
    }
   },
   "outputs": [
    {
     "data": {
      "text/plain": "['color',\n 'director_name',\n 'num_critic_for_reviews',\n 'duration',\n 'director_facebook_likes',\n 'actor_3_facebook_likes',\n 'actor_2_name',\n 'actor_1_facebook_likes',\n 'gross',\n 'genres',\n 'actor_1_name',\n 'movie_title',\n 'num_voted_users',\n 'cast_total_facebook_likes',\n 'actor_3_name',\n 'facenumber_in_poster',\n 'plot_keywords',\n 'movie_imdb_link',\n 'num_user_for_reviews',\n 'language',\n 'country',\n 'content_rating',\n 'budget',\n 'title_year',\n 'actor_2_facebook_likes',\n 'imdb_score',\n 'aspect_ratio',\n 'movie_facebook_likes']"
     },
     "metadata": {},
     "output_type": "execute_result",
     "execution_count": 3
    }
   ],
   "source": [
    "df_movies.columns.tolist()"
   ]
  },
  {
   "cell_type": "markdown",
   "metadata": {},
   "source": [
    "'color' | \n",
    " 'director_name' | \n",
    " 'num_critic_for_reviews' | \n",
    " 'duration' | \n",
    " 'director_facebook_likes' | \n",
    " 'actor_3_facebook_likes' | \n",
    " 'actor_2_name' | \n",
    " 'actor_1_facebook_likes' | \n",
    " 'gross' | \n",
    " 'genres' | \n",
    " 'actor_1_name' | \n",
    " 'movie_title' | \n",
    " 'num_voted_users' | \n",
    " 'cast_total_facebook_likes' | \n",
    " 'actor_3_name' | \n",
    " 'facenumber_in_poster' | \n",
    " 'plot_keywords' | \n",
    " 'movie_imdb_link' | \n",
    " 'num_user_for_reviews' | \n",
    " 'language' | \n",
    " 'country' | \n",
    " 'content_rating' | \n",
    " 'budget' | \n",
    " 'title_year' | \n",
    " 'actor_2_facebook_likes' | \n",
    " 'imdb_score' | \n",
    " 'aspect_ratio' | \n",
    " 'movie_facebook_likes |\n"
   ]
  },
  {
   "cell_type": "code",
   "execution_count": 4,
   "metadata": {
    "pycharm": {
     "is_executing": false
    }
   },
   "outputs": [
    {
     "data": {
      "text/plain": "        color     director_name  num_critic_for_reviews     duration  \\\ncount    5024              4939             4993.000000  5028.000000   \nunique      2              2398                     NaN          NaN   \ntop     Color  Steven Spielberg                     NaN          NaN   \nfreq     4815                26                     NaN          NaN   \nmean      NaN               NaN              140.194272   107.201074   \nstd       NaN               NaN              121.601675    25.197441   \nmin       NaN               NaN                1.000000     7.000000   \n25%       NaN               NaN               50.000000    93.000000   \n50%       NaN               NaN              110.000000   103.000000   \n75%       NaN               NaN              195.000000   118.000000   \nmax       NaN               NaN              813.000000   511.000000   \n\n        director_facebook_likes  actor_3_facebook_likes    actor_2_name  \\\ncount               4939.000000             5020.000000            5030   \nunique                      NaN                     NaN            3032   \ntop                         NaN                     NaN  Morgan Freeman   \nfreq                        NaN                     NaN              20   \nmean                 686.509212              645.009761             NaN   \nstd                 2813.328607             1665.041728             NaN   \nmin                    0.000000                0.000000             NaN   \n25%                    7.000000              133.000000             NaN   \n50%                   49.000000              371.500000             NaN   \n75%                  194.500000              636.000000             NaN   \nmax                23000.000000            23000.000000             NaN   \n\n        actor_1_facebook_likes         gross genres  ... num_user_for_reviews  \\\ncount              5036.000000  4.159000e+03   5043  ...          5022.000000   \nunique                     NaN           NaN    914  ...                  NaN   \ntop                        NaN           NaN  Drama  ...                  NaN   \nfreq                       NaN           NaN    236  ...                  NaN   \nmean               6560.047061  4.846841e+07    NaN  ...           272.770808   \nstd               15020.759120  6.845299e+07    NaN  ...           377.982886   \nmin                   0.000000  1.620000e+02    NaN  ...             1.000000   \n25%                 614.000000  5.340988e+06    NaN  ...            65.000000   \n50%                 988.000000  2.551750e+07    NaN  ...           156.000000   \n75%               11000.000000  6.230944e+07    NaN  ...           326.000000   \nmax              640000.000000  7.605058e+08    NaN  ...          5060.000000   \n\n       language  country  content_rating        budget   title_year  \\\ncount      5031     5038            4740  4.551000e+03  4935.000000   \nunique       47       65              18           NaN          NaN   \ntop     English      USA               R           NaN          NaN   \nfreq       4704     3807            2118           NaN          NaN   \nmean        NaN      NaN             NaN  3.975262e+07  2002.470517   \nstd         NaN      NaN             NaN  2.061149e+08    12.474599   \nmin         NaN      NaN             NaN  2.180000e+02  1916.000000   \n25%         NaN      NaN             NaN  6.000000e+06  1999.000000   \n50%         NaN      NaN             NaN  2.000000e+07  2005.000000   \n75%         NaN      NaN             NaN  4.500000e+07  2011.000000   \nmax         NaN      NaN             NaN  1.221550e+10  2016.000000   \n\n       actor_2_facebook_likes   imdb_score  aspect_ratio movie_facebook_likes  \ncount             5030.000000  5043.000000   4714.000000          5043.000000  \nunique                    NaN          NaN           NaN                  NaN  \ntop                       NaN          NaN           NaN                  NaN  \nfreq                      NaN          NaN           NaN                  NaN  \nmean              1651.754473     6.442138      2.220403          7525.964505  \nstd               4042.438863     1.125116      1.385113         19320.445110  \nmin                  0.000000     1.600000      1.180000             0.000000  \n25%                281.000000     5.800000      1.850000             0.000000  \n50%                595.000000     6.600000      2.350000           166.000000  \n75%                918.000000     7.200000      2.350000          3000.000000  \nmax             137000.000000     9.500000     16.000000        349000.000000  \n\n[11 rows x 28 columns]",
      "text/html": "<div>\n<style scoped>\n    .dataframe tbody tr th:only-of-type {\n        vertical-align: middle;\n    }\n\n    .dataframe tbody tr th {\n        vertical-align: top;\n    }\n\n    .dataframe thead th {\n        text-align: right;\n    }\n</style>\n<table border=\"1\" class=\"dataframe\">\n  <thead>\n    <tr style=\"text-align: right;\">\n      <th></th>\n      <th>color</th>\n      <th>director_name</th>\n      <th>num_critic_for_reviews</th>\n      <th>duration</th>\n      <th>director_facebook_likes</th>\n      <th>actor_3_facebook_likes</th>\n      <th>actor_2_name</th>\n      <th>actor_1_facebook_likes</th>\n      <th>gross</th>\n      <th>genres</th>\n      <th>...</th>\n      <th>num_user_for_reviews</th>\n      <th>language</th>\n      <th>country</th>\n      <th>content_rating</th>\n      <th>budget</th>\n      <th>title_year</th>\n      <th>actor_2_facebook_likes</th>\n      <th>imdb_score</th>\n      <th>aspect_ratio</th>\n      <th>movie_facebook_likes</th>\n    </tr>\n  </thead>\n  <tbody>\n    <tr>\n      <td>count</td>\n      <td>5024</td>\n      <td>4939</td>\n      <td>4993.000000</td>\n      <td>5028.000000</td>\n      <td>4939.000000</td>\n      <td>5020.000000</td>\n      <td>5030</td>\n      <td>5036.000000</td>\n      <td>4.159000e+03</td>\n      <td>5043</td>\n      <td>...</td>\n      <td>5022.000000</td>\n      <td>5031</td>\n      <td>5038</td>\n      <td>4740</td>\n      <td>4.551000e+03</td>\n      <td>4935.000000</td>\n      <td>5030.000000</td>\n      <td>5043.000000</td>\n      <td>4714.000000</td>\n      <td>5043.000000</td>\n    </tr>\n    <tr>\n      <td>unique</td>\n      <td>2</td>\n      <td>2398</td>\n      <td>NaN</td>\n      <td>NaN</td>\n      <td>NaN</td>\n      <td>NaN</td>\n      <td>3032</td>\n      <td>NaN</td>\n      <td>NaN</td>\n      <td>914</td>\n      <td>...</td>\n      <td>NaN</td>\n      <td>47</td>\n      <td>65</td>\n      <td>18</td>\n      <td>NaN</td>\n      <td>NaN</td>\n      <td>NaN</td>\n      <td>NaN</td>\n      <td>NaN</td>\n      <td>NaN</td>\n    </tr>\n    <tr>\n      <td>top</td>\n      <td>Color</td>\n      <td>Steven Spielberg</td>\n      <td>NaN</td>\n      <td>NaN</td>\n      <td>NaN</td>\n      <td>NaN</td>\n      <td>Morgan Freeman</td>\n      <td>NaN</td>\n      <td>NaN</td>\n      <td>Drama</td>\n      <td>...</td>\n      <td>NaN</td>\n      <td>English</td>\n      <td>USA</td>\n      <td>R</td>\n      <td>NaN</td>\n      <td>NaN</td>\n      <td>NaN</td>\n      <td>NaN</td>\n      <td>NaN</td>\n      <td>NaN</td>\n    </tr>\n    <tr>\n      <td>freq</td>\n      <td>4815</td>\n      <td>26</td>\n      <td>NaN</td>\n      <td>NaN</td>\n      <td>NaN</td>\n      <td>NaN</td>\n      <td>20</td>\n      <td>NaN</td>\n      <td>NaN</td>\n      <td>236</td>\n      <td>...</td>\n      <td>NaN</td>\n      <td>4704</td>\n      <td>3807</td>\n      <td>2118</td>\n      <td>NaN</td>\n      <td>NaN</td>\n      <td>NaN</td>\n      <td>NaN</td>\n      <td>NaN</td>\n      <td>NaN</td>\n    </tr>\n    <tr>\n      <td>mean</td>\n      <td>NaN</td>\n      <td>NaN</td>\n      <td>140.194272</td>\n      <td>107.201074</td>\n      <td>686.509212</td>\n      <td>645.009761</td>\n      <td>NaN</td>\n      <td>6560.047061</td>\n      <td>4.846841e+07</td>\n      <td>NaN</td>\n      <td>...</td>\n      <td>272.770808</td>\n      <td>NaN</td>\n      <td>NaN</td>\n      <td>NaN</td>\n      <td>3.975262e+07</td>\n      <td>2002.470517</td>\n      <td>1651.754473</td>\n      <td>6.442138</td>\n      <td>2.220403</td>\n      <td>7525.964505</td>\n    </tr>\n    <tr>\n      <td>std</td>\n      <td>NaN</td>\n      <td>NaN</td>\n      <td>121.601675</td>\n      <td>25.197441</td>\n      <td>2813.328607</td>\n      <td>1665.041728</td>\n      <td>NaN</td>\n      <td>15020.759120</td>\n      <td>6.845299e+07</td>\n      <td>NaN</td>\n      <td>...</td>\n      <td>377.982886</td>\n      <td>NaN</td>\n      <td>NaN</td>\n      <td>NaN</td>\n      <td>2.061149e+08</td>\n      <td>12.474599</td>\n      <td>4042.438863</td>\n      <td>1.125116</td>\n      <td>1.385113</td>\n      <td>19320.445110</td>\n    </tr>\n    <tr>\n      <td>min</td>\n      <td>NaN</td>\n      <td>NaN</td>\n      <td>1.000000</td>\n      <td>7.000000</td>\n      <td>0.000000</td>\n      <td>0.000000</td>\n      <td>NaN</td>\n      <td>0.000000</td>\n      <td>1.620000e+02</td>\n      <td>NaN</td>\n      <td>...</td>\n      <td>1.000000</td>\n      <td>NaN</td>\n      <td>NaN</td>\n      <td>NaN</td>\n      <td>2.180000e+02</td>\n      <td>1916.000000</td>\n      <td>0.000000</td>\n      <td>1.600000</td>\n      <td>1.180000</td>\n      <td>0.000000</td>\n    </tr>\n    <tr>\n      <td>25%</td>\n      <td>NaN</td>\n      <td>NaN</td>\n      <td>50.000000</td>\n      <td>93.000000</td>\n      <td>7.000000</td>\n      <td>133.000000</td>\n      <td>NaN</td>\n      <td>614.000000</td>\n      <td>5.340988e+06</td>\n      <td>NaN</td>\n      <td>...</td>\n      <td>65.000000</td>\n      <td>NaN</td>\n      <td>NaN</td>\n      <td>NaN</td>\n      <td>6.000000e+06</td>\n      <td>1999.000000</td>\n      <td>281.000000</td>\n      <td>5.800000</td>\n      <td>1.850000</td>\n      <td>0.000000</td>\n    </tr>\n    <tr>\n      <td>50%</td>\n      <td>NaN</td>\n      <td>NaN</td>\n      <td>110.000000</td>\n      <td>103.000000</td>\n      <td>49.000000</td>\n      <td>371.500000</td>\n      <td>NaN</td>\n      <td>988.000000</td>\n      <td>2.551750e+07</td>\n      <td>NaN</td>\n      <td>...</td>\n      <td>156.000000</td>\n      <td>NaN</td>\n      <td>NaN</td>\n      <td>NaN</td>\n      <td>2.000000e+07</td>\n      <td>2005.000000</td>\n      <td>595.000000</td>\n      <td>6.600000</td>\n      <td>2.350000</td>\n      <td>166.000000</td>\n    </tr>\n    <tr>\n      <td>75%</td>\n      <td>NaN</td>\n      <td>NaN</td>\n      <td>195.000000</td>\n      <td>118.000000</td>\n      <td>194.500000</td>\n      <td>636.000000</td>\n      <td>NaN</td>\n      <td>11000.000000</td>\n      <td>6.230944e+07</td>\n      <td>NaN</td>\n      <td>...</td>\n      <td>326.000000</td>\n      <td>NaN</td>\n      <td>NaN</td>\n      <td>NaN</td>\n      <td>4.500000e+07</td>\n      <td>2011.000000</td>\n      <td>918.000000</td>\n      <td>7.200000</td>\n      <td>2.350000</td>\n      <td>3000.000000</td>\n    </tr>\n    <tr>\n      <td>max</td>\n      <td>NaN</td>\n      <td>NaN</td>\n      <td>813.000000</td>\n      <td>511.000000</td>\n      <td>23000.000000</td>\n      <td>23000.000000</td>\n      <td>NaN</td>\n      <td>640000.000000</td>\n      <td>7.605058e+08</td>\n      <td>NaN</td>\n      <td>...</td>\n      <td>5060.000000</td>\n      <td>NaN</td>\n      <td>NaN</td>\n      <td>NaN</td>\n      <td>1.221550e+10</td>\n      <td>2016.000000</td>\n      <td>137000.000000</td>\n      <td>9.500000</td>\n      <td>16.000000</td>\n      <td>349000.000000</td>\n    </tr>\n  </tbody>\n</table>\n<p>11 rows × 28 columns</p>\n</div>"
     },
     "metadata": {},
     "output_type": "execute_result",
     "execution_count": 4
    }
   ],
   "source": [
    "df_movies.describe(include = \"all\")"
   ]
  },
  {
   "cell_type": "markdown",
   "metadata": {},
   "source": [
    "Enkele dingen die ons opvallen zijn dat de kolom `color` slechts twee unieke waardes bevat."
   ]
  },
  {
   "cell_type": "code",
   "execution_count": 5,
   "metadata": {
    "pycharm": {
     "is_executing": false
    }
   },
   "outputs": [
    {
     "data": {
      "text/plain": "color                        3756\ndirector_name                3756\nnum_critic_for_reviews       3756\nduration                     3756\ndirector_facebook_likes      3756\nactor_3_facebook_likes       3756\nactor_2_name                 3756\nactor_1_facebook_likes       3756\ngross                        3756\ngenres                       3756\nactor_1_name                 3756\nmovie_title                  3756\nnum_voted_users              3756\ncast_total_facebook_likes    3756\nactor_3_name                 3756\nfacenumber_in_poster         3756\nplot_keywords                3756\nmovie_imdb_link              3756\nnum_user_for_reviews         3756\nlanguage                     3756\ncountry                      3756\ncontent_rating               3756\nbudget                       3756\ntitle_year                   3756\nactor_2_facebook_likes       3756\nimdb_score                   3756\naspect_ratio                 3756\nmovie_facebook_likes         3756\ndtype: int64"
     },
     "metadata": {},
     "output_type": "execute_result",
     "execution_count": 5
    }
   ],
   "source": [
    "df_movies.dropna(inplace=True)\n",
    "df_movies.count()"
   ]
  },
  {
   "cell_type": "code",
   "execution_count": 6,
   "metadata": {
    "pycharm": {
     "is_executing": false
    }
   },
   "outputs": [
    {
     "data": {
      "text/plain": "color                         object\ndirector_name                 object\nnum_critic_for_reviews       float64\nduration                     float64\ndirector_facebook_likes      float64\nactor_3_facebook_likes       float64\nactor_2_name                  object\nactor_1_facebook_likes       float64\ngross                        float64\ngenres                        object\nactor_1_name                  object\nmovie_title                   object\nnum_voted_users                int64\ncast_total_facebook_likes      int64\nactor_3_name                  object\nfacenumber_in_poster         float64\nplot_keywords                 object\nmovie_imdb_link               object\nnum_user_for_reviews         float64\nlanguage                      object\ncountry                       object\ncontent_rating                object\nbudget                       float64\ntitle_year                   float64\nactor_2_facebook_likes       float64\nimdb_score                   float64\naspect_ratio                 float64\nmovie_facebook_likes           int64\ndtype: object"
     },
     "metadata": {},
     "output_type": "execute_result",
     "execution_count": 6
    }
   ],
   "source": [
    "df_movies.dtypes"
   ]
  },
  {
   "cell_type": "code",
   "execution_count": 7,
   "metadata": {
    "pycharm": {
     "is_executing": false
    }
   },
   "outputs": [
    {
     "data": {
      "text/plain": "   color      director_name  num_critic_for_reviews  duration  \\\n0  Color      James Cameron                   723.0     178.0   \n1  Color     Gore Verbinski                   302.0     169.0   \n2  Color         Sam Mendes                   602.0     148.0   \n3  Color  Christopher Nolan                   813.0     164.0   \n5  Color     Andrew Stanton                   462.0     132.0   \n\n   director_facebook_likes  actor_3_facebook_likes      actor_2_name  \\\n0                      0.0                   855.0  Joel David Moore   \n1                    563.0                  1000.0     Orlando Bloom   \n2                      0.0                   161.0      Rory Kinnear   \n3                  22000.0                 23000.0    Christian Bale   \n5                    475.0                   530.0   Samantha Morton   \n\n   actor_1_facebook_likes        gross                           genres  ...  \\\n0                  1000.0  760505847.0  Action|Adventure|Fantasy|Sci-Fi  ...   \n1                 40000.0  309404152.0         Action|Adventure|Fantasy  ...   \n2                 11000.0  200074175.0        Action|Adventure|Thriller  ...   \n3                 27000.0  448130642.0                  Action|Thriller  ...   \n5                   640.0   73058679.0          Action|Adventure|Sci-Fi  ...   \n\n  num_user_for_reviews language  country  content_rating       budget  \\\n0               3054.0  English      USA           PG-13  237000000.0   \n1               1238.0  English      USA           PG-13  300000000.0   \n2                994.0  English       UK           PG-13  245000000.0   \n3               2701.0  English      USA           PG-13  250000000.0   \n5                738.0  English      USA           PG-13  263700000.0   \n\n   title_year actor_2_facebook_likes imdb_score  aspect_ratio  \\\n0  2009-01-01                  936.0        7.9          1.78   \n1  2007-01-01                 5000.0        7.1          2.35   \n2  2015-01-01                  393.0        6.8          2.35   \n3  2012-01-01                23000.0        8.5          2.35   \n5  2012-01-01                  632.0        6.6          2.35   \n\n  movie_facebook_likes  \n0                33000  \n1                    0  \n2                85000  \n3               164000  \n5                24000  \n\n[5 rows x 28 columns]",
      "text/html": "<div>\n<style scoped>\n    .dataframe tbody tr th:only-of-type {\n        vertical-align: middle;\n    }\n\n    .dataframe tbody tr th {\n        vertical-align: top;\n    }\n\n    .dataframe thead th {\n        text-align: right;\n    }\n</style>\n<table border=\"1\" class=\"dataframe\">\n  <thead>\n    <tr style=\"text-align: right;\">\n      <th></th>\n      <th>color</th>\n      <th>director_name</th>\n      <th>num_critic_for_reviews</th>\n      <th>duration</th>\n      <th>director_facebook_likes</th>\n      <th>actor_3_facebook_likes</th>\n      <th>actor_2_name</th>\n      <th>actor_1_facebook_likes</th>\n      <th>gross</th>\n      <th>genres</th>\n      <th>...</th>\n      <th>num_user_for_reviews</th>\n      <th>language</th>\n      <th>country</th>\n      <th>content_rating</th>\n      <th>budget</th>\n      <th>title_year</th>\n      <th>actor_2_facebook_likes</th>\n      <th>imdb_score</th>\n      <th>aspect_ratio</th>\n      <th>movie_facebook_likes</th>\n    </tr>\n  </thead>\n  <tbody>\n    <tr>\n      <td>0</td>\n      <td>Color</td>\n      <td>James Cameron</td>\n      <td>723.0</td>\n      <td>178.0</td>\n      <td>0.0</td>\n      <td>855.0</td>\n      <td>Joel David Moore</td>\n      <td>1000.0</td>\n      <td>760505847.0</td>\n      <td>Action|Adventure|Fantasy|Sci-Fi</td>\n      <td>...</td>\n      <td>3054.0</td>\n      <td>English</td>\n      <td>USA</td>\n      <td>PG-13</td>\n      <td>237000000.0</td>\n      <td>2009-01-01</td>\n      <td>936.0</td>\n      <td>7.9</td>\n      <td>1.78</td>\n      <td>33000</td>\n    </tr>\n    <tr>\n      <td>1</td>\n      <td>Color</td>\n      <td>Gore Verbinski</td>\n      <td>302.0</td>\n      <td>169.0</td>\n      <td>563.0</td>\n      <td>1000.0</td>\n      <td>Orlando Bloom</td>\n      <td>40000.0</td>\n      <td>309404152.0</td>\n      <td>Action|Adventure|Fantasy</td>\n      <td>...</td>\n      <td>1238.0</td>\n      <td>English</td>\n      <td>USA</td>\n      <td>PG-13</td>\n      <td>300000000.0</td>\n      <td>2007-01-01</td>\n      <td>5000.0</td>\n      <td>7.1</td>\n      <td>2.35</td>\n      <td>0</td>\n    </tr>\n    <tr>\n      <td>2</td>\n      <td>Color</td>\n      <td>Sam Mendes</td>\n      <td>602.0</td>\n      <td>148.0</td>\n      <td>0.0</td>\n      <td>161.0</td>\n      <td>Rory Kinnear</td>\n      <td>11000.0</td>\n      <td>200074175.0</td>\n      <td>Action|Adventure|Thriller</td>\n      <td>...</td>\n      <td>994.0</td>\n      <td>English</td>\n      <td>UK</td>\n      <td>PG-13</td>\n      <td>245000000.0</td>\n      <td>2015-01-01</td>\n      <td>393.0</td>\n      <td>6.8</td>\n      <td>2.35</td>\n      <td>85000</td>\n    </tr>\n    <tr>\n      <td>3</td>\n      <td>Color</td>\n      <td>Christopher Nolan</td>\n      <td>813.0</td>\n      <td>164.0</td>\n      <td>22000.0</td>\n      <td>23000.0</td>\n      <td>Christian Bale</td>\n      <td>27000.0</td>\n      <td>448130642.0</td>\n      <td>Action|Thriller</td>\n      <td>...</td>\n      <td>2701.0</td>\n      <td>English</td>\n      <td>USA</td>\n      <td>PG-13</td>\n      <td>250000000.0</td>\n      <td>2012-01-01</td>\n      <td>23000.0</td>\n      <td>8.5</td>\n      <td>2.35</td>\n      <td>164000</td>\n    </tr>\n    <tr>\n      <td>5</td>\n      <td>Color</td>\n      <td>Andrew Stanton</td>\n      <td>462.0</td>\n      <td>132.0</td>\n      <td>475.0</td>\n      <td>530.0</td>\n      <td>Samantha Morton</td>\n      <td>640.0</td>\n      <td>73058679.0</td>\n      <td>Action|Adventure|Sci-Fi</td>\n      <td>...</td>\n      <td>738.0</td>\n      <td>English</td>\n      <td>USA</td>\n      <td>PG-13</td>\n      <td>263700000.0</td>\n      <td>2012-01-01</td>\n      <td>632.0</td>\n      <td>6.6</td>\n      <td>2.35</td>\n      <td>24000</td>\n    </tr>\n  </tbody>\n</table>\n<p>5 rows × 28 columns</p>\n</div>"
     },
     "metadata": {},
     "output_type": "execute_result",
     "execution_count": 7
    }
   ],
   "source": [
    "# df_movies.set_index(\"movie_title\", inplace=True)\n",
    "# df_movies.sort_index(inplace=True)\n",
    "df_movies[\"title_year\"] = pd.to_datetime(df_movies[\"title_year\"], format='%Y')\n",
    "# df_movies.drop([\"movie_imdb_link\", \"aspect_ratio\"], axis=1, inplace=True)\n",
    "df_movies.head()\n"
   ]
  },
  {
   "cell_type": "markdown",
   "metadata": {},
   "source": [
    "## 4. Data Exploration & Analysis"
   ]
  },
  {
   "cell_type": "code",
   "execution_count": 8,
   "metadata": {
    "pycharm": {
     "is_executing": false
    }
   },
   "outputs": [
    {
     "data": {
      "text/plain": "       num_critic_for_reviews     duration  director_facebook_likes  \\\ncount             3756.000000  3756.000000              3756.000000   \nmean               167.378328   110.257987               807.336528   \nstd                123.452040    22.646717              3068.171683   \nmin                  2.000000    37.000000                 0.000000   \n25%                 77.000000    96.000000                11.000000   \n50%                138.500000   106.000000                64.000000   \n75%                224.000000   120.000000               235.000000   \nmax                813.000000   330.000000             23000.000000   \n\n       actor_3_facebook_likes  actor_1_facebook_likes         gross  \\\ncount             3756.000000             3756.000000  3.756000e+03   \nmean               771.279553             7751.338658  5.261282e+07   \nstd               1894.249869            15519.339621  7.031787e+07   \nmin                  0.000000                0.000000  1.620000e+02   \n25%                194.000000              745.000000  8.270233e+06   \n50%                436.000000             1000.000000  3.009311e+07   \n75%                691.000000            13000.000000  6.688194e+07   \nmax              23000.000000           640000.000000  7.605058e+08   \n\n       num_voted_users  cast_total_facebook_likes  facenumber_in_poster  \\\ncount     3.756000e+03                3756.000000           3756.000000   \nmean      1.058267e+05               11527.101970              1.377263   \nstd       1.520354e+05               19122.176905              2.041541   \nmin       9.100000e+01                   0.000000              0.000000   \n25%       1.966700e+04                1919.750000              0.000000   \n50%       5.397350e+04                4059.500000              1.000000   \n75%       1.286020e+05               16240.000000              2.000000   \nmax       1.689764e+06              656730.000000             43.000000   \n\n       num_user_for_reviews        budget  actor_2_facebook_likes  \\\ncount           3756.000000  3.756000e+03             3756.000000   \nmean             336.843184  4.623685e+07             2021.775825   \nstd              411.227368  2.260103e+08             4544.908236   \nmin                4.000000  2.180000e+02                0.000000   \n25%              110.000000  1.000000e+07              384.750000   \n50%              210.000000  2.500000e+07              685.500000   \n75%              398.250000  5.000000e+07              976.000000   \nmax             5060.000000  1.221550e+10           137000.000000   \n\n        imdb_score  aspect_ratio  movie_facebook_likes  \ncount  3756.000000   3756.000000           3756.000000  \nmean      6.465282      2.111014           9353.829340  \nstd       1.056247      0.353068          21462.889123  \nmin       1.600000      1.180000              0.000000  \n25%       5.900000      1.850000              0.000000  \n50%       6.600000      2.350000            227.000000  \n75%       7.200000      2.350000          11000.000000  \nmax       9.300000     16.000000         349000.000000  ",
      "text/html": "<div>\n<style scoped>\n    .dataframe tbody tr th:only-of-type {\n        vertical-align: middle;\n    }\n\n    .dataframe tbody tr th {\n        vertical-align: top;\n    }\n\n    .dataframe thead th {\n        text-align: right;\n    }\n</style>\n<table border=\"1\" class=\"dataframe\">\n  <thead>\n    <tr style=\"text-align: right;\">\n      <th></th>\n      <th>num_critic_for_reviews</th>\n      <th>duration</th>\n      <th>director_facebook_likes</th>\n      <th>actor_3_facebook_likes</th>\n      <th>actor_1_facebook_likes</th>\n      <th>gross</th>\n      <th>num_voted_users</th>\n      <th>cast_total_facebook_likes</th>\n      <th>facenumber_in_poster</th>\n      <th>num_user_for_reviews</th>\n      <th>budget</th>\n      <th>actor_2_facebook_likes</th>\n      <th>imdb_score</th>\n      <th>aspect_ratio</th>\n      <th>movie_facebook_likes</th>\n    </tr>\n  </thead>\n  <tbody>\n    <tr>\n      <td>count</td>\n      <td>3756.000000</td>\n      <td>3756.000000</td>\n      <td>3756.000000</td>\n      <td>3756.000000</td>\n      <td>3756.000000</td>\n      <td>3.756000e+03</td>\n      <td>3.756000e+03</td>\n      <td>3756.000000</td>\n      <td>3756.000000</td>\n      <td>3756.000000</td>\n      <td>3.756000e+03</td>\n      <td>3756.000000</td>\n      <td>3756.000000</td>\n      <td>3756.000000</td>\n      <td>3756.000000</td>\n    </tr>\n    <tr>\n      <td>mean</td>\n      <td>167.378328</td>\n      <td>110.257987</td>\n      <td>807.336528</td>\n      <td>771.279553</td>\n      <td>7751.338658</td>\n      <td>5.261282e+07</td>\n      <td>1.058267e+05</td>\n      <td>11527.101970</td>\n      <td>1.377263</td>\n      <td>336.843184</td>\n      <td>4.623685e+07</td>\n      <td>2021.775825</td>\n      <td>6.465282</td>\n      <td>2.111014</td>\n      <td>9353.829340</td>\n    </tr>\n    <tr>\n      <td>std</td>\n      <td>123.452040</td>\n      <td>22.646717</td>\n      <td>3068.171683</td>\n      <td>1894.249869</td>\n      <td>15519.339621</td>\n      <td>7.031787e+07</td>\n      <td>1.520354e+05</td>\n      <td>19122.176905</td>\n      <td>2.041541</td>\n      <td>411.227368</td>\n      <td>2.260103e+08</td>\n      <td>4544.908236</td>\n      <td>1.056247</td>\n      <td>0.353068</td>\n      <td>21462.889123</td>\n    </tr>\n    <tr>\n      <td>min</td>\n      <td>2.000000</td>\n      <td>37.000000</td>\n      <td>0.000000</td>\n      <td>0.000000</td>\n      <td>0.000000</td>\n      <td>1.620000e+02</td>\n      <td>9.100000e+01</td>\n      <td>0.000000</td>\n      <td>0.000000</td>\n      <td>4.000000</td>\n      <td>2.180000e+02</td>\n      <td>0.000000</td>\n      <td>1.600000</td>\n      <td>1.180000</td>\n      <td>0.000000</td>\n    </tr>\n    <tr>\n      <td>25%</td>\n      <td>77.000000</td>\n      <td>96.000000</td>\n      <td>11.000000</td>\n      <td>194.000000</td>\n      <td>745.000000</td>\n      <td>8.270233e+06</td>\n      <td>1.966700e+04</td>\n      <td>1919.750000</td>\n      <td>0.000000</td>\n      <td>110.000000</td>\n      <td>1.000000e+07</td>\n      <td>384.750000</td>\n      <td>5.900000</td>\n      <td>1.850000</td>\n      <td>0.000000</td>\n    </tr>\n    <tr>\n      <td>50%</td>\n      <td>138.500000</td>\n      <td>106.000000</td>\n      <td>64.000000</td>\n      <td>436.000000</td>\n      <td>1000.000000</td>\n      <td>3.009311e+07</td>\n      <td>5.397350e+04</td>\n      <td>4059.500000</td>\n      <td>1.000000</td>\n      <td>210.000000</td>\n      <td>2.500000e+07</td>\n      <td>685.500000</td>\n      <td>6.600000</td>\n      <td>2.350000</td>\n      <td>227.000000</td>\n    </tr>\n    <tr>\n      <td>75%</td>\n      <td>224.000000</td>\n      <td>120.000000</td>\n      <td>235.000000</td>\n      <td>691.000000</td>\n      <td>13000.000000</td>\n      <td>6.688194e+07</td>\n      <td>1.286020e+05</td>\n      <td>16240.000000</td>\n      <td>2.000000</td>\n      <td>398.250000</td>\n      <td>5.000000e+07</td>\n      <td>976.000000</td>\n      <td>7.200000</td>\n      <td>2.350000</td>\n      <td>11000.000000</td>\n    </tr>\n    <tr>\n      <td>max</td>\n      <td>813.000000</td>\n      <td>330.000000</td>\n      <td>23000.000000</td>\n      <td>23000.000000</td>\n      <td>640000.000000</td>\n      <td>7.605058e+08</td>\n      <td>1.689764e+06</td>\n      <td>656730.000000</td>\n      <td>43.000000</td>\n      <td>5060.000000</td>\n      <td>1.221550e+10</td>\n      <td>137000.000000</td>\n      <td>9.300000</td>\n      <td>16.000000</td>\n      <td>349000.000000</td>\n    </tr>\n  </tbody>\n</table>\n</div>"
     },
     "metadata": {},
     "output_type": "execute_result",
     "execution_count": 8
    }
   ],
   "source": [
    "df_movies.describe()"
   ]
  },
  {
   "cell_type": "code",
   "execution_count": 9,
   "metadata": {
    "pycharm": {
     "is_executing": false
    }
   },
   "outputs": [
    {
     "data": {
      "text/plain": "   color      director_name  num_critic_for_reviews  duration  \\\n0  Color      James Cameron                   723.0     178.0   \n1  Color     Gore Verbinski                   302.0     169.0   \n2  Color         Sam Mendes                   602.0     148.0   \n3  Color  Christopher Nolan                   813.0     164.0   \n5  Color     Andrew Stanton                   462.0     132.0   \n\n   director_facebook_likes  actor_3_facebook_likes      actor_2_name  \\\n0                      0.0                   855.0  Joel David Moore   \n1                    563.0                  1000.0     Orlando Bloom   \n2                      0.0                   161.0      Rory Kinnear   \n3                  22000.0                 23000.0    Christian Bale   \n5                    475.0                   530.0   Samantha Morton   \n\n   actor_1_facebook_likes        gross                           genres  ...  \\\n0                  1000.0  760505847.0  Action|Adventure|Fantasy|Sci-Fi  ...   \n1                 40000.0  309404152.0         Action|Adventure|Fantasy  ...   \n2                 11000.0  200074175.0        Action|Adventure|Thriller  ...   \n3                 27000.0  448130642.0                  Action|Thriller  ...   \n5                   640.0   73058679.0          Action|Adventure|Sci-Fi  ...   \n\n  num_user_for_reviews language  country  content_rating       budget  \\\n0               3054.0  English      USA           PG-13  237000000.0   \n1               1238.0  English      USA           PG-13  300000000.0   \n2                994.0  English       UK           PG-13  245000000.0   \n3               2701.0  English      USA           PG-13  250000000.0   \n5                738.0  English      USA           PG-13  263700000.0   \n\n   title_year actor_2_facebook_likes imdb_score  aspect_ratio  \\\n0  2009-01-01                  936.0        7.9          1.78   \n1  2007-01-01                 5000.0        7.1          2.35   \n2  2015-01-01                  393.0        6.8          2.35   \n3  2012-01-01                23000.0        8.5          2.35   \n5  2012-01-01                  632.0        6.6          2.35   \n\n  movie_facebook_likes  \n0                33000  \n1                    0  \n2                85000  \n3               164000  \n5                24000  \n\n[5 rows x 28 columns]",
      "text/html": "<div>\n<style scoped>\n    .dataframe tbody tr th:only-of-type {\n        vertical-align: middle;\n    }\n\n    .dataframe tbody tr th {\n        vertical-align: top;\n    }\n\n    .dataframe thead th {\n        text-align: right;\n    }\n</style>\n<table border=\"1\" class=\"dataframe\">\n  <thead>\n    <tr style=\"text-align: right;\">\n      <th></th>\n      <th>color</th>\n      <th>director_name</th>\n      <th>num_critic_for_reviews</th>\n      <th>duration</th>\n      <th>director_facebook_likes</th>\n      <th>actor_3_facebook_likes</th>\n      <th>actor_2_name</th>\n      <th>actor_1_facebook_likes</th>\n      <th>gross</th>\n      <th>genres</th>\n      <th>...</th>\n      <th>num_user_for_reviews</th>\n      <th>language</th>\n      <th>country</th>\n      <th>content_rating</th>\n      <th>budget</th>\n      <th>title_year</th>\n      <th>actor_2_facebook_likes</th>\n      <th>imdb_score</th>\n      <th>aspect_ratio</th>\n      <th>movie_facebook_likes</th>\n    </tr>\n  </thead>\n  <tbody>\n    <tr>\n      <td>0</td>\n      <td>Color</td>\n      <td>James Cameron</td>\n      <td>723.0</td>\n      <td>178.0</td>\n      <td>0.0</td>\n      <td>855.0</td>\n      <td>Joel David Moore</td>\n      <td>1000.0</td>\n      <td>760505847.0</td>\n      <td>Action|Adventure|Fantasy|Sci-Fi</td>\n      <td>...</td>\n      <td>3054.0</td>\n      <td>English</td>\n      <td>USA</td>\n      <td>PG-13</td>\n      <td>237000000.0</td>\n      <td>2009-01-01</td>\n      <td>936.0</td>\n      <td>7.9</td>\n      <td>1.78</td>\n      <td>33000</td>\n    </tr>\n    <tr>\n      <td>1</td>\n      <td>Color</td>\n      <td>Gore Verbinski</td>\n      <td>302.0</td>\n      <td>169.0</td>\n      <td>563.0</td>\n      <td>1000.0</td>\n      <td>Orlando Bloom</td>\n      <td>40000.0</td>\n      <td>309404152.0</td>\n      <td>Action|Adventure|Fantasy</td>\n      <td>...</td>\n      <td>1238.0</td>\n      <td>English</td>\n      <td>USA</td>\n      <td>PG-13</td>\n      <td>300000000.0</td>\n      <td>2007-01-01</td>\n      <td>5000.0</td>\n      <td>7.1</td>\n      <td>2.35</td>\n      <td>0</td>\n    </tr>\n    <tr>\n      <td>2</td>\n      <td>Color</td>\n      <td>Sam Mendes</td>\n      <td>602.0</td>\n      <td>148.0</td>\n      <td>0.0</td>\n      <td>161.0</td>\n      <td>Rory Kinnear</td>\n      <td>11000.0</td>\n      <td>200074175.0</td>\n      <td>Action|Adventure|Thriller</td>\n      <td>...</td>\n      <td>994.0</td>\n      <td>English</td>\n      <td>UK</td>\n      <td>PG-13</td>\n      <td>245000000.0</td>\n      <td>2015-01-01</td>\n      <td>393.0</td>\n      <td>6.8</td>\n      <td>2.35</td>\n      <td>85000</td>\n    </tr>\n    <tr>\n      <td>3</td>\n      <td>Color</td>\n      <td>Christopher Nolan</td>\n      <td>813.0</td>\n      <td>164.0</td>\n      <td>22000.0</td>\n      <td>23000.0</td>\n      <td>Christian Bale</td>\n      <td>27000.0</td>\n      <td>448130642.0</td>\n      <td>Action|Thriller</td>\n      <td>...</td>\n      <td>2701.0</td>\n      <td>English</td>\n      <td>USA</td>\n      <td>PG-13</td>\n      <td>250000000.0</td>\n      <td>2012-01-01</td>\n      <td>23000.0</td>\n      <td>8.5</td>\n      <td>2.35</td>\n      <td>164000</td>\n    </tr>\n    <tr>\n      <td>5</td>\n      <td>Color</td>\n      <td>Andrew Stanton</td>\n      <td>462.0</td>\n      <td>132.0</td>\n      <td>475.0</td>\n      <td>530.0</td>\n      <td>Samantha Morton</td>\n      <td>640.0</td>\n      <td>73058679.0</td>\n      <td>Action|Adventure|Sci-Fi</td>\n      <td>...</td>\n      <td>738.0</td>\n      <td>English</td>\n      <td>USA</td>\n      <td>PG-13</td>\n      <td>263700000.0</td>\n      <td>2012-01-01</td>\n      <td>632.0</td>\n      <td>6.6</td>\n      <td>2.35</td>\n      <td>24000</td>\n    </tr>\n  </tbody>\n</table>\n<p>5 rows × 28 columns</p>\n</div>"
     },
     "metadata": {},
     "output_type": "execute_result",
     "execution_count": 9
    }
   ],
   "source": [
    "df_movies.head()\n"
   ]
  },
  {
   "cell_type": "code",
   "execution_count": 9,
   "metadata": {
    "pycharm": {
     "is_executing": false
    }
   },
   "outputs": [],
   "source": []
  }
 ],
 "metadata": {
  "kernelspec": {
   "display_name": "Python 3",
   "language": "python",
   "name": "python3"
  },
  "language_info": {
   "codemirror_mode": {
    "name": "ipython",
    "version": 3
   },
   "file_extension": ".py",
   "mimetype": "text/x-python",
   "name": "python",
   "nbconvert_exporter": "python",
   "pygments_lexer": "ipython3",
   "version": "3.7.3"
  },
  "pycharm": {
   "stem_cell": {
    "cell_type": "raw",
    "source": [],
    "metadata": {
     "collapsed": false
    }
   }
  }
 },
 "nbformat": 4,
 "nbformat_minor": 2
}