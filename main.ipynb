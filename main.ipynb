{
 "cells": [
  {
   "cell_type": "code",
   "execution_count": 1,
   "metadata": {
    "pycharm": {
     "is_executing": false
    }
   },
   "outputs": [],
   "source": [
    "import numpy as np\n",
    "import pandas as pd\n",
    "import matplotlib.pyplot as plt"
   ]
  },
  {
   "cell_type": "markdown",
   "metadata": {},
   "source": [
    "# Movie Revenue Predictions\n",
    "Onderzoeksvragen:\n",
    "1. In hoeverre is de omzet van een film te voorspellen op basis van de populariteit op Facebook en IMDB zelf?\n",
    "2. In hoeverre is het mogelijk om op basis van schrijvers en regisseur te voorspellen welke acteurs in een film spelen?\n",
    "3. In hoeverre is het mogelijk om op basis van plot keywords te voorspellen tot welke genres een film behoort?\n",
    "4. In hoeverre is het mogelijk om de budget-winst verhouding te voorspellen?\n",
    "\n",
    "## Het Data Science proces\n",
    "Voor de eerste verkenning is ons gevraagd om de eerste vier stappen uit te voeren:\n",
    "1. Data collection\n",
    "2. Data processing (ook wel data munging)\n",
    "3. Data cleaning\n",
    "4. Data exploration & analysis\n",
    "5. Model building\n",
    "6. Visualization\n",
    "7. Communication\n",
    "\n",
    "## 1. Data Collection\n",
    "De Data Collection is deels al voor ons gedaan. De dataset `movie.csv` is ons aangeleverd. Echter word voor de opdracht \n",
    "gevraagd om deze te combineren met een dataset van derden. Om erachter te komen welke dataset geschikt is om te \n",
    "combineren met `movies.csv`zullen wij deze dataset eerst moeten processen, cleanen en exploren.  \n",
    "\n",
    "Om te zien of de dataset `movie.csv` goed is ingeladen, worden de eerste vijf rijen getoond:"
   ]
  },
  {
   "cell_type": "code",
   "execution_count": 2,
   "metadata": {
    "pycharm": {
     "is_executing": false,
     "name": "#%%\n"
    }
   },
   "outputs": [
    {
     "data": {
      "text/plain": "   color      director_name  num_critic_for_reviews  duration  \\\n0  Color      James Cameron                   723.0     178.0   \n1  Color     Gore Verbinski                   302.0     169.0   \n2  Color         Sam Mendes                   602.0     148.0   \n3  Color  Christopher Nolan                   813.0     164.0   \n4    NaN        Doug Walker                     NaN       NaN   \n\n   director_facebook_likes  actor_3_facebook_likes      actor_2_name  \\\n0                      0.0                   855.0  Joel David Moore   \n1                    563.0                  1000.0     Orlando Bloom   \n2                      0.0                   161.0      Rory Kinnear   \n3                  22000.0                 23000.0    Christian Bale   \n4                    131.0                     NaN        Rob Walker   \n\n   actor_1_facebook_likes        gross                           genres  ...  \\\n0                  1000.0  760505847.0  Action|Adventure|Fantasy|Sci-Fi  ...   \n1                 40000.0  309404152.0         Action|Adventure|Fantasy  ...   \n2                 11000.0  200074175.0        Action|Adventure|Thriller  ...   \n3                 27000.0  448130642.0                  Action|Thriller  ...   \n4                   131.0          NaN                      Documentary  ...   \n\n  num_user_for_reviews language  country  content_rating       budget  \\\n0               3054.0  English      USA           PG-13  237000000.0   \n1               1238.0  English      USA           PG-13  300000000.0   \n2                994.0  English       UK           PG-13  245000000.0   \n3               2701.0  English      USA           PG-13  250000000.0   \n4                  NaN      NaN      NaN             NaN          NaN   \n\n   title_year actor_2_facebook_likes imdb_score  aspect_ratio  \\\n0      2009.0                  936.0        7.9          1.78   \n1      2007.0                 5000.0        7.1          2.35   \n2      2015.0                  393.0        6.8          2.35   \n3      2012.0                23000.0        8.5          2.35   \n4         NaN                   12.0        7.1           NaN   \n\n  movie_facebook_likes  \n0                33000  \n1                    0  \n2                85000  \n3               164000  \n4                    0  \n\n[5 rows x 28 columns]",
      "text/html": "<div>\n<style scoped>\n    .dataframe tbody tr th:only-of-type {\n        vertical-align: middle;\n    }\n\n    .dataframe tbody tr th {\n        vertical-align: top;\n    }\n\n    .dataframe thead th {\n        text-align: right;\n    }\n</style>\n<table border=\"1\" class=\"dataframe\">\n  <thead>\n    <tr style=\"text-align: right;\">\n      <th></th>\n      <th>color</th>\n      <th>director_name</th>\n      <th>num_critic_for_reviews</th>\n      <th>duration</th>\n      <th>director_facebook_likes</th>\n      <th>actor_3_facebook_likes</th>\n      <th>actor_2_name</th>\n      <th>actor_1_facebook_likes</th>\n      <th>gross</th>\n      <th>genres</th>\n      <th>...</th>\n      <th>num_user_for_reviews</th>\n      <th>language</th>\n      <th>country</th>\n      <th>content_rating</th>\n      <th>budget</th>\n      <th>title_year</th>\n      <th>actor_2_facebook_likes</th>\n      <th>imdb_score</th>\n      <th>aspect_ratio</th>\n      <th>movie_facebook_likes</th>\n    </tr>\n  </thead>\n  <tbody>\n    <tr>\n      <th>0</th>\n      <td>Color</td>\n      <td>James Cameron</td>\n      <td>723.0</td>\n      <td>178.0</td>\n      <td>0.0</td>\n      <td>855.0</td>\n      <td>Joel David Moore</td>\n      <td>1000.0</td>\n      <td>760505847.0</td>\n      <td>Action|Adventure|Fantasy|Sci-Fi</td>\n      <td>...</td>\n      <td>3054.0</td>\n      <td>English</td>\n      <td>USA</td>\n      <td>PG-13</td>\n      <td>237000000.0</td>\n      <td>2009.0</td>\n      <td>936.0</td>\n      <td>7.9</td>\n      <td>1.78</td>\n      <td>33000</td>\n    </tr>\n    <tr>\n      <th>1</th>\n      <td>Color</td>\n      <td>Gore Verbinski</td>\n      <td>302.0</td>\n      <td>169.0</td>\n      <td>563.0</td>\n      <td>1000.0</td>\n      <td>Orlando Bloom</td>\n      <td>40000.0</td>\n      <td>309404152.0</td>\n      <td>Action|Adventure|Fantasy</td>\n      <td>...</td>\n      <td>1238.0</td>\n      <td>English</td>\n      <td>USA</td>\n      <td>PG-13</td>\n      <td>300000000.0</td>\n      <td>2007.0</td>\n      <td>5000.0</td>\n      <td>7.1</td>\n      <td>2.35</td>\n      <td>0</td>\n    </tr>\n    <tr>\n      <th>2</th>\n      <td>Color</td>\n      <td>Sam Mendes</td>\n      <td>602.0</td>\n      <td>148.0</td>\n      <td>0.0</td>\n      <td>161.0</td>\n      <td>Rory Kinnear</td>\n      <td>11000.0</td>\n      <td>200074175.0</td>\n      <td>Action|Adventure|Thriller</td>\n      <td>...</td>\n      <td>994.0</td>\n      <td>English</td>\n      <td>UK</td>\n      <td>PG-13</td>\n      <td>245000000.0</td>\n      <td>2015.0</td>\n      <td>393.0</td>\n      <td>6.8</td>\n      <td>2.35</td>\n      <td>85000</td>\n    </tr>\n    <tr>\n      <th>3</th>\n      <td>Color</td>\n      <td>Christopher Nolan</td>\n      <td>813.0</td>\n      <td>164.0</td>\n      <td>22000.0</td>\n      <td>23000.0</td>\n      <td>Christian Bale</td>\n      <td>27000.0</td>\n      <td>448130642.0</td>\n      <td>Action|Thriller</td>\n      <td>...</td>\n      <td>2701.0</td>\n      <td>English</td>\n      <td>USA</td>\n      <td>PG-13</td>\n      <td>250000000.0</td>\n      <td>2012.0</td>\n      <td>23000.0</td>\n      <td>8.5</td>\n      <td>2.35</td>\n      <td>164000</td>\n    </tr>\n    <tr>\n      <th>4</th>\n      <td>NaN</td>\n      <td>Doug Walker</td>\n      <td>NaN</td>\n      <td>NaN</td>\n      <td>131.0</td>\n      <td>NaN</td>\n      <td>Rob Walker</td>\n      <td>131.0</td>\n      <td>NaN</td>\n      <td>Documentary</td>\n      <td>...</td>\n      <td>NaN</td>\n      <td>NaN</td>\n      <td>NaN</td>\n      <td>NaN</td>\n      <td>NaN</td>\n      <td>NaN</td>\n      <td>12.0</td>\n      <td>7.1</td>\n      <td>NaN</td>\n      <td>0</td>\n    </tr>\n  </tbody>\n</table>\n<p>5 rows × 28 columns</p>\n</div>"
     },
     "metadata": {},
     "output_type": "execute_result",
     "execution_count": 2
    }
   ],
   "source": [
    "df_movies = pd.read_csv('data/movie.csv')\n",
    "df_movies.head()"
   ]
  },
  {
   "cell_type": "markdown",
   "metadata": {},
   "source": [
    "### Externe dataset\n",
    "Onze originele dataset bevat geen data over de schrijvers van deze films. Deze data valt echter wel te reconstrueren met\n",
    "behulp van andere IMDB datasets. Het gaat hierbij om de volgende datasets:"
   ]
  },
  {
   "cell_type": "code",
   "execution_count": 62,
   "metadata": {
    "pycharm": {
     "is_executing": false,
     "name": "#%%\n"
    }
   },
   "outputs": [
    {
     "data": {
      "text/plain": "      tconst  directors writers\n0  tt0000001  nm0005690      \\N\n1  tt0000002  nm0721526      \\N\n2  tt0000003  nm0721526      \\N\n3  tt0000004  nm0721526      \\N\n4  tt0000005  nm0005690      \\N",
      "text/html": "<div>\n<style scoped>\n    .dataframe tbody tr th:only-of-type {\n        vertical-align: middle;\n    }\n\n    .dataframe tbody tr th {\n        vertical-align: top;\n    }\n\n    .dataframe thead th {\n        text-align: right;\n    }\n</style>\n<table border=\"1\" class=\"dataframe\">\n  <thead>\n    <tr style=\"text-align: right;\">\n      <th></th>\n      <th>tconst</th>\n      <th>directors</th>\n      <th>writers</th>\n    </tr>\n  </thead>\n  <tbody>\n    <tr>\n      <th>0</th>\n      <td>tt0000001</td>\n      <td>nm0005690</td>\n      <td>\\N</td>\n    </tr>\n    <tr>\n      <th>1</th>\n      <td>tt0000002</td>\n      <td>nm0721526</td>\n      <td>\\N</td>\n    </tr>\n    <tr>\n      <th>2</th>\n      <td>tt0000003</td>\n      <td>nm0721526</td>\n      <td>\\N</td>\n    </tr>\n    <tr>\n      <th>3</th>\n      <td>tt0000004</td>\n      <td>nm0721526</td>\n      <td>\\N</td>\n    </tr>\n    <tr>\n      <th>4</th>\n      <td>tt0000005</td>\n      <td>nm0005690</td>\n      <td>\\N</td>\n    </tr>\n  </tbody>\n</table>\n</div>"
     },
     "metadata": {},
     "output_type": "execute_result",
     "execution_count": 62
    }
   ],
   "source": [
    "# These datasets were originally named 'data.tsv', they have been renamed accordingly:\n",
    "# title.crew.tsv.gz -> crew.tsv\n",
    "df_crew = pd.read_csv(r\"data\\imdb\\crew.tsv\", sep=\"\\t\")\n",
    "df_crew.head()"
   ]
  },
  {
   "cell_type": "code",
   "execution_count": 63,
   "metadata": {
    "pycharm": {
     "is_executing": false,
     "name": "#%%\n"
    }
   },
   "outputs": [
    {
     "data": {
      "text/plain": "      nconst      primaryName birthYear deathYear  \\\n0  nm0000001     Fred Astaire      1899      1987   \n1  nm0000002    Lauren Bacall      1924      2014   \n2  nm0000003  Brigitte Bardot      1934        \\N   \n3  nm0000004     John Belushi      1949      1982   \n4  nm0000005   Ingmar Bergman      1918      2007   \n\n                primaryProfession                           knownForTitles  \n0  soundtrack,actor,miscellaneous  tt0043044,tt0072308,tt0053137,tt0050419  \n1              actress,soundtrack  tt0117057,tt0037382,tt0038355,tt0071877  \n2     actress,soundtrack,producer  tt0054452,tt0059956,tt0049189,tt0057345  \n3         actor,writer,soundtrack  tt0072562,tt0080455,tt0078723,tt0077975  \n4           writer,director,actor  tt0069467,tt0083922,tt0050976,tt0050986  ",
      "text/html": "<div>\n<style scoped>\n    .dataframe tbody tr th:only-of-type {\n        vertical-align: middle;\n    }\n\n    .dataframe tbody tr th {\n        vertical-align: top;\n    }\n\n    .dataframe thead th {\n        text-align: right;\n    }\n</style>\n<table border=\"1\" class=\"dataframe\">\n  <thead>\n    <tr style=\"text-align: right;\">\n      <th></th>\n      <th>nconst</th>\n      <th>primaryName</th>\n      <th>birthYear</th>\n      <th>deathYear</th>\n      <th>primaryProfession</th>\n      <th>knownForTitles</th>\n    </tr>\n  </thead>\n  <tbody>\n    <tr>\n      <th>0</th>\n      <td>nm0000001</td>\n      <td>Fred Astaire</td>\n      <td>1899</td>\n      <td>1987</td>\n      <td>soundtrack,actor,miscellaneous</td>\n      <td>tt0043044,tt0072308,tt0053137,tt0050419</td>\n    </tr>\n    <tr>\n      <th>1</th>\n      <td>nm0000002</td>\n      <td>Lauren Bacall</td>\n      <td>1924</td>\n      <td>2014</td>\n      <td>actress,soundtrack</td>\n      <td>tt0117057,tt0037382,tt0038355,tt0071877</td>\n    </tr>\n    <tr>\n      <th>2</th>\n      <td>nm0000003</td>\n      <td>Brigitte Bardot</td>\n      <td>1934</td>\n      <td>\\N</td>\n      <td>actress,soundtrack,producer</td>\n      <td>tt0054452,tt0059956,tt0049189,tt0057345</td>\n    </tr>\n    <tr>\n      <th>3</th>\n      <td>nm0000004</td>\n      <td>John Belushi</td>\n      <td>1949</td>\n      <td>1982</td>\n      <td>actor,writer,soundtrack</td>\n      <td>tt0072562,tt0080455,tt0078723,tt0077975</td>\n    </tr>\n    <tr>\n      <th>4</th>\n      <td>nm0000005</td>\n      <td>Ingmar Bergman</td>\n      <td>1918</td>\n      <td>2007</td>\n      <td>writer,director,actor</td>\n      <td>tt0069467,tt0083922,tt0050976,tt0050986</td>\n    </tr>\n  </tbody>\n</table>\n</div>"
     },
     "metadata": {},
     "output_type": "execute_result",
     "execution_count": 63
    }
   ],
   "source": [
    "# name.basics.tsv.gz -> names.tsv\n",
    "df_names = pd.read_csv(r\"data/imdb/names.tsv\", sep=\"\\t\")\n",
    "df_names.head()\n"
   ]
  },
  {
   "cell_type": "code",
   "execution_count": 64,
   "metadata": {
    "pycharm": {
     "is_executing": false,
     "name": "#%%\n"
    }
   },
   "outputs": [
    {
     "name": "stderr",
     "text": [
      "c:\\program files\\python37\\lib\\site-packages\\IPython\\core\\interactiveshell.py:3049: DtypeWarning: Columns (5) have mixed types. Specify dtype option on import or set low_memory=False.\n  interactivity=interactivity, compiler=compiler, result=result)\n"
     ],
     "output_type": "stream"
    },
    {
     "data": {
      "text/plain": "      tconst titleType            primaryTitle           originalTitle  \\\n0  tt0000001     short              Carmencita              Carmencita   \n1  tt0000002     short  Le clown et ses chiens  Le clown et ses chiens   \n2  tt0000003     short          Pauvre Pierrot          Pauvre Pierrot   \n3  tt0000004     short             Un bon bock             Un bon bock   \n4  tt0000005     short        Blacksmith Scene        Blacksmith Scene   \n\n   isAdult startYear endYear runtimeMinutes                    genres  \n0        0      1894      \\N              1         Documentary,Short  \n1        0      1892      \\N              5           Animation,Short  \n2        0      1892      \\N              4  Animation,Comedy,Romance  \n3        0      1892      \\N             \\N           Animation,Short  \n4        0      1893      \\N              1              Comedy,Short  ",
      "text/html": "<div>\n<style scoped>\n    .dataframe tbody tr th:only-of-type {\n        vertical-align: middle;\n    }\n\n    .dataframe tbody tr th {\n        vertical-align: top;\n    }\n\n    .dataframe thead th {\n        text-align: right;\n    }\n</style>\n<table border=\"1\" class=\"dataframe\">\n  <thead>\n    <tr style=\"text-align: right;\">\n      <th></th>\n      <th>tconst</th>\n      <th>titleType</th>\n      <th>primaryTitle</th>\n      <th>originalTitle</th>\n      <th>isAdult</th>\n      <th>startYear</th>\n      <th>endYear</th>\n      <th>runtimeMinutes</th>\n      <th>genres</th>\n    </tr>\n  </thead>\n  <tbody>\n    <tr>\n      <th>0</th>\n      <td>tt0000001</td>\n      <td>short</td>\n      <td>Carmencita</td>\n      <td>Carmencita</td>\n      <td>0</td>\n      <td>1894</td>\n      <td>\\N</td>\n      <td>1</td>\n      <td>Documentary,Short</td>\n    </tr>\n    <tr>\n      <th>1</th>\n      <td>tt0000002</td>\n      <td>short</td>\n      <td>Le clown et ses chiens</td>\n      <td>Le clown et ses chiens</td>\n      <td>0</td>\n      <td>1892</td>\n      <td>\\N</td>\n      <td>5</td>\n      <td>Animation,Short</td>\n    </tr>\n    <tr>\n      <th>2</th>\n      <td>tt0000003</td>\n      <td>short</td>\n      <td>Pauvre Pierrot</td>\n      <td>Pauvre Pierrot</td>\n      <td>0</td>\n      <td>1892</td>\n      <td>\\N</td>\n      <td>4</td>\n      <td>Animation,Comedy,Romance</td>\n    </tr>\n    <tr>\n      <th>3</th>\n      <td>tt0000004</td>\n      <td>short</td>\n      <td>Un bon bock</td>\n      <td>Un bon bock</td>\n      <td>0</td>\n      <td>1892</td>\n      <td>\\N</td>\n      <td>\\N</td>\n      <td>Animation,Short</td>\n    </tr>\n    <tr>\n      <th>4</th>\n      <td>tt0000005</td>\n      <td>short</td>\n      <td>Blacksmith Scene</td>\n      <td>Blacksmith Scene</td>\n      <td>0</td>\n      <td>1893</td>\n      <td>\\N</td>\n      <td>1</td>\n      <td>Comedy,Short</td>\n    </tr>\n  </tbody>\n</table>\n</div>"
     },
     "metadata": {},
     "output_type": "execute_result",
     "execution_count": 64
    }
   ],
   "source": [
    "# title.basics.tst.gz -> titles.tsv\n",
    "df_titles = pd.read_csv(r\"data/imdb/titles.tsv\", sep=\"\\t\")\n",
    "df_titles.head()"
   ]
  },
  {
   "cell_type": "markdown",
   "metadata": {},
   "source": [
    "## 2. Data Processing\n",
    "### 2a. Aangeleverde dataset\n",
    "Ook deze stap is grotendeels voor ons gedaan. De data is goed opgeslagen in een `.csv`-bestand en kan direct worden \n",
    "ingelezen in een _Pandas_ DataFrame.\n",
    "\n",
    "Verder rest ons nog de volgende vier stappen:\n",
    "1. Het verwijderen van ongewenste kolommen\n",
    "2. Het aanpassen van onduidelijke kolomnamen\n",
    "3. Het aanpassen van de volgorde van de kolommen\n",
    "4. Het aanpassen van enkele datatypen"
   ]
  },
  {
   "cell_type": "code",
   "execution_count": 3,
   "metadata": {
    "pycharm": {
     "is_executing": false,
     "name": "#%% \n"
    }
   },
   "outputs": [],
   "source": [
    "# Ongewenste kolommen verwijderen\n",
    "df_movies.drop([\"movie_imdb_link\", \"aspect_ratio\"], axis=1, inplace=True)\n",
    "\n",
    "#Onduidelijke kolomnamen aanpassen\n",
    "df_movies.rename(columns={'color': 'Colour',\n",
    "                          'director_name': 'Director',\n",
    "                          'num_critic_for_reviews': 'Number of critics',\n",
    "                          'duration': 'Duration',\n",
    "                          'director_facebook_likes': 'Director FB likes',\n",
    "                          'actor_3_facebook_likes': 'Actor 3 FB likes',\n",
    "                          'actor_2_name': 'Actor 2 name',\n",
    "                          'actor_1_facebook_likes': 'Actor 1 FB likes',\n",
    "                          'gross': 'Gross',\n",
    "                          'genres': 'Genres',\n",
    "                          'actor_1_name': 'Actor 1 name',\n",
    "                          'movie_title': 'Movie title',\n",
    "                          'num_voted_users': 'Number of voted users',\n",
    "                          'cast_total_facebook_likes': 'Total Cast FB likes',\n",
    "                          'actor_3_name': 'Actor 3 name',\n",
    "                          'facenumber_in_poster': 'Number of faces on poster',\n",
    "                          'plot_keywords': 'Plot Keywords',\n",
    "                          'num_user_for_reviews': 'Number of user reviews',\n",
    "                          'language': 'Language',\n",
    "                          'country': 'Country',\n",
    "                          'content_rating': 'Age rating',\n",
    "                          'budget': 'Budget',\n",
    "                          'title_year': 'Release year',\n",
    "                          'actor_2_facebook_likes': 'Actor 2 FB likes',\n",
    "                          'imdb_score': 'IMDB Score',\n",
    "                          'movie_facebook_likes': 'Movie FB likes'}, inplace=True)\n",
    "\n",
    "# Volgorde kolommen aanpassen\n",
    "df_movies = df_movies[['Movie title',\n",
    "                       'Release year',\n",
    "                       'Director',\n",
    "                       'Director FB likes',\n",
    "                       'Gross',\n",
    "                       'Budget',\n",
    "                       'Duration',\n",
    "                       'Language',\n",
    "                       'Country',\n",
    "                       'Colour',\n",
    "                       'Genres',\n",
    "                       'IMDB Score',\n",
    "                       'Number of voted users',\n",
    "                       'Number of critics',\n",
    "                       'Number of user reviews',\n",
    "                       'Age rating',\n",
    "                       'Total Cast FB likes',\n",
    "                       'Movie FB likes',\n",
    "                       'Actor 1 name',\n",
    "                       'Actor 2 name',\n",
    "                       'Actor 3 name',\n",
    "                       'Actor 1 FB likes',\n",
    "                       'Actor 2 FB likes',\n",
    "                       'Actor 3 FB likes',\n",
    "                       'Plot Keywords',\n",
    "                       'Number of faces on poster',\n",
    "                       ]]\n",
    "\n",
    "# Datatypen aanpassen\n",
    "# 1. Floats omzetten naar integers\n",
    "#  De dataset bevat geen kolommen die dienen te worden bewaard als float, behalve `IMDB Score`\n",
    "df_movies_IMDB_Score = df_movies[\"IMDB Score\"]  # Tijdelijke kopie van de kolom `IMDB Score`\n",
    "df_movies = df_movies.drop('IMDB Score', axis=1).fillna(0).astype(int, errors='ignore') # Waarden omzetten naar integers\n",
    "df_movies.insert(11, \"IMDB Score\", df_movies_IMDB_Score)  # `IMDB Score` weer toevoegen aan originele DataFrame\n",
    "del df_movies_IMDB_Score\n",
    "\n",
    "# 2. De kolom `Release year` omzettten van integers naar het datetime-datatype\n",
    "df_movies[\"Release year\"] = pd.to_datetime(df_movies[\"Release year\"], format='%Y', errors='coerce')"
   ]
  },
  {
   "cell_type": "markdown",
   "metadata": {},
   "source": [
    "Het DataFrame ziet er nu als volgt uit:"
   ]
  },
  {
   "cell_type": "code",
   "execution_count": 4,
   "metadata": {
    "pycharm": {
     "is_executing": false,
     "name": "#%% \n"
    }
   },
   "outputs": [
    {
     "data": {
      "text/plain": "                                         Movie title Release year  \\\n0                                            Avatar    2009-01-01   \n1          Pirates of the Caribbean: At World's End    2007-01-01   \n2                                           Spectre    2015-01-01   \n3                             The Dark Knight Rises    2012-01-01   \n4  Star Wars: Episode VII - The Force Awakens    ...          NaT   \n\n            Director  Director FB likes      Gross     Budget  Duration  \\\n0      James Cameron                  0  760505847  237000000       178   \n1     Gore Verbinski                563  309404152  300000000       169   \n2         Sam Mendes                  0  200074175  245000000       148   \n3  Christopher Nolan              22000  448130642  250000000       164   \n4        Doug Walker                131          0          0         0   \n\n  Language Country Colour  ... Total Cast FB likes  Movie FB likes  \\\n0  English     USA  Color  ...                4834           33000   \n1  English     USA  Color  ...               48350               0   \n2  English      UK  Color  ...               11700           85000   \n3  English     USA  Color  ...              106759          164000   \n4        0       0      0  ...                 143               0   \n\n      Actor 1 name      Actor 2 name          Actor 3 name Actor 1 FB likes  \\\n0      CCH Pounder  Joel David Moore             Wes Studi             1000   \n1      Johnny Depp     Orlando Bloom        Jack Davenport            40000   \n2  Christoph Waltz      Rory Kinnear      Stephanie Sigman            11000   \n3        Tom Hardy    Christian Bale  Joseph Gordon-Levitt            27000   \n4      Doug Walker        Rob Walker                     0              131   \n\n   Actor 2 FB likes  Actor 3 FB likes  \\\n0               936               855   \n1              5000              1000   \n2               393               161   \n3             23000             23000   \n4                12                 0   \n\n                                       Plot Keywords Number of faces on poster  \n0             avatar|future|marine|native|paraplegic                         0  \n1  goddess|marriage ceremony|marriage proposal|pi...                         0  \n2                bomb|espionage|sequel|spy|terrorist                         1  \n3  deception|imprisonment|lawlessness|police offi...                         0  \n4                                                  0                         0  \n\n[5 rows x 26 columns]",
      "text/html": "<div>\n<style scoped>\n    .dataframe tbody tr th:only-of-type {\n        vertical-align: middle;\n    }\n\n    .dataframe tbody tr th {\n        vertical-align: top;\n    }\n\n    .dataframe thead th {\n        text-align: right;\n    }\n</style>\n<table border=\"1\" class=\"dataframe\">\n  <thead>\n    <tr style=\"text-align: right;\">\n      <th></th>\n      <th>Movie title</th>\n      <th>Release year</th>\n      <th>Director</th>\n      <th>Director FB likes</th>\n      <th>Gross</th>\n      <th>Budget</th>\n      <th>Duration</th>\n      <th>Language</th>\n      <th>Country</th>\n      <th>Colour</th>\n      <th>...</th>\n      <th>Total Cast FB likes</th>\n      <th>Movie FB likes</th>\n      <th>Actor 1 name</th>\n      <th>Actor 2 name</th>\n      <th>Actor 3 name</th>\n      <th>Actor 1 FB likes</th>\n      <th>Actor 2 FB likes</th>\n      <th>Actor 3 FB likes</th>\n      <th>Plot Keywords</th>\n      <th>Number of faces on poster</th>\n    </tr>\n  </thead>\n  <tbody>\n    <tr>\n      <th>0</th>\n      <td>Avatar</td>\n      <td>2009-01-01</td>\n      <td>James Cameron</td>\n      <td>0</td>\n      <td>760505847</td>\n      <td>237000000</td>\n      <td>178</td>\n      <td>English</td>\n      <td>USA</td>\n      <td>Color</td>\n      <td>...</td>\n      <td>4834</td>\n      <td>33000</td>\n      <td>CCH Pounder</td>\n      <td>Joel David Moore</td>\n      <td>Wes Studi</td>\n      <td>1000</td>\n      <td>936</td>\n      <td>855</td>\n      <td>avatar|future|marine|native|paraplegic</td>\n      <td>0</td>\n    </tr>\n    <tr>\n      <th>1</th>\n      <td>Pirates of the Caribbean: At World's End</td>\n      <td>2007-01-01</td>\n      <td>Gore Verbinski</td>\n      <td>563</td>\n      <td>309404152</td>\n      <td>300000000</td>\n      <td>169</td>\n      <td>English</td>\n      <td>USA</td>\n      <td>Color</td>\n      <td>...</td>\n      <td>48350</td>\n      <td>0</td>\n      <td>Johnny Depp</td>\n      <td>Orlando Bloom</td>\n      <td>Jack Davenport</td>\n      <td>40000</td>\n      <td>5000</td>\n      <td>1000</td>\n      <td>goddess|marriage ceremony|marriage proposal|pi...</td>\n      <td>0</td>\n    </tr>\n    <tr>\n      <th>2</th>\n      <td>Spectre</td>\n      <td>2015-01-01</td>\n      <td>Sam Mendes</td>\n      <td>0</td>\n      <td>200074175</td>\n      <td>245000000</td>\n      <td>148</td>\n      <td>English</td>\n      <td>UK</td>\n      <td>Color</td>\n      <td>...</td>\n      <td>11700</td>\n      <td>85000</td>\n      <td>Christoph Waltz</td>\n      <td>Rory Kinnear</td>\n      <td>Stephanie Sigman</td>\n      <td>11000</td>\n      <td>393</td>\n      <td>161</td>\n      <td>bomb|espionage|sequel|spy|terrorist</td>\n      <td>1</td>\n    </tr>\n    <tr>\n      <th>3</th>\n      <td>The Dark Knight Rises</td>\n      <td>2012-01-01</td>\n      <td>Christopher Nolan</td>\n      <td>22000</td>\n      <td>448130642</td>\n      <td>250000000</td>\n      <td>164</td>\n      <td>English</td>\n      <td>USA</td>\n      <td>Color</td>\n      <td>...</td>\n      <td>106759</td>\n      <td>164000</td>\n      <td>Tom Hardy</td>\n      <td>Christian Bale</td>\n      <td>Joseph Gordon-Levitt</td>\n      <td>27000</td>\n      <td>23000</td>\n      <td>23000</td>\n      <td>deception|imprisonment|lawlessness|police offi...</td>\n      <td>0</td>\n    </tr>\n    <tr>\n      <th>4</th>\n      <td>Star Wars: Episode VII - The Force Awakens    ...</td>\n      <td>NaT</td>\n      <td>Doug Walker</td>\n      <td>131</td>\n      <td>0</td>\n      <td>0</td>\n      <td>0</td>\n      <td>0</td>\n      <td>0</td>\n      <td>0</td>\n      <td>...</td>\n      <td>143</td>\n      <td>0</td>\n      <td>Doug Walker</td>\n      <td>Rob Walker</td>\n      <td>0</td>\n      <td>131</td>\n      <td>12</td>\n      <td>0</td>\n      <td>0</td>\n      <td>0</td>\n    </tr>\n  </tbody>\n</table>\n<p>5 rows × 26 columns</p>\n</div>"
     },
     "metadata": {},
     "output_type": "execute_result",
     "execution_count": 4
    }
   ],
   "source": [
    "df_movies.head()"
   ]
  },
  {
   "cell_type": "markdown",
   "metadata": {
    "pycharm": {
     "name": "#%% md\n"
    }
   },
   "source": [
    "### 2b. Extra datasets\n",
    "Uit de extra datasets moeten een DataFrame worden gemaakt die de volgende kolommen bevat:  \n",
    "- Movie title\n",
    "- Director\n",
    "- Writers\n",
    "- Actor 1 name\n",
    "- Actor 2 name\n",
    "- Actor 3 name\n",
    "\n",
    "Dit gaat in een paar stappen:\n",
    "1. Het verwijderen van kolommen die niet gebruikt worden\n",
    "2. Het samenvoegen van `df_crew` en `df_titles` op `tconst`\n",
    "3. Het verwijderen van alle rijen die geen films zijn\n",
    "4. Het toevoegen van de namen van de schrijvers uit `df_names`  \n",
    "5. Het toevoegen van de kolommen 'Actor # name' uit `df_movies`\n",
    "6. Het toevoegen van de naam van de directors\n",
    "\n"
   ]
  },
  {
   "cell_type": "code",
   "execution_count": 5,
   "metadata": {
    "pycharm": {
     "is_executing": false,
     "name": "#%%\n"
    }
   },
   "outputs": [
    {
     "traceback": [
      "\u001b[1;31m---------------------------------------------------------------------------\u001b[0m",
      "\u001b[1;31mNameError\u001b[0m                                 Traceback (most recent call last)",
      "\u001b[1;32m<ipython-input-5-86d550eac5e3>\u001b[0m in \u001b[0;36m<module>\u001b[1;34m\u001b[0m\n\u001b[0;32m      1\u001b[0m \u001b[1;33m\u001b[0m\u001b[0m\n\u001b[0;32m      2\u001b[0m \u001b[1;31m# Removing unused columns\u001b[0m\u001b[1;33m\u001b[0m\u001b[1;33m\u001b[0m\u001b[1;33m\u001b[0m\u001b[0m\n\u001b[1;32m----> 3\u001b[1;33m \u001b[0mdf_titles\u001b[0m\u001b[1;33m.\u001b[0m\u001b[0mdrop\u001b[0m\u001b[1;33m(\u001b[0m\u001b[1;33m[\u001b[0m\u001b[1;34m\"isAdult\"\u001b[0m\u001b[1;33m,\u001b[0m \u001b[1;34m\"endYear\"\u001b[0m\u001b[1;33m,\u001b[0m \u001b[1;34m\"genres\"\u001b[0m\u001b[1;33m]\u001b[0m\u001b[1;33m,\u001b[0m \u001b[0maxis\u001b[0m\u001b[1;33m=\u001b[0m\u001b[1;36m1\u001b[0m\u001b[1;33m,\u001b[0m \u001b[0minplace\u001b[0m\u001b[1;33m=\u001b[0m\u001b[1;32mTrue\u001b[0m\u001b[1;33m)\u001b[0m\u001b[1;33m\u001b[0m\u001b[1;33m\u001b[0m\u001b[0m\n\u001b[0m\u001b[0;32m      4\u001b[0m \u001b[1;33m\u001b[0m\u001b[0m\n",
      "\u001b[1;31mNameError\u001b[0m: name 'df_titles' is not defined"
     ],
     "ename": "NameError",
     "evalue": "name 'df_titles' is not defined",
     "output_type": "error"
    }
   ],
   "source": [
    "# Removing unused columns\n",
    "df_titles.drop([\"isAdult\", \"endYear\", \"genres\"], axis=1, inplace=True)"
   ]
  },
  {
   "cell_type": "code",
   "execution_count": 6,
   "metadata": {
    "pycharm": {
     "is_executing": false,
     "name": "#%%\n"
    }
   },
   "outputs": [
    {
     "traceback": [
      "\u001b[1;31m---------------------------------------------------------------------------\u001b[0m",
      "\u001b[1;31mNameError\u001b[0m                                 Traceback (most recent call last)",
      "\u001b[1;32m<ipython-input-6-1fa73fca4671>\u001b[0m in \u001b[0;36m<module>\u001b[1;34m\u001b[0m\n\u001b[0;32m      1\u001b[0m \u001b[1;33m\u001b[0m\u001b[0m\n\u001b[0;32m      2\u001b[0m \u001b[1;31m# Joining df_crew and df_titles\u001b[0m\u001b[1;33m\u001b[0m\u001b[1;33m\u001b[0m\u001b[1;33m\u001b[0m\u001b[0m\n\u001b[1;32m----> 3\u001b[1;33m \u001b[0mdf_writers\u001b[0m \u001b[1;33m=\u001b[0m \u001b[0mpd\u001b[0m\u001b[1;33m.\u001b[0m\u001b[0mDataFrame\u001b[0m\u001b[1;33m(\u001b[0m\u001b[0mpd\u001b[0m\u001b[1;33m.\u001b[0m\u001b[0mmerge\u001b[0m\u001b[1;33m(\u001b[0m\u001b[0mdf_crew\u001b[0m\u001b[1;33m,\u001b[0m \u001b[0mdf_titles\u001b[0m\u001b[1;33m)\u001b[0m\u001b[1;33m)\u001b[0m\u001b[1;33m\u001b[0m\u001b[1;33m\u001b[0m\u001b[0m\n\u001b[0m\u001b[0;32m      4\u001b[0m \u001b[1;33m\u001b[0m\u001b[0m\n",
      "\u001b[1;31mNameError\u001b[0m: name 'df_crew' is not defined"
     ],
     "ename": "NameError",
     "evalue": "name 'df_crew' is not defined",
     "output_type": "error"
    }
   ],
   "source": [
    "# Joining df_crew and df_titles\n",
    "df_writers = pd.DataFrame(pd.merge(df_crew, df_titles))"
   ]
  },
  {
   "cell_type": "code",
   "execution_count": 69,
   "metadata": {
    "pycharm": {
     "is_executing": false,
     "name": "#%%\n"
    }
   },
   "outputs": [],
   "source": [
    "# Dropping all non-movies\n",
    "df_writers.drop(df_writers[df_writers[\"titleType\"] != \"movie\"].index, inplace=True)"
   ]
  },
  {
   "cell_type": "code",
   "execution_count": 70,
   "metadata": {
    "pycharm": {
     "is_executing": false,
     "name": "#%%\n"
    }
   },
   "outputs": [],
   "source": [
    "# Adding names of writers to `df_writers`"
   ]
  },
  {
   "cell_type": "code",
   "execution_count": 71,
   "metadata": {
    "pycharm": {
     "is_executing": false,
     "name": "#%%\n"
    }
   },
   "outputs": [],
   "source": [
    "# Adding \"Actor # name\" 1 through 3 to `df_writers`"
   ]
  },
  {
   "cell_type": "markdown",
   "metadata": {
    "pycharm": {
     "name": "#%% md\n"
    }
   },
   "source": [
    "Here's a sample of the current version of `df_writers` "
   ]
  },
  {
   "cell_type": "code",
   "execution_count": 72,
   "metadata": {
    "pycharm": {
     "is_executing": false,
     "name": "#%%\n"
    }
   },
   "outputs": [
    {
     "data": {
      "text/plain": "            tconst  directors  \\\n3754282  tt4723724  nm0002692   \n4268252  tt5877836  nm3573400   \n106294   tt0108639  nm0000844   \n254094   tt0264906  nm0596480   \n240497   tt0250698  nm0626409   \n\n                                                   writers titleType  \\\n3754282                                          nm0002692     movie   \n4268252                                          nm3573400     movie   \n106294                       nm0619079,nm1302148,nm0949025     movie   \n254094                                                  \\N     movie   \n240497   nm0908681,nm0802561,nm0942027,nm0003418,nm0626409     movie   \n\n                    primaryTitle            originalTitle startYear  \\\n3754282     Do You Take This Man     Do You Take This Man      2016   \n4268252         Locus of Control         Locus of Control      2018   \n106294              Yume no onna             Yume no onna      1993   \n254094   Mireasma ploilor tarzii  Mireasma ploilor tarzii      1984   \n240497                    Ritual                   Ritual      2002   \n\n        runtimeMinutes  \n3754282             92  \n4268252             78  \n106294              98  \n254094              \\N  \n240497              99  ",
      "text/html": "<div>\n<style scoped>\n    .dataframe tbody tr th:only-of-type {\n        vertical-align: middle;\n    }\n\n    .dataframe tbody tr th {\n        vertical-align: top;\n    }\n\n    .dataframe thead th {\n        text-align: right;\n    }\n</style>\n<table border=\"1\" class=\"dataframe\">\n  <thead>\n    <tr style=\"text-align: right;\">\n      <th></th>\n      <th>tconst</th>\n      <th>directors</th>\n      <th>writers</th>\n      <th>titleType</th>\n      <th>primaryTitle</th>\n      <th>originalTitle</th>\n      <th>startYear</th>\n      <th>runtimeMinutes</th>\n    </tr>\n  </thead>\n  <tbody>\n    <tr>\n      <th>3754282</th>\n      <td>tt4723724</td>\n      <td>nm0002692</td>\n      <td>nm0002692</td>\n      <td>movie</td>\n      <td>Do You Take This Man</td>\n      <td>Do You Take This Man</td>\n      <td>2016</td>\n      <td>92</td>\n    </tr>\n    <tr>\n      <th>4268252</th>\n      <td>tt5877836</td>\n      <td>nm3573400</td>\n      <td>nm3573400</td>\n      <td>movie</td>\n      <td>Locus of Control</td>\n      <td>Locus of Control</td>\n      <td>2018</td>\n      <td>78</td>\n    </tr>\n    <tr>\n      <th>106294</th>\n      <td>tt0108639</td>\n      <td>nm0000844</td>\n      <td>nm0619079,nm1302148,nm0949025</td>\n      <td>movie</td>\n      <td>Yume no onna</td>\n      <td>Yume no onna</td>\n      <td>1993</td>\n      <td>98</td>\n    </tr>\n    <tr>\n      <th>254094</th>\n      <td>tt0264906</td>\n      <td>nm0596480</td>\n      <td>\\N</td>\n      <td>movie</td>\n      <td>Mireasma ploilor tarzii</td>\n      <td>Mireasma ploilor tarzii</td>\n      <td>1984</td>\n      <td>\\N</td>\n    </tr>\n    <tr>\n      <th>240497</th>\n      <td>tt0250698</td>\n      <td>nm0626409</td>\n      <td>nm0908681,nm0802561,nm0942027,nm0003418,nm0626409</td>\n      <td>movie</td>\n      <td>Ritual</td>\n      <td>Ritual</td>\n      <td>2002</td>\n      <td>99</td>\n    </tr>\n  </tbody>\n</table>\n</div>"
     },
     "metadata": {},
     "output_type": "execute_result",
     "execution_count": 72
    }
   ],
   "source": [
    "df_writers.sample(5)"
   ]
  },
  {
   "cell_type": "markdown",
   "metadata": {},
   "source": [
    "## 3. Data Cleaning\n",
    "### 3a. Aangeleverde dataset\n",
    "1. Het verwijderen van NaN-types\n",
    "2. Het verwijderen van dubbele filmtitles\n",
    "3. Het verwijderen van negatieve waardes"
   ]
  },
  {
   "cell_type": "code",
   "execution_count": 5,
   "metadata": {
    "pycharm": {
     "is_executing": false,
     "name": "#%%\n"
    }
   },
   "outputs": [
    {
     "name": "stdout",
     "text": [
      "count     4.811000e+03\nunique             NaN\ntop                NaN\nfreq               NaN\nfirst              NaN\nlast               NaN\nmean      3.044660e+07\nstd       7.921020e+07\nmin      -2.147484e+09\n25%       3.500000e+06\n50%       1.600000e+07\n75%       4.000000e+07\nmax       2.127520e+09\nName: Budget, dtype: float64\ncount     4.811000e+03\nunique             NaN\ntop                NaN\nfreq               NaN\nfirst              NaN\nlast               NaN\nmean      3.178571e+07\nstd       5.757249e+07\nmin       0.000000e+00\n25%       3.500000e+06\n50%       1.600000e+07\n75%       4.000000e+07\nmax       2.127520e+09\nName: Budget, dtype: float64\n"
     ],
     "output_type": "stream"
    }
   ],
   "source": [
    "# NaN-types verwijderen\n",
    "df_movies.dropna(inplace=True)\n",
    "\n",
    "# Dubbele titels verwijderen\n",
    "df_movies.sort_values(\"Release year\", inplace=True)  # Sorteren op uitgavejaar\n",
    "df_movies.drop_duplicates(subset=\"Movie title\", keep=\"last\", inplace=True)  # Alleen meest recente versie blijft bewaard\n",
    "\n",
    "# Negatieve waardes verwijderen\n",
    "num = df_movies._get_numeric_data()\n",
    "num[num < 0] = 0"
   ]
  },
  {
   "cell_type": "markdown",
   "metadata": {},
   "source": [
    "Na stap 3. Data Cleaning ziet het DataFrame er als volgt uit:"
   ]
  },
  {
   "cell_type": "code",
   "execution_count": 6,
   "metadata": {
    "pycharm": {
     "is_executing": false,
     "name": "#%%\n"
    }
   },
   "outputs": [
    {
     "data": {
      "text/plain": "                                            Movie title Release year  \\\n4810  Intolerance: Love's Struggle Throughout the Ages    1916-01-01   \n4958                    Over the Hill to the Poorhouse    1920-01-01   \n4885                                    The Big Parade    1925-01-01   \n2734                                        Metropolis    1927-01-01   \n4812                               The Broadway Melody    1929-01-01   \n\n               Director  Director FB likes    Gross   Budget  Duration  \\\n4810      D.W. Griffith                204        0   385907       123   \n4958  Harry F. Millarde                  0  3000000   100000       110   \n4885         King Vidor                 54        0   245000       151   \n2734         Fritz Lang                756    26435  6000000       145   \n4812     Harry Beaumont                  4  2808000   379000       100   \n\n     Language  Country            Colour  ... Total Cast FB likes  \\\n4810        0      USA   Black and White  ...                 481   \n4958        0      USA   Black and White  ...                   4   \n4885        0      USA   Black and White  ...                 108   \n2734   German  Germany   Black and White  ...                 203   \n4812  English      USA   Black and White  ...                 109   \n\n      Movie FB likes   Actor 1 name     Actor 2 name        Actor 3 name  \\\n4810             691   Lillian Gish        Mae Marsh         Walter Long   \n4958               0   Stephen Carr   Johnnie Walker           Mary Carr   \n4885             226   John Gilbert     Renée Adorée        Claire Adams   \n2734           12000  Brigitte Helm  Gustav Fröhlich  Rudolf Klein-Rogge   \n4812             167     Anita Page      Bessie Love        Charles King   \n\n     Actor 1 FB likes  Actor 2 FB likes  Actor 3 FB likes  \\\n4810              436                22                 9   \n4958                2                 2                 0   \n4885               81                12                 6   \n2734              136                23                18   \n4812               77                28                 4   \n\n                                          Plot Keywords  \\\n4810    huguenot|intolerance|medicis|protestant|wedding   \n4958    family relationships|gang|idler|poorhouse|thief   \n4885  chewing gum|climbing a tree|france|translation...   \n2734      art deco|bible quote|dance|silent film|worker   \n4812  sibling rivalry|singer|sister act|whistling|wi...   \n\n     Number of faces on poster  \n4810                         1  \n4958                         1  \n4885                         0  \n2734                         1  \n4812                         8  \n\n[5 rows x 26 columns]",
      "text/html": "<div>\n<style scoped>\n    .dataframe tbody tr th:only-of-type {\n        vertical-align: middle;\n    }\n\n    .dataframe tbody tr th {\n        vertical-align: top;\n    }\n\n    .dataframe thead th {\n        text-align: right;\n    }\n</style>\n<table border=\"1\" class=\"dataframe\">\n  <thead>\n    <tr style=\"text-align: right;\">\n      <th></th>\n      <th>Movie title</th>\n      <th>Release year</th>\n      <th>Director</th>\n      <th>Director FB likes</th>\n      <th>Gross</th>\n      <th>Budget</th>\n      <th>Duration</th>\n      <th>Language</th>\n      <th>Country</th>\n      <th>Colour</th>\n      <th>...</th>\n      <th>Total Cast FB likes</th>\n      <th>Movie FB likes</th>\n      <th>Actor 1 name</th>\n      <th>Actor 2 name</th>\n      <th>Actor 3 name</th>\n      <th>Actor 1 FB likes</th>\n      <th>Actor 2 FB likes</th>\n      <th>Actor 3 FB likes</th>\n      <th>Plot Keywords</th>\n      <th>Number of faces on poster</th>\n    </tr>\n  </thead>\n  <tbody>\n    <tr>\n      <th>4810</th>\n      <td>Intolerance: Love's Struggle Throughout the Ages</td>\n      <td>1916-01-01</td>\n      <td>D.W. Griffith</td>\n      <td>204</td>\n      <td>0</td>\n      <td>385907</td>\n      <td>123</td>\n      <td>0</td>\n      <td>USA</td>\n      <td>Black and White</td>\n      <td>...</td>\n      <td>481</td>\n      <td>691</td>\n      <td>Lillian Gish</td>\n      <td>Mae Marsh</td>\n      <td>Walter Long</td>\n      <td>436</td>\n      <td>22</td>\n      <td>9</td>\n      <td>huguenot|intolerance|medicis|protestant|wedding</td>\n      <td>1</td>\n    </tr>\n    <tr>\n      <th>4958</th>\n      <td>Over the Hill to the Poorhouse</td>\n      <td>1920-01-01</td>\n      <td>Harry F. Millarde</td>\n      <td>0</td>\n      <td>3000000</td>\n      <td>100000</td>\n      <td>110</td>\n      <td>0</td>\n      <td>USA</td>\n      <td>Black and White</td>\n      <td>...</td>\n      <td>4</td>\n      <td>0</td>\n      <td>Stephen Carr</td>\n      <td>Johnnie Walker</td>\n      <td>Mary Carr</td>\n      <td>2</td>\n      <td>2</td>\n      <td>0</td>\n      <td>family relationships|gang|idler|poorhouse|thief</td>\n      <td>1</td>\n    </tr>\n    <tr>\n      <th>4885</th>\n      <td>The Big Parade</td>\n      <td>1925-01-01</td>\n      <td>King Vidor</td>\n      <td>54</td>\n      <td>0</td>\n      <td>245000</td>\n      <td>151</td>\n      <td>0</td>\n      <td>USA</td>\n      <td>Black and White</td>\n      <td>...</td>\n      <td>108</td>\n      <td>226</td>\n      <td>John Gilbert</td>\n      <td>Renée Adorée</td>\n      <td>Claire Adams</td>\n      <td>81</td>\n      <td>12</td>\n      <td>6</td>\n      <td>chewing gum|climbing a tree|france|translation...</td>\n      <td>0</td>\n    </tr>\n    <tr>\n      <th>2734</th>\n      <td>Metropolis</td>\n      <td>1927-01-01</td>\n      <td>Fritz Lang</td>\n      <td>756</td>\n      <td>26435</td>\n      <td>6000000</td>\n      <td>145</td>\n      <td>German</td>\n      <td>Germany</td>\n      <td>Black and White</td>\n      <td>...</td>\n      <td>203</td>\n      <td>12000</td>\n      <td>Brigitte Helm</td>\n      <td>Gustav Fröhlich</td>\n      <td>Rudolf Klein-Rogge</td>\n      <td>136</td>\n      <td>23</td>\n      <td>18</td>\n      <td>art deco|bible quote|dance|silent film|worker</td>\n      <td>1</td>\n    </tr>\n    <tr>\n      <th>4812</th>\n      <td>The Broadway Melody</td>\n      <td>1929-01-01</td>\n      <td>Harry Beaumont</td>\n      <td>4</td>\n      <td>2808000</td>\n      <td>379000</td>\n      <td>100</td>\n      <td>English</td>\n      <td>USA</td>\n      <td>Black and White</td>\n      <td>...</td>\n      <td>109</td>\n      <td>167</td>\n      <td>Anita Page</td>\n      <td>Bessie Love</td>\n      <td>Charles King</td>\n      <td>77</td>\n      <td>28</td>\n      <td>4</td>\n      <td>sibling rivalry|singer|sister act|whistling|wi...</td>\n      <td>8</td>\n    </tr>\n  </tbody>\n</table>\n<p>5 rows × 26 columns</p>\n</div>"
     },
     "metadata": {},
     "output_type": "execute_result",
     "execution_count": 6
    }
   ],
   "source": [
    "df_movies.head()"
   ]
  },
  {
   "cell_type": "markdown",
   "metadata": {
    "pycharm": {
     "name": "#%% md\n"
    }
   },
   "source": [
    "### 3a. Extra datasets\n",
    "1. \"\\\\N\" waardes omzetten naar NaN-types\n",
    "2. NaN-types verwijderen\n",
    "3. Dubbele Movie Titles verwijderen\n"
   ]
  },
  {
   "cell_type": "code",
   "execution_count": 75,
   "metadata": {
    "pycharm": {
     "is_executing": false,
     "name": "#%%\n"
    }
   },
   "outputs": [],
   "source": [
    "# Replacing \"\\N\" with None\n",
    "df_writers.replace(\"\\\\N\", np.NaN, inplace=True)\n",
    "# Dropping all rows with NaN-types\n",
    "df_writers.dropna(inplace=True)"
   ]
  },
  {
   "cell_type": "markdown",
   "metadata": {
    "pycharm": {
     "is_executing": false,
     "name": "#%% md\n"
    }
   },
   "source": [
    "Na stap 3. Data Cleaning ziet `df_writers` er zo uit:"
   ]
  },
  {
   "cell_type": "code",
   "execution_count": 76,
   "metadata": {
    "pycharm": {
     "is_executing": false
    }
   },
   "outputs": [
    {
     "data": {
      "text/plain": "            tconst  directors                                  writers  \\\n3215000  tt3510452  nm0000782                      nm0016628,nm0000782   \n2352993  tt1971369  nm2136223                      nm2136223,nm3014597   \n2259908  tt1874677  nm0652673                                nm0652673   \n50807    tt0051728  nm0237107  nm0194472,nm0237107,nm1575971,nm0919459   \n3365603  tt3856302  nm4158471                                nm4158471   \n\n        titleType               primaryTitle              originalTitle  \\\n3215000     movie              Misunderstood                 Incompresa   \n2352993     movie                   Dead Dad                   Dead Dad   \n2259908     movie       Podarunok na imenini       Podarunok na imenini   \n50807       movie  Historia jednego mysliwca  Historia jednego mysliwca   \n3365603     movie      Blood Will Have Blood       Thane of East County   \n\n        startYear runtimeMinutes  \n3215000      2014            103  \n2352993      2012             82  \n2259908      1991             67  \n50807        1958             78  \n3365603      2015             90  ",
      "text/html": "<div>\n<style scoped>\n    .dataframe tbody tr th:only-of-type {\n        vertical-align: middle;\n    }\n\n    .dataframe tbody tr th {\n        vertical-align: top;\n    }\n\n    .dataframe thead th {\n        text-align: right;\n    }\n</style>\n<table border=\"1\" class=\"dataframe\">\n  <thead>\n    <tr style=\"text-align: right;\">\n      <th></th>\n      <th>tconst</th>\n      <th>directors</th>\n      <th>writers</th>\n      <th>titleType</th>\n      <th>primaryTitle</th>\n      <th>originalTitle</th>\n      <th>startYear</th>\n      <th>runtimeMinutes</th>\n    </tr>\n  </thead>\n  <tbody>\n    <tr>\n      <th>3215000</th>\n      <td>tt3510452</td>\n      <td>nm0000782</td>\n      <td>nm0016628,nm0000782</td>\n      <td>movie</td>\n      <td>Misunderstood</td>\n      <td>Incompresa</td>\n      <td>2014</td>\n      <td>103</td>\n    </tr>\n    <tr>\n      <th>2352993</th>\n      <td>tt1971369</td>\n      <td>nm2136223</td>\n      <td>nm2136223,nm3014597</td>\n      <td>movie</td>\n      <td>Dead Dad</td>\n      <td>Dead Dad</td>\n      <td>2012</td>\n      <td>82</td>\n    </tr>\n    <tr>\n      <th>2259908</th>\n      <td>tt1874677</td>\n      <td>nm0652673</td>\n      <td>nm0652673</td>\n      <td>movie</td>\n      <td>Podarunok na imenini</td>\n      <td>Podarunok na imenini</td>\n      <td>1991</td>\n      <td>67</td>\n    </tr>\n    <tr>\n      <th>50807</th>\n      <td>tt0051728</td>\n      <td>nm0237107</td>\n      <td>nm0194472,nm0237107,nm1575971,nm0919459</td>\n      <td>movie</td>\n      <td>Historia jednego mysliwca</td>\n      <td>Historia jednego mysliwca</td>\n      <td>1958</td>\n      <td>78</td>\n    </tr>\n    <tr>\n      <th>3365603</th>\n      <td>tt3856302</td>\n      <td>nm4158471</td>\n      <td>nm4158471</td>\n      <td>movie</td>\n      <td>Blood Will Have Blood</td>\n      <td>Thane of East County</td>\n      <td>2015</td>\n      <td>90</td>\n    </tr>\n  </tbody>\n</table>\n</div>"
     },
     "metadata": {},
     "output_type": "execute_result",
     "execution_count": 76
    }
   ],
   "source": [
    "df_writers.sample(5)"
   ]
  },
  {
   "cell_type": "markdown",
   "metadata": {
    "pycharm": {
     "name": "#%% md\n"
    }
   },
   "source": [
    "## 4. Data Exploration & Analysis\n",
    "\n",
    "Nu de data geprepareerd is kunnen wij onze eerste verkenning gaan uitvoeren. Door middel van describe krijgen we\n",
    "in een oogopslag een duidelijk beeld van het DataFrame `df_movies`. "
   ]
  },
  {
   "cell_type": "code",
   "execution_count": 7,
   "outputs": [
    {
     "data": {
      "text/plain": "       Movie title         Release year          Director  Director FB likes  \\\ncount         4811                 4811              4811        4811.000000   \nunique        4811                   91              2394                NaN   \ntop      21 Grams   2009-01-01 00:00:00  Steven Spielberg                NaN   \nfreq             1                  253                26                NaN   \nfirst          NaN  1916-01-01 00:00:00               NaN                NaN   \nlast           NaN  2016-01-01 00:00:00               NaN                NaN   \nmean           NaN                  NaN               NaN         691.402411   \nstd            NaN                  NaN               NaN        2833.794524   \nmin            NaN                  NaN               NaN           0.000000   \n25%            NaN                  NaN               NaN           7.000000   \n50%            NaN                  NaN               NaN          48.000000   \n75%            NaN                  NaN               NaN         190.000000   \nmax            NaN                  NaN               NaN       23000.000000   \n\n               Gross        Budget     Duration Language Country Colour  ...  \\\ncount   4.811000e+03  4.811000e+03  4811.000000     4811    4811   4811  ...   \nunique           NaN           NaN          NaN       48      66      3  ...   \ntop              NaN           NaN          NaN  English     USA  Color  ...   \nfreq             NaN           NaN          NaN     4487    3638   4595  ...   \nfirst            NaN           NaN          NaN      NaN     NaN    NaN  ...   \nlast             NaN           NaN          NaN      NaN     NaN    NaN  ...   \nmean    4.014763e+07  3.178571e+07   107.789857      NaN     NaN    NaN  ...   \nstd     6.423202e+07  5.757249e+07    23.195448      NaN     NaN    NaN  ...   \nmin     0.000000e+00  0.000000e+00     0.000000      NaN     NaN    NaN  ...   \n25%     4.639280e+05  3.500000e+06    94.000000      NaN     NaN    NaN  ...   \n50%     1.596247e+07  1.600000e+07   104.000000      NaN     NaN    NaN  ...   \n75%     5.186291e+07  4.000000e+07   118.000000      NaN     NaN    NaN  ...   \nmax     7.605058e+08  2.127520e+09   330.000000      NaN     NaN    NaN  ...   \n\n       Total Cast FB likes  Movie FB likes    Actor 1 name    Actor 2 name  \\\ncount          4811.000000     4811.000000            4811            4811   \nunique                 NaN             NaN            2042            2962   \ntop                    NaN             NaN  Robert De Niro  Morgan Freeman   \nfreq                   NaN             NaN              48              18   \nfirst                  NaN             NaN             NaN             NaN   \nlast                   NaN             NaN             NaN             NaN   \nmean           9724.421950     7410.269798             NaN             NaN   \nstd           18322.433435    19336.644963             NaN             NaN   \nmin               0.000000        0.000000             NaN             NaN   \n25%            1403.500000        0.000000             NaN             NaN   \n50%            3095.000000      158.000000             NaN             NaN   \n75%           13822.000000     2000.000000             NaN             NaN   \nmax          656730.000000   349000.000000             NaN             NaN   \n\n        Actor 3 name Actor 1 FB likes  Actor 2 FB likes  Actor 3 FB likes  \\\ncount         4811.0      4811.000000       4811.000000       4811.000000   \nunique        3450.0              NaN               NaN               NaN   \ntop              0.0              NaN               NaN               NaN   \nfreq            18.0              NaN               NaN               NaN   \nfirst            NaN              NaN               NaN               NaN   \nlast             NaN              NaN               NaN               NaN   \nmean             NaN      6595.980877       1642.798587        634.596550   \nstd              NaN     15233.914377       4046.275798       1638.838988   \nmin              NaN         0.000000          0.000000          0.000000   \n25%              NaN       610.000000        277.000000        130.000000   \n50%              NaN       989.000000        594.000000        365.000000   \n75%              NaN     11000.000000        918.000000        635.000000   \nmax              NaN    640000.000000     137000.000000      23000.000000   \n\n       Plot Keywords Number of faces on poster  \ncount         4811.0               4811.000000  \nunique        4666.0                       NaN  \ntop              0.0                       NaN  \nfreq           138.0                       NaN  \nfirst            NaN                       NaN  \nlast             NaN                       NaN  \nmean             NaN                  1.366452  \nstd              NaN                  2.021966  \nmin              NaN                  0.000000  \n25%              NaN                  0.000000  \n50%              NaN                  1.000000  \n75%              NaN                  2.000000  \nmax              NaN                 43.000000  \n\n[13 rows x 26 columns]",
      "text/html": "<div>\n<style scoped>\n    .dataframe tbody tr th:only-of-type {\n        vertical-align: middle;\n    }\n\n    .dataframe tbody tr th {\n        vertical-align: top;\n    }\n\n    .dataframe thead th {\n        text-align: right;\n    }\n</style>\n<table border=\"1\" class=\"dataframe\">\n  <thead>\n    <tr style=\"text-align: right;\">\n      <th></th>\n      <th>Movie title</th>\n      <th>Release year</th>\n      <th>Director</th>\n      <th>Director FB likes</th>\n      <th>Gross</th>\n      <th>Budget</th>\n      <th>Duration</th>\n      <th>Language</th>\n      <th>Country</th>\n      <th>Colour</th>\n      <th>...</th>\n      <th>Total Cast FB likes</th>\n      <th>Movie FB likes</th>\n      <th>Actor 1 name</th>\n      <th>Actor 2 name</th>\n      <th>Actor 3 name</th>\n      <th>Actor 1 FB likes</th>\n      <th>Actor 2 FB likes</th>\n      <th>Actor 3 FB likes</th>\n      <th>Plot Keywords</th>\n      <th>Number of faces on poster</th>\n    </tr>\n  </thead>\n  <tbody>\n    <tr>\n      <th>count</th>\n      <td>4811</td>\n      <td>4811</td>\n      <td>4811</td>\n      <td>4811.000000</td>\n      <td>4.811000e+03</td>\n      <td>4.811000e+03</td>\n      <td>4811.000000</td>\n      <td>4811</td>\n      <td>4811</td>\n      <td>4811</td>\n      <td>...</td>\n      <td>4811.000000</td>\n      <td>4811.000000</td>\n      <td>4811</td>\n      <td>4811</td>\n      <td>4811.0</td>\n      <td>4811.000000</td>\n      <td>4811.000000</td>\n      <td>4811.000000</td>\n      <td>4811.0</td>\n      <td>4811.000000</td>\n    </tr>\n    <tr>\n      <th>unique</th>\n      <td>4811</td>\n      <td>91</td>\n      <td>2394</td>\n      <td>NaN</td>\n      <td>NaN</td>\n      <td>NaN</td>\n      <td>NaN</td>\n      <td>48</td>\n      <td>66</td>\n      <td>3</td>\n      <td>...</td>\n      <td>NaN</td>\n      <td>NaN</td>\n      <td>2042</td>\n      <td>2962</td>\n      <td>3450.0</td>\n      <td>NaN</td>\n      <td>NaN</td>\n      <td>NaN</td>\n      <td>4666.0</td>\n      <td>NaN</td>\n    </tr>\n    <tr>\n      <th>top</th>\n      <td>21 Grams</td>\n      <td>2009-01-01 00:00:00</td>\n      <td>Steven Spielberg</td>\n      <td>NaN</td>\n      <td>NaN</td>\n      <td>NaN</td>\n      <td>NaN</td>\n      <td>English</td>\n      <td>USA</td>\n      <td>Color</td>\n      <td>...</td>\n      <td>NaN</td>\n      <td>NaN</td>\n      <td>Robert De Niro</td>\n      <td>Morgan Freeman</td>\n      <td>0.0</td>\n      <td>NaN</td>\n      <td>NaN</td>\n      <td>NaN</td>\n      <td>0.0</td>\n      <td>NaN</td>\n    </tr>\n    <tr>\n      <th>freq</th>\n      <td>1</td>\n      <td>253</td>\n      <td>26</td>\n      <td>NaN</td>\n      <td>NaN</td>\n      <td>NaN</td>\n      <td>NaN</td>\n      <td>4487</td>\n      <td>3638</td>\n      <td>4595</td>\n      <td>...</td>\n      <td>NaN</td>\n      <td>NaN</td>\n      <td>48</td>\n      <td>18</td>\n      <td>18.0</td>\n      <td>NaN</td>\n      <td>NaN</td>\n      <td>NaN</td>\n      <td>138.0</td>\n      <td>NaN</td>\n    </tr>\n    <tr>\n      <th>first</th>\n      <td>NaN</td>\n      <td>1916-01-01 00:00:00</td>\n      <td>NaN</td>\n      <td>NaN</td>\n      <td>NaN</td>\n      <td>NaN</td>\n      <td>NaN</td>\n      <td>NaN</td>\n      <td>NaN</td>\n      <td>NaN</td>\n      <td>...</td>\n      <td>NaN</td>\n      <td>NaN</td>\n      <td>NaN</td>\n      <td>NaN</td>\n      <td>NaN</td>\n      <td>NaN</td>\n      <td>NaN</td>\n      <td>NaN</td>\n      <td>NaN</td>\n      <td>NaN</td>\n    </tr>\n    <tr>\n      <th>last</th>\n      <td>NaN</td>\n      <td>2016-01-01 00:00:00</td>\n      <td>NaN</td>\n      <td>NaN</td>\n      <td>NaN</td>\n      <td>NaN</td>\n      <td>NaN</td>\n      <td>NaN</td>\n      <td>NaN</td>\n      <td>NaN</td>\n      <td>...</td>\n      <td>NaN</td>\n      <td>NaN</td>\n      <td>NaN</td>\n      <td>NaN</td>\n      <td>NaN</td>\n      <td>NaN</td>\n      <td>NaN</td>\n      <td>NaN</td>\n      <td>NaN</td>\n      <td>NaN</td>\n    </tr>\n    <tr>\n      <th>mean</th>\n      <td>NaN</td>\n      <td>NaN</td>\n      <td>NaN</td>\n      <td>691.402411</td>\n      <td>4.014763e+07</td>\n      <td>3.178571e+07</td>\n      <td>107.789857</td>\n      <td>NaN</td>\n      <td>NaN</td>\n      <td>NaN</td>\n      <td>...</td>\n      <td>9724.421950</td>\n      <td>7410.269798</td>\n      <td>NaN</td>\n      <td>NaN</td>\n      <td>NaN</td>\n      <td>6595.980877</td>\n      <td>1642.798587</td>\n      <td>634.596550</td>\n      <td>NaN</td>\n      <td>1.366452</td>\n    </tr>\n    <tr>\n      <th>std</th>\n      <td>NaN</td>\n      <td>NaN</td>\n      <td>NaN</td>\n      <td>2833.794524</td>\n      <td>6.423202e+07</td>\n      <td>5.757249e+07</td>\n      <td>23.195448</td>\n      <td>NaN</td>\n      <td>NaN</td>\n      <td>NaN</td>\n      <td>...</td>\n      <td>18322.433435</td>\n      <td>19336.644963</td>\n      <td>NaN</td>\n      <td>NaN</td>\n      <td>NaN</td>\n      <td>15233.914377</td>\n      <td>4046.275798</td>\n      <td>1638.838988</td>\n      <td>NaN</td>\n      <td>2.021966</td>\n    </tr>\n    <tr>\n      <th>min</th>\n      <td>NaN</td>\n      <td>NaN</td>\n      <td>NaN</td>\n      <td>0.000000</td>\n      <td>0.000000e+00</td>\n      <td>0.000000e+00</td>\n      <td>0.000000</td>\n      <td>NaN</td>\n      <td>NaN</td>\n      <td>NaN</td>\n      <td>...</td>\n      <td>0.000000</td>\n      <td>0.000000</td>\n      <td>NaN</td>\n      <td>NaN</td>\n      <td>NaN</td>\n      <td>0.000000</td>\n      <td>0.000000</td>\n      <td>0.000000</td>\n      <td>NaN</td>\n      <td>0.000000</td>\n    </tr>\n    <tr>\n      <th>25%</th>\n      <td>NaN</td>\n      <td>NaN</td>\n      <td>NaN</td>\n      <td>7.000000</td>\n      <td>4.639280e+05</td>\n      <td>3.500000e+06</td>\n      <td>94.000000</td>\n      <td>NaN</td>\n      <td>NaN</td>\n      <td>NaN</td>\n      <td>...</td>\n      <td>1403.500000</td>\n      <td>0.000000</td>\n      <td>NaN</td>\n      <td>NaN</td>\n      <td>NaN</td>\n      <td>610.000000</td>\n      <td>277.000000</td>\n      <td>130.000000</td>\n      <td>NaN</td>\n      <td>0.000000</td>\n    </tr>\n    <tr>\n      <th>50%</th>\n      <td>NaN</td>\n      <td>NaN</td>\n      <td>NaN</td>\n      <td>48.000000</td>\n      <td>1.596247e+07</td>\n      <td>1.600000e+07</td>\n      <td>104.000000</td>\n      <td>NaN</td>\n      <td>NaN</td>\n      <td>NaN</td>\n      <td>...</td>\n      <td>3095.000000</td>\n      <td>158.000000</td>\n      <td>NaN</td>\n      <td>NaN</td>\n      <td>NaN</td>\n      <td>989.000000</td>\n      <td>594.000000</td>\n      <td>365.000000</td>\n      <td>NaN</td>\n      <td>1.000000</td>\n    </tr>\n    <tr>\n      <th>75%</th>\n      <td>NaN</td>\n      <td>NaN</td>\n      <td>NaN</td>\n      <td>190.000000</td>\n      <td>5.186291e+07</td>\n      <td>4.000000e+07</td>\n      <td>118.000000</td>\n      <td>NaN</td>\n      <td>NaN</td>\n      <td>NaN</td>\n      <td>...</td>\n      <td>13822.000000</td>\n      <td>2000.000000</td>\n      <td>NaN</td>\n      <td>NaN</td>\n      <td>NaN</td>\n      <td>11000.000000</td>\n      <td>918.000000</td>\n      <td>635.000000</td>\n      <td>NaN</td>\n      <td>2.000000</td>\n    </tr>\n    <tr>\n      <th>max</th>\n      <td>NaN</td>\n      <td>NaN</td>\n      <td>NaN</td>\n      <td>23000.000000</td>\n      <td>7.605058e+08</td>\n      <td>2.127520e+09</td>\n      <td>330.000000</td>\n      <td>NaN</td>\n      <td>NaN</td>\n      <td>NaN</td>\n      <td>...</td>\n      <td>656730.000000</td>\n      <td>349000.000000</td>\n      <td>NaN</td>\n      <td>NaN</td>\n      <td>NaN</td>\n      <td>640000.000000</td>\n      <td>137000.000000</td>\n      <td>23000.000000</td>\n      <td>NaN</td>\n      <td>43.000000</td>\n    </tr>\n  </tbody>\n</table>\n<p>13 rows × 26 columns</p>\n</div>"
     },
     "metadata": {},
     "output_type": "execute_result",
     "execution_count": 7
    }
   ],
   "source": [
    "df_movies.describe(include = \"all\")"
   ],
   "metadata": {
    "collapsed": false,
    "pycharm": {
     "name": "#%%\n",
     "is_executing": false
    }
   }
  },
  {
   "cell_type": "markdown",
   "source": [
    "Enkele verwachtingen:\n",
    "1. Een film heeft waarschijnlijk meer Facebook likes dan de director.\n",
    "2. De meeste films zullen winst maken\n",
    "3. Het meerendeel van de films zullen in het Engels zijn\n",
    "4. Comedie en Actie zullen waarschijnlijk de meest voorkomende genres zijn.\n",
    "\n",
    "Testen van de verwachtingen:\n",
    "1. Gemiddeld heeft een film meer dan 10x zoveel likes dan een director.\n",
    "2. Gemiddeld brengt een 40 miljoen op en is er een budget van 30 miljoen voor. Echter heeft de opbrengst een\n",
    "standaard deviatie van 65 miljoen en het budget een standaard deviatie van 79 miljoen. Een goede conclusie is nog niet te geven.\n",
    "3. 93.3% van de films zijn in het Engels. Dit is een ruime meerderheid.\n",
    "4. Tegen de verwachtingen in is `Drama` het meest voorkomende genre met 229 maal. Echter valt hier ook nog niks over \n",
    "te zeggen omdat veel films meerdere genres bevatten.\n",
    "\n",
    "Enkele overige observaties:\n",
    "- Het DataFrame bevat nog 4811 (95.4%) van de originele 5043 rijen \n",
    "- `Movie title` bevat zoals beoogd alleen maar nog unieke waarden.\n",
    "- De gemiddelde IMDB Score van een film is 6.5 met een standaard deviatie van 1.1. De laagste en hoogste scores zijn 1.6 resp. 9.3.\n",
    "- Het DataFrame bevat films die uitgegeven zijn tussen 1916 en 2016. Een interval van 100 jaar.\n",
    "- `Actor 3` bestaat uit de meest (3450) verschillende acteurs, gevolgd door `Actor 2 (2962)`en als laatste `Actor 1 (2042)`."
   ],
   "metadata": {
    "collapsed": false,
    "pycharm": {
     "name": "#%% md\n"
    }
   }
  },
  {
   "cell_type": "markdown",
   "source": [
    "De tien meest voorkomende Directors en Actor 1's zijn:"
   ],
   "metadata": {
    "collapsed": false,
    "pycharm": {
     "name": "#%% md\n",
     "is_executing": false
    }
   }
  },
  {
   "cell_type": "code",
   "execution_count": 8,
   "outputs": [
    {
     "data": {
      "text/plain": "Steven Spielberg     26\nWoody Allen          22\nMartin Scorsese      20\nClint Eastwood       20\nSpike Lee            16\nRidley Scott         16\nSteven Soderbergh    15\nRenny Harlin         15\nOliver Stone         14\nTim Burton           14\nName: Director, dtype: int64"
     },
     "metadata": {},
     "output_type": "execute_result",
     "execution_count": 8
    }
   ],
   "source": [
    "df_movies[\"Director\"].value_counts()[:10]"
   ],
   "metadata": {
    "collapsed": false,
    "pycharm": {
     "name": "#%%\n",
     "is_executing": false
    }
   }
  },
  {
   "cell_type": "code",
   "execution_count": 9,
   "outputs": [
    {
     "data": {
      "text/plain": "Robert De Niro       48\nJohnny Depp          36\nNicolas Cage         32\nJ.K. Simmons         29\nMatt Damon           29\nDenzel Washington    29\nBruce Willis         28\nRobin Williams       27\nSteve Buscemi        27\nHarrison Ford        27\nName: Actor 1 name, dtype: int64"
     },
     "metadata": {},
     "output_type": "execute_result",
     "execution_count": 9
    }
   ],
   "source": [
    "df_movies[\"Actor 1 name\"].value_counts()[:10]"
   ],
   "metadata": {
    "collapsed": false,
    "pycharm": {
     "name": "#%%\n",
     "is_executing": false
    }
   }
  },
  {
   "cell_type": "markdown",
   "source": [
    "De volgende plots zijn slechts voor de eerste analyse van de data. Uiteraard zullen deze nog uitgebreid en verbeterd worden\n",
    "in de loop van het project. In de volgende scatterplot zijn het budget en de opbrengsten van films geplot. Te zien is dat \n",
    "de meeste films niet meer dan 200 miljoen hebben gekost en niet meer dan 400 miljoen opleveren. Enkele uitschieters daargelaten."
   ],
   "metadata": {
    "collapsed": false,
    "pycharm": {
     "name": "#%% md\n"
    }
   }
  },
  {
   "cell_type": "code",
   "execution_count": 27,
   "outputs": [
    {
     "data": {
      "text/plain": "<Figure size 432x288 with 1 Axes>",
      "image/png": "[encoded data removed]"
     },
     "metadata": {
      "needs_background": "light"
     },
     "output_type": "display_data"
    }
   ],
   "source": [
    "fig, ax = plt.subplots()\n",
    "plt.title(\"Relatie tussen het budget en de opbrengst van een film.\")\n",
    "plt.xlabel(\"Budget\")\n",
    "plt.ylabel(\"Opbrengst\")\n",
    "plt.xlim(0, 1_000_000_000)\n",
    "plt.ylim(0, 1_000_000_000)\n",
    "plt.xticks(np.arange(0, 1_000_000_000, step=100_000_000))\n",
    "scatter = ax.scatter(\"Budget\", \"Gross\", data=df_movies)"
   ],
   "metadata": {
    "collapsed": false,
    "pycharm": {
     "name": "#%%\n",
     "is_executing": false
    }
   }
  },
  {
   "cell_type": "markdown",
   "source": [
    "In de volgende grafiek worden de IMDB scores in het verloop van de tijd geplot. Te zien is dat tot ongeveer 1960 de meeste\n",
    "films een cijfer tussen de 6 en 9 scoorden. Vanaf 1980 ontstaan er steeds meer films met lagere IMDB score."
   ],
   "metadata": {
    "collapsed": false,
    "pycharm": {
     "name": "#%% md\n",
     "is_executing": false
    }
   }
  },
  {
   "cell_type": "code",
   "execution_count": 32,
   "outputs": [
    {
     "data": {
      "text/plain": "<Figure size 432x288 with 1 Axes>",
      "image/png": "[encoded data removed]"
     },
     "metadata": {
      "needs_background": "light"
     },
     "output_type": "display_data"
    }
   ],
   "source": [
    "fig, ax = plt.subplots()\n",
    "plt.title(\"IMDB Score van films in de loop van de tijd\")\n",
    "plt.xlabel(\"Jaar van uitgave\")\n",
    "plt.ylabel(\"IMDB Score\")\n",
    "plt.ylim(0, 10)\n",
    "plt.yticks(np.arange(0, 10, step=1))\n",
    "scatter = ax.scatter(\"Release year\", \"IMDB Score\", data=df_movies)\n"
   ],
   "metadata": {
    "collapsed": false,
    "pycharm": {
     "name": "#%%\n",
     "is_executing": false
    }
   }
  },
  {
   "cell_type": "markdown",
   "source": [
    "In de volgende twee boxplots is de spreiding te zien van het budget en de opbrengsten van alle films. Te zien is dat \n",
    "het budget van films relatef minder is verspreid dan de opbrengst van de films. De boxplot van de opbrengsten heeft \n",
    "tevens veel meer uitschieters."
   ],
   "metadata": {
    "collapsed": false,
    "pycharm": {
     "name": "#%% md\n",
     "is_executing": false
    }
   }
  },
  {
   "cell_type": "code",
   "execution_count": 35,
   "outputs": [
    {
     "data": {
      "text/plain": "<Figure size 432x288 with 2 Axes>",
      "image/png": "[encoded data removed]"
     },
     "metadata": {
      "needs_background": "light"
     },
     "output_type": "display_data"
    }
   ],
   "source": [
    "fig, (ax1, ax2) = plt.subplots(1, 2)\n",
    "plt.suptitle(\"Boxplots van het budget en de opbrengst van films\")\n",
    "ax1.set_xlabel(\"Budget\")\n",
    "ax2.set_xlabel(\"Opbrengst\")\n",
    "ax1.boxplot(df_movies[\"Budget\"])\n",
    "ax2.boxplot(df_movies[\"Gross\"])\n",
    "plt.show()\n"
   ],
   "metadata": {
    "collapsed": false,
    "pycharm": {
     "name": "#%%\n",
     "is_executing": false
    }
   }
  }
 ],
 "metadata": {
  "kernelspec": {
   "display_name": "Python 3",
   "language": "python",
   "name": "python3"
  },
  "language_info": {
   "codemirror_mode": {
    "name": "ipython",
    "version": 3
   },
   "file_extension": ".py",
   "mimetype": "text/x-python",
   "name": "python",
   "nbconvert_exporter": "python",
   "pygments_lexer": "ipython3",
   "version": "3.7.4"
  },
  "pycharm": {
   "stem_cell": {
    "cell_type": "raw",
    "source": [],
    "metadata": {
     "collapsed": false
    }
   }
  }
 },
 "nbformat": 4,
 "nbformat_minor": 2
}