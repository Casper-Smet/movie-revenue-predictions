{
 "cells": [
  {
   "cell_type": "code",
   "execution_count": 1,
   "metadata": {
    "pycharm": {
     "is_executing": false
    }
   },
   "outputs": [],
   "source": [
    "import pandas as pd\n",
    "import numpy as np"
   ]
  },
  {
   "cell_type": "markdown",
   "metadata": {},
   "source": [
    "# Movie Revenue Predictions\n",
    "\n",
    "\n",
    "Onderzoeksvragen:\n",
    "1. In hoeverre is de omzet van een film te voorspellen op basis van de populariteit op Facebook en IMDB zelf?\n",
    "2. In hoeverre is het mogelijk om op basis van schrijvers en regisseur te voorspellen welke acteurs in een film spelen?\n",
    "3. In hoeverre is het mogelijk om op basis van plot keywords te voorspellen welke genres de film behoort?\n",
    "4. In hoeverre is het mogelijk om de budget-winst verhouding te voorspellen?\n",
    "\n",
    "### Concept vragen, om te verwijderen.\n",
    "\n",
    "Drie concept-onderzoeksvragen:\n",
    "1. In hoeverre is de omzet van een film te voorspellen op basis van de populariteit op Facebook en IMDB zelf? (min. eisen 4.?)\n",
    "2. In hoeverre is het mogelijk om op basis van plot keywords te voorspellen welke genres de film heeft? (min. eisen 5.?)\n",
    "3. In hoeverre is de verhouding budget-omzet veranderd sinds 1935? (min. eisen 4.)\n",
    "\n",
    "Externe data (minimale eisen 1.)\n",
    "4. In hoeverre is het mogelijk om op basis van schrijvers en regisseur te voorspellen welke acteurs in een film spelen? (min. eisen 6.?)\n",
    "5. In hoeverre kunnen wij voorspellen wanneer het budget en omzet hun zenit bereiken gebaseerd op de wereldpopulatie. (min. eisen 5.?)\n",
    "\n",
    "## Het Data Science proces\n",
    "Voor de eerste verkenning is ons gevraagd om de eerste vier stappen uit te voeren:\n",
    "1. Data collection\n",
    "2. Data processing (ook wel data munging)\n",
    "3. Data cleaning\n",
    "4. Data exploration & analysis\n",
    "5. Model building\n",
    "6. Visualization\n",
    "6. Communication\n",
    "\n",
    "\n",
    "## 1. Data Collection\n",
    "De Data Collection is deels al voor ons gedaan. De dataset `movie.csv` is ons aangeleverd. Echter word voor de opdracht \n",
    "gevraagd om deze te combineren met een dataset van derden. Om erachter te komen welke dataset geschikt is om te \n",
    "combineren met `movies.csv`zullen wij deze dataset eerst moeten processen, cleanen en exploren.  \n",
    "\n",
    "Om te zien of de dataset `movie.csv` goed is ingeladen, worden de eerste vijf rijen getoond:"
   ]
  },
  {
   "cell_type": "code",
   "execution_count": 2,
   "metadata": {
    "pycharm": {
     "is_executing": false,
     "name": "#%%\n"
    }
   },
   "outputs": [
    {
     "data": {
      "text/html": [
       "<div>\n",
       "<style scoped>\n",
       "    .dataframe tbody tr th:only-of-type {\n",
       "        vertical-align: middle;\n",
       "    }\n",
       "\n",
       "    .dataframe tbody tr th {\n",
       "        vertical-align: top;\n",
       "    }\n",
       "\n",
       "    .dataframe thead th {\n",
       "        text-align: right;\n",
       "    }\n",
       "</style>\n",
       "<table border=\"1\" class=\"dataframe\">\n",
       "  <thead>\n",
       "    <tr style=\"text-align: right;\">\n",
       "      <th></th>\n",
       "      <th>color</th>\n",
       "      <th>director_name</th>\n",
       "      <th>num_critic_for_reviews</th>\n",
       "      <th>duration</th>\n",
       "      <th>director_facebook_likes</th>\n",
       "      <th>actor_3_facebook_likes</th>\n",
       "      <th>actor_2_name</th>\n",
       "      <th>actor_1_facebook_likes</th>\n",
       "      <th>gross</th>\n",
       "      <th>genres</th>\n",
       "      <th>...</th>\n",
       "      <th>num_user_for_reviews</th>\n",
       "      <th>language</th>\n",
       "      <th>country</th>\n",
       "      <th>content_rating</th>\n",
       "      <th>budget</th>\n",
       "      <th>title_year</th>\n",
       "      <th>actor_2_facebook_likes</th>\n",
       "      <th>imdb_score</th>\n",
       "      <th>aspect_ratio</th>\n",
       "      <th>movie_facebook_likes</th>\n",
       "    </tr>\n",
       "  </thead>\n",
       "  <tbody>\n",
       "    <tr>\n",
       "      <td>0</td>\n",
       "      <td>Color</td>\n",
       "      <td>James Cameron</td>\n",
       "      <td>723.0</td>\n",
       "      <td>178.0</td>\n",
       "      <td>0.0</td>\n",
       "      <td>855.0</td>\n",
       "      <td>Joel David Moore</td>\n",
       "      <td>1000.0</td>\n",
       "      <td>760505847.0</td>\n",
       "      <td>Action|Adventure|Fantasy|Sci-Fi</td>\n",
       "      <td>...</td>\n",
       "      <td>3054.0</td>\n",
       "      <td>English</td>\n",
       "      <td>USA</td>\n",
       "      <td>PG-13</td>\n",
       "      <td>237000000.0</td>\n",
       "      <td>2009.0</td>\n",
       "      <td>936.0</td>\n",
       "      <td>7.9</td>\n",
       "      <td>1.78</td>\n",
       "      <td>33000</td>\n",
       "    </tr>\n",
       "    <tr>\n",
       "      <td>1</td>\n",
       "      <td>Color</td>\n",
       "      <td>Gore Verbinski</td>\n",
       "      <td>302.0</td>\n",
       "      <td>169.0</td>\n",
       "      <td>563.0</td>\n",
       "      <td>1000.0</td>\n",
       "      <td>Orlando Bloom</td>\n",
       "      <td>40000.0</td>\n",
       "      <td>309404152.0</td>\n",
       "      <td>Action|Adventure|Fantasy</td>\n",
       "      <td>...</td>\n",
       "      <td>1238.0</td>\n",
       "      <td>English</td>\n",
       "      <td>USA</td>\n",
       "      <td>PG-13</td>\n",
       "      <td>300000000.0</td>\n",
       "      <td>2007.0</td>\n",
       "      <td>5000.0</td>\n",
       "      <td>7.1</td>\n",
       "      <td>2.35</td>\n",
       "      <td>0</td>\n",
       "    </tr>\n",
       "    <tr>\n",
       "      <td>2</td>\n",
       "      <td>Color</td>\n",
       "      <td>Sam Mendes</td>\n",
       "      <td>602.0</td>\n",
       "      <td>148.0</td>\n",
       "      <td>0.0</td>\n",
       "      <td>161.0</td>\n",
       "      <td>Rory Kinnear</td>\n",
       "      <td>11000.0</td>\n",
       "      <td>200074175.0</td>\n",
       "      <td>Action|Adventure|Thriller</td>\n",
       "      <td>...</td>\n",
       "      <td>994.0</td>\n",
       "      <td>English</td>\n",
       "      <td>UK</td>\n",
       "      <td>PG-13</td>\n",
       "      <td>245000000.0</td>\n",
       "      <td>2015.0</td>\n",
       "      <td>393.0</td>\n",
       "      <td>6.8</td>\n",
       "      <td>2.35</td>\n",
       "      <td>85000</td>\n",
       "    </tr>\n",
       "    <tr>\n",
       "      <td>3</td>\n",
       "      <td>Color</td>\n",
       "      <td>Christopher Nolan</td>\n",
       "      <td>813.0</td>\n",
       "      <td>164.0</td>\n",
       "      <td>22000.0</td>\n",
       "      <td>23000.0</td>\n",
       "      <td>Christian Bale</td>\n",
       "      <td>27000.0</td>\n",
       "      <td>448130642.0</td>\n",
       "      <td>Action|Thriller</td>\n",
       "      <td>...</td>\n",
       "      <td>2701.0</td>\n",
       "      <td>English</td>\n",
       "      <td>USA</td>\n",
       "      <td>PG-13</td>\n",
       "      <td>250000000.0</td>\n",
       "      <td>2012.0</td>\n",
       "      <td>23000.0</td>\n",
       "      <td>8.5</td>\n",
       "      <td>2.35</td>\n",
       "      <td>164000</td>\n",
       "    </tr>\n",
       "    <tr>\n",
       "      <td>4</td>\n",
       "      <td>NaN</td>\n",
       "      <td>Doug Walker</td>\n",
       "      <td>NaN</td>\n",
       "      <td>NaN</td>\n",
       "      <td>131.0</td>\n",
       "      <td>NaN</td>\n",
       "      <td>Rob Walker</td>\n",
       "      <td>131.0</td>\n",
       "      <td>NaN</td>\n",
       "      <td>Documentary</td>\n",
       "      <td>...</td>\n",
       "      <td>NaN</td>\n",
       "      <td>NaN</td>\n",
       "      <td>NaN</td>\n",
       "      <td>NaN</td>\n",
       "      <td>NaN</td>\n",
       "      <td>NaN</td>\n",
       "      <td>12.0</td>\n",
       "      <td>7.1</td>\n",
       "      <td>NaN</td>\n",
       "      <td>0</td>\n",
       "    </tr>\n",
       "  </tbody>\n",
       "</table>\n",
       "<p>5 rows × 28 columns</p>\n",
       "</div>"
      ],
      "text/plain": [
       "   color      director_name  num_critic_for_reviews  duration  \\\n",
       "0  Color      James Cameron                   723.0     178.0   \n",
       "1  Color     Gore Verbinski                   302.0     169.0   \n",
       "2  Color         Sam Mendes                   602.0     148.0   \n",
       "3  Color  Christopher Nolan                   813.0     164.0   \n",
       "4    NaN        Doug Walker                     NaN       NaN   \n",
       "\n",
       "   director_facebook_likes  actor_3_facebook_likes      actor_2_name  \\\n",
       "0                      0.0                   855.0  Joel David Moore   \n",
       "1                    563.0                  1000.0     Orlando Bloom   \n",
       "2                      0.0                   161.0      Rory Kinnear   \n",
       "3                  22000.0                 23000.0    Christian Bale   \n",
       "4                    131.0                     NaN        Rob Walker   \n",
       "\n",
       "   actor_1_facebook_likes        gross                           genres  ...  \\\n",
       "0                  1000.0  760505847.0  Action|Adventure|Fantasy|Sci-Fi  ...   \n",
       "1                 40000.0  309404152.0         Action|Adventure|Fantasy  ...   \n",
       "2                 11000.0  200074175.0        Action|Adventure|Thriller  ...   \n",
       "3                 27000.0  448130642.0                  Action|Thriller  ...   \n",
       "4                   131.0          NaN                      Documentary  ...   \n",
       "\n",
       "  num_user_for_reviews language  country  content_rating       budget  \\\n",
       "0               3054.0  English      USA           PG-13  237000000.0   \n",
       "1               1238.0  English      USA           PG-13  300000000.0   \n",
       "2                994.0  English       UK           PG-13  245000000.0   \n",
       "3               2701.0  English      USA           PG-13  250000000.0   \n",
       "4                  NaN      NaN      NaN             NaN          NaN   \n",
       "\n",
       "   title_year actor_2_facebook_likes imdb_score  aspect_ratio  \\\n",
       "0      2009.0                  936.0        7.9          1.78   \n",
       "1      2007.0                 5000.0        7.1          2.35   \n",
       "2      2015.0                  393.0        6.8          2.35   \n",
       "3      2012.0                23000.0        8.5          2.35   \n",
       "4         NaN                   12.0        7.1           NaN   \n",
       "\n",
       "  movie_facebook_likes  \n",
       "0                33000  \n",
       "1                    0  \n",
       "2                85000  \n",
       "3               164000  \n",
       "4                    0  \n",
       "\n",
       "[5 rows x 28 columns]"
      ]
     },
     "execution_count": 2,
     "metadata": {},
     "output_type": "execute_result"
    }
   ],
   "source": [
    "df_movies = pd.read_csv('data/movie.csv')\n",
    "df_movies.head()"
   ]
  },
  {
   "cell_type": "markdown",
   "metadata": {},
   "source": [
    "### Externe dataset\n",
    "Onze originele dataset bevat geen data over de schrijvers van deze films. Deze data valt echter wel te reconstrueren met\n",
    "behulp van andere IMDB datasets. Het gaat hierbij om de volgende datasets:"
   ]
  },
  {
   "cell_type": "code",
   "execution_count": 3,
   "metadata": {
    "pycharm": {
     "is_executing": false,
     "name": "#%%\n"
    }
   },
   "outputs": [
    {
     "data": {
      "text/html": [
       "<div>\n",
       "<style scoped>\n",
       "    .dataframe tbody tr th:only-of-type {\n",
       "        vertical-align: middle;\n",
       "    }\n",
       "\n",
       "    .dataframe tbody tr th {\n",
       "        vertical-align: top;\n",
       "    }\n",
       "\n",
       "    .dataframe thead th {\n",
       "        text-align: right;\n",
       "    }\n",
       "</style>\n",
       "<table border=\"1\" class=\"dataframe\">\n",
       "  <thead>\n",
       "    <tr style=\"text-align: right;\">\n",
       "      <th></th>\n",
       "      <th>tconst</th>\n",
       "      <th>directors</th>\n",
       "      <th>writers</th>\n",
       "    </tr>\n",
       "  </thead>\n",
       "  <tbody>\n",
       "    <tr>\n",
       "      <td>0</td>\n",
       "      <td>tt0000001</td>\n",
       "      <td>nm0005690</td>\n",
       "      <td>\\N</td>\n",
       "    </tr>\n",
       "    <tr>\n",
       "      <td>1</td>\n",
       "      <td>tt0000002</td>\n",
       "      <td>nm0721526</td>\n",
       "      <td>\\N</td>\n",
       "    </tr>\n",
       "    <tr>\n",
       "      <td>2</td>\n",
       "      <td>tt0000003</td>\n",
       "      <td>nm0721526</td>\n",
       "      <td>\\N</td>\n",
       "    </tr>\n",
       "    <tr>\n",
       "      <td>3</td>\n",
       "      <td>tt0000004</td>\n",
       "      <td>nm0721526</td>\n",
       "      <td>\\N</td>\n",
       "    </tr>\n",
       "    <tr>\n",
       "      <td>4</td>\n",
       "      <td>tt0000005</td>\n",
       "      <td>nm0005690</td>\n",
       "      <td>\\N</td>\n",
       "    </tr>\n",
       "  </tbody>\n",
       "</table>\n",
       "</div>"
      ],
      "text/plain": [
       "      tconst  directors writers\n",
       "0  tt0000001  nm0005690      \\N\n",
       "1  tt0000002  nm0721526      \\N\n",
       "2  tt0000003  nm0721526      \\N\n",
       "3  tt0000004  nm0721526      \\N\n",
       "4  tt0000005  nm0005690      \\N"
      ]
     },
     "execution_count": 3,
     "metadata": {},
     "output_type": "execute_result"
    }
   ],
   "source": [
    "# These datasets were originally named 'data.tsv', they have been renamed accordingly:\n",
    "# title.crew.tsv.gz -> crew.tsv\n",
    "df_crew = pd.read_csv(r\"data\\imdb\\crew.tsv\", sep=\"\\t\")\n",
    "df_crew.head()"
   ]
  },
  {
   "cell_type": "code",
   "execution_count": 4,
   "metadata": {
    "pycharm": {
     "is_executing": false,
     "name": "#%%\n"
    }
   },
   "outputs": [
    {
     "data": {
      "text/html": [
       "<div>\n",
       "<style scoped>\n",
       "    .dataframe tbody tr th:only-of-type {\n",
       "        vertical-align: middle;\n",
       "    }\n",
       "\n",
       "    .dataframe tbody tr th {\n",
       "        vertical-align: top;\n",
       "    }\n",
       "\n",
       "    .dataframe thead th {\n",
       "        text-align: right;\n",
       "    }\n",
       "</style>\n",
       "<table border=\"1\" class=\"dataframe\">\n",
       "  <thead>\n",
       "    <tr style=\"text-align: right;\">\n",
       "      <th></th>\n",
       "      <th>nconst</th>\n",
       "      <th>primaryName</th>\n",
       "      <th>birthYear</th>\n",
       "      <th>deathYear</th>\n",
       "      <th>primaryProfession</th>\n",
       "      <th>knownForTitles</th>\n",
       "    </tr>\n",
       "  </thead>\n",
       "  <tbody>\n",
       "    <tr>\n",
       "      <td>0</td>\n",
       "      <td>nm0000001</td>\n",
       "      <td>Fred Astaire</td>\n",
       "      <td>1899</td>\n",
       "      <td>1987</td>\n",
       "      <td>soundtrack,actor,miscellaneous</td>\n",
       "      <td>tt0043044,tt0072308,tt0053137,tt0050419</td>\n",
       "    </tr>\n",
       "    <tr>\n",
       "      <td>1</td>\n",
       "      <td>nm0000002</td>\n",
       "      <td>Lauren Bacall</td>\n",
       "      <td>1924</td>\n",
       "      <td>2014</td>\n",
       "      <td>actress,soundtrack</td>\n",
       "      <td>tt0117057,tt0037382,tt0038355,tt0071877</td>\n",
       "    </tr>\n",
       "    <tr>\n",
       "      <td>2</td>\n",
       "      <td>nm0000003</td>\n",
       "      <td>Brigitte Bardot</td>\n",
       "      <td>1934</td>\n",
       "      <td>\\N</td>\n",
       "      <td>actress,soundtrack,producer</td>\n",
       "      <td>tt0054452,tt0059956,tt0049189,tt0057345</td>\n",
       "    </tr>\n",
       "    <tr>\n",
       "      <td>3</td>\n",
       "      <td>nm0000004</td>\n",
       "      <td>John Belushi</td>\n",
       "      <td>1949</td>\n",
       "      <td>1982</td>\n",
       "      <td>actor,writer,soundtrack</td>\n",
       "      <td>tt0072562,tt0080455,tt0078723,tt0077975</td>\n",
       "    </tr>\n",
       "    <tr>\n",
       "      <td>4</td>\n",
       "      <td>nm0000005</td>\n",
       "      <td>Ingmar Bergman</td>\n",
       "      <td>1918</td>\n",
       "      <td>2007</td>\n",
       "      <td>writer,director,actor</td>\n",
       "      <td>tt0069467,tt0083922,tt0050976,tt0050986</td>\n",
       "    </tr>\n",
       "  </tbody>\n",
       "</table>\n",
       "</div>"
      ],
      "text/plain": [
       "      nconst      primaryName birthYear deathYear  \\\n",
       "0  nm0000001     Fred Astaire      1899      1987   \n",
       "1  nm0000002    Lauren Bacall      1924      2014   \n",
       "2  nm0000003  Brigitte Bardot      1934        \\N   \n",
       "3  nm0000004     John Belushi      1949      1982   \n",
       "4  nm0000005   Ingmar Bergman      1918      2007   \n",
       "\n",
       "                primaryProfession                           knownForTitles  \n",
       "0  soundtrack,actor,miscellaneous  tt0043044,tt0072308,tt0053137,tt0050419  \n",
       "1              actress,soundtrack  tt0117057,tt0037382,tt0038355,tt0071877  \n",
       "2     actress,soundtrack,producer  tt0054452,tt0059956,tt0049189,tt0057345  \n",
       "3         actor,writer,soundtrack  tt0072562,tt0080455,tt0078723,tt0077975  \n",
       "4           writer,director,actor  tt0069467,tt0083922,tt0050976,tt0050986  "
      ]
     },
     "execution_count": 4,
     "metadata": {},
     "output_type": "execute_result"
    }
   ],
   "source": [
    "# name.basics.tsv.gz -> names.tsv\n",
    "df_names = pd.read_csv(r\"data/imdb/names.tsv\", sep=\"\\t\")\n",
    "df_names.head()\n"
   ]
  },
  {
   "cell_type": "code",
   "execution_count": 5,
   "metadata": {
    "pycharm": {
     "is_executing": false,
     "name": "#%%\n"
    }
   },
   "outputs": [
    {
     "name": "stderr",
     "output_type": "stream",
     "text": [
      "C:\\Users\\Caspe\\Anaconda3\\envs\\movie-revenue-predictions\\lib\\site-packages\\IPython\\core\\interactiveshell.py:3058: DtypeWarning: Columns (5) have mixed types. Specify dtype option on import or set low_memory=False.\n",
      "  interactivity=interactivity, compiler=compiler, result=result)\n"
     ]
    },
    {
     "data": {
      "text/html": [
       "<div>\n",
       "<style scoped>\n",
       "    .dataframe tbody tr th:only-of-type {\n",
       "        vertical-align: middle;\n",
       "    }\n",
       "\n",
       "    .dataframe tbody tr th {\n",
       "        vertical-align: top;\n",
       "    }\n",
       "\n",
       "    .dataframe thead th {\n",
       "        text-align: right;\n",
       "    }\n",
       "</style>\n",
       "<table border=\"1\" class=\"dataframe\">\n",
       "  <thead>\n",
       "    <tr style=\"text-align: right;\">\n",
       "      <th></th>\n",
       "      <th>tconst</th>\n",
       "      <th>titleType</th>\n",
       "      <th>primaryTitle</th>\n",
       "      <th>originalTitle</th>\n",
       "      <th>isAdult</th>\n",
       "      <th>startYear</th>\n",
       "      <th>endYear</th>\n",
       "      <th>runtimeMinutes</th>\n",
       "      <th>genres</th>\n",
       "    </tr>\n",
       "  </thead>\n",
       "  <tbody>\n",
       "    <tr>\n",
       "      <td>0</td>\n",
       "      <td>tt0000001</td>\n",
       "      <td>short</td>\n",
       "      <td>Carmencita</td>\n",
       "      <td>Carmencita</td>\n",
       "      <td>0</td>\n",
       "      <td>1894</td>\n",
       "      <td>\\N</td>\n",
       "      <td>1</td>\n",
       "      <td>Documentary,Short</td>\n",
       "    </tr>\n",
       "    <tr>\n",
       "      <td>1</td>\n",
       "      <td>tt0000002</td>\n",
       "      <td>short</td>\n",
       "      <td>Le clown et ses chiens</td>\n",
       "      <td>Le clown et ses chiens</td>\n",
       "      <td>0</td>\n",
       "      <td>1892</td>\n",
       "      <td>\\N</td>\n",
       "      <td>5</td>\n",
       "      <td>Animation,Short</td>\n",
       "    </tr>\n",
       "    <tr>\n",
       "      <td>2</td>\n",
       "      <td>tt0000003</td>\n",
       "      <td>short</td>\n",
       "      <td>Pauvre Pierrot</td>\n",
       "      <td>Pauvre Pierrot</td>\n",
       "      <td>0</td>\n",
       "      <td>1892</td>\n",
       "      <td>\\N</td>\n",
       "      <td>4</td>\n",
       "      <td>Animation,Comedy,Romance</td>\n",
       "    </tr>\n",
       "    <tr>\n",
       "      <td>3</td>\n",
       "      <td>tt0000004</td>\n",
       "      <td>short</td>\n",
       "      <td>Un bon bock</td>\n",
       "      <td>Un bon bock</td>\n",
       "      <td>0</td>\n",
       "      <td>1892</td>\n",
       "      <td>\\N</td>\n",
       "      <td>\\N</td>\n",
       "      <td>Animation,Short</td>\n",
       "    </tr>\n",
       "    <tr>\n",
       "      <td>4</td>\n",
       "      <td>tt0000005</td>\n",
       "      <td>short</td>\n",
       "      <td>Blacksmith Scene</td>\n",
       "      <td>Blacksmith Scene</td>\n",
       "      <td>0</td>\n",
       "      <td>1893</td>\n",
       "      <td>\\N</td>\n",
       "      <td>1</td>\n",
       "      <td>Comedy,Short</td>\n",
       "    </tr>\n",
       "  </tbody>\n",
       "</table>\n",
       "</div>"
      ],
      "text/plain": [
       "      tconst titleType            primaryTitle           originalTitle  \\\n",
       "0  tt0000001     short              Carmencita              Carmencita   \n",
       "1  tt0000002     short  Le clown et ses chiens  Le clown et ses chiens   \n",
       "2  tt0000003     short          Pauvre Pierrot          Pauvre Pierrot   \n",
       "3  tt0000004     short             Un bon bock             Un bon bock   \n",
       "4  tt0000005     short        Blacksmith Scene        Blacksmith Scene   \n",
       "\n",
       "   isAdult startYear endYear runtimeMinutes                    genres  \n",
       "0        0      1894      \\N              1         Documentary,Short  \n",
       "1        0      1892      \\N              5           Animation,Short  \n",
       "2        0      1892      \\N              4  Animation,Comedy,Romance  \n",
       "3        0      1892      \\N             \\N           Animation,Short  \n",
       "4        0      1893      \\N              1              Comedy,Short  "
      ]
     },
     "execution_count": 5,
     "metadata": {},
     "output_type": "execute_result"
    }
   ],
   "source": [
    "# title.basics.tst.gz -> titles.tsv\n",
    "df_titles = pd.read_csv(r\"data/imdb/titles.tsv\", sep=\"\\t\")\n",
    "df_titles.head()"
   ]
  },
  {
   "cell_type": "markdown",
   "metadata": {},
   "source": [
    "## 2. Data Processing\n",
    "### 2a. Aangeleverde dataset\n",
    "Ook deze stap is grotendeels voor ons gedaan. De data is goed opgeslagen in een `.csv`-bestand en kan direct worden \n",
    "ingelezen in een _Pandas_ DataFrame.\n",
    "\n",
    "Verder rest ons nog de volgende drie stappen:\n",
    "1. Ongewenste kolommen droppen\n",
    "2. Onduidelijke kolomnamen veranderen\n",
    "3. Volgorde kolommen aanpassen\n",
    "4. Datatypes aanpassen"
   ]
  },
  {
   "cell_type": "code",
   "execution_count": 6,
   "metadata": {
    "pycharm": {
     "is_executing": false,
     "name": "#%% \n"
    }
   },
   "outputs": [],
   "source": [
    "df_movies.drop([\"movie_imdb_link\", \"aspect_ratio\"], axis=1, inplace=True)\n",
    "\n",
    "df_movies.rename(columns={'color': 'Colour',\n",
    "                          'director_name': 'Director',\n",
    "                          'num_critic_for_reviews': 'Number of critics',\n",
    "                          'duration': 'Duration',\n",
    "                          'director_facebook_likes': 'Director FB likes',\n",
    "                          'actor_3_facebook_likes': 'Actor 3 FB likes',\n",
    "                          'actor_2_name': 'Actor 2 name',\n",
    "                          'actor_1_facebook_likes': 'Actor 1 FB likes',\n",
    "                          'gross': 'Gross',\n",
    "                          'genres': 'Genres',\n",
    "                          'actor_1_name': 'Actor 1 name',\n",
    "                          'movie_title': 'Movie title',\n",
    "                          'num_voted_users': 'Number of voted users',\n",
    "                          'cast_total_facebook_likes': 'Total Cast FB likes',\n",
    "                          'actor_3_name': 'Actor 3 name',\n",
    "                          'facenumber_in_poster': 'Number of faces on poster',\n",
    "                          'plot_keywords': 'Plot Keywords',\n",
    "                          'num_user_for_reviews': 'Number of user reviews',\n",
    "                          'language': 'Language',\n",
    "                          'country': 'Country',\n",
    "                          'content_rating': 'Age rating',\n",
    "                          'budget': 'Budget',\n",
    "                          'title_year': 'Release year',\n",
    "                          'actor_2_facebook_likes': 'Actor 2 FB likes',\n",
    "                          'imdb_score': 'IMDB Score',\n",
    "                          'movie_facebook_likes': 'Movie FB likes'}, inplace=True)\n",
    "\n",
    "# Volgorde kolommen aanpassen\n",
    "df_movies = df_movies[['Movie title',\n",
    "                       'Release year',\n",
    "                       'Director',\n",
    "                       'Director FB likes',\n",
    "                       'Movie FB likes',\n",
    "                       'Gross',\n",
    "                       'Budget',\n",
    "                       'Duration',\n",
    "                       'Language',\n",
    "                       'Country',\n",
    "                       'Colour',\n",
    "                       'Genres',\n",
    "                       'IMDB Score',\n",
    "                       'Number of voted users',\n",
    "                       'Number of critics',\n",
    "                       'Number of user reviews',\n",
    "                       'Age rating',\n",
    "                       'Total Cast FB likes',\n",
    "                       'Actor 1 name',\n",
    "                       'Actor 2 name',\n",
    "                       'Actor 3 name',\n",
    "                       'Actor 1 FB likes',\n",
    "                       'Actor 2 FB likes',\n",
    "                       'Actor 3 FB likes',\n",
    "                       'Plot Keywords',\n",
    "                       'Number of faces on poster',\n",
    "                       ]]\n",
    "\n",
    "df_movies = df_movies.fillna(0.0).astype(int, errors='ignore')\n",
    "df_movies[\"Release year\"] = pd.to_datetime(df_movies[\"Release year\"], format='%Y', errors='coerce')"
   ]
  },
  {
   "cell_type": "markdown",
   "metadata": {},
   "source": [
    "De DataFrame ziet er na stap 2. Data Processing als volgt uit:"
   ]
  },
  {
   "cell_type": "code",
   "execution_count": 7,
   "metadata": {
    "pycharm": {
     "is_executing": false,
     "name": "#%% \n"
    }
   },
   "outputs": [
    {
     "data": {
      "text/html": [
       "<div>\n",
       "<style scoped>\n",
       "    .dataframe tbody tr th:only-of-type {\n",
       "        vertical-align: middle;\n",
       "    }\n",
       "\n",
       "    .dataframe tbody tr th {\n",
       "        vertical-align: top;\n",
       "    }\n",
       "\n",
       "    .dataframe thead th {\n",
       "        text-align: right;\n",
       "    }\n",
       "</style>\n",
       "<table border=\"1\" class=\"dataframe\">\n",
       "  <thead>\n",
       "    <tr style=\"text-align: right;\">\n",
       "      <th></th>\n",
       "      <th>Movie title</th>\n",
       "      <th>Release year</th>\n",
       "      <th>Director</th>\n",
       "      <th>Director FB likes</th>\n",
       "      <th>Movie FB likes</th>\n",
       "      <th>Gross</th>\n",
       "      <th>Budget</th>\n",
       "      <th>Duration</th>\n",
       "      <th>Language</th>\n",
       "      <th>Country</th>\n",
       "      <th>...</th>\n",
       "      <th>Age rating</th>\n",
       "      <th>Total Cast FB likes</th>\n",
       "      <th>Actor 1 name</th>\n",
       "      <th>Actor 2 name</th>\n",
       "      <th>Actor 3 name</th>\n",
       "      <th>Actor 1 FB likes</th>\n",
       "      <th>Actor 2 FB likes</th>\n",
       "      <th>Actor 3 FB likes</th>\n",
       "      <th>Plot Keywords</th>\n",
       "      <th>Number of faces on poster</th>\n",
       "    </tr>\n",
       "  </thead>\n",
       "  <tbody>\n",
       "    <tr>\n",
       "      <td>0</td>\n",
       "      <td>Avatar</td>\n",
       "      <td>2009-01-01</td>\n",
       "      <td>James Cameron</td>\n",
       "      <td>0</td>\n",
       "      <td>33000</td>\n",
       "      <td>760505847</td>\n",
       "      <td>237000000</td>\n",
       "      <td>178</td>\n",
       "      <td>English</td>\n",
       "      <td>USA</td>\n",
       "      <td>...</td>\n",
       "      <td>PG-13</td>\n",
       "      <td>4834</td>\n",
       "      <td>CCH Pounder</td>\n",
       "      <td>Joel David Moore</td>\n",
       "      <td>Wes Studi</td>\n",
       "      <td>1000</td>\n",
       "      <td>936</td>\n",
       "      <td>855</td>\n",
       "      <td>avatar|future|marine|native|paraplegic</td>\n",
       "      <td>0</td>\n",
       "    </tr>\n",
       "    <tr>\n",
       "      <td>1</td>\n",
       "      <td>Pirates of the Caribbean: At World's End</td>\n",
       "      <td>2007-01-01</td>\n",
       "      <td>Gore Verbinski</td>\n",
       "      <td>563</td>\n",
       "      <td>0</td>\n",
       "      <td>309404152</td>\n",
       "      <td>300000000</td>\n",
       "      <td>169</td>\n",
       "      <td>English</td>\n",
       "      <td>USA</td>\n",
       "      <td>...</td>\n",
       "      <td>PG-13</td>\n",
       "      <td>48350</td>\n",
       "      <td>Johnny Depp</td>\n",
       "      <td>Orlando Bloom</td>\n",
       "      <td>Jack Davenport</td>\n",
       "      <td>40000</td>\n",
       "      <td>5000</td>\n",
       "      <td>1000</td>\n",
       "      <td>goddess|marriage ceremony|marriage proposal|pi...</td>\n",
       "      <td>0</td>\n",
       "    </tr>\n",
       "    <tr>\n",
       "      <td>2</td>\n",
       "      <td>Spectre</td>\n",
       "      <td>2015-01-01</td>\n",
       "      <td>Sam Mendes</td>\n",
       "      <td>0</td>\n",
       "      <td>85000</td>\n",
       "      <td>200074175</td>\n",
       "      <td>245000000</td>\n",
       "      <td>148</td>\n",
       "      <td>English</td>\n",
       "      <td>UK</td>\n",
       "      <td>...</td>\n",
       "      <td>PG-13</td>\n",
       "      <td>11700</td>\n",
       "      <td>Christoph Waltz</td>\n",
       "      <td>Rory Kinnear</td>\n",
       "      <td>Stephanie Sigman</td>\n",
       "      <td>11000</td>\n",
       "      <td>393</td>\n",
       "      <td>161</td>\n",
       "      <td>bomb|espionage|sequel|spy|terrorist</td>\n",
       "      <td>1</td>\n",
       "    </tr>\n",
       "    <tr>\n",
       "      <td>3</td>\n",
       "      <td>The Dark Knight Rises</td>\n",
       "      <td>2012-01-01</td>\n",
       "      <td>Christopher Nolan</td>\n",
       "      <td>22000</td>\n",
       "      <td>164000</td>\n",
       "      <td>448130642</td>\n",
       "      <td>250000000</td>\n",
       "      <td>164</td>\n",
       "      <td>English</td>\n",
       "      <td>USA</td>\n",
       "      <td>...</td>\n",
       "      <td>PG-13</td>\n",
       "      <td>106759</td>\n",
       "      <td>Tom Hardy</td>\n",
       "      <td>Christian Bale</td>\n",
       "      <td>Joseph Gordon-Levitt</td>\n",
       "      <td>27000</td>\n",
       "      <td>23000</td>\n",
       "      <td>23000</td>\n",
       "      <td>deception|imprisonment|lawlessness|police offi...</td>\n",
       "      <td>0</td>\n",
       "    </tr>\n",
       "    <tr>\n",
       "      <td>4</td>\n",
       "      <td>Star Wars: Episode VII - The Force Awakens    ...</td>\n",
       "      <td>NaT</td>\n",
       "      <td>Doug Walker</td>\n",
       "      <td>131</td>\n",
       "      <td>0</td>\n",
       "      <td>0</td>\n",
       "      <td>0</td>\n",
       "      <td>0</td>\n",
       "      <td>0</td>\n",
       "      <td>0</td>\n",
       "      <td>...</td>\n",
       "      <td>0</td>\n",
       "      <td>143</td>\n",
       "      <td>Doug Walker</td>\n",
       "      <td>Rob Walker</td>\n",
       "      <td>0</td>\n",
       "      <td>131</td>\n",
       "      <td>12</td>\n",
       "      <td>0</td>\n",
       "      <td>0</td>\n",
       "      <td>0</td>\n",
       "    </tr>\n",
       "  </tbody>\n",
       "</table>\n",
       "<p>5 rows × 26 columns</p>\n",
       "</div>"
      ],
      "text/plain": [
       "                                         Movie title Release year  \\\n",
       "0                                            Avatar    2009-01-01   \n",
       "1          Pirates of the Caribbean: At World's End    2007-01-01   \n",
       "2                                           Spectre    2015-01-01   \n",
       "3                             The Dark Knight Rises    2012-01-01   \n",
       "4  Star Wars: Episode VII - The Force Awakens    ...          NaT   \n",
       "\n",
       "            Director  Director FB likes  Movie FB likes      Gross     Budget  \\\n",
       "0      James Cameron                  0           33000  760505847  237000000   \n",
       "1     Gore Verbinski                563               0  309404152  300000000   \n",
       "2         Sam Mendes                  0           85000  200074175  245000000   \n",
       "3  Christopher Nolan              22000          164000  448130642  250000000   \n",
       "4        Doug Walker                131               0          0          0   \n",
       "\n",
       "   Duration Language Country  ... Age rating Total Cast FB likes  \\\n",
       "0       178  English     USA  ...      PG-13                4834   \n",
       "1       169  English     USA  ...      PG-13               48350   \n",
       "2       148  English      UK  ...      PG-13               11700   \n",
       "3       164  English     USA  ...      PG-13              106759   \n",
       "4         0        0       0  ...          0                 143   \n",
       "\n",
       "      Actor 1 name      Actor 2 name          Actor 3 name  Actor 1 FB likes  \\\n",
       "0      CCH Pounder  Joel David Moore             Wes Studi              1000   \n",
       "1      Johnny Depp     Orlando Bloom        Jack Davenport             40000   \n",
       "2  Christoph Waltz      Rory Kinnear      Stephanie Sigman             11000   \n",
       "3        Tom Hardy    Christian Bale  Joseph Gordon-Levitt             27000   \n",
       "4      Doug Walker        Rob Walker                     0               131   \n",
       "\n",
       "  Actor 2 FB likes  Actor 3 FB likes  \\\n",
       "0              936               855   \n",
       "1             5000              1000   \n",
       "2              393               161   \n",
       "3            23000             23000   \n",
       "4               12                 0   \n",
       "\n",
       "                                       Plot Keywords Number of faces on poster  \n",
       "0             avatar|future|marine|native|paraplegic                         0  \n",
       "1  goddess|marriage ceremony|marriage proposal|pi...                         0  \n",
       "2                bomb|espionage|sequel|spy|terrorist                         1  \n",
       "3  deception|imprisonment|lawlessness|police offi...                         0  \n",
       "4                                                  0                         0  \n",
       "\n",
       "[5 rows x 26 columns]"
      ]
     },
     "execution_count": 7,
     "metadata": {},
     "output_type": "execute_result"
    }
   ],
   "source": [
    "df_movies.head()\n"
   ]
  },
  {
   "cell_type": "markdown",
   "metadata": {
    "pycharm": {
     "name": "#%% md\n"
    }
   },
   "source": [
    "### 2b. Extra datasets\n",
    "Uit de extra datasets moeten een dataframe worden gemaakt die de volgende kolommen bevat:  \n",
    "- Movie title\n",
    "- Director\n",
    "- Writers\n",
    "- Actor 1 name\n",
    "- Actor 2 name\n",
    "- Actor 3 name\n",
    "\n",
    "Dit gaat in een paar stappen:\n",
    "1. Het verwijderen van kolommen die niet gebruikt worden\n",
    "2. Het samenvoegen van `df_crew` en `df_titles` op `tconst`\n",
    "3. Het verwijderen van alle rijen die geen films zijn\n",
    "4. Het toevoegen van de namen van de schrijvers uit `df_names`  \n",
    "5. Het toevoegen van de kolommen 'Actor # name' uit `df_movies`\n",
    "6. Het toevoegen van de naam van de directors\n",
    "\n"
   ]
  },
  {
   "cell_type": "code",
   "execution_count": 8,
   "metadata": {
    "pycharm": {
     "is_executing": false,
     "name": "#%%\n"
    }
   },
   "outputs": [],
   "source": [
    "# Removing unused columns\n",
    "df_titles.drop([\"isAdult\", \"endYear\", \"genres\"], axis=1, inplace=True)"
   ]
  },
  {
   "cell_type": "code",
   "execution_count": 9,
   "metadata": {
    "pycharm": {
     "is_executing": false,
     "name": "#%%\n"
    }
   },
   "outputs": [],
   "source": [
    "# Joining df_crew and df_titles\n",
    "df_writers = pd.DataFrame(pd.merge(df_crew, df_titles))"
   ]
  },
  {
   "cell_type": "code",
   "execution_count": 10,
   "metadata": {
    "pycharm": {
     "is_executing": false,
     "name": "#%%\n"
    }
   },
   "outputs": [],
   "source": [
    "# Dropping all non-movies\n",
    "df_writers.drop(df_writers[df_writers[\"titleType\"] != \"movie\"].index, inplace=True)"
   ]
  },
  {
   "cell_type": "code",
   "execution_count": 11,
   "metadata": {
    "pycharm": {
     "is_executing": false,
     "name": "#%%\n"
    }
   },
   "outputs": [],
   "source": [
    "# Adding names of writers to `df_writers`\n"
   ]
  },
  {
   "cell_type": "code",
   "execution_count": 12,
   "metadata": {
    "pycharm": {
     "is_executing": false,
     "name": "#%%\n"
    }
   },
   "outputs": [],
   "source": [
    "# Adding \"Actor # name\" 1 through 3 to `df_writers`\n"
   ]
  },
  {
   "cell_type": "markdown",
   "metadata": {
    "pycharm": {
     "name": "#%% md\n"
    }
   },
   "source": [
    "Here's a sample of the current version of `df_writers` "
   ]
  },
  {
   "cell_type": "code",
   "execution_count": 13,
   "metadata": {
    "pycharm": {
     "is_executing": false,
     "name": "#%%\n"
    }
   },
   "outputs": [
    {
     "data": {
      "text/html": [
       "<div>\n",
       "<style scoped>\n",
       "    .dataframe tbody tr th:only-of-type {\n",
       "        vertical-align: middle;\n",
       "    }\n",
       "\n",
       "    .dataframe tbody tr th {\n",
       "        vertical-align: top;\n",
       "    }\n",
       "\n",
       "    .dataframe thead th {\n",
       "        text-align: right;\n",
       "    }\n",
       "</style>\n",
       "<table border=\"1\" class=\"dataframe\">\n",
       "  <thead>\n",
       "    <tr style=\"text-align: right;\">\n",
       "      <th></th>\n",
       "      <th>tconst</th>\n",
       "      <th>directors</th>\n",
       "      <th>writers</th>\n",
       "      <th>titleType</th>\n",
       "      <th>primaryTitle</th>\n",
       "      <th>originalTitle</th>\n",
       "      <th>startYear</th>\n",
       "      <th>runtimeMinutes</th>\n",
       "    </tr>\n",
       "  </thead>\n",
       "  <tbody>\n",
       "    <tr>\n",
       "      <td>6041532</td>\n",
       "      <td>tt9684382</td>\n",
       "      <td>nm10437548</td>\n",
       "      <td>\\N</td>\n",
       "      <td>movie</td>\n",
       "      <td>Taj Mahal</td>\n",
       "      <td>Taj Mahal</td>\n",
       "      <td>\\N</td>\n",
       "      <td>96</td>\n",
       "    </tr>\n",
       "    <tr>\n",
       "      <td>4199569</td>\n",
       "      <td>tt5722116</td>\n",
       "      <td>nm0959774</td>\n",
       "      <td>\\N</td>\n",
       "      <td>movie</td>\n",
       "      <td>Rammstein: Paris</td>\n",
       "      <td>Rammstein: Paris</td>\n",
       "      <td>2016</td>\n",
       "      <td>98</td>\n",
       "    </tr>\n",
       "    <tr>\n",
       "      <td>2073636</td>\n",
       "      <td>tt1679620</td>\n",
       "      <td>nm3961281</td>\n",
       "      <td>nm3961281</td>\n",
       "      <td>movie</td>\n",
       "      <td>Blood Ties</td>\n",
       "      <td>Magkakapatid</td>\n",
       "      <td>2010</td>\n",
       "      <td>87</td>\n",
       "    </tr>\n",
       "    <tr>\n",
       "      <td>1014403</td>\n",
       "      <td>tt1007950</td>\n",
       "      <td>nm0455767</td>\n",
       "      <td>nm0996527,nm1563091</td>\n",
       "      <td>movie</td>\n",
       "      <td>Diminished Capacity</td>\n",
       "      <td>Diminished Capacity</td>\n",
       "      <td>2008</td>\n",
       "      <td>92</td>\n",
       "    </tr>\n",
       "    <tr>\n",
       "      <td>3678338</td>\n",
       "      <td>tt4553438</td>\n",
       "      <td>nm7219105,nm7219104,nm7191113,nm7219103</td>\n",
       "      <td>\\N</td>\n",
       "      <td>movie</td>\n",
       "      <td>Crossovers</td>\n",
       "      <td>Crossovers</td>\n",
       "      <td>2012</td>\n",
       "      <td>\\N</td>\n",
       "    </tr>\n",
       "  </tbody>\n",
       "</table>\n",
       "</div>"
      ],
      "text/plain": [
       "            tconst                                directors  \\\n",
       "6041532  tt9684382                               nm10437548   \n",
       "4199569  tt5722116                                nm0959774   \n",
       "2073636  tt1679620                                nm3961281   \n",
       "1014403  tt1007950                                nm0455767   \n",
       "3678338  tt4553438  nm7219105,nm7219104,nm7191113,nm7219103   \n",
       "\n",
       "                     writers titleType         primaryTitle  \\\n",
       "6041532                   \\N     movie            Taj Mahal   \n",
       "4199569                   \\N     movie     Rammstein: Paris   \n",
       "2073636            nm3961281     movie           Blood Ties   \n",
       "1014403  nm0996527,nm1563091     movie  Diminished Capacity   \n",
       "3678338                   \\N     movie           Crossovers   \n",
       "\n",
       "               originalTitle startYear runtimeMinutes  \n",
       "6041532            Taj Mahal        \\N             96  \n",
       "4199569     Rammstein: Paris      2016             98  \n",
       "2073636         Magkakapatid      2010             87  \n",
       "1014403  Diminished Capacity      2008             92  \n",
       "3678338           Crossovers      2012             \\N  "
      ]
     },
     "execution_count": 13,
     "metadata": {},
     "output_type": "execute_result"
    }
   ],
   "source": [
    "df_writers.sample(5)"
   ]
  },
  {
   "cell_type": "markdown",
   "metadata": {},
   "source": [
    "## 3. Data Cleaning\n",
    "### 3a. Aangeleverde dataset\n",
    "1. NaN-types verwijderen\n",
    "2. Dubbele Movie Titles verwijderen"
   ]
  },
  {
   "cell_type": "code",
   "execution_count": 14,
   "metadata": {
    "pycharm": {
     "is_executing": false,
     "name": "#%%\n"
    }
   },
   "outputs": [],
   "source": [
    "df_movies.dropna(inplace=True)\n",
    "\n",
    "# Dubbele titels verwijderen"
   ]
  },
  {
   "cell_type": "markdown",
   "metadata": {},
   "source": [
    "Na stap 3. Data Cleaning ziet het DataFrame er als volgt uit:"
   ]
  },
  {
   "cell_type": "code",
   "execution_count": 15,
   "metadata": {
    "pycharm": {
     "is_executing": false,
     "name": "#%%\n"
    }
   },
   "outputs": [
    {
     "data": {
      "text/html": [
       "<div>\n",
       "<style scoped>\n",
       "    .dataframe tbody tr th:only-of-type {\n",
       "        vertical-align: middle;\n",
       "    }\n",
       "\n",
       "    .dataframe tbody tr th {\n",
       "        vertical-align: top;\n",
       "    }\n",
       "\n",
       "    .dataframe thead th {\n",
       "        text-align: right;\n",
       "    }\n",
       "</style>\n",
       "<table border=\"1\" class=\"dataframe\">\n",
       "  <thead>\n",
       "    <tr style=\"text-align: right;\">\n",
       "      <th></th>\n",
       "      <th>Movie title</th>\n",
       "      <th>Release year</th>\n",
       "      <th>Director</th>\n",
       "      <th>Director FB likes</th>\n",
       "      <th>Movie FB likes</th>\n",
       "      <th>Gross</th>\n",
       "      <th>Budget</th>\n",
       "      <th>Duration</th>\n",
       "      <th>Language</th>\n",
       "      <th>Country</th>\n",
       "      <th>...</th>\n",
       "      <th>Age rating</th>\n",
       "      <th>Total Cast FB likes</th>\n",
       "      <th>Actor 1 name</th>\n",
       "      <th>Actor 2 name</th>\n",
       "      <th>Actor 3 name</th>\n",
       "      <th>Actor 1 FB likes</th>\n",
       "      <th>Actor 2 FB likes</th>\n",
       "      <th>Actor 3 FB likes</th>\n",
       "      <th>Plot Keywords</th>\n",
       "      <th>Number of faces on poster</th>\n",
       "    </tr>\n",
       "  </thead>\n",
       "  <tbody>\n",
       "    <tr>\n",
       "      <td>0</td>\n",
       "      <td>Avatar</td>\n",
       "      <td>2009-01-01</td>\n",
       "      <td>James Cameron</td>\n",
       "      <td>0</td>\n",
       "      <td>33000</td>\n",
       "      <td>760505847</td>\n",
       "      <td>237000000</td>\n",
       "      <td>178</td>\n",
       "      <td>English</td>\n",
       "      <td>USA</td>\n",
       "      <td>...</td>\n",
       "      <td>PG-13</td>\n",
       "      <td>4834</td>\n",
       "      <td>CCH Pounder</td>\n",
       "      <td>Joel David Moore</td>\n",
       "      <td>Wes Studi</td>\n",
       "      <td>1000</td>\n",
       "      <td>936</td>\n",
       "      <td>855</td>\n",
       "      <td>avatar|future|marine|native|paraplegic</td>\n",
       "      <td>0</td>\n",
       "    </tr>\n",
       "    <tr>\n",
       "      <td>1</td>\n",
       "      <td>Pirates of the Caribbean: At World's End</td>\n",
       "      <td>2007-01-01</td>\n",
       "      <td>Gore Verbinski</td>\n",
       "      <td>563</td>\n",
       "      <td>0</td>\n",
       "      <td>309404152</td>\n",
       "      <td>300000000</td>\n",
       "      <td>169</td>\n",
       "      <td>English</td>\n",
       "      <td>USA</td>\n",
       "      <td>...</td>\n",
       "      <td>PG-13</td>\n",
       "      <td>48350</td>\n",
       "      <td>Johnny Depp</td>\n",
       "      <td>Orlando Bloom</td>\n",
       "      <td>Jack Davenport</td>\n",
       "      <td>40000</td>\n",
       "      <td>5000</td>\n",
       "      <td>1000</td>\n",
       "      <td>goddess|marriage ceremony|marriage proposal|pi...</td>\n",
       "      <td>0</td>\n",
       "    </tr>\n",
       "    <tr>\n",
       "      <td>2</td>\n",
       "      <td>Spectre</td>\n",
       "      <td>2015-01-01</td>\n",
       "      <td>Sam Mendes</td>\n",
       "      <td>0</td>\n",
       "      <td>85000</td>\n",
       "      <td>200074175</td>\n",
       "      <td>245000000</td>\n",
       "      <td>148</td>\n",
       "      <td>English</td>\n",
       "      <td>UK</td>\n",
       "      <td>...</td>\n",
       "      <td>PG-13</td>\n",
       "      <td>11700</td>\n",
       "      <td>Christoph Waltz</td>\n",
       "      <td>Rory Kinnear</td>\n",
       "      <td>Stephanie Sigman</td>\n",
       "      <td>11000</td>\n",
       "      <td>393</td>\n",
       "      <td>161</td>\n",
       "      <td>bomb|espionage|sequel|spy|terrorist</td>\n",
       "      <td>1</td>\n",
       "    </tr>\n",
       "    <tr>\n",
       "      <td>3</td>\n",
       "      <td>The Dark Knight Rises</td>\n",
       "      <td>2012-01-01</td>\n",
       "      <td>Christopher Nolan</td>\n",
       "      <td>22000</td>\n",
       "      <td>164000</td>\n",
       "      <td>448130642</td>\n",
       "      <td>250000000</td>\n",
       "      <td>164</td>\n",
       "      <td>English</td>\n",
       "      <td>USA</td>\n",
       "      <td>...</td>\n",
       "      <td>PG-13</td>\n",
       "      <td>106759</td>\n",
       "      <td>Tom Hardy</td>\n",
       "      <td>Christian Bale</td>\n",
       "      <td>Joseph Gordon-Levitt</td>\n",
       "      <td>27000</td>\n",
       "      <td>23000</td>\n",
       "      <td>23000</td>\n",
       "      <td>deception|imprisonment|lawlessness|police offi...</td>\n",
       "      <td>0</td>\n",
       "    </tr>\n",
       "    <tr>\n",
       "      <td>5</td>\n",
       "      <td>John Carter</td>\n",
       "      <td>2012-01-01</td>\n",
       "      <td>Andrew Stanton</td>\n",
       "      <td>475</td>\n",
       "      <td>24000</td>\n",
       "      <td>73058679</td>\n",
       "      <td>263700000</td>\n",
       "      <td>132</td>\n",
       "      <td>English</td>\n",
       "      <td>USA</td>\n",
       "      <td>...</td>\n",
       "      <td>PG-13</td>\n",
       "      <td>1873</td>\n",
       "      <td>Daryl Sabara</td>\n",
       "      <td>Samantha Morton</td>\n",
       "      <td>Polly Walker</td>\n",
       "      <td>640</td>\n",
       "      <td>632</td>\n",
       "      <td>530</td>\n",
       "      <td>alien|american civil war|male nipple|mars|prin...</td>\n",
       "      <td>1</td>\n",
       "    </tr>\n",
       "  </tbody>\n",
       "</table>\n",
       "<p>5 rows × 26 columns</p>\n",
       "</div>"
      ],
      "text/plain": [
       "                                 Movie title Release year           Director  \\\n",
       "0                                    Avatar    2009-01-01      James Cameron   \n",
       "1  Pirates of the Caribbean: At World's End    2007-01-01     Gore Verbinski   \n",
       "2                                   Spectre    2015-01-01         Sam Mendes   \n",
       "3                     The Dark Knight Rises    2012-01-01  Christopher Nolan   \n",
       "5                               John Carter    2012-01-01     Andrew Stanton   \n",
       "\n",
       "   Director FB likes  Movie FB likes      Gross     Budget  Duration Language  \\\n",
       "0                  0           33000  760505847  237000000       178  English   \n",
       "1                563               0  309404152  300000000       169  English   \n",
       "2                  0           85000  200074175  245000000       148  English   \n",
       "3              22000          164000  448130642  250000000       164  English   \n",
       "5                475           24000   73058679  263700000       132  English   \n",
       "\n",
       "  Country  ... Age rating Total Cast FB likes     Actor 1 name  \\\n",
       "0     USA  ...      PG-13                4834      CCH Pounder   \n",
       "1     USA  ...      PG-13               48350      Johnny Depp   \n",
       "2      UK  ...      PG-13               11700  Christoph Waltz   \n",
       "3     USA  ...      PG-13              106759        Tom Hardy   \n",
       "5     USA  ...      PG-13                1873     Daryl Sabara   \n",
       "\n",
       "       Actor 2 name          Actor 3 name  Actor 1 FB likes Actor 2 FB likes  \\\n",
       "0  Joel David Moore             Wes Studi              1000              936   \n",
       "1     Orlando Bloom        Jack Davenport             40000             5000   \n",
       "2      Rory Kinnear      Stephanie Sigman             11000              393   \n",
       "3    Christian Bale  Joseph Gordon-Levitt             27000            23000   \n",
       "5   Samantha Morton          Polly Walker               640              632   \n",
       "\n",
       "   Actor 3 FB likes                                      Plot Keywords  \\\n",
       "0               855             avatar|future|marine|native|paraplegic   \n",
       "1              1000  goddess|marriage ceremony|marriage proposal|pi...   \n",
       "2               161                bomb|espionage|sequel|spy|terrorist   \n",
       "3             23000  deception|imprisonment|lawlessness|police offi...   \n",
       "5               530  alien|american civil war|male nipple|mars|prin...   \n",
       "\n",
       "  Number of faces on poster  \n",
       "0                         0  \n",
       "1                         0  \n",
       "2                         1  \n",
       "3                         0  \n",
       "5                         1  \n",
       "\n",
       "[5 rows x 26 columns]"
      ]
     },
     "execution_count": 15,
     "metadata": {},
     "output_type": "execute_result"
    }
   ],
   "source": [
    "df_movies.head()"
   ]
  },
  {
   "cell_type": "markdown",
   "metadata": {
    "pycharm": {
     "name": "#%% md\n"
    }
   },
   "source": [
    "### 3a. Extra datasets\n",
    "1. \"\\\\N\" waardes omzetten naar NaN-types\n",
    "2. NaN-typers verwijderen\n",
    "3. Dubbele Movie Titles verwijderen\n"
   ]
  },
  {
   "cell_type": "code",
   "execution_count": 16,
   "metadata": {
    "pycharm": {
     "is_executing": false,
     "name": "#%%\n"
    }
   },
   "outputs": [],
   "source": [
    "# Replacing \"\\\\N\" with None\n",
    "df_writers.replace(\"\\\\N\", np.NaN, inplace=True)\n",
    "# Dropping all rows with NaN-types\n",
    "df_writers.dropna(inplace=True)"
   ]
  },
  {
   "cell_type": "markdown",
   "metadata": {
    "pycharm": {
     "is_executing": false,
     "name": "#%%\n"
    }
   },
   "source": [
    "Na stap 3. Data Cleaning ziet `df_writers` er zo uit:"
   ]
  },
  {
   "cell_type": "code",
   "execution_count": 17,
   "metadata": {},
   "outputs": [
    {
     "data": {
      "text/html": [
       "<div>\n",
       "<style scoped>\n",
       "    .dataframe tbody tr th:only-of-type {\n",
       "        vertical-align: middle;\n",
       "    }\n",
       "\n",
       "    .dataframe tbody tr th {\n",
       "        vertical-align: top;\n",
       "    }\n",
       "\n",
       "    .dataframe thead th {\n",
       "        text-align: right;\n",
       "    }\n",
       "</style>\n",
       "<table border=\"1\" class=\"dataframe\">\n",
       "  <thead>\n",
       "    <tr style=\"text-align: right;\">\n",
       "      <th></th>\n",
       "      <th>tconst</th>\n",
       "      <th>directors</th>\n",
       "      <th>writers</th>\n",
       "      <th>titleType</th>\n",
       "      <th>primaryTitle</th>\n",
       "      <th>originalTitle</th>\n",
       "      <th>startYear</th>\n",
       "      <th>runtimeMinutes</th>\n",
       "    </tr>\n",
       "  </thead>\n",
       "  <tbody>\n",
       "    <tr>\n",
       "      <td>2392242</td>\n",
       "      <td>tt2012110</td>\n",
       "      <td>nm0082154</td>\n",
       "      <td>nm0082154</td>\n",
       "      <td>movie</td>\n",
       "      <td>Being Venice</td>\n",
       "      <td>Being Venice</td>\n",
       "      <td>2012</td>\n",
       "      <td>89</td>\n",
       "    </tr>\n",
       "    <tr>\n",
       "      <td>105763</td>\n",
       "      <td>tt0108099</td>\n",
       "      <td>nm0202578</td>\n",
       "      <td>nm0944058</td>\n",
       "      <td>movie</td>\n",
       "      <td>Shadow Force</td>\n",
       "      <td>Shadow Force</td>\n",
       "      <td>1992</td>\n",
       "      <td>80</td>\n",
       "    </tr>\n",
       "    <tr>\n",
       "      <td>277867</td>\n",
       "      <td>tt0289760</td>\n",
       "      <td>nm0620638</td>\n",
       "      <td>nm0883570</td>\n",
       "      <td>movie</td>\n",
       "      <td>Pistolero a sueldo</td>\n",
       "      <td>Pistolero a sueldo</td>\n",
       "      <td>1989</td>\n",
       "      <td>97</td>\n",
       "    </tr>\n",
       "    <tr>\n",
       "      <td>22582</td>\n",
       "      <td>tt0022953</td>\n",
       "      <td>nm0397227</td>\n",
       "      <td>nm0340719,nm0726588</td>\n",
       "      <td>movie</td>\n",
       "      <td>The Golden West</td>\n",
       "      <td>The Golden West</td>\n",
       "      <td>1932</td>\n",
       "      <td>74</td>\n",
       "    </tr>\n",
       "    <tr>\n",
       "      <td>2598077</td>\n",
       "      <td>tt2234564</td>\n",
       "      <td>nm0594186</td>\n",
       "      <td>nm2757832,nm0594186</td>\n",
       "      <td>movie</td>\n",
       "      <td>Thomas and Friends: Thomas's Snowy Surprise</td>\n",
       "      <td>Thomas and Friends: Thomas's Snowy Surprise</td>\n",
       "      <td>2003</td>\n",
       "      <td>50</td>\n",
       "    </tr>\n",
       "  </tbody>\n",
       "</table>\n",
       "</div>"
      ],
      "text/plain": [
       "            tconst  directors              writers titleType  \\\n",
       "2392242  tt2012110  nm0082154            nm0082154     movie   \n",
       "105763   tt0108099  nm0202578            nm0944058     movie   \n",
       "277867   tt0289760  nm0620638            nm0883570     movie   \n",
       "22582    tt0022953  nm0397227  nm0340719,nm0726588     movie   \n",
       "2598077  tt2234564  nm0594186  nm2757832,nm0594186     movie   \n",
       "\n",
       "                                        primaryTitle  \\\n",
       "2392242                                 Being Venice   \n",
       "105763                                  Shadow Force   \n",
       "277867                            Pistolero a sueldo   \n",
       "22582                                The Golden West   \n",
       "2598077  Thomas and Friends: Thomas's Snowy Surprise   \n",
       "\n",
       "                                       originalTitle startYear runtimeMinutes  \n",
       "2392242                                 Being Venice      2012             89  \n",
       "105763                                  Shadow Force      1992             80  \n",
       "277867                            Pistolero a sueldo      1989             97  \n",
       "22582                                The Golden West      1932             74  \n",
       "2598077  Thomas and Friends: Thomas's Snowy Surprise      2003             50  "
      ]
     },
     "execution_count": 17,
     "metadata": {},
     "output_type": "execute_result"
    }
   ],
   "source": [
    "df_writers.sample(5)"
   ]
  },
  {
   "cell_type": "markdown",
   "metadata": {
    "pycharm": {
     "name": "#%% md\n"
    }
   },
   "source": [
    "## 4. Data Exploration & Analysis"
   ]
  },
  {
   "cell_type": "code",
   "execution_count": 18,
   "metadata": {
    "pycharm": {
     "is_executing": false
    }
   },
   "outputs": [
    {
     "data": {
      "text/plain": [
       "Steven Spielberg    26\n",
       "Woody Allen         22\n",
       "Clint Eastwood      20\n",
       "Martin Scorsese     20\n",
       "Ridley Scott        17\n",
       "                    ..\n",
       "Daniel Schechter     1\n",
       "Anthony Powell       1\n",
       "William Wyler        1\n",
       "Matt Johnson         1\n",
       "Masayuki Ochiai      1\n",
       "Name: Director, Length: 2395, dtype: int64"
      ]
     },
     "execution_count": 18,
     "metadata": {},
     "output_type": "execute_result"
    }
   ],
   "source": [
    "df_movies[\"Director\"].value_counts()"
   ]
  },
  {
   "cell_type": "code",
   "execution_count": 19,
   "metadata": {
    "pycharm": {
     "is_executing": false
    }
   },
   "outputs": [
    {
     "data": {
      "text/plain": [
       "Robert De Niro     49\n",
       "Johnny Depp        41\n",
       "Nicolas Cage       33\n",
       "J.K. Simmons       31\n",
       "Bruce Willis       30\n",
       "                   ..\n",
       "Jennifer Hale       1\n",
       "Todd Stashwick      1\n",
       "Phil Davis          1\n",
       "Bebe Neuwirth       1\n",
       "Mary Kate Wiles     1\n",
       "Name: Actor 1 name, Length: 2044, dtype: int64"
      ]
     },
     "execution_count": 19,
     "metadata": {},
     "output_type": "execute_result"
    }
   ],
   "source": [
    "df_movies[\"Actor 1 name\"].value_counts()"
   ]
  },
  {
   "cell_type": "code",
   "execution_count": 20,
   "metadata": {
    "pycharm": {
     "is_executing": false
    }
   },
   "outputs": [
    {
     "data": {
      "text/plain": [
       "3770                                         Documentary\n",
       "2948                                         Crime|Drama\n",
       "3410                              Drama|Romance|Thriller\n",
       "2773                                 Drama|Music|Romance\n",
       "2555                               Drama|Horror|Thriller\n",
       "90              Adventure|Animation|Comedy|Family|Sci-Fi\n",
       "2122                              Drama|Mystery|Thriller\n",
       "162     Action|Adventure|Animation|Comedy|Family|Fantasy\n",
       "456                        Comedy|Family|Fantasy|Romance\n",
       "32                               Action|Adventure|Sci-Fi\n",
       "Name: Genres, dtype: object"
      ]
     },
     "execution_count": 20,
     "metadata": {},
     "output_type": "execute_result"
    }
   ],
   "source": [
    "df_movies[\"Genres\"].sample(10)"
   ]
  },
  {
   "cell_type": "code",
   "execution_count": null,
   "metadata": {
    "pycharm": {
     "is_executing": false
    }
   },
   "outputs": [],
   "source": []
  },
  {
   "cell_type": "code",
   "execution_count": 21,
   "metadata": {
    "pycharm": {
     "is_executing": false
    }
   },
   "outputs": [],
   "source": [
    "# df_movies.describe(include = \"all\")"
   ]
  },
  {
   "cell_type": "code",
   "execution_count": 22,
   "metadata": {
    "pycharm": {
     "is_executing": false,
     "name": "#%%\n"
    }
   },
   "outputs": [],
   "source": [
    "# df_movies.count()"
   ]
  },
  {
   "cell_type": "code",
   "execution_count": 23,
   "metadata": {
    "pycharm": {
     "is_executing": false,
     "name": "#%%\n"
    }
   },
   "outputs": [],
   "source": [
    "# df_movies.dtypes"
   ]
  },
  {
   "cell_type": "code",
   "execution_count": 24,
   "metadata": {
    "pycharm": {
     "is_executing": false,
     "name": "#%%\n"
    }
   },
   "outputs": [],
   "source": [
    "# df_movies.set_index(\"Movie title\", inplace=True)\n",
    "# df_movies.sort_index(inplace=True)"
   ]
  }
 ],
 "metadata": {
  "kernelspec": {
   "display_name": "Python 3",
   "language": "python",
   "name": "python3"
  },
  "language_info": {
   "codemirror_mode": {
    "name": "ipython",
    "version": 3
   },
   "file_extension": ".py",
   "mimetype": "text/x-python",
   "name": "python",
   "nbconvert_exporter": "python",
   "pygments_lexer": "ipython3",
   "version": "3.7.4"
  },
  "pycharm": {
   "stem_cell": {
    "cell_type": "raw",
    "metadata": {
     "collapsed": false
    },
    "source": []
   }
  }
 },
 "nbformat": 4,
 "nbformat_minor": 2
}
